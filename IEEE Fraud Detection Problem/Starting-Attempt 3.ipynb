{
 "cells": [
  {
   "cell_type": "code",
   "execution_count": 1,
   "metadata": {},
   "outputs": [],
   "source": [
    "import pandas as pd\n",
    "import numpy as np\n",
    "from sklearn import ensemble,metrics,cross_decomposition,linear_model,model_selection\n",
    "import os\n",
    "import seaborn as sns\n",
    "import matplotlib.pyplot as plt\n",
    "%matplotlib inline"
   ]
  },
  {
   "cell_type": "code",
   "execution_count": 2,
   "metadata": {},
   "outputs": [
    {
     "data": {
      "text/plain": [
       "((144233, 41), (590540, 394))"
      ]
     },
     "execution_count": 2,
     "metadata": {},
     "output_type": "execute_result"
    }
   ],
   "source": [
    "trainIdentity=pd.read_csv('train_identity.csv')\n",
    "trainTranscation=pd.read_csv('train_transaction.csv')\n",
    "trainIdentity.shape,trainTranscation.shape"
   ]
  },
  {
   "cell_type": "code",
   "execution_count": 3,
   "metadata": {},
   "outputs": [],
   "source": [
    "import warnings"
   ]
  },
  {
   "cell_type": "code",
   "execution_count": 4,
   "metadata": {},
   "outputs": [],
   "source": [
    "warnings.filterwarnings('ignore')"
   ]
  },
  {
   "cell_type": "code",
   "execution_count": 5,
   "metadata": {},
   "outputs": [
    {
     "data": {
      "text/html": [
       "<div>\n",
       "<style scoped>\n",
       "    .dataframe tbody tr th:only-of-type {\n",
       "        vertical-align: middle;\n",
       "    }\n",
       "\n",
       "    .dataframe tbody tr th {\n",
       "        vertical-align: top;\n",
       "    }\n",
       "\n",
       "    .dataframe thead th {\n",
       "        text-align: right;\n",
       "    }\n",
       "</style>\n",
       "<table border=\"1\" class=\"dataframe\">\n",
       "  <thead>\n",
       "    <tr style=\"text-align: right;\">\n",
       "      <th></th>\n",
       "      <th>TransactionID</th>\n",
       "      <th>id_01</th>\n",
       "      <th>id_02</th>\n",
       "      <th>id_03</th>\n",
       "      <th>id_04</th>\n",
       "      <th>id_05</th>\n",
       "      <th>id_06</th>\n",
       "      <th>id_07</th>\n",
       "      <th>id_08</th>\n",
       "      <th>id_09</th>\n",
       "      <th>...</th>\n",
       "      <th>id_31</th>\n",
       "      <th>id_32</th>\n",
       "      <th>id_33</th>\n",
       "      <th>id_34</th>\n",
       "      <th>id_35</th>\n",
       "      <th>id_36</th>\n",
       "      <th>id_37</th>\n",
       "      <th>id_38</th>\n",
       "      <th>DeviceType</th>\n",
       "      <th>DeviceInfo</th>\n",
       "    </tr>\n",
       "  </thead>\n",
       "  <tbody>\n",
       "    <tr>\n",
       "      <th>0</th>\n",
       "      <td>2987004</td>\n",
       "      <td>0.0</td>\n",
       "      <td>70787.0</td>\n",
       "      <td>NaN</td>\n",
       "      <td>NaN</td>\n",
       "      <td>NaN</td>\n",
       "      <td>NaN</td>\n",
       "      <td>NaN</td>\n",
       "      <td>NaN</td>\n",
       "      <td>NaN</td>\n",
       "      <td>...</td>\n",
       "      <td>samsung browser 6.2</td>\n",
       "      <td>32.0</td>\n",
       "      <td>2220x1080</td>\n",
       "      <td>match_status:2</td>\n",
       "      <td>T</td>\n",
       "      <td>F</td>\n",
       "      <td>T</td>\n",
       "      <td>T</td>\n",
       "      <td>mobile</td>\n",
       "      <td>SAMSUNG SM-G892A Build/NRD90M</td>\n",
       "    </tr>\n",
       "    <tr>\n",
       "      <th>1</th>\n",
       "      <td>2987008</td>\n",
       "      <td>-5.0</td>\n",
       "      <td>98945.0</td>\n",
       "      <td>NaN</td>\n",
       "      <td>NaN</td>\n",
       "      <td>0.0</td>\n",
       "      <td>-5.0</td>\n",
       "      <td>NaN</td>\n",
       "      <td>NaN</td>\n",
       "      <td>NaN</td>\n",
       "      <td>...</td>\n",
       "      <td>mobile safari 11.0</td>\n",
       "      <td>32.0</td>\n",
       "      <td>1334x750</td>\n",
       "      <td>match_status:1</td>\n",
       "      <td>T</td>\n",
       "      <td>F</td>\n",
       "      <td>F</td>\n",
       "      <td>T</td>\n",
       "      <td>mobile</td>\n",
       "      <td>iOS Device</td>\n",
       "    </tr>\n",
       "    <tr>\n",
       "      <th>2</th>\n",
       "      <td>2987010</td>\n",
       "      <td>-5.0</td>\n",
       "      <td>191631.0</td>\n",
       "      <td>0.0</td>\n",
       "      <td>0.0</td>\n",
       "      <td>0.0</td>\n",
       "      <td>0.0</td>\n",
       "      <td>NaN</td>\n",
       "      <td>NaN</td>\n",
       "      <td>0.0</td>\n",
       "      <td>...</td>\n",
       "      <td>chrome 62.0</td>\n",
       "      <td>NaN</td>\n",
       "      <td>NaN</td>\n",
       "      <td>NaN</td>\n",
       "      <td>F</td>\n",
       "      <td>F</td>\n",
       "      <td>T</td>\n",
       "      <td>T</td>\n",
       "      <td>desktop</td>\n",
       "      <td>Windows</td>\n",
       "    </tr>\n",
       "    <tr>\n",
       "      <th>3</th>\n",
       "      <td>2987011</td>\n",
       "      <td>-5.0</td>\n",
       "      <td>221832.0</td>\n",
       "      <td>NaN</td>\n",
       "      <td>NaN</td>\n",
       "      <td>0.0</td>\n",
       "      <td>-6.0</td>\n",
       "      <td>NaN</td>\n",
       "      <td>NaN</td>\n",
       "      <td>NaN</td>\n",
       "      <td>...</td>\n",
       "      <td>chrome 62.0</td>\n",
       "      <td>NaN</td>\n",
       "      <td>NaN</td>\n",
       "      <td>NaN</td>\n",
       "      <td>F</td>\n",
       "      <td>F</td>\n",
       "      <td>T</td>\n",
       "      <td>T</td>\n",
       "      <td>desktop</td>\n",
       "      <td>NaN</td>\n",
       "    </tr>\n",
       "    <tr>\n",
       "      <th>4</th>\n",
       "      <td>2987016</td>\n",
       "      <td>0.0</td>\n",
       "      <td>7460.0</td>\n",
       "      <td>0.0</td>\n",
       "      <td>0.0</td>\n",
       "      <td>1.0</td>\n",
       "      <td>0.0</td>\n",
       "      <td>NaN</td>\n",
       "      <td>NaN</td>\n",
       "      <td>0.0</td>\n",
       "      <td>...</td>\n",
       "      <td>chrome 62.0</td>\n",
       "      <td>24.0</td>\n",
       "      <td>1280x800</td>\n",
       "      <td>match_status:2</td>\n",
       "      <td>T</td>\n",
       "      <td>F</td>\n",
       "      <td>T</td>\n",
       "      <td>T</td>\n",
       "      <td>desktop</td>\n",
       "      <td>MacOS</td>\n",
       "    </tr>\n",
       "  </tbody>\n",
       "</table>\n",
       "<p>5 rows × 41 columns</p>\n",
       "</div>"
      ],
      "text/plain": [
       "   TransactionID  id_01     id_02  id_03  id_04  id_05  id_06  id_07  id_08  \\\n",
       "0        2987004    0.0   70787.0    NaN    NaN    NaN    NaN    NaN    NaN   \n",
       "1        2987008   -5.0   98945.0    NaN    NaN    0.0   -5.0    NaN    NaN   \n",
       "2        2987010   -5.0  191631.0    0.0    0.0    0.0    0.0    NaN    NaN   \n",
       "3        2987011   -5.0  221832.0    NaN    NaN    0.0   -6.0    NaN    NaN   \n",
       "4        2987016    0.0    7460.0    0.0    0.0    1.0    0.0    NaN    NaN   \n",
       "\n",
       "   id_09  ...                id_31  id_32      id_33           id_34  id_35  \\\n",
       "0    NaN  ...  samsung browser 6.2   32.0  2220x1080  match_status:2      T   \n",
       "1    NaN  ...   mobile safari 11.0   32.0   1334x750  match_status:1      T   \n",
       "2    0.0  ...          chrome 62.0    NaN        NaN             NaN      F   \n",
       "3    NaN  ...          chrome 62.0    NaN        NaN             NaN      F   \n",
       "4    0.0  ...          chrome 62.0   24.0   1280x800  match_status:2      T   \n",
       "\n",
       "  id_36 id_37  id_38  DeviceType                     DeviceInfo  \n",
       "0     F     T      T      mobile  SAMSUNG SM-G892A Build/NRD90M  \n",
       "1     F     F      T      mobile                     iOS Device  \n",
       "2     F     T      T     desktop                        Windows  \n",
       "3     F     T      T     desktop                            NaN  \n",
       "4     F     T      T     desktop                          MacOS  \n",
       "\n",
       "[5 rows x 41 columns]"
      ]
     },
     "execution_count": 5,
     "metadata": {},
     "output_type": "execute_result"
    }
   ],
   "source": [
    "trainIdentity.head()"
   ]
  },
  {
   "cell_type": "code",
   "execution_count": 6,
   "metadata": {},
   "outputs": [],
   "source": [
    "combinedData=pd.merge(left=trainTranscation,right=trainIdentity,on='TransactionID',how='left')"
   ]
  },
  {
   "cell_type": "code",
   "execution_count": 7,
   "metadata": {},
   "outputs": [
    {
     "data": {
      "text/plain": [
       "<matplotlib.axes._subplots.AxesSubplot at 0x240a4f41048>"
      ]
     },
     "execution_count": 7,
     "metadata": {},
     "output_type": "execute_result"
    },
    {
     "data": {
      "image/png": "[encoded data removed]",
      "text/plain": [
       "<Figure size 432x288 with 1 Axes>"
      ]
     },
     "metadata": {
      "needs_background": "light"
     },
     "output_type": "display_data"
    }
   ],
   "source": [
    "from sklearn import preprocessing\n",
    "preQua=preprocessing.quantile_transform(combinedData[['TransactionAmt']])\n",
    "sns.distplot(preQua)"
   ]
  },
  {
   "cell_type": "code",
   "execution_count": 8,
   "metadata": {},
   "outputs": [
    {
     "data": {
      "text/plain": [
       "<matplotlib.axes._subplots.AxesSubplot at 0x240a56ec5f8>"
      ]
     },
     "execution_count": 8,
     "metadata": {},
     "output_type": "execute_result"
    },
    {
     "data": {
      "image/png": "[encoded data removed]",
      "text/plain": [
       "<Figure size 432x288 with 1 Axes>"
      ]
     },
     "metadata": {
      "needs_background": "light"
     },
     "output_type": "display_data"
    }
   ],
   "source": [
    "combinedData['TransactionAmt']=pd.cut(preQua.reshape(preQua.shape[0],),bins=[0, .1,.2,.3,.4,.5,.6,.7,.8,.9,1],\n",
    "                     labels=['A','B','C','D','E','F','G','H','I','J'])\n",
    "\n",
    "# sns.countplot(processedTrainTransaction['TransactionAmt'])\n",
    "sns.countplot(combinedData['TransactionAmt'],hue=combinedData['isFraud'])"
   ]
  },
  {
   "cell_type": "code",
   "execution_count": null,
   "metadata": {},
   "outputs": [],
   "source": [
    "# toleaveTrainCombined[['addr1','card1', 'card2', 'card3','card5', 'addr2']]"
   ]
  },
  {
   "cell_type": "code",
   "execution_count": null,
   "metadata": {},
   "outputs": [],
   "source": []
  },
  {
   "cell_type": "code",
   "execution_count": 12,
   "metadata": {},
   "outputs": [
    {
     "data": {
      "text/plain": [
       "<matplotlib.axes._subplots.AxesSubplot at 0x240a82c5390>"
      ]
     },
     "execution_count": 12,
     "metadata": {},
     "output_type": "execute_result"
    },
    {
     "data": {
      "image/png": "[encoded data removed]",
      "text/plain": [
       "<Figure size 432x288 with 1 Axes>"
      ]
     },
     "metadata": {
      "needs_background": "light"
     },
     "output_type": "display_data"
    }
   ],
   "source": [
    "preQua1=preprocessing.quantile_transform(combinedData[['addr1']].fillna(combinedData[['addr1']].mean()))\n",
    "sns.distplot(preQua1)\n",
    "\n",
    "combinedData['addr1']=pd.cut(preQua1.reshape(preQua1.shape[0],),bins=[0, .1,.2,.3,.4,.5,.6,.7,.8,.9,1],\n",
    "                     labels=['A','B','C','D','E','F','G','H','I','J'])\n",
    "\n",
    "# sns.countplot(processedTrainTransaction['TransactionAmt'])\n",
    "sns.countplot(combinedData['addr1'],hue=combinedData['isFraud'])"
   ]
  },
  {
   "cell_type": "code",
   "execution_count": 13,
   "metadata": {},
   "outputs": [
    {
     "data": {
      "text/plain": [
       "<matplotlib.axes._subplots.AxesSubplot at 0x240ab7d21d0>"
      ]
     },
     "execution_count": 13,
     "metadata": {},
     "output_type": "execute_result"
    },
    {
     "data": {
      "image/png": "[encoded data removed]",
      "text/plain": [
       "<Figure size 432x288 with 1 Axes>"
      ]
     },
     "metadata": {
      "needs_background": "light"
     },
     "output_type": "display_data"
    }
   ],
   "source": [
    "preQua2=preprocessing.quantile_transform(combinedData[['card1']].fillna(combinedData[['card1']].mean()))\n",
    "sns.distplot(preQua2)\n",
    "\n",
    "combinedData['card1']=pd.cut(preQua2.reshape(preQua2.shape[0],),bins=[0, .1,.2,.3,.4,.5,.6,.7,.8,.9,1],\n",
    "                     labels=['A','B','C','D','E','F','G','H','I','J'])\n",
    "\n",
    "# sns.countplot(processedTrainTransaction['TransactionAmt'])\n",
    "sns.countplot(combinedData['card1'],hue=combinedData['isFraud'])"
   ]
  },
  {
   "cell_type": "code",
   "execution_count": 14,
   "metadata": {},
   "outputs": [
    {
     "data": {
      "text/plain": [
       "<matplotlib.axes._subplots.AxesSubplot at 0x240abd95390>"
      ]
     },
     "execution_count": 14,
     "metadata": {},
     "output_type": "execute_result"
    },
    {
     "data": {
      "image/png": "[encoded data removed]",
      "text/plain": [
       "<Figure size 432x288 with 1 Axes>"
      ]
     },
     "metadata": {
      "needs_background": "light"
     },
     "output_type": "display_data"
    }
   ],
   "source": [
    "preQua3=preprocessing.quantile_transform(combinedData[['card2']].fillna(combinedData[['card2']].mean()))\n",
    "sns.distplot(preQua)\n",
    "\n",
    "combinedData['card2']=pd.cut(preQua3.reshape(preQua3.shape[0],),bins=[0, .1,.2,.3,.4,.5,.6,.7,.8,.9,1],\n",
    "                     labels=['A','B','C','D','E','F','G','H','I','J'])\n",
    "\n",
    "# sns.countplot(processedTrainTransaction['TransactionAmt'])\n",
    "sns.countplot(combinedData['card2'],hue=combinedData['isFraud'])"
   ]
  },
  {
   "cell_type": "code",
   "execution_count": 15,
   "metadata": {},
   "outputs": [
    {
     "data": {
      "text/plain": [
       "<matplotlib.axes._subplots.AxesSubplot at 0x240abe82d68>"
      ]
     },
     "execution_count": 15,
     "metadata": {},
     "output_type": "execute_result"
    },
    {
     "data": {
      "image/png": "[encoded data removed]",
      "text/plain": [
       "<Figure size 432x288 with 1 Axes>"
      ]
     },
     "metadata": {
      "needs_background": "light"
     },
     "output_type": "display_data"
    }
   ],
   "source": [
    "preQua4=preprocessing.quantile_transform(combinedData[['card3']].fillna(combinedData[['card3']].mean()))\n",
    "sns.distplot(preQua4)\n",
    "\n",
    "combinedData['card3']=pd.cut(preQua4.reshape(preQua4.shape[0],),bins=[0, .1,.2,.3,.4,.5,.6,.7,.8,.9,1],\n",
    "                     labels=['A','B','C','D','E','F','G','H','I','J'])\n",
    "\n",
    "# sns.countplot(processedTrainTransaction['TransactionAmt'])\n",
    "sns.countplot(combinedData['card3'],hue=combinedData['isFraud'])"
   ]
  },
  {
   "cell_type": "code",
   "execution_count": 16,
   "metadata": {},
   "outputs": [
    {
     "data": {
      "text/plain": [
       "<matplotlib.axes._subplots.AxesSubplot at 0x240acfa8c50>"
      ]
     },
     "execution_count": 16,
     "metadata": {},
     "output_type": "execute_result"
    },
    {
     "data": {
      "image/png": "[encoded data removed]",
      "text/plain": [
       "<Figure size 432x288 with 1 Axes>"
      ]
     },
     "metadata": {
      "needs_background": "light"
     },
     "output_type": "display_data"
    }
   ],
   "source": [
    "preQua5=preprocessing.quantile_transform(combinedData[['card5']].fillna(combinedData[['card5']].mean()))\n",
    "sns.distplot(preQua5)\n",
    "\n",
    "combinedData['card5']=pd.cut(preQua5.reshape(preQua5.shape[0],),bins=[0, .1,.2,.3,.4,.5,.6,.7,.8,.9,1],\n",
    "                     labels=['A','B','C','D','E','F','G','H','I','J'])\n",
    "\n",
    "# sns.countplot(processedTrainTransaction['TransactionAmt'])\n",
    "sns.countplot(combinedData['card5'],hue=combinedData['isFraud'])"
   ]
  },
  {
   "cell_type": "code",
   "execution_count": 17,
   "metadata": {},
   "outputs": [
    {
     "data": {
      "text/plain": [
       "<matplotlib.axes._subplots.AxesSubplot at 0x240acfcee48>"
      ]
     },
     "execution_count": 17,
     "metadata": {},
     "output_type": "execute_result"
    },
    {
     "data": {
      "image/png": "[encoded data removed]",
      "text/plain": [
       "<Figure size 432x288 with 1 Axes>"
      ]
     },
     "metadata": {
      "needs_background": "light"
     },
     "output_type": "display_data"
    }
   ],
   "source": [
    "preQua6=preprocessing.quantile_transform(combinedData[['addr2']].fillna(combinedData[['addr2']].mean()))\n",
    "sns.distplot(preQua6)\n",
    "\n",
    "combinedData['addr2']=pd.cut(preQua6.reshape(preQua6.shape[0],),bins=[0, .1,.2,.3,.4,.5,.6,.7,.8,.9,1],\n",
    "                     labels=['A','B','C','D','E','F','G','H','I','J'])\n",
    "\n",
    "# sns.countplot(processedTrainTransaction['TransactionAmt'])\n",
    "sns.countplot(combinedData['addr2'],hue=combinedData['isFraud'])"
   ]
  },
  {
   "cell_type": "code",
   "execution_count": 9,
   "metadata": {},
   "outputs": [
    {
     "data": {
      "text/plain": [
       "<matplotlib.axes._subplots.AxesSubplot at 0x25c0e331198>"
      ]
     },
     "execution_count": 9,
     "metadata": {},
     "output_type": "execute_result"
    },
    {
     "data": {
      "image/png": "[encoded data removed]",
      "text/plain": [
       "<Figure size 432x288 with 1 Axes>"
      ]
     },
     "metadata": {
      "needs_background": "light"
     },
     "output_type": "display_data"
    }
   ],
   "source": [
    "sns.countplot(combinedData['ProductCD'],hue=combinedData['isFraud'])"
   ]
  },
  {
   "cell_type": "code",
   "execution_count": 18,
   "metadata": {},
   "outputs": [],
   "source": [
    "categoricalCombinedData=['DeviceType','DeviceInfo']+['id_'+str(i) for i in range(12,39)]+\\\n",
    "                        ['M'+str(i) for i in range(1,10)]+\\\n",
    "                        ['ProductCD','P_emaildomain', 'R_emaildomain','CountryDomain','card4', 'card6',]+\\\n",
    "                        ['CountryDomain', 'TransactionAmt',]+['addr1','card1', 'card2', 'card3','card5', 'addr2']"
   ]
  },
  {
   "cell_type": "code",
   "execution_count": 21,
   "metadata": {},
   "outputs": [],
   "source": [
    "leaveCols=['TransactionID', 'isFraud', 'TransactionDT']+\\\n",
    "            ['C'+str(i) for i in range(1,15)]+\\\n",
    "            ['D'+str(i) for i in range(1,16)]+\\\n",
    "            ['V'+str(i) for i in range(1,340)]\n",
    "#             ['addr1','card1', 'card2', 'card3','card5', 'addr2']+\\\n",
    "            \n",
    "# tonormalize=['addr1','card1', 'card2', 'card3','card5', 'addr2']"
   ]
  },
  {
   "cell_type": "code",
   "execution_count": 22,
   "metadata": {},
   "outputs": [],
   "source": [
    "def screenReso(xRes):\n",
    "    if str(xRes) == 'nan':\n",
    "        return ('No info')\n",
    "    else:\n",
    "        widVal=int(xRes.split('x')[0])\n",
    "        if widVal <=850:\n",
    "            return ('Small Screen')\n",
    "        elif widVal <=2050:\n",
    "            return ('Med Screen')\n",
    "        elif widVal <=2250:\n",
    "            return ('2K Screen')\n",
    "        elif widVal > 2250:\n",
    "            return ('4K Screen')"
   ]
  },
  {
   "cell_type": "code",
   "execution_count": 23,
   "metadata": {},
   "outputs": [],
   "source": [
    "def browserDef(brRec):\n",
    "    if str(brRec)=='nan':\n",
    "        return 'other'\n",
    "    else:\n",
    "        if 'samsung' in brRec:\n",
    "            return 'Samsung Browser'\n",
    "        elif 'mobile safari' in brRec:\n",
    "            return 'Mobile Safari'\n",
    "        elif 'chrome' in brRec:\n",
    "            return 'Chrome Browser'\n",
    "        elif 'edge' in brRec:\n",
    "            return 'Edge Browser'\n",
    "        elif 'ie' in brRec:\n",
    "            return 'IE Browser'\n",
    "        elif 'firefox' in brRec:\n",
    "            return 'Firefox Browser'\n",
    "        elif 'opera' in brRec:\n",
    "            return 'Opera Browser'\n",
    "        elif ('Android' in brRec) or ('android' in brRec):\n",
    "            return 'Android Browser'\n",
    "        elif 'Mozilla' in brRec:\n",
    "            return 'Mozilla Browser'\n",
    "        elif 'safari' in brRec:\n",
    "            return 'Safari  Browser'\n",
    "        elif 'google' in brRec:\n",
    "            return 'Google Browser'\n",
    "        else:\n",
    "            return brRec"
   ]
  },
  {
   "cell_type": "code",
   "execution_count": 24,
   "metadata": {},
   "outputs": [],
   "source": [
    "def deviceDef(brRec):\n",
    "    if str(brRec)=='nan':\n",
    "        return 'other'\n",
    "    else:\n",
    "        if 'Android' in brRec:\n",
    "            return 'Android Device'\n",
    "        elif 'iOS' in brRec:\n",
    "            return 'iOS Device'\n",
    "        elif 'Windows' in brRec:\n",
    "            return 'Windows Device'\n",
    "        elif 'Mac' in brRec:\n",
    "            return 'Mac OS Device'\n",
    "        else:\n",
    "            return brRec"
   ]
  },
  {
   "cell_type": "code",
   "execution_count": 25,
   "metadata": {},
   "outputs": [],
   "source": [
    "def numDef(brRec):\n",
    "    if str(brRec)=='nan':\n",
    "        return 'other'\n",
    "    else:\n",
    "        if brRec < 120:\n",
    "            return (' Less than 120')\n",
    "        elif brRec < 140:\n",
    "            return (' Less than 140')\n",
    "        elif brRec < 160:\n",
    "            return (' Less than 160')\n",
    "        elif brRec < 180:\n",
    "            return (' Less than 180')\n",
    "        elif brRec < 200:\n",
    "            return (' Less than 200')\n",
    "        elif brRec > 200:\n",
    "            return (' Greater than 140')\n",
    "        else:\n",
    "            return 'other'"
   ]
  },
  {
   "cell_type": "code",
   "execution_count": 26,
   "metadata": {},
   "outputs": [],
   "source": [
    "def numDef25(brRec):\n",
    "    if str(brRec)=='nan':\n",
    "        return 'other'\n",
    "    else:\n",
    "        if brRec < 150:\n",
    "            return (' Less than 150')\n",
    "        elif brRec < 200:\n",
    "            return (' Less than 200')\n",
    "        elif brRec < 250:\n",
    "            return (' Less than 250')\n",
    "        elif brRec < 300:\n",
    "            return (' Less than 300')\n",
    "        elif brRec < 400:\n",
    "            return (' Less than 400')\n",
    "        elif brRec > 400:\n",
    "            return (' Greater than 400')\n",
    "        else:\n",
    "            return 'other'"
   ]
  },
  {
   "cell_type": "code",
   "execution_count": 27,
   "metadata": {},
   "outputs": [],
   "source": [
    "def numDef21(brRec):\n",
    "    if str(brRec)=='nan':\n",
    "        return 'other'\n",
    "    else:\n",
    "        if brRec < 150:\n",
    "            return (' Less than 150')\n",
    "        elif brRec < 200:\n",
    "            return (' Less than 200')\n",
    "        elif brRec < 300:\n",
    "            return (' Less than 300')\n",
    "        elif brRec < 400:\n",
    "            return (' Less than 400')\n",
    "        elif brRec < 600:\n",
    "            return (' Less than 600')\n",
    "        elif brRec > 600:\n",
    "            return (' Greater than 600')\n",
    "        else:\n",
    "            return 'other'"
   ]
  },
  {
   "cell_type": "code",
   "execution_count": 28,
   "metadata": {},
   "outputs": [],
   "source": [
    "def numDef13(brRec):\n",
    "    if str(brRec)=='nan':\n",
    "        return 'other'\n",
    "    else:\n",
    "        if brRec < 20:\n",
    "            return (' Less than 20')\n",
    "        elif brRec < 40:\n",
    "            return (' Less than 40')\n",
    "        elif brRec < 60:\n",
    "            return (' Less than 60')\n",
    "        elif brRec < 80:\n",
    "            return (' Less than 80')\n",
    "        elif brRec > 80:\n",
    "            return (' Greater than 80')\n",
    "        else:\n",
    "            return 'other'"
   ]
  },
  {
   "cell_type": "code",
   "execution_count": 29,
   "metadata": {},
   "outputs": [],
   "source": [
    "def deviceInfoDef(brRec):\n",
    "    if str(brRec)=='nan':\n",
    "        return 'Other'\n",
    "    else:\n",
    "        if ('SAMSUNG' in brRec) or ('SM' in brRec) or ('GT' in brRec):\n",
    "            return 'SAMSUNG Device'\n",
    "        elif 'iOS' in brRec:\n",
    "            return 'iOS Device'\n",
    "        elif 'Windows' in brRec:\n",
    "            return 'Windows Device'\n",
    "        elif 'LG' in brRec:\n",
    "            return 'LG Device'\n",
    "        elif 'HUAWEI' in brRec:\n",
    "            return 'HUAWEI Device'\n",
    "        elif 'MacOS' in brRec:\n",
    "            return 'MacOS Device'\n",
    "#         elif 'Lenovo' in brRec:\n",
    "#             return 'Lenovo Device'\n",
    "#         elif 'Redmi' in brRec:\n",
    "#             return 'Redmi Device'\n",
    "        elif ('Moto' in brRec) or ('moto' in brRec):\n",
    "            return 'Moto Device'\n",
    "        elif ('Nexus' in brRec) or ('Pixel' in brRec):\n",
    "            return 'MacOS Device'\n",
    "#         elif 'HTC' in brRec:\n",
    "#             return 'HTC Device'\n",
    "#         elif 'Android' in brRec:\n",
    "#             return 'Android Device'\n",
    "#         elif 'Blade' in brRec:\n",
    "#             return 'Blade Device'\n",
    "#         elif ('Nokia' in brRec) or ('NOKIA' in brRec):\n",
    "#             return 'Nokia Device'\n",
    "#         elif ('ASUS' in brRec) or ('Asus' in brRec):\n",
    "#             return 'ASUS Device'\n",
    "        else:\n",
    "            return 'Other'"
   ]
  },
  {
   "cell_type": "code",
   "execution_count": 30,
   "metadata": {},
   "outputs": [],
   "source": [
    "def numDef14(brRec):\n",
    "    if str(brRec)=='nan':\n",
    "        return 'other'\n",
    "    else:\n",
    "        if brRec < -470:\n",
    "            return (' Less than -470')\n",
    "        elif brRec < -290:\n",
    "            return (' Less than -290')\n",
    "        elif brRec < 1:\n",
    "            return (' Less than 1')\n",
    "        elif brRec < 60:\n",
    "            return (' Less than 60')\n",
    "        elif brRec > 60:\n",
    "            return (' Greater than 60')\n",
    "        else:\n",
    "            return 'other'"
   ]
  },
  {
   "cell_type": "code",
   "execution_count": 31,
   "metadata": {},
   "outputs": [],
   "source": [
    "def numDef22(brRec):\n",
    "    if str(brRec)=='nan':\n",
    "        return 'other'\n",
    "    else:\n",
    "        if brRec < 10:\n",
    "            return ('Less than 10')\n",
    "        else:\n",
    "            return ('Greater than 10')"
   ]
  },
  {
   "cell_type": "code",
   "execution_count": 32,
   "metadata": {},
   "outputs": [],
   "source": [
    "def numDef24(brRec):\n",
    "    if str(brRec)=='nan':\n",
    "        return 'other'\n",
    "    else:\n",
    "        if brRec < 12:\n",
    "            return ('Less than 12')\n",
    "        else:\n",
    "            return ('Greater than 12')"
   ]
  },
  {
   "cell_type": "code",
   "execution_count": 33,
   "metadata": {},
   "outputs": [],
   "source": [
    "def numDef18(brRec):\n",
    "    if str(brRec)=='nan':\n",
    "        return 'other'\n",
    "    else:\n",
    "        if brRec < 14:\n",
    "            return ('Less than 14')\n",
    "        else:\n",
    "            return ('Greater than 14')"
   ]
  },
  {
   "cell_type": "code",
   "execution_count": 34,
   "metadata": {},
   "outputs": [],
   "source": [
    "def numDef32(brRec):\n",
    "    if str(brRec)=='nan':\n",
    "        return 'other'\n",
    "    else:\n",
    "        return (int(brRec))"
   ]
  },
  {
   "cell_type": "code",
   "execution_count": 35,
   "metadata": {},
   "outputs": [],
   "source": [
    "def defGetCountryFromDomain(brRec):\n",
    "    if str(brRec)=='nan':\n",
    "        return 'Other'\n",
    "    else:\n",
    "        if ('.mx' in brRec):\n",
    "            return 'Mexico email'\n",
    "        elif '.jp' in brRec:\n",
    "            return 'Japan email'\n",
    "        elif '.uk' in brRec:\n",
    "            return 'UK email'\n",
    "        elif '.de' in brRec:\n",
    "            return 'Germany email'\n",
    "        elif '.es' in brRec:\n",
    "            return 'Spain email'\n",
    "        elif '.fr' in brRec:\n",
    "            return 'France email'\n",
    "        elif '.com' in brRec:\n",
    "            return 'Global email'\n",
    "        elif '.net' in brRec:\n",
    "            return 'Net email'\n",
    "        else:\n",
    "            return 'Other'"
   ]
  },
  {
   "cell_type": "code",
   "execution_count": 36,
   "metadata": {},
   "outputs": [],
   "source": [
    "def defCard6(brRec):\n",
    "    if str(brRec)=='nan':\n",
    "        return 'Other'\n",
    "    else:\n",
    "        if ('debit or credit' in brRec):\n",
    "            return 'debit'\n",
    "        else:\n",
    "            return (brRec)"
   ]
  },
  {
   "cell_type": "code",
   "execution_count": 37,
   "metadata": {},
   "outputs": [],
   "source": [
    "combinedData['id_33']=combinedData['id_33'].apply(lambda x: screenReso(x))\n",
    "combinedData['id_31']=combinedData['id_31'].apply(lambda x: browserDef(x))\n",
    "combinedData['id_30']=combinedData['id_30'].apply(lambda x: deviceDef(x))\n",
    "combinedData['id_26']=combinedData['id_26'].apply(lambda x: numDef(x))\n",
    "combinedData['id_25']=combinedData['id_25'].apply(lambda x: numDef25(x))\n",
    "combinedData['id_21']=combinedData['id_21'].apply(lambda x: numDef21(x))\n",
    "combinedData['id_20']=combinedData['id_20'].apply(lambda x: numDef21(x))\n",
    "combinedData['id_19']=combinedData['id_19'].apply(lambda x: numDef21(x))\n",
    "combinedData['id_17']=combinedData['id_17'].apply(lambda x: numDef(x))\n",
    "combinedData['id_13']=combinedData['id_13'].apply(lambda x: numDef13(x))\n",
    "combinedData['DeviceInfo']=combinedData['DeviceInfo'].apply(lambda x: deviceInfoDef(x))\n",
    "combinedData['id_14']=combinedData['id_14'].apply(lambda x: numDef14(x))\n",
    "combinedData['id_22']=combinedData['id_22'].apply(lambda x: numDef22(x))\n",
    "combinedData['id_24']=combinedData['id_24'].apply(lambda x: numDef24(x))\n",
    "combinedData['id_18']=combinedData['id_18'].apply(lambda x: numDef18(x))\n",
    "combinedData['id_32']=combinedData['id_32'].apply(lambda x: numDef32(x))\n",
    "\n",
    "combinedData['CountryDomain']=combinedData['P_emaildomain'].apply(lambda x: defGetCountryFromDomain(x))\n",
    "combinedData['R_emaildomain']=combinedData['R_emaildomain'].fillna('Other')\n",
    "combinedData['P_emaildomain']=combinedData['P_emaildomain'].fillna('Other')\n",
    "combinedData['card4']=combinedData['card4'].fillna('Other')\n",
    "combinedData['card6']=combinedData['card6'].apply(lambda x: defCard6(x))"
   ]
  },
  {
   "cell_type": "code",
   "execution_count": 38,
   "metadata": {
    "scrolled": true
   },
   "outputs": [
    {
     "name": "stdout",
     "output_type": "stream",
     "text": [
      ">>>>>>>>>>> 00DeviceType >>>> 3\n",
      ">>>>>>>>>>> 00DeviceInfo >>>> 8\n",
      ">>>>>>>>>>> 0000000id_12 >>>> 3\n",
      ">>>>>>>>>>> 0000000id_13 >>>> 5\n",
      ">>>>>>>>>>> 0000000id_14 >>>> 5\n",
      ">>>>>>>>>>> 0000000id_15 >>>> 4\n",
      ">>>>>>>>>>> 0000000id_16 >>>> 3\n",
      ">>>>>>>>>>> 0000000id_17 >>>> 7\n",
      ">>>>>>>>>>> 0000000id_18 >>>> 3\n",
      ">>>>>>>>>>> 0000000id_19 >>>> 7\n",
      ">>>>>>>>>>> 0000000id_20 >>>> 7\n",
      ">>>>>>>>>>> 0000000id_21 >>>> 7\n",
      ">>>>>>>>>>> 0000000id_22 >>>> 2\n",
      ">>>>>>>>>>> 0000000id_23 >>>> 4\n",
      ">>>>>>>>>>> 0000000id_24 >>>> 3\n",
      ">>>>>>>>>>> 0000000id_25 >>>> 7\n",
      ">>>>>>>>>>> 0000000id_26 >>>> 7\n",
      ">>>>>>>>>>> 0000000id_27 >>>> 3\n",
      ">>>>>>>>>>> 0000000id_28 >>>> 3\n",
      ">>>>>>>>>>> 0000000id_29 >>>> 3\n",
      ">>>>>>>>>>> 0000000id_30 >>>> 7\n",
      ">>>>>>>>>>> 0000000id_31 >>>> 39\n",
      ">>>>>>>>>>> 0000000id_32 >>>> 5\n",
      ">>>>>>>>>>> 0000000id_33 >>>> 5\n",
      ">>>>>>>>>>> 0000000id_34 >>>> 5\n",
      ">>>>>>>>>>> 0000000id_35 >>>> 3\n",
      ">>>>>>>>>>> 0000000id_36 >>>> 3\n",
      ">>>>>>>>>>> 0000000id_37 >>>> 3\n",
      ">>>>>>>>>>> 0000000id_38 >>>> 3\n",
      ">>>>>>>>>>> 0000000000M1 >>>> 3\n",
      ">>>>>>>>>>> 0000000000M2 >>>> 3\n",
      ">>>>>>>>>>> 0000000000M3 >>>> 3\n",
      ">>>>>>>>>>> 0000000000M4 >>>> 4\n",
      ">>>>>>>>>>> 0000000000M5 >>>> 3\n",
      ">>>>>>>>>>> 0000000000M6 >>>> 3\n",
      ">>>>>>>>>>> 0000000000M7 >>>> 3\n",
      ">>>>>>>>>>> 0000000000M8 >>>> 3\n",
      ">>>>>>>>>>> 0000000000M9 >>>> 3\n",
      ">>>>>>>>>>> 000ProductCD >>>> 5\n",
      ">>>>>>>>>>> P_emaildomain >>>> 60\n",
      ">>>>>>>>>>> R_emaildomain >>>> 61\n",
      ">>>>>>>>>>> CountryDomain >>>> 9\n",
      ">>>>>>>>>>> 0000000card4 >>>> 5\n",
      ">>>>>>>>>>> 0000000card6 >>>> 4\n",
      ">>>>>>>>>>> CountryDomain >>>> 9\n",
      ">>>>>>>>>>> TransactionAmt >>>> 10\n",
      ">>>>>>>>>>> 0000000addr1 >>>> 10\n",
      ">>>>>>>>>>> 0000000card1 >>>> 10\n",
      ">>>>>>>>>>> 0000000card2 >>>> 10\n",
      ">>>>>>>>>>> 0000000card3 >>>> 4\n",
      ">>>>>>>>>>> 0000000card5 >>>> 7\n",
      ">>>>>>>>>>> 0000000addr2 >>>> 3\n"
     ]
    }
   ],
   "source": [
    "for j in categoricalCombinedData:\n",
    "    print ('>>>>>>>>>>>',j.zfill(12),'>>>>',len(pd.unique(combinedData[j])))"
   ]
  },
  {
   "cell_type": "code",
   "execution_count": 29,
   "metadata": {},
   "outputs": [],
   "source": [
    "# towork='id_18'\n",
    "# fig, ax = plt.subplots(figsize=(15,5))\n",
    "# sns.countplot(trainIdentity[towork].fillna(0))\n",
    "# # sns.countplot(trainIdentity['id_34'].fillna(0),ax=ax)\n",
    "\n",
    "# trainIdentity['id_18']=trainIdentity['id_18'].apply(lambda x: numDef18(x))\n",
    "# len(pd.unique(trainIdentity[towork]))\n",
    "# list(pd.unique(trainIdentity[towork]))"
   ]
  },
  {
   "cell_type": "code",
   "execution_count": 39,
   "metadata": {},
   "outputs": [],
   "source": [
    "cateDataTrainCombined=pd.get_dummies(combinedData[categoricalCombinedData],prefix_sep='_',drop_first='True')"
   ]
  },
  {
   "cell_type": "code",
   "execution_count": 40,
   "metadata": {},
   "outputs": [],
   "source": [
    "toleaveTrainCombined=combinedData[leaveCols].fillna(-9999)\n",
    "cateDataTrainCombined=cateDataTrainCombined.fillna('Other')"
   ]
  },
  {
   "cell_type": "code",
   "execution_count": 42,
   "metadata": {},
   "outputs": [],
   "source": [
    "# proProcess1=preprocessing.MinMaxScaler()\n",
    "# toleaveTrainCombined['addr1']=proProcess1.fit_transform(toleaveTrainCombined[['addr1']])"
   ]
  },
  {
   "cell_type": "code",
   "execution_count": null,
   "metadata": {},
   "outputs": [],
   "source": [
    "# proProcess2=preprocessing.MinMaxScaler()\n",
    "# toleaveTrainCombined['card1']=proProcess2.fit_transform(toleaveTrainCombined[['card1']])"
   ]
  },
  {
   "cell_type": "code",
   "execution_count": 36,
   "metadata": {},
   "outputs": [],
   "source": [
    "# proProcess3=preprocessing.MinMaxScaler()\n",
    "# toleaveTrainCombined['card2']=proProcess3.fit_transform(toleaveTrainCombined[['card2']])"
   ]
  },
  {
   "cell_type": "code",
   "execution_count": 37,
   "metadata": {},
   "outputs": [],
   "source": [
    "# proProcess4=preprocessing.MinMaxScaler()\n",
    "# toleaveTrainCombined['card3']=proProcess4.fit_transform(toleaveTrainCombined[['card3']])"
   ]
  },
  {
   "cell_type": "code",
   "execution_count": 38,
   "metadata": {},
   "outputs": [],
   "source": [
    "# proProcess5=preprocessing.MinMaxScaler()\n",
    "# toleaveTrainCombined['card5']=proProcess5.fit_transform(toleaveTrainCombined[['card5']])"
   ]
  },
  {
   "cell_type": "code",
   "execution_count": 39,
   "metadata": {},
   "outputs": [],
   "source": [
    "# proProcess6=preprocessing.MinMaxScaler()\n",
    "# toleaveTrainCombined['addr2']=proProcess6.fit_transform(toleaveTrainCombined[['addr2']])"
   ]
  },
  {
   "cell_type": "code",
   "execution_count": 41,
   "metadata": {},
   "outputs": [],
   "source": [
    "# toleaveTrainCombined[['addr1','card1', 'card2', 'card3','card5', 'addr2']]"
   ]
  },
  {
   "cell_type": "code",
   "execution_count": null,
   "metadata": {},
   "outputs": [],
   "source": [
    "# towork='addr2'\n",
    "# # fig, ax = plt.subplots(figsize=(15,5))\n",
    "# # sns.countplot(trainTranscation[towork].fillna(0))\n",
    "# # sns.countplot(trainIdentity['id_34'].fillna(0),ax=ax)\n",
    "\n",
    "# trainTranscation['card6']=trainTranscation['card6'].apply(lambda x: defCard6(x))\n",
    "# len(pd.unique(trainTranscation[towork]))\n",
    "# list(pd.unique(trainTranscation[towork]))"
   ]
  },
  {
   "cell_type": "code",
   "execution_count": 43,
   "metadata": {},
   "outputs": [
    {
     "data": {
      "text/plain": [
       "(590540, 715)"
      ]
     },
     "execution_count": 43,
     "metadata": {},
     "output_type": "execute_result"
    }
   ],
   "source": [
    "processedTrainTransaction=pd.concat([toleaveTrainCombined,cateDataTrainCombined],axis=1)\n",
    "processedTrainTransaction.shape"
   ]
  },
  {
   "cell_type": "code",
   "execution_count": 44,
   "metadata": {},
   "outputs": [],
   "source": [
    "tempTimeSer=((processedTrainTransaction['TransactionDT']-86400)).map(int)\n",
    "processedTrainTransaction['transSec']=tempTimeSer%60\n",
    "processedTrainTransaction['transMin']=(tempTimeSer/60).map(int)%60\n",
    "processedTrainTransaction['transHour']=(tempTimeSer/3600).map(int)%24\n",
    "processedTrainTransaction['transMonth']=((tempTimeSer/86400)//30)+1\n",
    "processedTrainTransaction['transDay']=((tempTimeSer/86400)%30).map(int)+1"
   ]
  },
  {
   "cell_type": "code",
   "execution_count": 45,
   "metadata": {},
   "outputs": [],
   "source": [
    "del processedTrainTransaction['TransactionDT']\n",
    "del processedTrainTransaction['TransactionID']"
   ]
  },
  {
   "cell_type": "code",
   "execution_count": 46,
   "metadata": {},
   "outputs": [
    {
     "data": {
      "text/html": [
       "<div>\n",
       "<style scoped>\n",
       "    .dataframe tbody tr th:only-of-type {\n",
       "        vertical-align: middle;\n",
       "    }\n",
       "\n",
       "    .dataframe tbody tr th {\n",
       "        vertical-align: top;\n",
       "    }\n",
       "\n",
       "    .dataframe thead th {\n",
       "        text-align: right;\n",
       "    }\n",
       "</style>\n",
       "<table border=\"1\" class=\"dataframe\">\n",
       "  <thead>\n",
       "    <tr style=\"text-align: right;\">\n",
       "      <th></th>\n",
       "      <th>isFraud</th>\n",
       "      <th>C1</th>\n",
       "      <th>C2</th>\n",
       "      <th>C3</th>\n",
       "      <th>C4</th>\n",
       "      <th>C5</th>\n",
       "      <th>C6</th>\n",
       "      <th>C7</th>\n",
       "      <th>C8</th>\n",
       "      <th>C9</th>\n",
       "      <th>...</th>\n",
       "      <th>addr2_F</th>\n",
       "      <th>addr2_G</th>\n",
       "      <th>addr2_H</th>\n",
       "      <th>addr2_I</th>\n",
       "      <th>addr2_J</th>\n",
       "      <th>transSec</th>\n",
       "      <th>transMin</th>\n",
       "      <th>transHour</th>\n",
       "      <th>transMonth</th>\n",
       "      <th>transDay</th>\n",
       "    </tr>\n",
       "  </thead>\n",
       "  <tbody>\n",
       "    <tr>\n",
       "      <th>590535</th>\n",
       "      <td>0</td>\n",
       "      <td>2.0</td>\n",
       "      <td>1.0</td>\n",
       "      <td>0.0</td>\n",
       "      <td>0.0</td>\n",
       "      <td>1.0</td>\n",
       "      <td>0.0</td>\n",
       "      <td>0.0</td>\n",
       "      <td>0.0</td>\n",
       "      <td>2.0</td>\n",
       "      <td>...</td>\n",
       "      <td>1</td>\n",
       "      <td>0</td>\n",
       "      <td>0</td>\n",
       "      <td>0</td>\n",
       "      <td>0</td>\n",
       "      <td>27</td>\n",
       "      <td>57</td>\n",
       "      <td>23</td>\n",
       "      <td>7.0</td>\n",
       "      <td>2</td>\n",
       "    </tr>\n",
       "    <tr>\n",
       "      <th>590536</th>\n",
       "      <td>0</td>\n",
       "      <td>1.0</td>\n",
       "      <td>1.0</td>\n",
       "      <td>0.0</td>\n",
       "      <td>0.0</td>\n",
       "      <td>0.0</td>\n",
       "      <td>1.0</td>\n",
       "      <td>0.0</td>\n",
       "      <td>0.0</td>\n",
       "      <td>1.0</td>\n",
       "      <td>...</td>\n",
       "      <td>1</td>\n",
       "      <td>0</td>\n",
       "      <td>0</td>\n",
       "      <td>0</td>\n",
       "      <td>0</td>\n",
       "      <td>29</td>\n",
       "      <td>57</td>\n",
       "      <td>23</td>\n",
       "      <td>7.0</td>\n",
       "      <td>2</td>\n",
       "    </tr>\n",
       "    <tr>\n",
       "      <th>590537</th>\n",
       "      <td>0</td>\n",
       "      <td>1.0</td>\n",
       "      <td>1.0</td>\n",
       "      <td>0.0</td>\n",
       "      <td>0.0</td>\n",
       "      <td>1.0</td>\n",
       "      <td>1.0</td>\n",
       "      <td>0.0</td>\n",
       "      <td>0.0</td>\n",
       "      <td>1.0</td>\n",
       "      <td>...</td>\n",
       "      <td>1</td>\n",
       "      <td>0</td>\n",
       "      <td>0</td>\n",
       "      <td>0</td>\n",
       "      <td>0</td>\n",
       "      <td>59</td>\n",
       "      <td>57</td>\n",
       "      <td>23</td>\n",
       "      <td>7.0</td>\n",
       "      <td>2</td>\n",
       "    </tr>\n",
       "    <tr>\n",
       "      <th>590538</th>\n",
       "      <td>0</td>\n",
       "      <td>1.0</td>\n",
       "      <td>1.0</td>\n",
       "      <td>0.0</td>\n",
       "      <td>0.0</td>\n",
       "      <td>0.0</td>\n",
       "      <td>3.0</td>\n",
       "      <td>0.0</td>\n",
       "      <td>0.0</td>\n",
       "      <td>2.0</td>\n",
       "      <td>...</td>\n",
       "      <td>1</td>\n",
       "      <td>0</td>\n",
       "      <td>0</td>\n",
       "      <td>0</td>\n",
       "      <td>0</td>\n",
       "      <td>8</td>\n",
       "      <td>58</td>\n",
       "      <td>23</td>\n",
       "      <td>7.0</td>\n",
       "      <td>2</td>\n",
       "    </tr>\n",
       "    <tr>\n",
       "      <th>590539</th>\n",
       "      <td>0</td>\n",
       "      <td>2.0</td>\n",
       "      <td>1.0</td>\n",
       "      <td>0.0</td>\n",
       "      <td>0.0</td>\n",
       "      <td>1.0</td>\n",
       "      <td>1.0</td>\n",
       "      <td>0.0</td>\n",
       "      <td>0.0</td>\n",
       "      <td>2.0</td>\n",
       "      <td>...</td>\n",
       "      <td>1</td>\n",
       "      <td>0</td>\n",
       "      <td>0</td>\n",
       "      <td>0</td>\n",
       "      <td>0</td>\n",
       "      <td>51</td>\n",
       "      <td>58</td>\n",
       "      <td>23</td>\n",
       "      <td>7.0</td>\n",
       "      <td>2</td>\n",
       "    </tr>\n",
       "  </tbody>\n",
       "</table>\n",
       "<p>5 rows × 718 columns</p>\n",
       "</div>"
      ],
      "text/plain": [
       "        isFraud   C1   C2   C3   C4   C5   C6   C7   C8   C9  ...  addr2_F  \\\n",
       "590535        0  2.0  1.0  0.0  0.0  1.0  0.0  0.0  0.0  2.0  ...        1   \n",
       "590536        0  1.0  1.0  0.0  0.0  0.0  1.0  0.0  0.0  1.0  ...        1   \n",
       "590537        0  1.0  1.0  0.0  0.0  1.0  1.0  0.0  0.0  1.0  ...        1   \n",
       "590538        0  1.0  1.0  0.0  0.0  0.0  3.0  0.0  0.0  2.0  ...        1   \n",
       "590539        0  2.0  1.0  0.0  0.0  1.0  1.0  0.0  0.0  2.0  ...        1   \n",
       "\n",
       "        addr2_G  addr2_H  addr2_I  addr2_J  transSec  transMin  transHour  \\\n",
       "590535        0        0        0        0        27        57         23   \n",
       "590536        0        0        0        0        29        57         23   \n",
       "590537        0        0        0        0        59        57         23   \n",
       "590538        0        0        0        0         8        58         23   \n",
       "590539        0        0        0        0        51        58         23   \n",
       "\n",
       "        transMonth  transDay  \n",
       "590535         7.0         2  \n",
       "590536         7.0         2  \n",
       "590537         7.0         2  \n",
       "590538         7.0         2  \n",
       "590539         7.0         2  \n",
       "\n",
       "[5 rows x 718 columns]"
      ]
     },
     "execution_count": 46,
     "metadata": {},
     "output_type": "execute_result"
    }
   ],
   "source": [
    "processedTrainTransaction.tail()"
   ]
  },
  {
   "cell_type": "code",
   "execution_count": 47,
   "metadata": {},
   "outputs": [
    {
     "data": {
      "text/plain": [
       "<matplotlib.axes._subplots.AxesSubplot at 0x240a7c7e2e8>"
      ]
     },
     "execution_count": 47,
     "metadata": {},
     "output_type": "execute_result"
    },
    {
     "data": {
      "image/png": "[encoded data removed]",
      "text/plain": [
       "<Figure size 432x288 with 1 Axes>"
      ]
     },
     "metadata": {
      "needs_background": "light"
     },
     "output_type": "display_data"
    }
   ],
   "source": [
    "sns.countplot(processedTrainTransaction['isFraud'])\n",
    "# sns.countplot(processedTrainTransaction['transMonth'],hue=processedTrainTransaction['isFraud'])"
   ]
  },
  {
   "cell_type": "code",
   "execution_count": 48,
   "metadata": {},
   "outputs": [
    {
     "data": {
      "text/plain": [
       "<matplotlib.axes._subplots.AxesSubplot at 0x24118f606a0>"
      ]
     },
     "execution_count": 48,
     "metadata": {},
     "output_type": "execute_result"
    },
    {
     "data": {
      "image/png": "[encoded data removed]",
      "text/plain": [
       "<Figure size 432x288 with 1 Axes>"
      ]
     },
     "metadata": {
      "needs_background": "light"
     },
     "output_type": "display_data"
    }
   ],
   "source": [
    "# sns.countplot(processedTrainTransaction['transMonth'])\n",
    "sns.countplot(processedTrainTransaction['transMonth'],hue=processedTrainTransaction['isFraud'])"
   ]
  },
  {
   "cell_type": "code",
   "execution_count": 49,
   "metadata": {},
   "outputs": [
    {
     "data": {
      "text/plain": [
       "<matplotlib.axes._subplots.AxesSubplot at 0x240a7cb34e0>"
      ]
     },
     "execution_count": 49,
     "metadata": {},
     "output_type": "execute_result"
    },
    {
     "data": {
      "image/png": "[encoded data removed]",
      "text/plain": [
       "<Figure size 432x288 with 1 Axes>"
      ]
     },
     "metadata": {
      "needs_background": "light"
     },
     "output_type": "display_data"
    }
   ],
   "source": [
    "# sns.countplot(processedTrainTransaction['transDay'])\n",
    "sns.countplot(processedTrainTransaction['transDay'],hue=processedTrainTransaction['isFraud'])"
   ]
  },
  {
   "cell_type": "code",
   "execution_count": 50,
   "metadata": {},
   "outputs": [
    {
     "data": {
      "text/plain": [
       "<matplotlib.axes._subplots.AxesSubplot at 0x240a7dc1a20>"
      ]
     },
     "execution_count": 50,
     "metadata": {},
     "output_type": "execute_result"
    },
    {
     "data": {
      "image/png": "[encoded data removed]",
      "text/plain": [
       "<Figure size 432x288 with 1 Axes>"
      ]
     },
     "metadata": {
      "needs_background": "light"
     },
     "output_type": "display_data"
    }
   ],
   "source": [
    "# sns.countplot(processedTrainTransaction['transHour'])\n",
    "sns.countplot(processedTrainTransaction['transHour'],hue=processedTrainTransaction['isFraud'])"
   ]
  },
  {
   "cell_type": "code",
   "execution_count": 51,
   "metadata": {},
   "outputs": [],
   "source": [
    "# sns.countplot(processedTrainTransaction['transMin'])"
   ]
  },
  {
   "cell_type": "code",
   "execution_count": 52,
   "metadata": {},
   "outputs": [],
   "source": [
    "# sns.countplot(processedTrainTransaction['transSec'])"
   ]
  },
  {
   "cell_type": "code",
   "execution_count": 53,
   "metadata": {},
   "outputs": [],
   "source": [
    "target='isFraud'\n",
    "toUseCol=list(processedTrainTransaction.columns)\n",
    "toUseCol.remove(target)"
   ]
  },
  {
   "cell_type": "code",
   "execution_count": 54,
   "metadata": {},
   "outputs": [
    {
     "data": {
      "text/plain": [
       "((414542, 718), (83571, 718), (92427, 718))"
      ]
     },
     "execution_count": 54,
     "metadata": {},
     "output_type": "execute_result"
    }
   ],
   "source": [
    "trainPart=processedTrainTransaction[processedTrainTransaction['transMonth']<=4]\n",
    "valPart=processedTrainTransaction[processedTrainTransaction['transMonth']==5]\n",
    "testPart=processedTrainTransaction[processedTrainTransaction['transMonth']>5]\n",
    "trainPart.shape,valPart.shape,testPart.shape"
   ]
  },
  {
   "cell_type": "code",
   "execution_count": 55,
   "metadata": {},
   "outputs": [],
   "source": [
    "from sklearn import ensemble,metrics"
   ]
  },
  {
   "cell_type": "code",
   "execution_count": 56,
   "metadata": {},
   "outputs": [],
   "source": [
    "# model1=ensemble.RandomForestClassifier().fit(trainPart[toUseCol],trainPart[target])\n",
    "# predTrain=model1.predict_proba(trainPart[toUseCol])\n",
    "# scoreOftrain=metrics.roc_auc_score(trainPart[target],predTrain[:,1])\n",
    "# valPred=model1.predict_proba(valPart[toUseCol])\n",
    "# scoreOfVal=metrics.roc_auc_score(valPart[target],valPred[:,1])\n",
    "# print('ROC AUC for train {} and for validation {}'.format(scoreOftrain,scoreOfVal))"
   ]
  },
  {
   "cell_type": "code",
   "execution_count": 57,
   "metadata": {},
   "outputs": [],
   "source": [
    "# model2=ensemble.GradientBoostingClassifier().fit(trainPart[toUseCol],trainPart[target])\n",
    "# predTrain2=model2.predict_proba(trainPart[toUseCol])\n",
    "# scoreOftrain2=metrics.roc_auc_score(trainPart[target],predTrain2[:,1])\n",
    "# valPred2=model2.predict_proba(valPart[toUseCol])\n",
    "# scoreOfVal2=metrics.roc_auc_score(valPart[target],valPred2[:,1])\n",
    "# print('ROC AUC for train {} and for validation {}'.format(scoreOftrain2,scoreOfVal2))"
   ]
  },
  {
   "cell_type": "code",
   "execution_count": 58,
   "metadata": {},
   "outputs": [],
   "source": [
    "import lightgbm as lgb"
   ]
  },
  {
   "cell_type": "code",
   "execution_count": 59,
   "metadata": {},
   "outputs": [],
   "source": [
    "trainData=lgb.Dataset(trainPart[toUseCol],trainPart[target])\n",
    "valData=lgb.Dataset(valPart[toUseCol],valPart[target])"
   ]
  },
  {
   "cell_type": "code",
   "execution_count": 60,
   "metadata": {
    "scrolled": true
   },
   "outputs": [
    {
     "name": "stdout",
     "output_type": "stream",
     "text": [
      "Training until validation scores don't improve for 10 rounds.\n",
      "[10]\ttrain's auc: 0.856714\tvalid's auc: 0.843786\n",
      "[20]\ttrain's auc: 0.86482\tvalid's auc: 0.84716\n",
      "[30]\ttrain's auc: 0.868804\tvalid's auc: 0.849681\n",
      "[40]\ttrain's auc: 0.871413\tvalid's auc: 0.85245\n",
      "[50]\ttrain's auc: 0.874067\tvalid's auc: 0.854287\n",
      "[60]\ttrain's auc: 0.87558\tvalid's auc: 0.856028\n",
      "[70]\ttrain's auc: 0.877094\tvalid's auc: 0.85724\n",
      "[80]\ttrain's auc: 0.878796\tvalid's auc: 0.858966\n",
      "[90]\ttrain's auc: 0.880351\tvalid's auc: 0.859858\n",
      "[100]\ttrain's auc: 0.881505\tvalid's auc: 0.860974\n",
      "[110]\ttrain's auc: 0.882689\tvalid's auc: 0.861999\n",
      "[120]\ttrain's auc: 0.884016\tvalid's auc: 0.863208\n",
      "[130]\ttrain's auc: 0.885284\tvalid's auc: 0.863407\n",
      "[140]\ttrain's auc: 0.886685\tvalid's auc: 0.864364\n",
      "[150]\ttrain's auc: 0.887922\tvalid's auc: 0.865315\n",
      "[160]\ttrain's auc: 0.888919\tvalid's auc: 0.865879\n",
      "[170]\ttrain's auc: 0.889761\tvalid's auc: 0.866269\n",
      "[180]\ttrain's auc: 0.890604\tvalid's auc: 0.867091\n",
      "[190]\ttrain's auc: 0.891596\tvalid's auc: 0.867342\n",
      "[200]\ttrain's auc: 0.892513\tvalid's auc: 0.867876\n",
      "[210]\ttrain's auc: 0.893489\tvalid's auc: 0.86853\n",
      "[220]\ttrain's auc: 0.894363\tvalid's auc: 0.868903\n",
      "[230]\ttrain's auc: 0.895206\tvalid's auc: 0.869698\n",
      "[240]\ttrain's auc: 0.896027\tvalid's auc: 0.870469\n",
      "[250]\ttrain's auc: 0.89694\tvalid's auc: 0.871\n",
      "[260]\ttrain's auc: 0.897841\tvalid's auc: 0.871442\n",
      "[270]\ttrain's auc: 0.898654\tvalid's auc: 0.872093\n",
      "[280]\ttrain's auc: 0.899382\tvalid's auc: 0.872644\n",
      "[290]\ttrain's auc: 0.900045\tvalid's auc: 0.873053\n",
      "[300]\ttrain's auc: 0.900853\tvalid's auc: 0.873744\n",
      "[310]\ttrain's auc: 0.90164\tvalid's auc: 0.874385\n",
      "[320]\ttrain's auc: 0.902412\tvalid's auc: 0.874903\n",
      "[330]\ttrain's auc: 0.903171\tvalid's auc: 0.875435\n",
      "[340]\ttrain's auc: 0.903957\tvalid's auc: 0.876191\n",
      "[350]\ttrain's auc: 0.904795\tvalid's auc: 0.876826\n",
      "[360]\ttrain's auc: 0.905493\tvalid's auc: 0.877325\n",
      "[370]\ttrain's auc: 0.906265\tvalid's auc: 0.878182\n",
      "[380]\ttrain's auc: 0.906989\tvalid's auc: 0.878727\n",
      "[390]\ttrain's auc: 0.907771\tvalid's auc: 0.879408\n",
      "[400]\ttrain's auc: 0.908356\tvalid's auc: 0.879795\n",
      "[410]\ttrain's auc: 0.908895\tvalid's auc: 0.880171\n",
      "[420]\ttrain's auc: 0.909472\tvalid's auc: 0.880633\n",
      "[430]\ttrain's auc: 0.910153\tvalid's auc: 0.881219\n",
      "[440]\ttrain's auc: 0.910762\tvalid's auc: 0.881756\n",
      "[450]\ttrain's auc: 0.911298\tvalid's auc: 0.882028\n",
      "[460]\ttrain's auc: 0.911909\tvalid's auc: 0.882371\n",
      "[470]\ttrain's auc: 0.912387\tvalid's auc: 0.882729\n",
      "[480]\ttrain's auc: 0.913084\tvalid's auc: 0.883287\n",
      "[490]\ttrain's auc: 0.913621\tvalid's auc: 0.883673\n",
      "[500]\ttrain's auc: 0.914105\tvalid's auc: 0.88396\n",
      "[510]\ttrain's auc: 0.914643\tvalid's auc: 0.884277\n",
      "[520]\ttrain's auc: 0.915211\tvalid's auc: 0.884673\n",
      "[530]\ttrain's auc: 0.915812\tvalid's auc: 0.885203\n",
      "[540]\ttrain's auc: 0.916412\tvalid's auc: 0.885851\n",
      "[550]\ttrain's auc: 0.916969\tvalid's auc: 0.886242\n",
      "[560]\ttrain's auc: 0.917519\tvalid's auc: 0.886658\n",
      "[570]\ttrain's auc: 0.917999\tvalid's auc: 0.887001\n",
      "[580]\ttrain's auc: 0.918431\tvalid's auc: 0.887244\n",
      "[590]\ttrain's auc: 0.918881\tvalid's auc: 0.887535\n",
      "[600]\ttrain's auc: 0.919377\tvalid's auc: 0.887878\n",
      "[610]\ttrain's auc: 0.919801\tvalid's auc: 0.888182\n",
      "[620]\ttrain's auc: 0.920177\tvalid's auc: 0.888448\n",
      "[630]\ttrain's auc: 0.920661\tvalid's auc: 0.88872\n",
      "[640]\ttrain's auc: 0.921079\tvalid's auc: 0.889084\n",
      "[650]\ttrain's auc: 0.921495\tvalid's auc: 0.889364\n",
      "[660]\ttrain's auc: 0.921875\tvalid's auc: 0.889537\n",
      "[670]\ttrain's auc: 0.922259\tvalid's auc: 0.889754\n",
      "[680]\ttrain's auc: 0.922671\tvalid's auc: 0.89013\n",
      "[690]\ttrain's auc: 0.922986\tvalid's auc: 0.890327\n",
      "[700]\ttrain's auc: 0.923296\tvalid's auc: 0.890476\n",
      "[710]\ttrain's auc: 0.923668\tvalid's auc: 0.890742\n",
      "[720]\ttrain's auc: 0.924044\tvalid's auc: 0.891117\n",
      "[730]\ttrain's auc: 0.924378\tvalid's auc: 0.891398\n",
      "[740]\ttrain's auc: 0.924717\tvalid's auc: 0.891594\n",
      "[750]\ttrain's auc: 0.925073\tvalid's auc: 0.891813\n",
      "[760]\ttrain's auc: 0.925425\tvalid's auc: 0.892038\n",
      "[770]\ttrain's auc: 0.925795\tvalid's auc: 0.892212\n",
      "[780]\ttrain's auc: 0.926112\tvalid's auc: 0.892484\n",
      "[790]\ttrain's auc: 0.926412\tvalid's auc: 0.892742\n",
      "[800]\ttrain's auc: 0.926715\tvalid's auc: 0.892905\n",
      "[810]\ttrain's auc: 0.927165\tvalid's auc: 0.893111\n",
      "[820]\ttrain's auc: 0.927511\tvalid's auc: 0.893304\n",
      "[830]\ttrain's auc: 0.927823\tvalid's auc: 0.893495\n",
      "[840]\ttrain's auc: 0.928113\tvalid's auc: 0.893746\n",
      "[850]\ttrain's auc: 0.928406\tvalid's auc: 0.893974\n",
      "[860]\ttrain's auc: 0.928829\tvalid's auc: 0.89423\n",
      "[870]\ttrain's auc: 0.929094\tvalid's auc: 0.894368\n",
      "[880]\ttrain's auc: 0.929425\tvalid's auc: 0.894532\n",
      "[890]\ttrain's auc: 0.929819\tvalid's auc: 0.894809\n",
      "[900]\ttrain's auc: 0.930052\tvalid's auc: 0.894885\n",
      "[910]\ttrain's auc: 0.930342\tvalid's auc: 0.895109\n",
      "[920]\ttrain's auc: 0.93058\tvalid's auc: 0.895178\n",
      "[930]\ttrain's auc: 0.930876\tvalid's auc: 0.895304\n",
      "[940]\ttrain's auc: 0.931169\tvalid's auc: 0.895563\n",
      "[950]\ttrain's auc: 0.931401\tvalid's auc: 0.895712\n",
      "[960]\ttrain's auc: 0.931668\tvalid's auc: 0.896009\n",
      "[970]\ttrain's auc: 0.931927\tvalid's auc: 0.896142\n",
      "[980]\ttrain's auc: 0.932223\tvalid's auc: 0.89636\n",
      "[990]\ttrain's auc: 0.932526\tvalid's auc: 0.89661\n",
      "[1000]\ttrain's auc: 0.932758\tvalid's auc: 0.896802\n",
      "[1010]\ttrain's auc: 0.932999\tvalid's auc: 0.896976\n",
      "[1020]\ttrain's auc: 0.933249\tvalid's auc: 0.897076\n",
      "[1030]\ttrain's auc: 0.933499\tvalid's auc: 0.897255\n",
      "[1040]\ttrain's auc: 0.93374\tvalid's auc: 0.897448\n",
      "[1050]\ttrain's auc: 0.933974\tvalid's auc: 0.897574\n",
      "[1060]\ttrain's auc: 0.934209\tvalid's auc: 0.897697\n",
      "[1070]\ttrain's auc: 0.934427\tvalid's auc: 0.897886\n",
      "[1080]\ttrain's auc: 0.934657\tvalid's auc: 0.898007\n",
      "[1090]\ttrain's auc: 0.93494\tvalid's auc: 0.898193\n",
      "[1100]\ttrain's auc: 0.935179\tvalid's auc: 0.898299\n",
      "[1110]\ttrain's auc: 0.935383\tvalid's auc: 0.898464\n",
      "[1120]\ttrain's auc: 0.935584\tvalid's auc: 0.898579\n",
      "[1130]\ttrain's auc: 0.93578\tvalid's auc: 0.8987\n",
      "[1140]\ttrain's auc: 0.936006\tvalid's auc: 0.898916\n",
      "[1150]\ttrain's auc: 0.936248\tvalid's auc: 0.899119\n",
      "[1160]\ttrain's auc: 0.936454\tvalid's auc: 0.899239\n",
      "[1170]\ttrain's auc: 0.936647\tvalid's auc: 0.899371\n",
      "[1180]\ttrain's auc: 0.936879\tvalid's auc: 0.899633\n",
      "[1190]\ttrain's auc: 0.937109\tvalid's auc: 0.899791\n",
      "[1200]\ttrain's auc: 0.937301\tvalid's auc: 0.899859\n",
      "[1210]\ttrain's auc: 0.937486\tvalid's auc: 0.900035\n",
      "[1220]\ttrain's auc: 0.937723\tvalid's auc: 0.900101\n",
      "[1230]\ttrain's auc: 0.937891\tvalid's auc: 0.900168\n",
      "[1240]\ttrain's auc: 0.938098\tvalid's auc: 0.900261\n",
      "[1250]\ttrain's auc: 0.938304\tvalid's auc: 0.900357\n",
      "[1260]\ttrain's auc: 0.938526\tvalid's auc: 0.900487\n",
      "[1270]\ttrain's auc: 0.9387\tvalid's auc: 0.900541\n",
      "[1280]\ttrain's auc: 0.938886\tvalid's auc: 0.900677\n",
      "[1290]\ttrain's auc: 0.939046\tvalid's auc: 0.900719\n",
      "[1300]\ttrain's auc: 0.939238\tvalid's auc: 0.900805\n",
      "[1310]\ttrain's auc: 0.939375\tvalid's auc: 0.900893\n",
      "[1320]\ttrain's auc: 0.939568\tvalid's auc: 0.900996\n",
      "[1330]\ttrain's auc: 0.939734\tvalid's auc: 0.901112\n",
      "[1340]\ttrain's auc: 0.939917\tvalid's auc: 0.901244\n",
      "[1350]\ttrain's auc: 0.940072\tvalid's auc: 0.901305\n",
      "[1360]\ttrain's auc: 0.940254\tvalid's auc: 0.901422\n",
      "[1370]\ttrain's auc: 0.94044\tvalid's auc: 0.90151\n",
      "[1380]\ttrain's auc: 0.940646\tvalid's auc: 0.901734\n",
      "[1390]\ttrain's auc: 0.940816\tvalid's auc: 0.901799\n",
      "[1400]\ttrain's auc: 0.94098\tvalid's auc: 0.90196\n",
      "[1410]\ttrain's auc: 0.941149\tvalid's auc: 0.902017\n",
      "[1420]\ttrain's auc: 0.941343\tvalid's auc: 0.902135\n",
      "[1430]\ttrain's auc: 0.941486\tvalid's auc: 0.902195\n",
      "[1440]\ttrain's auc: 0.94164\tvalid's auc: 0.902276\n",
      "[1450]\ttrain's auc: 0.941844\tvalid's auc: 0.902334\n",
      "[1460]\ttrain's auc: 0.941997\tvalid's auc: 0.902415\n",
      "[1470]\ttrain's auc: 0.942198\tvalid's auc: 0.902594\n",
      "[1480]\ttrain's auc: 0.942368\tvalid's auc: 0.90263\n",
      "[1490]\ttrain's auc: 0.942533\tvalid's auc: 0.902731\n",
      "[1500]\ttrain's auc: 0.942673\tvalid's auc: 0.902778\n",
      "Early stopping, best iteration is:\n",
      "[1498]\ttrain's auc: 0.942652\tvalid's auc: 0.902802\n"
     ]
    }
   ],
   "source": [
    "lgb_params = {\n",
    "        'boosting_type': 'gbdt',\n",
    "        'objective': 'binary',\n",
    "#         'metric':metrics,\n",
    "        'learning_rate': 0.01,\n",
    "        #'is_unbalance': 'true',  #because training data is unbalance (replaced with scale_pos_weight)\n",
    "        'num_leaves': 31,  # we should let it be smaller than 2^(max_depth)\n",
    "        'max_depth': -1,  # -1 means no limit\n",
    "        'min_child_samples': 20,  # Minimum number of data need in a child(min_data_in_leaf)\n",
    "        'max_bin': 255,  # Number of bucketed bin for feature values\n",
    "        'subsample': 0.6,  # Subsample ratio of the training instance.\n",
    "        'subsample_freq': 0,  # frequence of subsample, <=0 means no enable\n",
    "        'colsample_bytree': 0.3,  # Subsample ratio of columns when constructing each tree.\n",
    "        'min_child_weight': 5,  # Minimum sum of instance weight(hessian) needed in a child(leaf)\n",
    "        'subsample_for_bin': 200000,  # Number of samples for constructing bin\n",
    "        'min_split_gain': 0,  # lambda_l1, lambda_l2 and min_gain_to_split to regularization\n",
    "        'reg_alpha': 0,  # L1 regularization term on weights\n",
    "        'reg_lambda': 0,  # L2 regularization term on weights\n",
    "        'nthread': 4,\n",
    "        'verbose': 0,\n",
    "        'metric':'auc'\n",
    "    }\n",
    "\n",
    "num_boost_round=3000\n",
    "early_stopping_rounds=10\n",
    "\n",
    "model3 = lgb.train(lgb_params, \n",
    "                     trainData, \n",
    "                     valid_sets=[trainData, valData], \n",
    "                   valid_names=['train','valid'],\n",
    "#                      evals_result=evals_results, \n",
    "                     num_boost_round=num_boost_round,\n",
    "                     early_stopping_rounds=early_stopping_rounds,\n",
    "                     verbose_eval=10)"
   ]
  },
  {
   "cell_type": "code",
   "execution_count": 61,
   "metadata": {},
   "outputs": [
    {
     "name": "stdout",
     "output_type": "stream",
     "text": [
      "ROC AUC for train 0.9426522660854317 and for validation 0.9028017448882298 for test 0.899984990820444\n"
     ]
    }
   ],
   "source": [
    "predTrain3=model3.predict(trainPart[toUseCol])\n",
    "scoreOftrain3=metrics.roc_auc_score(trainPart[target],predTrain3)\n",
    "valPred3=model3.predict(valPart[toUseCol])\n",
    "scoreOfVal3=metrics.roc_auc_score(valPart[target],valPred3)\n",
    "testPred3=model3.predict(testPart[toUseCol])\n",
    "scoreOfTest3=metrics.roc_auc_score(testPart[target],testPred3)\n",
    "print('ROC AUC for train {} and for validation {} for test {}'.format(scoreOftrain3,scoreOfVal3,scoreOfTest3))"
   ]
  },
  {
   "cell_type": "code",
   "execution_count": null,
   "metadata": {},
   "outputs": [],
   "source": [
    "# ROC AUC for train 0.9543954336563735 and for validation 0.9114576197806739 for test 0.9040375652381945"
   ]
  }
 ],
 "metadata": {
  "kernelspec": {
   "display_name": "Python 3",
   "language": "python",
   "name": "python3"
  },
  "language_info": {
   "codemirror_mode": {
    "name": "ipython",
    "version": 3
   },
   "file_extension": ".py",
   "mimetype": "text/x-python",
   "name": "python",
   "nbconvert_exporter": "python",
   "pygments_lexer": "ipython3",
   "version": "3.6.8"
  }
 },
 "nbformat": 4,
 "nbformat_minor": 2
}
