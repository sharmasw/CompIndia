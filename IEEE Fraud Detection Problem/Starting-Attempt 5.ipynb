{
 "cells": [
  {
   "cell_type": "code",
   "execution_count": 1,
   "metadata": {},
   "outputs": [],
   "source": [
    "import pandas as pd\n",
    "import numpy as np\n",
    "import scipy as sp\n",
    "from sklearn import ensemble,metrics,cross_decomposition,linear_model,model_selection\n",
    "import os\n",
    "import seaborn as sns\n",
    "import matplotlib.pyplot as plt\n",
    "%matplotlib inline\n",
    "import warnings\n",
    "warnings.filterwarnings('ignore')"
   ]
  },
  {
   "cell_type": "code",
   "execution_count": 2,
   "metadata": {},
   "outputs": [
    {
     "data": {
      "text/plain": [
       "((144233, 41), (590540, 394))"
      ]
     },
     "execution_count": 2,
     "metadata": {},
     "output_type": "execute_result"
    }
   ],
   "source": [
    "trainIdentity=pd.read_csv('train_identity.csv')\n",
    "trainTranscation=pd.read_csv('train_transaction.csv')\n",
    "trainIdentity.shape,trainTranscation.shape"
   ]
  },
  {
   "cell_type": "code",
   "execution_count": 3,
   "metadata": {},
   "outputs": [],
   "source": [
    "combinedData=pd.merge(left=trainTranscation,right=trainIdentity,on='TransactionID',how='left')"
   ]
  },
  {
   "cell_type": "code",
   "execution_count": 4,
   "metadata": {},
   "outputs": [],
   "source": [
    "def screenReso(xRes):\n",
    "    if str(xRes) == 'nan':\n",
    "        return ('No info')\n",
    "    else:\n",
    "        widVal=int(xRes.split('x')[0])\n",
    "        if widVal <=850:\n",
    "            return ('Small Screen')\n",
    "        elif widVal <=2050:\n",
    "            return ('Med Screen')\n",
    "        elif widVal <=2250:\n",
    "            return ('2K Screen')\n",
    "        elif widVal > 2250:\n",
    "            return ('4K Screen')"
   ]
  },
  {
   "cell_type": "code",
   "execution_count": 5,
   "metadata": {},
   "outputs": [],
   "source": [
    "def browserDef(brRec):\n",
    "    if str(brRec)=='nan':\n",
    "        return 'other'\n",
    "    else:\n",
    "        if 'samsung' in brRec:\n",
    "            return 'Samsung Browser'\n",
    "        elif 'mobile safari' in brRec:\n",
    "            return 'Mobile Safari'\n",
    "        elif 'chrome' in brRec:\n",
    "            return 'Chrome Browser'\n",
    "        elif 'edge' in brRec:\n",
    "            return 'Edge Browser'\n",
    "        elif 'ie' in brRec:\n",
    "            return 'IE Browser'\n",
    "        elif 'firefox' in brRec:\n",
    "            return 'Firefox Browser'\n",
    "        elif 'opera' in brRec:\n",
    "            return 'Opera Browser'\n",
    "        elif ('Android' in brRec) or ('android' in brRec):\n",
    "            return 'Android Browser'\n",
    "        elif 'Mozilla' in brRec:\n",
    "            return 'Mozilla Browser'\n",
    "        elif 'safari' in brRec:\n",
    "            return 'Safari  Browser'\n",
    "        elif 'google' in brRec:\n",
    "            return 'Google Browser'\n",
    "        else:\n",
    "            return brRec"
   ]
  },
  {
   "cell_type": "code",
   "execution_count": 6,
   "metadata": {},
   "outputs": [],
   "source": [
    "def deviceDef(brRec):\n",
    "    if str(brRec)=='nan':\n",
    "        return 'other'\n",
    "    else:\n",
    "        if 'Android' in brRec:\n",
    "            return 'Android Device'\n",
    "        elif 'iOS' in brRec:\n",
    "            return 'iOS Device'\n",
    "        elif 'Windows' in brRec:\n",
    "            return 'Windows Device'\n",
    "        elif 'Mac' in brRec:\n",
    "            return 'Mac OS Device'\n",
    "        else:\n",
    "            return brRec"
   ]
  },
  {
   "cell_type": "code",
   "execution_count": 7,
   "metadata": {},
   "outputs": [],
   "source": [
    "def deviceInfoDef(brRec):\n",
    "    if str(brRec)=='nan':\n",
    "        return 'Other'\n",
    "    else:\n",
    "        if ('SAMSUNG' in brRec) or ('SM' in brRec) or ('GT' in brRec):\n",
    "            return 'SAMSUNG Device'\n",
    "        elif 'iOS' in brRec:\n",
    "            return 'iOS Device'\n",
    "        elif 'Windows' in brRec:\n",
    "            return 'Windows Device'\n",
    "        elif 'LG' in brRec:\n",
    "            return 'LG Device'\n",
    "        elif 'HUAWEI' in brRec:\n",
    "            return 'HUAWEI Device'\n",
    "        elif 'MacOS' in brRec:\n",
    "            return 'MacOS Device'\n",
    "#         elif 'Lenovo' in brRec:\n",
    "#             return 'Lenovo Device'\n",
    "#         elif 'Redmi' in brRec:\n",
    "#             return 'Redmi Device'\n",
    "        elif ('Moto' in brRec) or ('moto' in brRec):\n",
    "            return 'Moto Device'\n",
    "        elif ('Nexus' in brRec) or ('Pixel' in brRec):\n",
    "            return 'MacOS Device'\n",
    "#         elif 'HTC' in brRec:\n",
    "#             return 'HTC Device'\n",
    "#         elif 'Android' in brRec:\n",
    "#             return 'Android Device'\n",
    "#         elif 'Blade' in brRec:\n",
    "#             return 'Blade Device'\n",
    "#         elif ('Nokia' in brRec) or ('NOKIA' in brRec):\n",
    "#             return 'Nokia Device'\n",
    "#         elif ('ASUS' in brRec) or ('Asus' in brRec):\n",
    "#             return 'ASUS Device'\n",
    "        else:\n",
    "            return 'Other'"
   ]
  },
  {
   "cell_type": "code",
   "execution_count": 8,
   "metadata": {},
   "outputs": [],
   "source": [
    "def defGetCountryFromDomain(brRec):\n",
    "    if str(brRec)=='nan':\n",
    "        return 'Other'\n",
    "    else:\n",
    "        if ('.mx' in brRec):\n",
    "            return 'Mexico email'\n",
    "        elif '.jp' in brRec:\n",
    "            return 'Japan email'\n",
    "        elif '.uk' in brRec:\n",
    "            return 'UK email'\n",
    "        elif '.de' in brRec:\n",
    "            return 'Germany email'\n",
    "        elif '.es' in brRec:\n",
    "            return 'Spain email'\n",
    "        elif '.fr' in brRec:\n",
    "            return 'France email'\n",
    "        elif '.com' in brRec:\n",
    "            return 'Global email'\n",
    "        elif '.net' in brRec:\n",
    "            return 'Net email'\n",
    "        else:\n",
    "            return 'Other'"
   ]
  },
  {
   "cell_type": "code",
   "execution_count": 9,
   "metadata": {},
   "outputs": [],
   "source": [
    "combinedData['CountryDomain']=combinedData['P_emaildomain'].apply(lambda x: defGetCountryFromDomain(x))\n",
    "combinedData['R_emaildomain']=combinedData['R_emaildomain'].fillna('Other')\n",
    "combinedData['P_emaildomain']=combinedData['P_emaildomain'].fillna('Other')\n",
    "combinedData['DeviceInfo']=combinedData['DeviceInfo'].apply(lambda x: deviceInfoDef(x))\n",
    "combinedData['id_33']=combinedData['id_33'].apply(lambda x: screenReso(x))\n",
    "combinedData['id_31']=combinedData['id_31'].apply(lambda x: browserDef(x))\n",
    "combinedData['id_30']=combinedData['id_30'].apply(lambda x: deviceDef(x))"
   ]
  },
  {
   "cell_type": "code",
   "execution_count": 10,
   "metadata": {},
   "outputs": [],
   "source": [
    "nP=np.percentile(combinedData['TransactionAmt'],99)\n",
    "combinedData['TransactionAmt']=combinedData['TransactionAmt'].apply(lambda x: nP if x >= nP else x)\n",
    "# sns.distplot(combinedData['TransactionAmt'])"
   ]
  },
  {
   "cell_type": "code",
   "execution_count": 11,
   "metadata": {},
   "outputs": [
    {
     "data": {
      "text/html": [
       "<div>\n",
       "<style scoped>\n",
       "    .dataframe tbody tr th:only-of-type {\n",
       "        vertical-align: middle;\n",
       "    }\n",
       "\n",
       "    .dataframe tbody tr th {\n",
       "        vertical-align: top;\n",
       "    }\n",
       "\n",
       "    .dataframe thead th {\n",
       "        text-align: right;\n",
       "    }\n",
       "</style>\n",
       "<table border=\"1\" class=\"dataframe\">\n",
       "  <thead>\n",
       "    <tr style=\"text-align: right;\">\n",
       "      <th></th>\n",
       "      <th>TransactionID</th>\n",
       "      <th>isFraud</th>\n",
       "      <th>TransactionDT</th>\n",
       "      <th>TransactionAmt</th>\n",
       "      <th>ProductCD</th>\n",
       "      <th>card1</th>\n",
       "      <th>card2</th>\n",
       "      <th>card3</th>\n",
       "      <th>card4</th>\n",
       "      <th>card5</th>\n",
       "      <th>...</th>\n",
       "      <th>id_32</th>\n",
       "      <th>id_33</th>\n",
       "      <th>id_34</th>\n",
       "      <th>id_35</th>\n",
       "      <th>id_36</th>\n",
       "      <th>id_37</th>\n",
       "      <th>id_38</th>\n",
       "      <th>DeviceType</th>\n",
       "      <th>DeviceInfo</th>\n",
       "      <th>CountryDomain</th>\n",
       "    </tr>\n",
       "  </thead>\n",
       "  <tbody>\n",
       "    <tr>\n",
       "      <th>0</th>\n",
       "      <td>2987000</td>\n",
       "      <td>0</td>\n",
       "      <td>86400</td>\n",
       "      <td>68.5</td>\n",
       "      <td>W</td>\n",
       "      <td>13926</td>\n",
       "      <td>NaN</td>\n",
       "      <td>150.0</td>\n",
       "      <td>discover</td>\n",
       "      <td>142.0</td>\n",
       "      <td>...</td>\n",
       "      <td>NaN</td>\n",
       "      <td>No info</td>\n",
       "      <td>NaN</td>\n",
       "      <td>NaN</td>\n",
       "      <td>NaN</td>\n",
       "      <td>NaN</td>\n",
       "      <td>NaN</td>\n",
       "      <td>NaN</td>\n",
       "      <td>Other</td>\n",
       "      <td>Other</td>\n",
       "    </tr>\n",
       "    <tr>\n",
       "      <th>1</th>\n",
       "      <td>2987001</td>\n",
       "      <td>0</td>\n",
       "      <td>86401</td>\n",
       "      <td>29.0</td>\n",
       "      <td>W</td>\n",
       "      <td>2755</td>\n",
       "      <td>404.0</td>\n",
       "      <td>150.0</td>\n",
       "      <td>mastercard</td>\n",
       "      <td>102.0</td>\n",
       "      <td>...</td>\n",
       "      <td>NaN</td>\n",
       "      <td>No info</td>\n",
       "      <td>NaN</td>\n",
       "      <td>NaN</td>\n",
       "      <td>NaN</td>\n",
       "      <td>NaN</td>\n",
       "      <td>NaN</td>\n",
       "      <td>NaN</td>\n",
       "      <td>Other</td>\n",
       "      <td>Global email</td>\n",
       "    </tr>\n",
       "    <tr>\n",
       "      <th>2</th>\n",
       "      <td>2987002</td>\n",
       "      <td>0</td>\n",
       "      <td>86469</td>\n",
       "      <td>59.0</td>\n",
       "      <td>W</td>\n",
       "      <td>4663</td>\n",
       "      <td>490.0</td>\n",
       "      <td>150.0</td>\n",
       "      <td>visa</td>\n",
       "      <td>166.0</td>\n",
       "      <td>...</td>\n",
       "      <td>NaN</td>\n",
       "      <td>No info</td>\n",
       "      <td>NaN</td>\n",
       "      <td>NaN</td>\n",
       "      <td>NaN</td>\n",
       "      <td>NaN</td>\n",
       "      <td>NaN</td>\n",
       "      <td>NaN</td>\n",
       "      <td>Other</td>\n",
       "      <td>Global email</td>\n",
       "    </tr>\n",
       "    <tr>\n",
       "      <th>3</th>\n",
       "      <td>2987003</td>\n",
       "      <td>0</td>\n",
       "      <td>86499</td>\n",
       "      <td>50.0</td>\n",
       "      <td>W</td>\n",
       "      <td>18132</td>\n",
       "      <td>567.0</td>\n",
       "      <td>150.0</td>\n",
       "      <td>mastercard</td>\n",
       "      <td>117.0</td>\n",
       "      <td>...</td>\n",
       "      <td>NaN</td>\n",
       "      <td>No info</td>\n",
       "      <td>NaN</td>\n",
       "      <td>NaN</td>\n",
       "      <td>NaN</td>\n",
       "      <td>NaN</td>\n",
       "      <td>NaN</td>\n",
       "      <td>NaN</td>\n",
       "      <td>Other</td>\n",
       "      <td>Global email</td>\n",
       "    </tr>\n",
       "    <tr>\n",
       "      <th>4</th>\n",
       "      <td>2987004</td>\n",
       "      <td>0</td>\n",
       "      <td>86506</td>\n",
       "      <td>50.0</td>\n",
       "      <td>H</td>\n",
       "      <td>4497</td>\n",
       "      <td>514.0</td>\n",
       "      <td>150.0</td>\n",
       "      <td>mastercard</td>\n",
       "      <td>102.0</td>\n",
       "      <td>...</td>\n",
       "      <td>32.0</td>\n",
       "      <td>2K Screen</td>\n",
       "      <td>match_status:2</td>\n",
       "      <td>T</td>\n",
       "      <td>F</td>\n",
       "      <td>T</td>\n",
       "      <td>T</td>\n",
       "      <td>mobile</td>\n",
       "      <td>SAMSUNG Device</td>\n",
       "      <td>Global email</td>\n",
       "    </tr>\n",
       "  </tbody>\n",
       "</table>\n",
       "<p>5 rows × 435 columns</p>\n",
       "</div>"
      ],
      "text/plain": [
       "   TransactionID  isFraud  TransactionDT  TransactionAmt ProductCD  card1  \\\n",
       "0        2987000        0          86400            68.5         W  13926   \n",
       "1        2987001        0          86401            29.0         W   2755   \n",
       "2        2987002        0          86469            59.0         W   4663   \n",
       "3        2987003        0          86499            50.0         W  18132   \n",
       "4        2987004        0          86506            50.0         H   4497   \n",
       "\n",
       "   card2  card3       card4  card5  ... id_32      id_33           id_34  \\\n",
       "0    NaN  150.0    discover  142.0  ...   NaN    No info             NaN   \n",
       "1  404.0  150.0  mastercard  102.0  ...   NaN    No info             NaN   \n",
       "2  490.0  150.0        visa  166.0  ...   NaN    No info             NaN   \n",
       "3  567.0  150.0  mastercard  117.0  ...   NaN    No info             NaN   \n",
       "4  514.0  150.0  mastercard  102.0  ...  32.0  2K Screen  match_status:2   \n",
       "\n",
       "   id_35  id_36 id_37 id_38  DeviceType      DeviceInfo  CountryDomain  \n",
       "0    NaN    NaN   NaN   NaN         NaN           Other          Other  \n",
       "1    NaN    NaN   NaN   NaN         NaN           Other   Global email  \n",
       "2    NaN    NaN   NaN   NaN         NaN           Other   Global email  \n",
       "3    NaN    NaN   NaN   NaN         NaN           Other   Global email  \n",
       "4      T      F     T     T      mobile  SAMSUNG Device   Global email  \n",
       "\n",
       "[5 rows x 435 columns]"
      ]
     },
     "execution_count": 11,
     "metadata": {},
     "output_type": "execute_result"
    }
   ],
   "source": [
    "combinedData.head()"
   ]
  },
  {
   "cell_type": "markdown",
   "metadata": {},
   "source": [
    "## For C columns"
   ]
  },
  {
   "cell_type": "code",
   "execution_count": 12,
   "metadata": {},
   "outputs": [],
   "source": [
    "groupC=['C'+str(i) for i in range(1,15)]"
   ]
  },
  {
   "cell_type": "code",
   "execution_count": 13,
   "metadata": {},
   "outputs": [],
   "source": [
    "from sklearn import decomposition,preprocessing"
   ]
  },
  {
   "cell_type": "code",
   "execution_count": 14,
   "metadata": {},
   "outputs": [
    {
     "data": {
      "text/plain": [
       "StandardScaler(copy=True, with_mean=True, with_std=True)"
      ]
     },
     "execution_count": 14,
     "metadata": {},
     "output_type": "execute_result"
    }
   ],
   "source": [
    "pp1=preprocessing.StandardScaler()\n",
    "pp1.fit(combinedData[groupC])"
   ]
  },
  {
   "cell_type": "code",
   "execution_count": 15,
   "metadata": {
    "scrolled": true
   },
   "outputs": [],
   "source": [
    "newGroupCdata=pp1.transform(combinedData[groupC])"
   ]
  },
  {
   "cell_type": "code",
   "execution_count": 16,
   "metadata": {},
   "outputs": [
    {
     "data": {
      "text/plain": [
       "PCA(copy=True, iterated_power='auto', n_components=None, random_state=None,\n",
       "  svd_solver='auto', tol=0.0, whiten=False)"
      ]
     },
     "execution_count": 16,
     "metadata": {},
     "output_type": "execute_result"
    }
   ],
   "source": [
    "pcaGroupC=decomposition.PCA()\n",
    "pcaGroupC.fit(newGroupCdata)"
   ]
  },
  {
   "cell_type": "code",
   "execution_count": 17,
   "metadata": {},
   "outputs": [
    {
     "data": {
      "text/plain": [
       "0.898930849837729"
      ]
     },
     "execution_count": 17,
     "metadata": {},
     "output_type": "execute_result"
    }
   ],
   "source": [
    "sum(pcaGroupC.explained_variance_ratio_[:2])"
   ]
  },
  {
   "cell_type": "code",
   "execution_count": 18,
   "metadata": {},
   "outputs": [],
   "source": [
    "pcaCColumns=['pcaC1','pcaC2']\n",
    "pcaForGroupC=pd.DataFrame(pcaGroupC.fit_transform(newGroupCdata)[::,:2],columns=pcaCColumns)"
   ]
  },
  {
   "cell_type": "markdown",
   "metadata": {},
   "source": [
    "## For D columns"
   ]
  },
  {
   "cell_type": "code",
   "execution_count": 19,
   "metadata": {},
   "outputs": [],
   "source": [
    "groupD=['D'+str(i) for i in range(1,16)]"
   ]
  },
  {
   "cell_type": "code",
   "execution_count": 20,
   "metadata": {},
   "outputs": [
    {
     "name": "stdout",
     "output_type": "stream",
     "text": [
      "642\n",
      "642\n",
      "650\n",
      "809\n",
      "689\n",
      "830\n",
      "598\n",
      "12354\n",
      "25\n",
      "819\n",
      "677\n",
      "636\n",
      "578\n",
      "803\n",
      "860\n"
     ]
    }
   ],
   "source": [
    "for i in groupD:\n",
    "    print (len(pd.unique(combinedData[i])))"
   ]
  },
  {
   "cell_type": "code",
   "execution_count": 21,
   "metadata": {},
   "outputs": [],
   "source": [
    "for i in groupD:\n",
    "    combinedData[i]=combinedData[i].fillna(combinedData[i].mean())"
   ]
  },
  {
   "cell_type": "code",
   "execution_count": 22,
   "metadata": {},
   "outputs": [],
   "source": [
    "pp2=preprocessing.StandardScaler()\n",
    "pp2.fit(combinedData[groupD])\n",
    "newGroupDdata=pp2.transform(combinedData[groupD])"
   ]
  },
  {
   "cell_type": "code",
   "execution_count": 23,
   "metadata": {},
   "outputs": [
    {
     "data": {
      "text/plain": [
       "PCA(copy=True, iterated_power='auto', n_components=None, random_state=None,\n",
       "  svd_solver='auto', tol=0.0, whiten=False)"
      ]
     },
     "execution_count": 23,
     "metadata": {},
     "output_type": "execute_result"
    }
   ],
   "source": [
    "pcaGroupD=decomposition.PCA()\n",
    "pcaGroupD.fit(newGroupDdata)"
   ]
  },
  {
   "cell_type": "code",
   "execution_count": 24,
   "metadata": {},
   "outputs": [
    {
     "data": {
      "text/plain": [
       "0.8652006206715891"
      ]
     },
     "execution_count": 24,
     "metadata": {},
     "output_type": "execute_result"
    }
   ],
   "source": [
    "sum(pcaGroupD.explained_variance_ratio_[:9])"
   ]
  },
  {
   "cell_type": "code",
   "execution_count": 25,
   "metadata": {},
   "outputs": [],
   "source": [
    "pcaDColumns=['pcaD'+str(i) for i in range(1,10)]\n",
    "pcaForGroupD=pd.DataFrame(pcaGroupD.fit_transform(newGroupDdata)[::,:9],columns=pcaDColumns)"
   ]
  },
  {
   "cell_type": "markdown",
   "metadata": {},
   "source": [
    "## For Columns V"
   ]
  },
  {
   "cell_type": "code",
   "execution_count": 26,
   "metadata": {},
   "outputs": [],
   "source": [
    "groupV=['V'+str(i) for i in range(1,340)]"
   ]
  },
  {
   "cell_type": "code",
   "execution_count": 27,
   "metadata": {},
   "outputs": [
    {
     "name": "stdout",
     "output_type": "stream",
     "text": [
      "3\n",
      "10\n",
      "11\n",
      "8\n",
      "8\n",
      "11\n",
      "11\n",
      "10\n",
      "10\n",
      "6\n",
      "7\n",
      "5\n",
      "8\n",
      "3\n",
      "9\n",
      "16\n",
      "17\n",
      "17\n",
      "9\n",
      "16\n",
      "7\n",
      "10\n",
      "15\n",
      "15\n",
      "8\n",
      "14\n",
      "5\n",
      "5\n",
      "7\n",
      "9\n",
      "9\n",
      "16\n",
      "8\n",
      "14\n",
      "5\n",
      "7\n",
      "56\n",
      "56\n",
      "17\n",
      "19\n",
      "3\n",
      "10\n",
      "10\n",
      "50\n",
      "50\n",
      "8\n",
      "10\n",
      "7\n",
      "7\n",
      "7\n",
      "8\n",
      "10\n",
      "7\n",
      "8\n",
      "19\n",
      "53\n",
      "8\n",
      "12\n",
      "18\n",
      "18\n",
      "8\n",
      "12\n",
      "9\n",
      "9\n",
      "3\n",
      "9\n",
      "10\n",
      "4\n",
      "7\n",
      "8\n",
      "8\n",
      "12\n",
      "9\n",
      "10\n",
      "6\n",
      "8\n",
      "32\n",
      "33\n",
      "9\n",
      "21\n",
      "21\n",
      "9\n",
      "9\n",
      "9\n",
      "9\n",
      "32\n",
      "32\n",
      "3\n",
      "4\n",
      "7\n",
      "8\n",
      "9\n",
      "9\n",
      "4\n",
      "882\n",
      "1411\n",
      "977\n",
      "14\n",
      "90\n",
      "30\n",
      "871\n",
      "1286\n",
      "929\n",
      "17\n",
      "101\n",
      "57\n",
      "3\n",
      "9\n",
      "9\n",
      "9\n",
      "11\n",
      "11\n",
      "11\n",
      "8\n",
      "8\n",
      "8\n",
      "5\n",
      "5\n",
      "5\n",
      "5\n",
      "5\n",
      "5\n",
      "15\n",
      "15\n",
      "15\n",
      "10300\n",
      "24415\n",
      "14508\n",
      "1969\n",
      "12333\n",
      "4445\n",
      "6561\n",
      "9950\n",
      "8179\n",
      "3725\n",
      "4853\n",
      "4253\n",
      "24\n",
      "35\n",
      "35\n",
      "7\n",
      "11\n",
      "871\n",
      "64\n",
      "261\n",
      "26\n",
      "28\n",
      "22\n",
      "22\n",
      "1997\n",
      "57\n",
      "40\n",
      "20\n",
      "20\n",
      "26\n",
      "26\n",
      "26\n",
      "26\n",
      "6664\n",
      "9622\n",
      "80\n",
      "186\n",
      "107\n",
      "1979\n",
      "2548\n",
      "988\n",
      "874\n",
      "966\n",
      "21\n",
      "50\n",
      "63\n",
      "33\n",
      "9\n",
      "10\n",
      "16\n",
      "50\n",
      "863\n",
      "1237\n",
      "922\n",
      "85\n",
      "26\n",
      "85\n",
      "43\n",
      "18\n",
      "33\n",
      "40\n",
      "216\n",
      "32\n",
      "32\n",
      "44\n",
      "23\n",
      "46\n",
      "39\n",
      "9\n",
      "18\n",
      "40\n",
      "16\n",
      "23\n",
      "47\n",
      "47\n",
      "57\n",
      "10971\n",
      "14952\n",
      "12859\n",
      "2241\n",
      "1781\n",
      "3247\n",
      "2553\n",
      "3452\n",
      "2837\n",
      "7625\n",
      "8869\n",
      "8318\n",
      "2283\n",
      "2748\n",
      "2533\n",
      "305\n",
      "402\n",
      "380\n",
      "27\n",
      "78\n",
      "77\n",
      "18\n",
      "80\n",
      "36\n",
      "82\n",
      "51\n",
      "56\n",
      "92\n",
      "67\n",
      "295\n",
      "339\n",
      "334\n",
      "123\n",
      "25\n",
      "47\n",
      "41\n",
      "25\n",
      "25\n",
      "7\n",
      "6\n",
      "22\n",
      "44\n",
      "24\n",
      "59\n",
      "47\n",
      "20\n",
      "24\n",
      "24\n",
      "20\n",
      "20\n",
      "26\n",
      "67\n",
      "46\n",
      "47\n",
      "49\n",
      "50\n",
      "68\n",
      "69\n",
      "10\n",
      "42\n",
      "22\n",
      "10423\n",
      "13359\n",
      "11758\n",
      "2179\n",
      "3617\n",
      "2757\n",
      "152\n",
      "2341\n",
      "2788\n",
      "2508\n",
      "7178\n",
      "8316\n",
      "7777\n",
      "2264\n",
      "2541\n",
      "2399\n",
      "882\n",
      "976\n",
      "24\n",
      "34\n",
      "63\n",
      "14\n",
      "97\n",
      "10\n",
      "33\n",
      "12\n",
      "14\n",
      "59\n",
      "220\n",
      "174\n",
      "871\n",
      "1287\n",
      "929\n",
      "95\n",
      "14\n",
      "95\n",
      "51\n",
      "13\n",
      "15\n",
      "18\n",
      "22\n",
      "18\n",
      "3\n",
      "16211\n",
      "37368\n",
      "23065\n",
      "4237\n",
      "19137\n",
      "3099\n",
      "8069\n",
      "5530\n",
      "11378\n",
      "6974\n",
      "9815\n",
      "15185\n",
      "12310\n",
      "4800\n",
      "6440\n",
      "5561\n",
      "882\n",
      "1412\n",
      "977\n",
      "14\n",
      "46\n",
      "20\n",
      "17\n",
      "101\n",
      "57\n",
      "1759\n",
      "2454\n",
      "1972\n",
      "144\n",
      "673\n",
      "357\n",
      "255\n",
      "381\n",
      "335\n"
     ]
    }
   ],
   "source": [
    "for i in groupV:\n",
    "    print (len(pd.unique(combinedData[i])))"
   ]
  },
  {
   "cell_type": "code",
   "execution_count": 28,
   "metadata": {},
   "outputs": [],
   "source": [
    "for i in groupV:\n",
    "    combinedData[i]=combinedData[i].fillna(combinedData[i].mean())"
   ]
  },
  {
   "cell_type": "code",
   "execution_count": 29,
   "metadata": {},
   "outputs": [],
   "source": [
    "pp3=preprocessing.StandardScaler()\n",
    "pp3.fit(combinedData[groupV])\n",
    "newGroupVdata=pp3.transform(combinedData[groupV])"
   ]
  },
  {
   "cell_type": "code",
   "execution_count": 30,
   "metadata": {},
   "outputs": [
    {
     "data": {
      "text/plain": [
       "PCA(copy=True, iterated_power='auto', n_components=None, random_state=None,\n",
       "  svd_solver='auto', tol=0.0, whiten=False)"
      ]
     },
     "execution_count": 30,
     "metadata": {},
     "output_type": "execute_result"
    }
   ],
   "source": [
    "pcaGroupV=decomposition.PCA()\n",
    "pcaGroupV.fit(newGroupVdata)"
   ]
  },
  {
   "cell_type": "code",
   "execution_count": 31,
   "metadata": {},
   "outputs": [
    {
     "data": {
      "text/plain": [
       "0.8755492354806109"
      ]
     },
     "execution_count": 31,
     "metadata": {},
     "output_type": "execute_result"
    }
   ],
   "source": [
    "sum(pcaGroupV.explained_variance_ratio_[:50])"
   ]
  },
  {
   "cell_type": "code",
   "execution_count": 32,
   "metadata": {},
   "outputs": [],
   "source": [
    "pcaVColumns=['pcaV'+str(i) for i in range(1,51)]\n",
    "pcaForGroupV=pd.DataFrame(pcaGroupD.fit_transform(newGroupVdata)[::,:50],columns=pcaVColumns)"
   ]
  },
  {
   "cell_type": "code",
   "execution_count": 33,
   "metadata": {
    "scrolled": true
   },
   "outputs": [
    {
     "data": {
      "text/html": [
       "<div>\n",
       "<style scoped>\n",
       "    .dataframe tbody tr th:only-of-type {\n",
       "        vertical-align: middle;\n",
       "    }\n",
       "\n",
       "    .dataframe tbody tr th {\n",
       "        vertical-align: top;\n",
       "    }\n",
       "\n",
       "    .dataframe thead th {\n",
       "        text-align: right;\n",
       "    }\n",
       "</style>\n",
       "<table border=\"1\" class=\"dataframe\">\n",
       "  <thead>\n",
       "    <tr style=\"text-align: right;\">\n",
       "      <th></th>\n",
       "      <th>TransactionID</th>\n",
       "      <th>isFraud</th>\n",
       "      <th>TransactionDT</th>\n",
       "      <th>TransactionAmt</th>\n",
       "      <th>ProductCD</th>\n",
       "      <th>card1</th>\n",
       "      <th>card2</th>\n",
       "      <th>card3</th>\n",
       "      <th>card4</th>\n",
       "      <th>card5</th>\n",
       "      <th>...</th>\n",
       "      <th>id_32</th>\n",
       "      <th>id_33</th>\n",
       "      <th>id_34</th>\n",
       "      <th>id_35</th>\n",
       "      <th>id_36</th>\n",
       "      <th>id_37</th>\n",
       "      <th>id_38</th>\n",
       "      <th>DeviceType</th>\n",
       "      <th>DeviceInfo</th>\n",
       "      <th>CountryDomain</th>\n",
       "    </tr>\n",
       "  </thead>\n",
       "  <tbody>\n",
       "    <tr>\n",
       "      <th>0</th>\n",
       "      <td>2987000</td>\n",
       "      <td>0</td>\n",
       "      <td>86400</td>\n",
       "      <td>68.5</td>\n",
       "      <td>W</td>\n",
       "      <td>13926</td>\n",
       "      <td>NaN</td>\n",
       "      <td>150.0</td>\n",
       "      <td>discover</td>\n",
       "      <td>142.0</td>\n",
       "      <td>...</td>\n",
       "      <td>NaN</td>\n",
       "      <td>No info</td>\n",
       "      <td>NaN</td>\n",
       "      <td>NaN</td>\n",
       "      <td>NaN</td>\n",
       "      <td>NaN</td>\n",
       "      <td>NaN</td>\n",
       "      <td>NaN</td>\n",
       "      <td>Other</td>\n",
       "      <td>Other</td>\n",
       "    </tr>\n",
       "    <tr>\n",
       "      <th>1</th>\n",
       "      <td>2987001</td>\n",
       "      <td>0</td>\n",
       "      <td>86401</td>\n",
       "      <td>29.0</td>\n",
       "      <td>W</td>\n",
       "      <td>2755</td>\n",
       "      <td>404.0</td>\n",
       "      <td>150.0</td>\n",
       "      <td>mastercard</td>\n",
       "      <td>102.0</td>\n",
       "      <td>...</td>\n",
       "      <td>NaN</td>\n",
       "      <td>No info</td>\n",
       "      <td>NaN</td>\n",
       "      <td>NaN</td>\n",
       "      <td>NaN</td>\n",
       "      <td>NaN</td>\n",
       "      <td>NaN</td>\n",
       "      <td>NaN</td>\n",
       "      <td>Other</td>\n",
       "      <td>Global email</td>\n",
       "    </tr>\n",
       "    <tr>\n",
       "      <th>2</th>\n",
       "      <td>2987002</td>\n",
       "      <td>0</td>\n",
       "      <td>86469</td>\n",
       "      <td>59.0</td>\n",
       "      <td>W</td>\n",
       "      <td>4663</td>\n",
       "      <td>490.0</td>\n",
       "      <td>150.0</td>\n",
       "      <td>visa</td>\n",
       "      <td>166.0</td>\n",
       "      <td>...</td>\n",
       "      <td>NaN</td>\n",
       "      <td>No info</td>\n",
       "      <td>NaN</td>\n",
       "      <td>NaN</td>\n",
       "      <td>NaN</td>\n",
       "      <td>NaN</td>\n",
       "      <td>NaN</td>\n",
       "      <td>NaN</td>\n",
       "      <td>Other</td>\n",
       "      <td>Global email</td>\n",
       "    </tr>\n",
       "    <tr>\n",
       "      <th>3</th>\n",
       "      <td>2987003</td>\n",
       "      <td>0</td>\n",
       "      <td>86499</td>\n",
       "      <td>50.0</td>\n",
       "      <td>W</td>\n",
       "      <td>18132</td>\n",
       "      <td>567.0</td>\n",
       "      <td>150.0</td>\n",
       "      <td>mastercard</td>\n",
       "      <td>117.0</td>\n",
       "      <td>...</td>\n",
       "      <td>NaN</td>\n",
       "      <td>No info</td>\n",
       "      <td>NaN</td>\n",
       "      <td>NaN</td>\n",
       "      <td>NaN</td>\n",
       "      <td>NaN</td>\n",
       "      <td>NaN</td>\n",
       "      <td>NaN</td>\n",
       "      <td>Other</td>\n",
       "      <td>Global email</td>\n",
       "    </tr>\n",
       "    <tr>\n",
       "      <th>4</th>\n",
       "      <td>2987004</td>\n",
       "      <td>0</td>\n",
       "      <td>86506</td>\n",
       "      <td>50.0</td>\n",
       "      <td>H</td>\n",
       "      <td>4497</td>\n",
       "      <td>514.0</td>\n",
       "      <td>150.0</td>\n",
       "      <td>mastercard</td>\n",
       "      <td>102.0</td>\n",
       "      <td>...</td>\n",
       "      <td>32.0</td>\n",
       "      <td>2K Screen</td>\n",
       "      <td>match_status:2</td>\n",
       "      <td>T</td>\n",
       "      <td>F</td>\n",
       "      <td>T</td>\n",
       "      <td>T</td>\n",
       "      <td>mobile</td>\n",
       "      <td>SAMSUNG Device</td>\n",
       "      <td>Global email</td>\n",
       "    </tr>\n",
       "  </tbody>\n",
       "</table>\n",
       "<p>5 rows × 435 columns</p>\n",
       "</div>"
      ],
      "text/plain": [
       "   TransactionID  isFraud  TransactionDT  TransactionAmt ProductCD  card1  \\\n",
       "0        2987000        0          86400            68.5         W  13926   \n",
       "1        2987001        0          86401            29.0         W   2755   \n",
       "2        2987002        0          86469            59.0         W   4663   \n",
       "3        2987003        0          86499            50.0         W  18132   \n",
       "4        2987004        0          86506            50.0         H   4497   \n",
       "\n",
       "   card2  card3       card4  card5  ... id_32      id_33           id_34  \\\n",
       "0    NaN  150.0    discover  142.0  ...   NaN    No info             NaN   \n",
       "1  404.0  150.0  mastercard  102.0  ...   NaN    No info             NaN   \n",
       "2  490.0  150.0        visa  166.0  ...   NaN    No info             NaN   \n",
       "3  567.0  150.0  mastercard  117.0  ...   NaN    No info             NaN   \n",
       "4  514.0  150.0  mastercard  102.0  ...  32.0  2K Screen  match_status:2   \n",
       "\n",
       "   id_35  id_36 id_37 id_38  DeviceType      DeviceInfo  CountryDomain  \n",
       "0    NaN    NaN   NaN   NaN         NaN           Other          Other  \n",
       "1    NaN    NaN   NaN   NaN         NaN           Other   Global email  \n",
       "2    NaN    NaN   NaN   NaN         NaN           Other   Global email  \n",
       "3    NaN    NaN   NaN   NaN         NaN           Other   Global email  \n",
       "4      T      F     T     T      mobile  SAMSUNG Device   Global email  \n",
       "\n",
       "[5 rows x 435 columns]"
      ]
     },
     "execution_count": 33,
     "metadata": {},
     "output_type": "execute_result"
    }
   ],
   "source": [
    "combinedData.head()"
   ]
  },
  {
   "cell_type": "markdown",
   "metadata": {},
   "source": [
    "## Group Columns for ID"
   ]
  },
  {
   "cell_type": "code",
   "execution_count": 34,
   "metadata": {},
   "outputs": [],
   "source": [
    "groupID=['id_'+str(i).zfill(2) for i in range(1,12)]"
   ]
  },
  {
   "cell_type": "code",
   "execution_count": 35,
   "metadata": {},
   "outputs": [
    {
     "name": "stdout",
     "output_type": "stream",
     "text": [
      "78\n",
      "115656\n",
      "25\n",
      "16\n",
      "94\n",
      "102\n",
      "85\n",
      "95\n",
      "47\n",
      "63\n",
      "366\n"
     ]
    }
   ],
   "source": [
    "for i in groupID:\n",
    "    print (len(pd.unique(combinedData[i])))"
   ]
  },
  {
   "cell_type": "code",
   "execution_count": 36,
   "metadata": {},
   "outputs": [],
   "source": [
    "for i in groupID:\n",
    "    combinedData[i]=combinedData[i].fillna(combinedData[i].mean())"
   ]
  },
  {
   "cell_type": "code",
   "execution_count": 37,
   "metadata": {},
   "outputs": [],
   "source": [
    "pp4=preprocessing.StandardScaler()\n",
    "pp4.fit(combinedData[groupID])\n",
    "newGroupIDdata=pp4.transform(combinedData[groupID])"
   ]
  },
  {
   "cell_type": "code",
   "execution_count": 38,
   "metadata": {},
   "outputs": [
    {
     "data": {
      "text/plain": [
       "PCA(copy=True, iterated_power='auto', n_components=None, random_state=None,\n",
       "  svd_solver='auto', tol=0.0, whiten=False)"
      ]
     },
     "execution_count": 38,
     "metadata": {},
     "output_type": "execute_result"
    }
   ],
   "source": [
    "pcaGroupID=decomposition.PCA()\n",
    "pcaGroupID.fit(newGroupIDdata)"
   ]
  },
  {
   "cell_type": "code",
   "execution_count": 39,
   "metadata": {},
   "outputs": [
    {
     "data": {
      "text/plain": [
       "0.8394878565742937"
      ]
     },
     "execution_count": 39,
     "metadata": {},
     "output_type": "execute_result"
    }
   ],
   "source": [
    "sum(pcaGroupID.explained_variance_ratio_[:8])"
   ]
  },
  {
   "cell_type": "code",
   "execution_count": 40,
   "metadata": {},
   "outputs": [],
   "source": [
    "pcaIDColumns=['pcaID'+str(i) for i in range(1,9)]\n",
    "pcaForGroupID=pd.DataFrame(pcaGroupID.fit_transform(newGroupIDdata)[::,:8],columns=pcaIDColumns)"
   ]
  },
  {
   "cell_type": "code",
   "execution_count": null,
   "metadata": {},
   "outputs": [],
   "source": []
  },
  {
   "cell_type": "markdown",
   "metadata": {},
   "source": [
    "## Process of the data"
   ]
  },
  {
   "cell_type": "code",
   "execution_count": 41,
   "metadata": {},
   "outputs": [],
   "source": [
    "def numDef(brRec):\n",
    "    if str(brRec)=='nan':\n",
    "        return 'other'\n",
    "    else:\n",
    "        if brRec < 120:\n",
    "            return (' Less than 120')\n",
    "        elif brRec < 140:\n",
    "            return (' Less than 140')\n",
    "        elif brRec < 160:\n",
    "            return (' Less than 160')\n",
    "        elif brRec < 180:\n",
    "            return (' Less than 180')\n",
    "        elif brRec < 200:\n",
    "            return (' Less than 200')\n",
    "        elif brRec > 200:\n",
    "            return (' Greater than 140')\n",
    "        else:\n",
    "            return 'other'"
   ]
  },
  {
   "cell_type": "code",
   "execution_count": 42,
   "metadata": {},
   "outputs": [],
   "source": [
    "def numDef25(brRec):\n",
    "    if str(brRec)=='nan':\n",
    "        return 'other'\n",
    "    else:\n",
    "        if brRec < 150:\n",
    "            return (' Less than 150')\n",
    "        elif brRec < 200:\n",
    "            return (' Less than 200')\n",
    "        elif brRec < 250:\n",
    "            return (' Less than 250')\n",
    "        elif brRec < 300:\n",
    "            return (' Less than 300')\n",
    "        elif brRec < 400:\n",
    "            return (' Less than 400')\n",
    "        elif brRec > 400:\n",
    "            return (' Greater than 400')\n",
    "        else:\n",
    "            return 'other'"
   ]
  },
  {
   "cell_type": "code",
   "execution_count": 43,
   "metadata": {},
   "outputs": [],
   "source": [
    "def numDef21(brRec):\n",
    "    if str(brRec)=='nan':\n",
    "        return 'other'\n",
    "    else:\n",
    "        if brRec < 150:\n",
    "            return (' Less than 150')\n",
    "        elif brRec < 200:\n",
    "            return (' Less than 200')\n",
    "        elif brRec < 300:\n",
    "            return (' Less than 300')\n",
    "        elif brRec < 400:\n",
    "            return (' Less than 400')\n",
    "        elif brRec < 600:\n",
    "            return (' Less than 600')\n",
    "        elif brRec > 600:\n",
    "            return (' Greater than 600')\n",
    "        else:\n",
    "            return 'other'"
   ]
  },
  {
   "cell_type": "code",
   "execution_count": 44,
   "metadata": {},
   "outputs": [],
   "source": [
    "def numDef13(brRec):\n",
    "    if str(brRec)=='nan':\n",
    "        return 'other'\n",
    "    else:\n",
    "        if brRec < 20:\n",
    "            return (' Less than 20')\n",
    "        elif brRec < 40:\n",
    "            return (' Less than 40')\n",
    "        elif brRec < 60:\n",
    "            return (' Less than 60')\n",
    "        elif brRec < 80:\n",
    "            return (' Less than 80')\n",
    "        elif brRec > 80:\n",
    "            return (' Greater than 80')\n",
    "        else:\n",
    "            return 'other'"
   ]
  },
  {
   "cell_type": "code",
   "execution_count": 45,
   "metadata": {},
   "outputs": [],
   "source": [
    "def numDef14(brRec):\n",
    "    if str(brRec)=='nan':\n",
    "        return 'other'\n",
    "    else:\n",
    "        if brRec < -470:\n",
    "            return (' Less than -470')\n",
    "        elif brRec < -290:\n",
    "            return (' Less than -290')\n",
    "        elif brRec < 1:\n",
    "            return (' Less than 1')\n",
    "        elif brRec < 60:\n",
    "            return (' Less than 60')\n",
    "        elif brRec > 60:\n",
    "            return (' Greater than 60')\n",
    "        else:\n",
    "            return 'other'"
   ]
  },
  {
   "cell_type": "code",
   "execution_count": 46,
   "metadata": {},
   "outputs": [],
   "source": [
    "def numDef22(brRec):\n",
    "    if str(brRec)=='nan':\n",
    "        return 'other'\n",
    "    else:\n",
    "        if brRec < 10:\n",
    "            return ('Less than 10')\n",
    "        else:\n",
    "            return ('Greater than 10')"
   ]
  },
  {
   "cell_type": "code",
   "execution_count": 47,
   "metadata": {},
   "outputs": [],
   "source": [
    "def numDef24(brRec):\n",
    "    if str(brRec)=='nan':\n",
    "        return 'other'\n",
    "    else:\n",
    "        if brRec < 12:\n",
    "            return ('Less than 12')\n",
    "        else:\n",
    "            return ('Greater than 12')"
   ]
  },
  {
   "cell_type": "code",
   "execution_count": 48,
   "metadata": {},
   "outputs": [],
   "source": [
    "def numDef18(brRec):\n",
    "    if str(brRec)=='nan':\n",
    "        return 'other'\n",
    "    else:\n",
    "        if brRec < 14:\n",
    "            return ('Less than 14')\n",
    "        else:\n",
    "            return ('Greater than 14')"
   ]
  },
  {
   "cell_type": "code",
   "execution_count": 49,
   "metadata": {},
   "outputs": [],
   "source": [
    "def numDef32(brRec):\n",
    "    if str(brRec)=='nan':\n",
    "        return 'other'\n",
    "    else:\n",
    "        return (int(brRec))"
   ]
  },
  {
   "cell_type": "code",
   "execution_count": 50,
   "metadata": {},
   "outputs": [],
   "source": [
    "def defCard6(brRec):\n",
    "    if str(brRec)=='nan':\n",
    "        return 'Other'\n",
    "    else:\n",
    "        if ('debit or credit' in brRec):\n",
    "            return 'debit'\n",
    "        else:\n",
    "            return (brRec)"
   ]
  },
  {
   "cell_type": "code",
   "execution_count": 51,
   "metadata": {},
   "outputs": [],
   "source": [
    "\n",
    "combinedData['id_26']=combinedData['id_26'].apply(lambda x: numDef(x))\n",
    "combinedData['id_25']=combinedData['id_25'].apply(lambda x: numDef25(x))\n",
    "combinedData['id_21']=combinedData['id_21'].apply(lambda x: numDef21(x))\n",
    "combinedData['id_20']=combinedData['id_20'].apply(lambda x: numDef21(x))\n",
    "combinedData['id_19']=combinedData['id_19'].apply(lambda x: numDef21(x))\n",
    "combinedData['id_17']=combinedData['id_17'].apply(lambda x: numDef(x))\n",
    "combinedData['id_13']=combinedData['id_13'].apply(lambda x: numDef13(x))\n",
    "\n",
    "combinedData['id_14']=combinedData['id_14'].apply(lambda x: numDef14(x))\n",
    "combinedData['id_22']=combinedData['id_22'].apply(lambda x: numDef22(x))\n",
    "combinedData['id_24']=combinedData['id_24'].apply(lambda x: numDef24(x))\n",
    "combinedData['id_18']=combinedData['id_18'].apply(lambda x: numDef18(x))\n",
    "combinedData['id_32']=combinedData['id_32'].apply(lambda x: numDef32(x))\n",
    "\n",
    "\n",
    "combinedData['card4']=combinedData['card4'].fillna('Other')\n",
    "combinedData['card6']=combinedData['card6'].apply(lambda x: defCard6(x))"
   ]
  },
  {
   "cell_type": "code",
   "execution_count": 52,
   "metadata": {},
   "outputs": [],
   "source": [
    "# combinedData['id_33']=combinedData['id_33'].apply(lambda x: screenReso(x))\n",
    "# combinedData['id_31']=combinedData['id_31'].apply(lambda x: browserDef(x))\n",
    "# combinedData['id_30']=combinedData['id_30'].apply(lambda x: deviceDef(x))\n",
    "# combinedData['id_26']=combinedData['id_26'].apply(lambda x: numDef(x))\n",
    "# combinedData['id_25']=combinedData['id_25'].apply(lambda x: numDef25(x))\n",
    "# combinedData['id_21']=combinedData['id_21'].apply(lambda x: numDef21(x))\n",
    "# combinedData['id_20']=combinedData['id_20'].apply(lambda x: numDef21(x))\n",
    "# combinedData['id_19']=combinedData['id_19'].apply(lambda x: numDef21(x))\n",
    "# combinedData['id_17']=combinedData['id_17'].apply(lambda x: numDef(x))\n",
    "# combinedData['id_13']=combinedData['id_13'].apply(lambda x: numDef13(x))\n",
    "# combinedData['DeviceInfo']=combinedData['DeviceInfo'].apply(lambda x: deviceInfoDef(x))\n",
    "# combinedData['id_14']=combinedData['id_14'].apply(lambda x: numDef14(x))\n",
    "# combinedData['id_22']=combinedData['id_22'].apply(lambda x: numDef22(x))\n",
    "# combinedData['id_24']=combinedData['id_24'].apply(lambda x: numDef24(x))\n",
    "# combinedData['id_18']=combinedData['id_18'].apply(lambda x: numDef18(x))\n",
    "# combinedData['id_32']=combinedData['id_32'].apply(lambda x: numDef32(x))\n",
    "\n",
    "# combinedData['CountryDomain']=combinedData['P_emaildomain'].apply(lambda x: defGetCountryFromDomain(x))\n",
    "# combinedData['R_emaildomain']=combinedData['R_emaildomain'].fillna('Other')\n",
    "# combinedData['P_emaildomain']=combinedData['P_emaildomain'].fillna('Other')\n",
    "# combinedData['card4']=combinedData['card4'].fillna('Other')\n",
    "# combinedData['card6']=combinedData['card6'].apply(lambda x: defCard6(x))"
   ]
  },
  {
   "cell_type": "code",
   "execution_count": 53,
   "metadata": {},
   "outputs": [
    {
     "data": {
      "text/plain": [
       "(['pcaID1',\n",
       "  'pcaID2',\n",
       "  'pcaID3',\n",
       "  'pcaID4',\n",
       "  'pcaID5',\n",
       "  'pcaID6',\n",
       "  'pcaID7',\n",
       "  'pcaID8'],\n",
       " ['pcaV1',\n",
       "  'pcaV2',\n",
       "  'pcaV3',\n",
       "  'pcaV4',\n",
       "  'pcaV5',\n",
       "  'pcaV6',\n",
       "  'pcaV7',\n",
       "  'pcaV8',\n",
       "  'pcaV9',\n",
       "  'pcaV10',\n",
       "  'pcaV11',\n",
       "  'pcaV12',\n",
       "  'pcaV13',\n",
       "  'pcaV14',\n",
       "  'pcaV15',\n",
       "  'pcaV16',\n",
       "  'pcaV17',\n",
       "  'pcaV18',\n",
       "  'pcaV19',\n",
       "  'pcaV20',\n",
       "  'pcaV21',\n",
       "  'pcaV22',\n",
       "  'pcaV23',\n",
       "  'pcaV24',\n",
       "  'pcaV25',\n",
       "  'pcaV26',\n",
       "  'pcaV27',\n",
       "  'pcaV28',\n",
       "  'pcaV29',\n",
       "  'pcaV30',\n",
       "  'pcaV31',\n",
       "  'pcaV32',\n",
       "  'pcaV33',\n",
       "  'pcaV34',\n",
       "  'pcaV35',\n",
       "  'pcaV36',\n",
       "  'pcaV37',\n",
       "  'pcaV38',\n",
       "  'pcaV39',\n",
       "  'pcaV40',\n",
       "  'pcaV41',\n",
       "  'pcaV42',\n",
       "  'pcaV43',\n",
       "  'pcaV44',\n",
       "  'pcaV45',\n",
       "  'pcaV46',\n",
       "  'pcaV47',\n",
       "  'pcaV48',\n",
       "  'pcaV49',\n",
       "  'pcaV50'],\n",
       " ['pcaC1', 'pcaC2'],\n",
       " ['pcaD1',\n",
       "  'pcaD2',\n",
       "  'pcaD3',\n",
       "  'pcaD4',\n",
       "  'pcaD5',\n",
       "  'pcaD6',\n",
       "  'pcaD7',\n",
       "  'pcaD8',\n",
       "  'pcaD9'])"
      ]
     },
     "execution_count": 53,
     "metadata": {},
     "output_type": "execute_result"
    }
   ],
   "source": [
    "pcaIDColumns,pcaVColumns,pcaCColumns,pcaDColumns"
   ]
  },
  {
   "cell_type": "code",
   "execution_count": 54,
   "metadata": {},
   "outputs": [],
   "source": [
    "categoricalCombinedData=['DeviceType','DeviceInfo']+['id_'+str(i) for i in range(12,39)]+\\\n",
    "                        ['M'+str(i) for i in range(1,10)]+\\\n",
    "                        ['ProductCD','P_emaildomain', 'R_emaildomain','CountryDomain','card4', 'card6',]#+\\\n",
    "                        #+['addr1','card1', 'card2', 'card3','card5', 'addr2']\n",
    "    \n",
    "leaveCols=['TransactionID', 'isFraud', 'TransactionDT']+\\\n",
    "            ['addr1','card1', 'card2', 'card3','card5', 'addr2']+\\\n",
    "            [ 'TransactionAmt',]\n",
    "# tonormalize=['addr1','card1', 'card2', 'card3','card5', 'addr2']"
   ]
  },
  {
   "cell_type": "code",
   "execution_count": 55,
   "metadata": {
    "scrolled": true
   },
   "outputs": [
    {
     "name": "stdout",
     "output_type": "stream",
     "text": [
      ">>>>>>>>>>> 00DeviceType >>>> 3\n",
      ">>>>>>>>>>> 00DeviceInfo >>>> 8\n",
      ">>>>>>>>>>> 0000000id_12 >>>> 3\n",
      ">>>>>>>>>>> 0000000id_13 >>>> 5\n",
      ">>>>>>>>>>> 0000000id_14 >>>> 5\n",
      ">>>>>>>>>>> 0000000id_15 >>>> 4\n",
      ">>>>>>>>>>> 0000000id_16 >>>> 3\n",
      ">>>>>>>>>>> 0000000id_17 >>>> 7\n",
      ">>>>>>>>>>> 0000000id_18 >>>> 3\n",
      ">>>>>>>>>>> 0000000id_19 >>>> 7\n",
      ">>>>>>>>>>> 0000000id_20 >>>> 7\n",
      ">>>>>>>>>>> 0000000id_21 >>>> 7\n",
      ">>>>>>>>>>> 0000000id_22 >>>> 2\n",
      ">>>>>>>>>>> 0000000id_23 >>>> 4\n",
      ">>>>>>>>>>> 0000000id_24 >>>> 3\n",
      ">>>>>>>>>>> 0000000id_25 >>>> 7\n",
      ">>>>>>>>>>> 0000000id_26 >>>> 7\n",
      ">>>>>>>>>>> 0000000id_27 >>>> 3\n",
      ">>>>>>>>>>> 0000000id_28 >>>> 3\n",
      ">>>>>>>>>>> 0000000id_29 >>>> 3\n",
      ">>>>>>>>>>> 0000000id_30 >>>> 7\n",
      ">>>>>>>>>>> 0000000id_31 >>>> 39\n",
      ">>>>>>>>>>> 0000000id_32 >>>> 5\n",
      ">>>>>>>>>>> 0000000id_33 >>>> 5\n",
      ">>>>>>>>>>> 0000000id_34 >>>> 5\n",
      ">>>>>>>>>>> 0000000id_35 >>>> 3\n",
      ">>>>>>>>>>> 0000000id_36 >>>> 3\n",
      ">>>>>>>>>>> 0000000id_37 >>>> 3\n",
      ">>>>>>>>>>> 0000000id_38 >>>> 3\n",
      ">>>>>>>>>>> 0000000000M1 >>>> 3\n",
      ">>>>>>>>>>> 0000000000M2 >>>> 3\n",
      ">>>>>>>>>>> 0000000000M3 >>>> 3\n",
      ">>>>>>>>>>> 0000000000M4 >>>> 4\n",
      ">>>>>>>>>>> 0000000000M5 >>>> 3\n",
      ">>>>>>>>>>> 0000000000M6 >>>> 3\n",
      ">>>>>>>>>>> 0000000000M7 >>>> 3\n",
      ">>>>>>>>>>> 0000000000M8 >>>> 3\n",
      ">>>>>>>>>>> 0000000000M9 >>>> 3\n",
      ">>>>>>>>>>> 000ProductCD >>>> 5\n",
      ">>>>>>>>>>> P_emaildomain >>>> 60\n",
      ">>>>>>>>>>> R_emaildomain >>>> 61\n",
      ">>>>>>>>>>> CountryDomain >>>> 9\n",
      ">>>>>>>>>>> 0000000card4 >>>> 5\n",
      ">>>>>>>>>>> 0000000card6 >>>> 4\n"
     ]
    }
   ],
   "source": [
    "for j in categoricalCombinedData:\n",
    "    print ('>>>>>>>>>>>',j.zfill(12),'>>>>',len(pd.unique(combinedData[j])))"
   ]
  },
  {
   "cell_type": "code",
   "execution_count": 56,
   "metadata": {},
   "outputs": [],
   "source": [
    "# towork='id_18'\n",
    "# fig, ax = plt.subplots(figsize=(15,5))\n",
    "# sns.countplot(trainIdentity[towork].fillna(0))\n",
    "# # sns.countplot(trainIdentity['id_34'].fillna(0),ax=ax)\n",
    "\n",
    "# trainIdentity['id_18']=trainIdentity['id_18'].apply(lambda x: numDef18(x))\n",
    "# len(pd.unique(trainIdentity[towork]))\n",
    "# list(pd.unique(trainIdentity[towork]))"
   ]
  },
  {
   "cell_type": "code",
   "execution_count": 57,
   "metadata": {},
   "outputs": [],
   "source": [
    "cateDataTrainCombined=pd.get_dummies(combinedData[categoricalCombinedData],prefix_sep='_',drop_first='True')"
   ]
  },
  {
   "cell_type": "code",
   "execution_count": 58,
   "metadata": {},
   "outputs": [],
   "source": [
    "toleaveTrainCombined=combinedData[leaveCols].fillna(-9999)\n",
    "cateDataTrainCombined=cateDataTrainCombined.fillna('Other')"
   ]
  },
  {
   "cell_type": "code",
   "execution_count": 59,
   "metadata": {},
   "outputs": [],
   "source": [
    "proProcess1=preprocessing.MinMaxScaler()\n",
    "toleaveTrainCombined['addr1']=proProcess1.fit_transform(toleaveTrainCombined[['addr1']])"
   ]
  },
  {
   "cell_type": "code",
   "execution_count": 60,
   "metadata": {},
   "outputs": [],
   "source": [
    "proProcess2=preprocessing.MinMaxScaler()\n",
    "toleaveTrainCombined['card1']=proProcess2.fit_transform(toleaveTrainCombined[['card1']])"
   ]
  },
  {
   "cell_type": "code",
   "execution_count": 61,
   "metadata": {},
   "outputs": [],
   "source": [
    "proProcess3=preprocessing.MinMaxScaler()\n",
    "toleaveTrainCombined['card2']=proProcess3.fit_transform(toleaveTrainCombined[['card2']])"
   ]
  },
  {
   "cell_type": "code",
   "execution_count": 62,
   "metadata": {},
   "outputs": [],
   "source": [
    "proProcess4=preprocessing.MinMaxScaler()\n",
    "toleaveTrainCombined['card3']=proProcess4.fit_transform(toleaveTrainCombined[['card3']])"
   ]
  },
  {
   "cell_type": "code",
   "execution_count": 63,
   "metadata": {},
   "outputs": [],
   "source": [
    "proProcess5=preprocessing.MinMaxScaler()\n",
    "toleaveTrainCombined['card5']=proProcess5.fit_transform(toleaveTrainCombined[['card5']])"
   ]
  },
  {
   "cell_type": "code",
   "execution_count": 64,
   "metadata": {},
   "outputs": [],
   "source": [
    "proProcess6=preprocessing.MinMaxScaler()\n",
    "toleaveTrainCombined['addr2']=proProcess6.fit_transform(toleaveTrainCombined[['addr2']])"
   ]
  },
  {
   "cell_type": "code",
   "execution_count": 65,
   "metadata": {},
   "outputs": [],
   "source": [
    "# toleaveTrainCombined[['addr1','card1', 'card2', 'card3','card5', 'addr2']]"
   ]
  },
  {
   "cell_type": "code",
   "execution_count": 66,
   "metadata": {},
   "outputs": [],
   "source": [
    "# towork='addr2'\n",
    "# # fig, ax = plt.subplots(figsize=(15,5))\n",
    "# # sns.countplot(trainTranscation[towork].fillna(0))\n",
    "# # sns.countplot(trainIdentity['id_34'].fillna(0),ax=ax)\n",
    "\n",
    "# trainTranscation['card6']=trainTranscation['card6'].apply(lambda x: defCard6(x))\n",
    "# len(pd.unique(trainTranscation[towork]))\n",
    "# list(pd.unique(trainTranscation[towork]))"
   ]
  },
  {
   "cell_type": "code",
   "execution_count": 67,
   "metadata": {},
   "outputs": [
    {
     "data": {
      "text/plain": [
       "(590540, 352)"
      ]
     },
     "execution_count": 67,
     "metadata": {},
     "output_type": "execute_result"
    }
   ],
   "source": [
    "processedTrainTransaction=pd.concat([toleaveTrainCombined,cateDataTrainCombined,pcaForGroupID,pcaForGroupV,pcaForGroupD,pcaForGroupC],axis=1)\n",
    "processedTrainTransaction.shape"
   ]
  },
  {
   "cell_type": "code",
   "execution_count": 68,
   "metadata": {},
   "outputs": [],
   "source": [
    "tempTimeSer=((processedTrainTransaction['TransactionDT']-86400)).map(int)\n",
    "processedTrainTransaction['transSec']=tempTimeSer%60\n",
    "processedTrainTransaction['transMin']=(tempTimeSer/60).map(int)%60\n",
    "processedTrainTransaction['transHour']=(tempTimeSer/3600).map(int)%24\n",
    "processedTrainTransaction['transMonth']=((tempTimeSer/86400)//30)+1\n",
    "processedTrainTransaction['transDay']=((tempTimeSer/86400)%30).map(int)+1"
   ]
  },
  {
   "cell_type": "code",
   "execution_count": 69,
   "metadata": {},
   "outputs": [],
   "source": [
    "del processedTrainTransaction['TransactionDT']\n",
    "del processedTrainTransaction['TransactionID']"
   ]
  },
  {
   "cell_type": "code",
   "execution_count": 70,
   "metadata": {},
   "outputs": [
    {
     "data": {
      "text/html": [
       "<div>\n",
       "<style scoped>\n",
       "    .dataframe tbody tr th:only-of-type {\n",
       "        vertical-align: middle;\n",
       "    }\n",
       "\n",
       "    .dataframe tbody tr th {\n",
       "        vertical-align: top;\n",
       "    }\n",
       "\n",
       "    .dataframe thead th {\n",
       "        text-align: right;\n",
       "    }\n",
       "</style>\n",
       "<table border=\"1\" class=\"dataframe\">\n",
       "  <thead>\n",
       "    <tr style=\"text-align: right;\">\n",
       "      <th></th>\n",
       "      <th>isFraud</th>\n",
       "      <th>addr1</th>\n",
       "      <th>card1</th>\n",
       "      <th>card2</th>\n",
       "      <th>card3</th>\n",
       "      <th>card5</th>\n",
       "      <th>addr2</th>\n",
       "      <th>TransactionAmt</th>\n",
       "      <th>DeviceType_mobile</th>\n",
       "      <th>DeviceInfo_LG Device</th>\n",
       "      <th>...</th>\n",
       "      <th>pcaD7</th>\n",
       "      <th>pcaD8</th>\n",
       "      <th>pcaD9</th>\n",
       "      <th>pcaC1</th>\n",
       "      <th>pcaC2</th>\n",
       "      <th>transSec</th>\n",
       "      <th>transMin</th>\n",
       "      <th>transHour</th>\n",
       "      <th>transMonth</th>\n",
       "      <th>transDay</th>\n",
       "    </tr>\n",
       "  </thead>\n",
       "  <tbody>\n",
       "    <tr>\n",
       "      <th>590535</th>\n",
       "      <td>0</td>\n",
       "      <td>0.974571</td>\n",
       "      <td>0.319039</td>\n",
       "      <td>0.000000</td>\n",
       "      <td>0.992082</td>\n",
       "      <td>0.998925</td>\n",
       "      <td>0.998515</td>\n",
       "      <td>49.00</td>\n",
       "      <td>0</td>\n",
       "      <td>0</td>\n",
       "      <td>...</td>\n",
       "      <td>0.309300</td>\n",
       "      <td>0.268705</td>\n",
       "      <td>-0.281415</td>\n",
       "      <td>-0.320605</td>\n",
       "      <td>-0.265991</td>\n",
       "      <td>27</td>\n",
       "      <td>57</td>\n",
       "      <td>23</td>\n",
       "      <td>7.0</td>\n",
       "      <td>2</td>\n",
       "    </tr>\n",
       "    <tr>\n",
       "      <th>590536</th>\n",
       "      <td>0</td>\n",
       "      <td>0.968118</td>\n",
       "      <td>0.542883</td>\n",
       "      <td>0.964619</td>\n",
       "      <td>0.992082</td>\n",
       "      <td>0.998730</td>\n",
       "      <td>0.998515</td>\n",
       "      <td>39.50</td>\n",
       "      <td>0</td>\n",
       "      <td>0</td>\n",
       "      <td>...</td>\n",
       "      <td>-0.452493</td>\n",
       "      <td>-0.179757</td>\n",
       "      <td>0.100485</td>\n",
       "      <td>-0.334589</td>\n",
       "      <td>-0.334193</td>\n",
       "      <td>29</td>\n",
       "      <td>57</td>\n",
       "      <td>23</td>\n",
       "      <td>7.0</td>\n",
       "      <td>2</td>\n",
       "    </tr>\n",
       "    <tr>\n",
       "      <th>590537</th>\n",
       "      <td>0</td>\n",
       "      <td>0.970680</td>\n",
       "      <td>0.634456</td>\n",
       "      <td>0.999528</td>\n",
       "      <td>0.992082</td>\n",
       "      <td>0.998730</td>\n",
       "      <td>0.998515</td>\n",
       "      <td>30.95</td>\n",
       "      <td>0</td>\n",
       "      <td>0</td>\n",
       "      <td>...</td>\n",
       "      <td>-0.452493</td>\n",
       "      <td>-0.179757</td>\n",
       "      <td>0.100485</td>\n",
       "      <td>-0.332253</td>\n",
       "      <td>-0.310536</td>\n",
       "      <td>59</td>\n",
       "      <td>57</td>\n",
       "      <td>23</td>\n",
       "      <td>7.0</td>\n",
       "      <td>2</td>\n",
       "    </tr>\n",
       "    <tr>\n",
       "      <th>590538</th>\n",
       "      <td>0</td>\n",
       "      <td>0.985482</td>\n",
       "      <td>0.392389</td>\n",
       "      <td>0.988773</td>\n",
       "      <td>0.992082</td>\n",
       "      <td>0.998730</td>\n",
       "      <td>0.998515</td>\n",
       "      <td>117.00</td>\n",
       "      <td>0</td>\n",
       "      <td>0</td>\n",
       "      <td>...</td>\n",
       "      <td>-0.081732</td>\n",
       "      <td>-0.153618</td>\n",
       "      <td>-0.036438</td>\n",
       "      <td>-0.311121</td>\n",
       "      <td>-0.286562</td>\n",
       "      <td>8</td>\n",
       "      <td>58</td>\n",
       "      <td>23</td>\n",
       "      <td>7.0</td>\n",
       "      <td>2</td>\n",
       "    </tr>\n",
       "    <tr>\n",
       "      <th>590539</th>\n",
       "      <td>0</td>\n",
       "      <td>0.977133</td>\n",
       "      <td>0.808577</td>\n",
       "      <td>0.959430</td>\n",
       "      <td>0.992082</td>\n",
       "      <td>0.986811</td>\n",
       "      <td>0.998515</td>\n",
       "      <td>279.95</td>\n",
       "      <td>0</td>\n",
       "      <td>0</td>\n",
       "      <td>...</td>\n",
       "      <td>-0.604862</td>\n",
       "      <td>-0.470756</td>\n",
       "      <td>0.218310</td>\n",
       "      <td>-0.326218</td>\n",
       "      <td>-0.274053</td>\n",
       "      <td>51</td>\n",
       "      <td>58</td>\n",
       "      <td>23</td>\n",
       "      <td>7.0</td>\n",
       "      <td>2</td>\n",
       "    </tr>\n",
       "  </tbody>\n",
       "</table>\n",
       "<p>5 rows × 355 columns</p>\n",
       "</div>"
      ],
      "text/plain": [
       "        isFraud     addr1     card1     card2     card3     card5     addr2  \\\n",
       "590535        0  0.974571  0.319039  0.000000  0.992082  0.998925  0.998515   \n",
       "590536        0  0.968118  0.542883  0.964619  0.992082  0.998730  0.998515   \n",
       "590537        0  0.970680  0.634456  0.999528  0.992082  0.998730  0.998515   \n",
       "590538        0  0.985482  0.392389  0.988773  0.992082  0.998730  0.998515   \n",
       "590539        0  0.977133  0.808577  0.959430  0.992082  0.986811  0.998515   \n",
       "\n",
       "        TransactionAmt  DeviceType_mobile  DeviceInfo_LG Device  ...  \\\n",
       "590535           49.00                  0                     0  ...   \n",
       "590536           39.50                  0                     0  ...   \n",
       "590537           30.95                  0                     0  ...   \n",
       "590538          117.00                  0                     0  ...   \n",
       "590539          279.95                  0                     0  ...   \n",
       "\n",
       "           pcaD7     pcaD8     pcaD9     pcaC1     pcaC2  transSec  transMin  \\\n",
       "590535  0.309300  0.268705 -0.281415 -0.320605 -0.265991        27        57   \n",
       "590536 -0.452493 -0.179757  0.100485 -0.334589 -0.334193        29        57   \n",
       "590537 -0.452493 -0.179757  0.100485 -0.332253 -0.310536        59        57   \n",
       "590538 -0.081732 -0.153618 -0.036438 -0.311121 -0.286562         8        58   \n",
       "590539 -0.604862 -0.470756  0.218310 -0.326218 -0.274053        51        58   \n",
       "\n",
       "        transHour  transMonth  transDay  \n",
       "590535         23         7.0         2  \n",
       "590536         23         7.0         2  \n",
       "590537         23         7.0         2  \n",
       "590538         23         7.0         2  \n",
       "590539         23         7.0         2  \n",
       "\n",
       "[5 rows x 355 columns]"
      ]
     },
     "execution_count": 70,
     "metadata": {},
     "output_type": "execute_result"
    }
   ],
   "source": [
    "processedTrainTransaction.tail()"
   ]
  },
  {
   "cell_type": "code",
   "execution_count": 71,
   "metadata": {},
   "outputs": [],
   "source": [
    "# sns.countplot(processedTrainTransaction['isFraud'])\n",
    "# # sns.countplot(processedTrainTransaction['transMonth'],hue=processedTrainTransaction['isFraud'])\n",
    "\n",
    "# # sns.countplot(processedTrainTransaction['transMonth'])\n",
    "# sns.countplot(processedTrainTransaction['transMonth'],hue=processedTrainTransaction['isFraud'])\n",
    "\n",
    "# # sns.countplot(processedTrainTransaction['transDay'])\n",
    "# sns.countplot(processedTrainTransaction['transDay'],hue=processedTrainTransaction['isFraud'])\n",
    "\n",
    "# # sns.countplot(processedTrainTransaction['transHour'])\n",
    "# sns.countplot(processedTrainTransaction['transHour'],hue=processedTrainTransaction['isFraud'])"
   ]
  },
  {
   "cell_type": "code",
   "execution_count": 72,
   "metadata": {},
   "outputs": [],
   "source": [
    "# sns.countplot(processedTrainTransaction['transMin'])"
   ]
  },
  {
   "cell_type": "code",
   "execution_count": 73,
   "metadata": {},
   "outputs": [],
   "source": [
    "# sns.countplot(processedTrainTransaction['transSec'])"
   ]
  },
  {
   "cell_type": "code",
   "execution_count": 74,
   "metadata": {},
   "outputs": [],
   "source": [
    "target='isFraud'\n",
    "toUseCol=list(processedTrainTransaction.columns)\n",
    "toUseCol.remove(target)"
   ]
  },
  {
   "cell_type": "code",
   "execution_count": 75,
   "metadata": {},
   "outputs": [
    {
     "data": {
      "text/plain": [
       "(354, 354)"
      ]
     },
     "execution_count": 75,
     "metadata": {},
     "output_type": "execute_result"
    }
   ],
   "source": [
    "from collections import Counter \n",
    "Counter(toUseCol)\n",
    "\n",
    "len(toUseCol),len(set(toUseCol))"
   ]
  },
  {
   "cell_type": "code",
   "execution_count": 77,
   "metadata": {},
   "outputs": [
    {
     "data": {
      "text/plain": [
       "((498113, 355), (92427, 355))"
      ]
     },
     "execution_count": 77,
     "metadata": {},
     "output_type": "execute_result"
    }
   ],
   "source": [
    "trainPart=processedTrainTransaction[processedTrainTransaction['transMonth']<=5]\n",
    "# valPart=processedTrainTransaction[processedTrainTransaction['transMonth']==5]\n",
    "testPart=processedTrainTransaction[processedTrainTransaction['transMonth']>5]\n",
    "trainPart.shape,testPart.shape#,valPart.shape"
   ]
  },
  {
   "cell_type": "code",
   "execution_count": 78,
   "metadata": {},
   "outputs": [],
   "source": [
    "from sklearn import ensemble,metrics\n",
    "import xgboost as xgb"
   ]
  },
  {
   "cell_type": "code",
   "execution_count": 79,
   "metadata": {},
   "outputs": [
    {
     "data": {
      "text/plain": [
       "TimeSeriesSplit(max_train_size=None, n_splits=5)"
      ]
     },
     "execution_count": 79,
     "metadata": {},
     "output_type": "execute_result"
    }
   ],
   "source": [
    "import numpy as np\n",
    "from sklearn.model_selection import TimeSeriesSplit\n",
    "X = trainPart[toUseCol]\n",
    "y = trainPart[target]\n",
    "tscv = TimeSeriesSplit(n_splits=5)\n",
    "tscv"
   ]
  },
  {
   "cell_type": "code",
   "execution_count": 80,
   "metadata": {},
   "outputs": [
    {
     "name": "stdout",
     "output_type": "stream",
     "text": [
      "TRAIN: (83023,) TEST: (83018,)\n",
      "ROC AUC 0.8732250087610154\n",
      "TRAIN: (166041,) TEST: (83018,)\n",
      "ROC AUC 0.86290466960646\n",
      "TRAIN: (249059,) TEST: (83018,)\n",
      "ROC AUC 0.8741850771916289\n",
      "TRAIN: (332077,) TEST: (83018,)\n",
      "ROC AUC 0.8732050994607439\n",
      "TRAIN: (415095,) TEST: (83018,)\n",
      "ROC AUC 0.8591511940088825\n"
     ]
    }
   ],
   "source": [
    "clfList=[]\n",
    "scoreList=[]\n",
    "for train_index, test_index in tscv.split(X):\n",
    "    print(\"TRAIN:\", train_index.shape, \"TEST:\", test_index.shape)\n",
    "    X_train, X_test = X.iloc[train_index], X.iloc[test_index]\n",
    "    y_train, y_test = y.iloc[train_index], y.iloc[test_index]\n",
    "    \n",
    "    params = {\"objective\":\"binary:logistic\",'colsample_bytree': 0.3,'learning_rate': 0.1,\n",
    "                'max_depth': 5, 'alpha': 10,'max_depth': 2}\n",
    "    \n",
    "    clf = xgb.XGBClassifier(\n",
    "        n_estimators=300, random_state=4,\n",
    "#         tree_method='gpu_hist',\n",
    "        **params\n",
    "    )\n",
    "    \n",
    "    clf.fit(X_train, y_train)\n",
    "    \n",
    "    y_pred_train = clf.predict_proba(X_test)[:,1]\n",
    "    score = metrics.roc_auc_score(y_test, y_pred_train)\n",
    "    clfList.append(clf)\n",
    "    scoreList.append(y_pred_train)\n",
    "    print(f'ROC AUC {score}')"
   ]
  },
  {
   "cell_type": "code",
   "execution_count": 81,
   "metadata": {},
   "outputs": [],
   "source": [
    "scoreNewMean=pd.DataFrame(scoreList).transpose().mean(axis=1)"
   ]
  },
  {
   "cell_type": "code",
   "execution_count": 82,
   "metadata": {
    "scrolled": true
   },
   "outputs": [
    {
     "data": {
      "text/plain": [
       "array([0.00978512, 0.97844803, 0.03567712, ..., 0.00565478, 0.01259616,\n",
       "       0.00455979], dtype=float32)"
      ]
     },
     "execution_count": 82,
     "metadata": {},
     "output_type": "execute_result"
    }
   ],
   "source": [
    "y_pred_train"
   ]
  },
  {
   "cell_type": "code",
   "execution_count": 83,
   "metadata": {},
   "outputs": [
    {
     "data": {
      "text/plain": [
       "0.7613150724952066"
      ]
     },
     "execution_count": 83,
     "metadata": {},
     "output_type": "execute_result"
    }
   ],
   "source": [
    "metrics.roc_auc_score( y_test,scoreNewMean)"
   ]
  },
  {
   "cell_type": "code",
   "execution_count": 84,
   "metadata": {},
   "outputs": [],
   "source": [
    "testScoreList=[]\n",
    "for mo in clfList:\n",
    "    scr=mo.predict_proba(testPart[toUseCol])[:,1]\n",
    "    testScoreList.append(scr)"
   ]
  },
  {
   "cell_type": "code",
   "execution_count": 85,
   "metadata": {},
   "outputs": [],
   "source": [
    "scoreTestNewMean=pd.DataFrame(testScoreList).transpose().mean(axis=1)"
   ]
  },
  {
   "cell_type": "code",
   "execution_count": 86,
   "metadata": {},
   "outputs": [
    {
     "data": {
      "text/plain": [
       "0.8584773041340792"
      ]
     },
     "execution_count": 86,
     "metadata": {},
     "output_type": "execute_result"
    }
   ],
   "source": [
    "metrics.roc_auc_score( testPart[target],scoreTestNewMean)"
   ]
  },
  {
   "cell_type": "code",
   "execution_count": null,
   "metadata": {},
   "outputs": [],
   "source": []
  },
  {
   "cell_type": "code",
   "execution_count": null,
   "metadata": {
    "scrolled": true
   },
   "outputs": [],
   "source": [
    "# lgb_params = {\n",
    "#         'boosting_type': 'gbdt',\n",
    "#         'objective': 'binary',\n",
    "# #         'metric':metrics,\n",
    "#         'learning_rate': 0.01,\n",
    "#         #'is_unbalance': 'true',  #because training data is unbalance (replaced with scale_pos_weight)\n",
    "#         'num_leaves': 31,  # we should let it be smaller than 2^(max_depth)\n",
    "#         'max_depth': -1,  # -1 means no limit\n",
    "#         'min_child_samples': 20,  # Minimum number of data need in a child(min_data_in_leaf)\n",
    "#         'max_bin': 255,  # Number of bucketed bin for feature values\n",
    "#         'subsample': 0.6,  # Subsample ratio of the training instance.\n",
    "#         'subsample_freq': 0,  # frequence of subsample, <=0 means no enable\n",
    "#         'colsample_bytree': 0.3,  # Subsample ratio of columns when constructing each tree.\n",
    "#         'min_child_weight': 5,  # Minimum sum of instance weight(hessian) needed in a child(leaf)\n",
    "#         'subsample_for_bin': 200000,  # Number of samples for constructing bin\n",
    "#         'min_split_gain': 0,  # lambda_l1, lambda_l2 and min_gain_to_split to regularization\n",
    "#         'reg_alpha': 0,  # L1 regularization term on weights\n",
    "#         'reg_lambda': 0,  # L2 regularization term on weights\n",
    "#         'nthread': 4,\n",
    "#         'verbose': 0,\n",
    "#         'metric':'auc'\n",
    "#     }\n",
    "\n",
    "# num_boost_round=3000\n",
    "# early_stopping_rounds=10\n",
    "\n",
    "# model3 = lgb.train(lgb_params, \n",
    "#                      trainData, \n",
    "#                      valid_sets=[trainData, valData], \n",
    "#                    valid_names=['train','valid'],\n",
    "# #                      evals_result=evals_results, \n",
    "#                      num_boost_round=num_boost_round,\n",
    "#                      early_stopping_rounds=early_stopping_rounds,\n",
    "#                      verbose_eval=10)"
   ]
  },
  {
   "cell_type": "code",
   "execution_count": null,
   "metadata": {},
   "outputs": [],
   "source": [
    "predTrain3=bst.predict(trainPart[toUseCol])\n",
    "scoreOftrain3=metrics.roc_auc_score(trainPart[target],predTrain3)\n",
    "valPred3=bst.predict(valPart[toUseCol])\n",
    "scoreOfVal3=metrics.roc_auc_score(valPart[target],valPred3)\n",
    "testPred3=bst.predict(testPart[toUseCol])\n",
    "scoreOfTest3=metrics.roc_auc_score(testPart[target],testPred3)\n",
    "print('ROC AUC for train {} and for validation {} for test {}'.format(scoreOftrain3,scoreOfVal3,scoreOfTest3))"
   ]
  },
  {
   "cell_type": "code",
   "execution_count": null,
   "metadata": {},
   "outputs": [],
   "source": [
    "# ROC AUC for train 0.9543954336563735 and for validation 0.9114576197806739 for test 0.9040375652381945"
   ]
  }
 ],
 "metadata": {
  "kernelspec": {
   "display_name": "Python 3",
   "language": "python",
   "name": "python3"
  },
  "language_info": {
   "codemirror_mode": {
    "name": "ipython",
    "version": 3
   },
   "file_extension": ".py",
   "mimetype": "text/x-python",
   "name": "python",
   "nbconvert_exporter": "python",
   "pygments_lexer": "ipython3",
   "version": "3.6.8"
  }
 },
 "nbformat": 4,
 "nbformat_minor": 2
}
