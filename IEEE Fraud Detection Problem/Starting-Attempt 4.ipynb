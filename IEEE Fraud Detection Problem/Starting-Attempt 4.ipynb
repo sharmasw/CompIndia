{
 "cells": [
  {
   "cell_type": "code",
   "execution_count": 1,
   "metadata": {},
   "outputs": [],
   "source": [
    "import pandas as pd\n",
    "import numpy as np\n",
    "from sklearn import ensemble,metrics,cross_decomposition,linear_model,model_selection\n",
    "import os\n",
    "import seaborn as sns\n",
    "import matplotlib.pyplot as plt\n",
    "%matplotlib inline\n",
    "import warnings\n",
    "warnings.filterwarnings('ignore')"
   ]
  },
  {
   "cell_type": "code",
   "execution_count": 2,
   "metadata": {},
   "outputs": [
    {
     "data": {
      "text/plain": [
       "((144233, 41), (590540, 394))"
      ]
     },
     "execution_count": 2,
     "metadata": {},
     "output_type": "execute_result"
    }
   ],
   "source": [
    "trainIdentity=pd.read_csv('train_identity.csv')\n",
    "trainTranscation=pd.read_csv('train_transaction.csv')\n",
    "trainIdentity.shape,trainTranscation.shape"
   ]
  },
  {
   "cell_type": "code",
   "execution_count": 3,
   "metadata": {},
   "outputs": [],
   "source": [
    "combinedData=pd.merge(left=trainTranscation,right=trainIdentity,on='TransactionID',how='left')"
   ]
  },
  {
   "cell_type": "code",
   "execution_count": 4,
   "metadata": {},
   "outputs": [],
   "source": [
    "# from sklearn import preprocessing\n",
    "# preQua=preprocessing.quantile_transform(combinedData[['TransactionAmt']])\n",
    "# sns.distplot(preQua)"
   ]
  },
  {
   "cell_type": "code",
   "execution_count": 5,
   "metadata": {},
   "outputs": [],
   "source": [
    "# combinedData['TransactionAmt']=pd.cut(preQua.reshape(preQua.shape[0],),bins=[0, .1,.2,.3,.4,.5,.6,.7,.8,.9,1],\n",
    "#                      labels=['A','B','C','D','E','F','G','H','I','J'])\n",
    "\n",
    "# # sns.countplot(processedTrainTransaction['TransactionAmt'])\n",
    "# sns.countplot(combinedData['TransactionAmt'],hue=combinedData['isFraud'])"
   ]
  },
  {
   "cell_type": "code",
   "execution_count": 6,
   "metadata": {},
   "outputs": [],
   "source": [
    "# toleaveTrainCombined[['addr1','card1', 'card2', 'card3','card5', 'addr2']]"
   ]
  },
  {
   "cell_type": "code",
   "execution_count": null,
   "metadata": {},
   "outputs": [],
   "source": []
  },
  {
   "cell_type": "code",
   "execution_count": 7,
   "metadata": {},
   "outputs": [],
   "source": [
    "# preQua1=preprocessing.quantile_transform(combinedData[['addr1']].fillna(combinedData[['addr1']].mean()))\n",
    "# sns.distplot(preQua1)\n",
    "\n",
    "# combinedData['addr1']=pd.cut(preQua1.reshape(preQua1.shape[0],),bins=[0, .1,.2,.3,.4,.5,.6,.7,.8,.9,1],\n",
    "#                      labels=['A','B','C','D','E','F','G','H','I','J'])\n",
    "\n",
    "# # sns.countplot(processedTrainTransaction['TransactionAmt'])\n",
    "# sns.countplot(combinedData['addr1'],hue=combinedData['isFraud'])"
   ]
  },
  {
   "cell_type": "code",
   "execution_count": 8,
   "metadata": {},
   "outputs": [],
   "source": [
    "# preQua2=preprocessing.quantile_transform(combinedData[['card1']].fillna(combinedData[['card1']].mean()))\n",
    "# sns.distplot(preQua2)\n",
    "\n",
    "# combinedData['card1']=pd.cut(preQua2.reshape(preQua2.shape[0],),bins=[0, .1,.2,.3,.4,.5,.6,.7,.8,.9,1],\n",
    "#                      labels=['A','B','C','D','E','F','G','H','I','J'])\n",
    "\n",
    "# # sns.countplot(processedTrainTransaction['TransactionAmt'])\n",
    "# sns.countplot(combinedData['card1'],hue=combinedData['isFraud'])"
   ]
  },
  {
   "cell_type": "code",
   "execution_count": 9,
   "metadata": {},
   "outputs": [],
   "source": [
    "# preQua3=preprocessing.quantile_transform(combinedData[['card2']].fillna(combinedData[['card2']].mean()))\n",
    "# sns.distplot(preQua)\n",
    "\n",
    "# combinedData['card2']=pd.cut(preQua3.reshape(preQua3.shape[0],),bins=[0, .1,.2,.3,.4,.5,.6,.7,.8,.9,1],\n",
    "#                      labels=['A','B','C','D','E','F','G','H','I','J'])\n",
    "\n",
    "# # sns.countplot(processedTrainTransaction['TransactionAmt'])\n",
    "# sns.countplot(combinedData['card2'],hue=combinedData['isFraud'])"
   ]
  },
  {
   "cell_type": "code",
   "execution_count": 10,
   "metadata": {},
   "outputs": [],
   "source": [
    "# preQua4=preprocessing.quantile_transform(combinedData[['card3']].fillna(combinedData[['card3']].mean()))\n",
    "# sns.distplot(preQua4)\n",
    "\n",
    "# combinedData['card3']=pd.cut(preQua4.reshape(preQua4.shape[0],),bins=[0, .1,.2,.3,.4,.5,.6,.7,.8,.9,1],\n",
    "#                      labels=['A','B','C','D','E','F','G','H','I','J'])\n",
    "\n",
    "# # sns.countplot(processedTrainTransaction['TransactionAmt'])\n",
    "# sns.countplot(combinedData['card3'],hue=combinedData['isFraud'])"
   ]
  },
  {
   "cell_type": "code",
   "execution_count": 11,
   "metadata": {},
   "outputs": [],
   "source": [
    "# preQua5=preprocessing.quantile_transform(combinedData[['card5']].fillna(combinedData[['card5']].mean()))\n",
    "# sns.distplot(preQua5)\n",
    "\n",
    "# combinedData['card5']=pd.cut(preQua5.reshape(preQua5.shape[0],),bins=[0, .1,.2,.3,.4,.5,.6,.7,.8,.9,1],\n",
    "#                      labels=['A','B','C','D','E','F','G','H','I','J'])\n",
    "\n",
    "# # sns.countplot(processedTrainTransaction['TransactionAmt'])\n",
    "# sns.countplot(combinedData['card5'],hue=combinedData['isFraud'])"
   ]
  },
  {
   "cell_type": "code",
   "execution_count": 12,
   "metadata": {},
   "outputs": [],
   "source": [
    "# preQua6=preprocessing.quantile_transform(combinedData[['addr2']].fillna(combinedData[['addr2']].mean()))\n",
    "# sns.distplot(preQua6)\n",
    "\n",
    "# combinedData['addr2']=pd.cut(preQua6.reshape(preQua6.shape[0],),bins=[0, .1,.2,.3,.4,.5,.6,.7,.8,.9,1],\n",
    "#                      labels=['A','B','C','D','E','F','G','H','I','J'])\n",
    "\n",
    "# # sns.countplot(processedTrainTransaction['TransactionAmt'])\n",
    "# sns.countplot(combinedData['addr2'],hue=combinedData['isFraud'])"
   ]
  },
  {
   "cell_type": "code",
   "execution_count": 13,
   "metadata": {},
   "outputs": [],
   "source": [
    "# sns.countplot(combinedData['ProductCD'],hue=combinedData['isFraud'])"
   ]
  },
  {
   "cell_type": "code",
   "execution_count": 14,
   "metadata": {},
   "outputs": [],
   "source": [
    "categoricalCombinedData=['DeviceType','DeviceInfo']+['id_'+str(i) for i in range(12,39)]+\\\n",
    "                        ['M'+str(i) for i in range(1,10)]+\\\n",
    "                        ['ProductCD','P_emaildomain', 'R_emaildomain','CountryDomain','card4', 'card6',]#+\\\n",
    "                        #+['addr1','card1', 'card2', 'card3','card5', 'addr2']"
   ]
  },
  {
   "cell_type": "code",
   "execution_count": 15,
   "metadata": {},
   "outputs": [],
   "source": [
    "leaveCols=['TransactionID', 'isFraud', 'TransactionDT']+\\\n",
    "            ['C'+str(i) for i in range(1,15)]+\\\n",
    "            ['D'+str(i) for i in range(1,16)]+\\\n",
    "            ['V'+str(i) for i in range(1,340)]+\\\n",
    "            ['addr1','card1', 'card2', 'card3','card5', 'addr2']+\\\n",
    "            [ 'TransactionAmt',]\n",
    "            \n",
    "# tonormalize=['addr1','card1', 'card2', 'card3','card5', 'addr2']"
   ]
  },
  {
   "cell_type": "code",
   "execution_count": 16,
   "metadata": {},
   "outputs": [],
   "source": [
    "def screenReso(xRes):\n",
    "    if str(xRes) == 'nan':\n",
    "        return ('No info')\n",
    "    else:\n",
    "        widVal=int(xRes.split('x')[0])\n",
    "        if widVal <=850:\n",
    "            return ('Small Screen')\n",
    "        elif widVal <=2050:\n",
    "            return ('Med Screen')\n",
    "        elif widVal <=2250:\n",
    "            return ('2K Screen')\n",
    "        elif widVal > 2250:\n",
    "            return ('4K Screen')"
   ]
  },
  {
   "cell_type": "code",
   "execution_count": 17,
   "metadata": {},
   "outputs": [],
   "source": [
    "def browserDef(brRec):\n",
    "    if str(brRec)=='nan':\n",
    "        return 'other'\n",
    "    else:\n",
    "        if 'samsung' in brRec:\n",
    "            return 'Samsung Browser'\n",
    "        elif 'mobile safari' in brRec:\n",
    "            return 'Mobile Safari'\n",
    "        elif 'chrome' in brRec:\n",
    "            return 'Chrome Browser'\n",
    "        elif 'edge' in brRec:\n",
    "            return 'Edge Browser'\n",
    "        elif 'ie' in brRec:\n",
    "            return 'IE Browser'\n",
    "        elif 'firefox' in brRec:\n",
    "            return 'Firefox Browser'\n",
    "        elif 'opera' in brRec:\n",
    "            return 'Opera Browser'\n",
    "        elif ('Android' in brRec) or ('android' in brRec):\n",
    "            return 'Android Browser'\n",
    "        elif 'Mozilla' in brRec:\n",
    "            return 'Mozilla Browser'\n",
    "        elif 'safari' in brRec:\n",
    "            return 'Safari  Browser'\n",
    "        elif 'google' in brRec:\n",
    "            return 'Google Browser'\n",
    "        else:\n",
    "            return brRec"
   ]
  },
  {
   "cell_type": "code",
   "execution_count": 18,
   "metadata": {},
   "outputs": [],
   "source": [
    "def deviceDef(brRec):\n",
    "    if str(brRec)=='nan':\n",
    "        return 'other'\n",
    "    else:\n",
    "        if 'Android' in brRec:\n",
    "            return 'Android Device'\n",
    "        elif 'iOS' in brRec:\n",
    "            return 'iOS Device'\n",
    "        elif 'Windows' in brRec:\n",
    "            return 'Windows Device'\n",
    "        elif 'Mac' in brRec:\n",
    "            return 'Mac OS Device'\n",
    "        else:\n",
    "            return brRec"
   ]
  },
  {
   "cell_type": "code",
   "execution_count": 19,
   "metadata": {},
   "outputs": [],
   "source": [
    "def numDef(brRec):\n",
    "    if str(brRec)=='nan':\n",
    "        return 'other'\n",
    "    else:\n",
    "        if brRec < 120:\n",
    "            return (' Less than 120')\n",
    "        elif brRec < 140:\n",
    "            return (' Less than 140')\n",
    "        elif brRec < 160:\n",
    "            return (' Less than 160')\n",
    "        elif brRec < 180:\n",
    "            return (' Less than 180')\n",
    "        elif brRec < 200:\n",
    "            return (' Less than 200')\n",
    "        elif brRec > 200:\n",
    "            return (' Greater than 140')\n",
    "        else:\n",
    "            return 'other'"
   ]
  },
  {
   "cell_type": "code",
   "execution_count": 20,
   "metadata": {},
   "outputs": [],
   "source": [
    "def numDef25(brRec):\n",
    "    if str(brRec)=='nan':\n",
    "        return 'other'\n",
    "    else:\n",
    "        if brRec < 150:\n",
    "            return (' Less than 150')\n",
    "        elif brRec < 200:\n",
    "            return (' Less than 200')\n",
    "        elif brRec < 250:\n",
    "            return (' Less than 250')\n",
    "        elif brRec < 300:\n",
    "            return (' Less than 300')\n",
    "        elif brRec < 400:\n",
    "            return (' Less than 400')\n",
    "        elif brRec > 400:\n",
    "            return (' Greater than 400')\n",
    "        else:\n",
    "            return 'other'"
   ]
  },
  {
   "cell_type": "code",
   "execution_count": 21,
   "metadata": {},
   "outputs": [],
   "source": [
    "def numDef21(brRec):\n",
    "    if str(brRec)=='nan':\n",
    "        return 'other'\n",
    "    else:\n",
    "        if brRec < 150:\n",
    "            return (' Less than 150')\n",
    "        elif brRec < 200:\n",
    "            return (' Less than 200')\n",
    "        elif brRec < 300:\n",
    "            return (' Less than 300')\n",
    "        elif brRec < 400:\n",
    "            return (' Less than 400')\n",
    "        elif brRec < 600:\n",
    "            return (' Less than 600')\n",
    "        elif brRec > 600:\n",
    "            return (' Greater than 600')\n",
    "        else:\n",
    "            return 'other'"
   ]
  },
  {
   "cell_type": "code",
   "execution_count": 22,
   "metadata": {},
   "outputs": [],
   "source": [
    "def numDef13(brRec):\n",
    "    if str(brRec)=='nan':\n",
    "        return 'other'\n",
    "    else:\n",
    "        if brRec < 20:\n",
    "            return (' Less than 20')\n",
    "        elif brRec < 40:\n",
    "            return (' Less than 40')\n",
    "        elif brRec < 60:\n",
    "            return (' Less than 60')\n",
    "        elif brRec < 80:\n",
    "            return (' Less than 80')\n",
    "        elif brRec > 80:\n",
    "            return (' Greater than 80')\n",
    "        else:\n",
    "            return 'other'"
   ]
  },
  {
   "cell_type": "code",
   "execution_count": 23,
   "metadata": {},
   "outputs": [],
   "source": [
    "def deviceInfoDef(brRec):\n",
    "    if str(brRec)=='nan':\n",
    "        return 'Other'\n",
    "    else:\n",
    "        if ('SAMSUNG' in brRec) or ('SM' in brRec) or ('GT' in brRec):\n",
    "            return 'SAMSUNG Device'\n",
    "        elif 'iOS' in brRec:\n",
    "            return 'iOS Device'\n",
    "        elif 'Windows' in brRec:\n",
    "            return 'Windows Device'\n",
    "        elif 'LG' in brRec:\n",
    "            return 'LG Device'\n",
    "        elif 'HUAWEI' in brRec:\n",
    "            return 'HUAWEI Device'\n",
    "        elif 'MacOS' in brRec:\n",
    "            return 'MacOS Device'\n",
    "#         elif 'Lenovo' in brRec:\n",
    "#             return 'Lenovo Device'\n",
    "#         elif 'Redmi' in brRec:\n",
    "#             return 'Redmi Device'\n",
    "        elif ('Moto' in brRec) or ('moto' in brRec):\n",
    "            return 'Moto Device'\n",
    "        elif ('Nexus' in brRec) or ('Pixel' in brRec):\n",
    "            return 'MacOS Device'\n",
    "#         elif 'HTC' in brRec:\n",
    "#             return 'HTC Device'\n",
    "#         elif 'Android' in brRec:\n",
    "#             return 'Android Device'\n",
    "#         elif 'Blade' in brRec:\n",
    "#             return 'Blade Device'\n",
    "#         elif ('Nokia' in brRec) or ('NOKIA' in brRec):\n",
    "#             return 'Nokia Device'\n",
    "#         elif ('ASUS' in brRec) or ('Asus' in brRec):\n",
    "#             return 'ASUS Device'\n",
    "        else:\n",
    "            return 'Other'"
   ]
  },
  {
   "cell_type": "code",
   "execution_count": 24,
   "metadata": {},
   "outputs": [],
   "source": [
    "def numDef14(brRec):\n",
    "    if str(brRec)=='nan':\n",
    "        return 'other'\n",
    "    else:\n",
    "        if brRec < -470:\n",
    "            return (' Less than -470')\n",
    "        elif brRec < -290:\n",
    "            return (' Less than -290')\n",
    "        elif brRec < 1:\n",
    "            return (' Less than 1')\n",
    "        elif brRec < 60:\n",
    "            return (' Less than 60')\n",
    "        elif brRec > 60:\n",
    "            return (' Greater than 60')\n",
    "        else:\n",
    "            return 'other'"
   ]
  },
  {
   "cell_type": "code",
   "execution_count": 25,
   "metadata": {},
   "outputs": [],
   "source": [
    "def numDef22(brRec):\n",
    "    if str(brRec)=='nan':\n",
    "        return 'other'\n",
    "    else:\n",
    "        if brRec < 10:\n",
    "            return ('Less than 10')\n",
    "        else:\n",
    "            return ('Greater than 10')"
   ]
  },
  {
   "cell_type": "code",
   "execution_count": 26,
   "metadata": {},
   "outputs": [],
   "source": [
    "def numDef24(brRec):\n",
    "    if str(brRec)=='nan':\n",
    "        return 'other'\n",
    "    else:\n",
    "        if brRec < 12:\n",
    "            return ('Less than 12')\n",
    "        else:\n",
    "            return ('Greater than 12')"
   ]
  },
  {
   "cell_type": "code",
   "execution_count": 27,
   "metadata": {},
   "outputs": [],
   "source": [
    "def numDef18(brRec):\n",
    "    if str(brRec)=='nan':\n",
    "        return 'other'\n",
    "    else:\n",
    "        if brRec < 14:\n",
    "            return ('Less than 14')\n",
    "        else:\n",
    "            return ('Greater than 14')"
   ]
  },
  {
   "cell_type": "code",
   "execution_count": 28,
   "metadata": {},
   "outputs": [],
   "source": [
    "def numDef32(brRec):\n",
    "    if str(brRec)=='nan':\n",
    "        return 'other'\n",
    "    else:\n",
    "        return (int(brRec))"
   ]
  },
  {
   "cell_type": "code",
   "execution_count": 29,
   "metadata": {},
   "outputs": [],
   "source": [
    "def defGetCountryFromDomain(brRec):\n",
    "    if str(brRec)=='nan':\n",
    "        return 'Other'\n",
    "    else:\n",
    "        if ('.mx' in brRec):\n",
    "            return 'Mexico email'\n",
    "        elif '.jp' in brRec:\n",
    "            return 'Japan email'\n",
    "        elif '.uk' in brRec:\n",
    "            return 'UK email'\n",
    "        elif '.de' in brRec:\n",
    "            return 'Germany email'\n",
    "        elif '.es' in brRec:\n",
    "            return 'Spain email'\n",
    "        elif '.fr' in brRec:\n",
    "            return 'France email'\n",
    "        elif '.com' in brRec:\n",
    "            return 'Global email'\n",
    "        elif '.net' in brRec:\n",
    "            return 'Net email'\n",
    "        else:\n",
    "            return 'Other'"
   ]
  },
  {
   "cell_type": "code",
   "execution_count": 30,
   "metadata": {},
   "outputs": [],
   "source": [
    "def defCard6(brRec):\n",
    "    if str(brRec)=='nan':\n",
    "        return 'Other'\n",
    "    else:\n",
    "        if ('debit or credit' in brRec):\n",
    "            return 'debit'\n",
    "        else:\n",
    "            return (brRec)"
   ]
  },
  {
   "cell_type": "code",
   "execution_count": 31,
   "metadata": {},
   "outputs": [],
   "source": [
    "combinedData['id_33']=combinedData['id_33'].apply(lambda x: screenReso(x))\n",
    "combinedData['id_31']=combinedData['id_31'].apply(lambda x: browserDef(x))\n",
    "combinedData['id_30']=combinedData['id_30'].apply(lambda x: deviceDef(x))\n",
    "combinedData['id_26']=combinedData['id_26'].apply(lambda x: numDef(x))\n",
    "combinedData['id_25']=combinedData['id_25'].apply(lambda x: numDef25(x))\n",
    "combinedData['id_21']=combinedData['id_21'].apply(lambda x: numDef21(x))\n",
    "combinedData['id_20']=combinedData['id_20'].apply(lambda x: numDef21(x))\n",
    "combinedData['id_19']=combinedData['id_19'].apply(lambda x: numDef21(x))\n",
    "combinedData['id_17']=combinedData['id_17'].apply(lambda x: numDef(x))\n",
    "combinedData['id_13']=combinedData['id_13'].apply(lambda x: numDef13(x))\n",
    "combinedData['DeviceInfo']=combinedData['DeviceInfo'].apply(lambda x: deviceInfoDef(x))\n",
    "combinedData['id_14']=combinedData['id_14'].apply(lambda x: numDef14(x))\n",
    "combinedData['id_22']=combinedData['id_22'].apply(lambda x: numDef22(x))\n",
    "combinedData['id_24']=combinedData['id_24'].apply(lambda x: numDef24(x))\n",
    "combinedData['id_18']=combinedData['id_18'].apply(lambda x: numDef18(x))\n",
    "combinedData['id_32']=combinedData['id_32'].apply(lambda x: numDef32(x))\n",
    "\n",
    "combinedData['CountryDomain']=combinedData['P_emaildomain'].apply(lambda x: defGetCountryFromDomain(x))\n",
    "combinedData['R_emaildomain']=combinedData['R_emaildomain'].fillna('Other')\n",
    "combinedData['P_emaildomain']=combinedData['P_emaildomain'].fillna('Other')\n",
    "combinedData['card4']=combinedData['card4'].fillna('Other')\n",
    "combinedData['card6']=combinedData['card6'].apply(lambda x: defCard6(x))"
   ]
  },
  {
   "cell_type": "code",
   "execution_count": 32,
   "metadata": {
    "scrolled": true
   },
   "outputs": [
    {
     "name": "stdout",
     "output_type": "stream",
     "text": [
      ">>>>>>>>>>> 00DeviceType >>>> 3\n",
      ">>>>>>>>>>> 00DeviceInfo >>>> 8\n",
      ">>>>>>>>>>> 0000000id_12 >>>> 3\n",
      ">>>>>>>>>>> 0000000id_13 >>>> 5\n",
      ">>>>>>>>>>> 0000000id_14 >>>> 5\n",
      ">>>>>>>>>>> 0000000id_15 >>>> 4\n",
      ">>>>>>>>>>> 0000000id_16 >>>> 3\n",
      ">>>>>>>>>>> 0000000id_17 >>>> 7\n",
      ">>>>>>>>>>> 0000000id_18 >>>> 3\n",
      ">>>>>>>>>>> 0000000id_19 >>>> 7\n",
      ">>>>>>>>>>> 0000000id_20 >>>> 7\n",
      ">>>>>>>>>>> 0000000id_21 >>>> 7\n",
      ">>>>>>>>>>> 0000000id_22 >>>> 2\n",
      ">>>>>>>>>>> 0000000id_23 >>>> 4\n",
      ">>>>>>>>>>> 0000000id_24 >>>> 3\n",
      ">>>>>>>>>>> 0000000id_25 >>>> 7\n",
      ">>>>>>>>>>> 0000000id_26 >>>> 7\n",
      ">>>>>>>>>>> 0000000id_27 >>>> 3\n",
      ">>>>>>>>>>> 0000000id_28 >>>> 3\n",
      ">>>>>>>>>>> 0000000id_29 >>>> 3\n",
      ">>>>>>>>>>> 0000000id_30 >>>> 7\n",
      ">>>>>>>>>>> 0000000id_31 >>>> 39\n",
      ">>>>>>>>>>> 0000000id_32 >>>> 5\n",
      ">>>>>>>>>>> 0000000id_33 >>>> 5\n",
      ">>>>>>>>>>> 0000000id_34 >>>> 5\n",
      ">>>>>>>>>>> 0000000id_35 >>>> 3\n",
      ">>>>>>>>>>> 0000000id_36 >>>> 3\n",
      ">>>>>>>>>>> 0000000id_37 >>>> 3\n",
      ">>>>>>>>>>> 0000000id_38 >>>> 3\n",
      ">>>>>>>>>>> 0000000000M1 >>>> 3\n",
      ">>>>>>>>>>> 0000000000M2 >>>> 3\n",
      ">>>>>>>>>>> 0000000000M3 >>>> 3\n",
      ">>>>>>>>>>> 0000000000M4 >>>> 4\n",
      ">>>>>>>>>>> 0000000000M5 >>>> 3\n",
      ">>>>>>>>>>> 0000000000M6 >>>> 3\n",
      ">>>>>>>>>>> 0000000000M7 >>>> 3\n",
      ">>>>>>>>>>> 0000000000M8 >>>> 3\n",
      ">>>>>>>>>>> 0000000000M9 >>>> 3\n",
      ">>>>>>>>>>> 000ProductCD >>>> 5\n",
      ">>>>>>>>>>> P_emaildomain >>>> 60\n",
      ">>>>>>>>>>> R_emaildomain >>>> 61\n",
      ">>>>>>>>>>> CountryDomain >>>> 9\n",
      ">>>>>>>>>>> 0000000card4 >>>> 5\n",
      ">>>>>>>>>>> 0000000card6 >>>> 4\n"
     ]
    }
   ],
   "source": [
    "for j in categoricalCombinedData:\n",
    "    print ('>>>>>>>>>>>',j.zfill(12),'>>>>',len(pd.unique(combinedData[j])))"
   ]
  },
  {
   "cell_type": "code",
   "execution_count": null,
   "metadata": {},
   "outputs": [],
   "source": [
    "# towork='id_18'\n",
    "# fig, ax = plt.subplots(figsize=(15,5))\n",
    "# sns.countplot(trainIdentity[towork].fillna(0))\n",
    "# # sns.countplot(trainIdentity['id_34'].fillna(0),ax=ax)\n",
    "\n",
    "# trainIdentity['id_18']=trainIdentity['id_18'].apply(lambda x: numDef18(x))\n",
    "# len(pd.unique(trainIdentity[towork]))\n",
    "# list(pd.unique(trainIdentity[towork]))"
   ]
  },
  {
   "cell_type": "code",
   "execution_count": 33,
   "metadata": {},
   "outputs": [],
   "source": [
    "cateDataTrainCombined=pd.get_dummies(combinedData[categoricalCombinedData],prefix_sep='_',drop_first='True')"
   ]
  },
  {
   "cell_type": "code",
   "execution_count": 34,
   "metadata": {},
   "outputs": [],
   "source": [
    "toleaveTrainCombined=combinedData[leaveCols].fillna(-9999)\n",
    "cateDataTrainCombined=cateDataTrainCombined.fillna('Other')"
   ]
  },
  {
   "cell_type": "code",
   "execution_count": null,
   "metadata": {},
   "outputs": [],
   "source": [
    "# proProcess1=preprocessing.MinMaxScaler()\n",
    "# toleaveTrainCombined['addr1']=proProcess1.fit_transform(toleaveTrainCombined[['addr1']])"
   ]
  },
  {
   "cell_type": "code",
   "execution_count": null,
   "metadata": {},
   "outputs": [],
   "source": [
    "# proProcess2=preprocessing.MinMaxScaler()\n",
    "# toleaveTrainCombined['card1']=proProcess2.fit_transform(toleaveTrainCombined[['card1']])"
   ]
  },
  {
   "cell_type": "code",
   "execution_count": null,
   "metadata": {},
   "outputs": [],
   "source": [
    "# proProcess3=preprocessing.MinMaxScaler()\n",
    "# toleaveTrainCombined['card2']=proProcess3.fit_transform(toleaveTrainCombined[['card2']])"
   ]
  },
  {
   "cell_type": "code",
   "execution_count": null,
   "metadata": {},
   "outputs": [],
   "source": [
    "# proProcess4=preprocessing.MinMaxScaler()\n",
    "# toleaveTrainCombined['card3']=proProcess4.fit_transform(toleaveTrainCombined[['card3']])"
   ]
  },
  {
   "cell_type": "code",
   "execution_count": null,
   "metadata": {},
   "outputs": [],
   "source": [
    "# proProcess5=preprocessing.MinMaxScaler()\n",
    "# toleaveTrainCombined['card5']=proProcess5.fit_transform(toleaveTrainCombined[['card5']])"
   ]
  },
  {
   "cell_type": "code",
   "execution_count": null,
   "metadata": {},
   "outputs": [],
   "source": [
    "# proProcess6=preprocessing.MinMaxScaler()\n",
    "# toleaveTrainCombined['addr2']=proProcess6.fit_transform(toleaveTrainCombined[['addr2']])"
   ]
  },
  {
   "cell_type": "code",
   "execution_count": null,
   "metadata": {},
   "outputs": [],
   "source": [
    "# toleaveTrainCombined[['addr1','card1', 'card2', 'card3','card5', 'addr2']]"
   ]
  },
  {
   "cell_type": "code",
   "execution_count": null,
   "metadata": {},
   "outputs": [],
   "source": [
    "# towork='addr2'\n",
    "# # fig, ax = plt.subplots(figsize=(15,5))\n",
    "# # sns.countplot(trainTranscation[towork].fillna(0))\n",
    "# # sns.countplot(trainIdentity['id_34'].fillna(0),ax=ax)\n",
    "\n",
    "# trainTranscation['card6']=trainTranscation['card6'].apply(lambda x: defCard6(x))\n",
    "# len(pd.unique(trainTranscation[towork]))\n",
    "# list(pd.unique(trainTranscation[towork]))"
   ]
  },
  {
   "cell_type": "code",
   "execution_count": 35,
   "metadata": {},
   "outputs": [
    {
     "data": {
      "text/plain": [
       "(590540, 651)"
      ]
     },
     "execution_count": 35,
     "metadata": {},
     "output_type": "execute_result"
    }
   ],
   "source": [
    "processedTrainTransaction=pd.concat([toleaveTrainCombined,cateDataTrainCombined],axis=1)\n",
    "processedTrainTransaction.shape"
   ]
  },
  {
   "cell_type": "code",
   "execution_count": 36,
   "metadata": {},
   "outputs": [],
   "source": [
    "tempTimeSer=((processedTrainTransaction['TransactionDT']-86400)).map(int)\n",
    "processedTrainTransaction['transSec']=tempTimeSer%60\n",
    "processedTrainTransaction['transMin']=(tempTimeSer/60).map(int)%60\n",
    "processedTrainTransaction['transHour']=(tempTimeSer/3600).map(int)%24\n",
    "processedTrainTransaction['transMonth']=((tempTimeSer/86400)//30)+1\n",
    "processedTrainTransaction['transDay']=((tempTimeSer/86400)%30).map(int)+1"
   ]
  },
  {
   "cell_type": "code",
   "execution_count": 37,
   "metadata": {},
   "outputs": [],
   "source": [
    "del processedTrainTransaction['TransactionDT']\n",
    "del processedTrainTransaction['TransactionID']"
   ]
  },
  {
   "cell_type": "code",
   "execution_count": 38,
   "metadata": {},
   "outputs": [
    {
     "data": {
      "text/html": [
       "<div>\n",
       "<style scoped>\n",
       "    .dataframe tbody tr th:only-of-type {\n",
       "        vertical-align: middle;\n",
       "    }\n",
       "\n",
       "    .dataframe tbody tr th {\n",
       "        vertical-align: top;\n",
       "    }\n",
       "\n",
       "    .dataframe thead th {\n",
       "        text-align: right;\n",
       "    }\n",
       "</style>\n",
       "<table border=\"1\" class=\"dataframe\">\n",
       "  <thead>\n",
       "    <tr style=\"text-align: right;\">\n",
       "      <th></th>\n",
       "      <th>isFraud</th>\n",
       "      <th>C1</th>\n",
       "      <th>C2</th>\n",
       "      <th>C3</th>\n",
       "      <th>C4</th>\n",
       "      <th>C5</th>\n",
       "      <th>C6</th>\n",
       "      <th>C7</th>\n",
       "      <th>C8</th>\n",
       "      <th>C9</th>\n",
       "      <th>...</th>\n",
       "      <th>card4_mastercard</th>\n",
       "      <th>card4_visa</th>\n",
       "      <th>card6_charge card</th>\n",
       "      <th>card6_credit</th>\n",
       "      <th>card6_debit</th>\n",
       "      <th>transSec</th>\n",
       "      <th>transMin</th>\n",
       "      <th>transHour</th>\n",
       "      <th>transMonth</th>\n",
       "      <th>transDay</th>\n",
       "    </tr>\n",
       "  </thead>\n",
       "  <tbody>\n",
       "    <tr>\n",
       "      <th>590535</th>\n",
       "      <td>0</td>\n",
       "      <td>2.0</td>\n",
       "      <td>1.0</td>\n",
       "      <td>0.0</td>\n",
       "      <td>0.0</td>\n",
       "      <td>1.0</td>\n",
       "      <td>0.0</td>\n",
       "      <td>0.0</td>\n",
       "      <td>0.0</td>\n",
       "      <td>2.0</td>\n",
       "      <td>...</td>\n",
       "      <td>0</td>\n",
       "      <td>1</td>\n",
       "      <td>0</td>\n",
       "      <td>0</td>\n",
       "      <td>1</td>\n",
       "      <td>27</td>\n",
       "      <td>57</td>\n",
       "      <td>23</td>\n",
       "      <td>7.0</td>\n",
       "      <td>2</td>\n",
       "    </tr>\n",
       "    <tr>\n",
       "      <th>590536</th>\n",
       "      <td>0</td>\n",
       "      <td>1.0</td>\n",
       "      <td>1.0</td>\n",
       "      <td>0.0</td>\n",
       "      <td>0.0</td>\n",
       "      <td>0.0</td>\n",
       "      <td>1.0</td>\n",
       "      <td>0.0</td>\n",
       "      <td>0.0</td>\n",
       "      <td>1.0</td>\n",
       "      <td>...</td>\n",
       "      <td>1</td>\n",
       "      <td>0</td>\n",
       "      <td>0</td>\n",
       "      <td>0</td>\n",
       "      <td>1</td>\n",
       "      <td>29</td>\n",
       "      <td>57</td>\n",
       "      <td>23</td>\n",
       "      <td>7.0</td>\n",
       "      <td>2</td>\n",
       "    </tr>\n",
       "    <tr>\n",
       "      <th>590537</th>\n",
       "      <td>0</td>\n",
       "      <td>1.0</td>\n",
       "      <td>1.0</td>\n",
       "      <td>0.0</td>\n",
       "      <td>0.0</td>\n",
       "      <td>1.0</td>\n",
       "      <td>1.0</td>\n",
       "      <td>0.0</td>\n",
       "      <td>0.0</td>\n",
       "      <td>1.0</td>\n",
       "      <td>...</td>\n",
       "      <td>1</td>\n",
       "      <td>0</td>\n",
       "      <td>0</td>\n",
       "      <td>0</td>\n",
       "      <td>1</td>\n",
       "      <td>59</td>\n",
       "      <td>57</td>\n",
       "      <td>23</td>\n",
       "      <td>7.0</td>\n",
       "      <td>2</td>\n",
       "    </tr>\n",
       "    <tr>\n",
       "      <th>590538</th>\n",
       "      <td>0</td>\n",
       "      <td>1.0</td>\n",
       "      <td>1.0</td>\n",
       "      <td>0.0</td>\n",
       "      <td>0.0</td>\n",
       "      <td>0.0</td>\n",
       "      <td>3.0</td>\n",
       "      <td>0.0</td>\n",
       "      <td>0.0</td>\n",
       "      <td>2.0</td>\n",
       "      <td>...</td>\n",
       "      <td>1</td>\n",
       "      <td>0</td>\n",
       "      <td>0</td>\n",
       "      <td>0</td>\n",
       "      <td>1</td>\n",
       "      <td>8</td>\n",
       "      <td>58</td>\n",
       "      <td>23</td>\n",
       "      <td>7.0</td>\n",
       "      <td>2</td>\n",
       "    </tr>\n",
       "    <tr>\n",
       "      <th>590539</th>\n",
       "      <td>0</td>\n",
       "      <td>2.0</td>\n",
       "      <td>1.0</td>\n",
       "      <td>0.0</td>\n",
       "      <td>0.0</td>\n",
       "      <td>1.0</td>\n",
       "      <td>1.0</td>\n",
       "      <td>0.0</td>\n",
       "      <td>0.0</td>\n",
       "      <td>2.0</td>\n",
       "      <td>...</td>\n",
       "      <td>1</td>\n",
       "      <td>0</td>\n",
       "      <td>0</td>\n",
       "      <td>1</td>\n",
       "      <td>0</td>\n",
       "      <td>51</td>\n",
       "      <td>58</td>\n",
       "      <td>23</td>\n",
       "      <td>7.0</td>\n",
       "      <td>2</td>\n",
       "    </tr>\n",
       "  </tbody>\n",
       "</table>\n",
       "<p>5 rows × 654 columns</p>\n",
       "</div>"
      ],
      "text/plain": [
       "        isFraud   C1   C2   C3   C4   C5   C6   C7   C8   C9  ...  \\\n",
       "590535        0  2.0  1.0  0.0  0.0  1.0  0.0  0.0  0.0  2.0  ...   \n",
       "590536        0  1.0  1.0  0.0  0.0  0.0  1.0  0.0  0.0  1.0  ...   \n",
       "590537        0  1.0  1.0  0.0  0.0  1.0  1.0  0.0  0.0  1.0  ...   \n",
       "590538        0  1.0  1.0  0.0  0.0  0.0  3.0  0.0  0.0  2.0  ...   \n",
       "590539        0  2.0  1.0  0.0  0.0  1.0  1.0  0.0  0.0  2.0  ...   \n",
       "\n",
       "        card4_mastercard  card4_visa  card6_charge card  card6_credit  \\\n",
       "590535                 0           1                  0             0   \n",
       "590536                 1           0                  0             0   \n",
       "590537                 1           0                  0             0   \n",
       "590538                 1           0                  0             0   \n",
       "590539                 1           0                  0             1   \n",
       "\n",
       "        card6_debit  transSec  transMin  transHour  transMonth  transDay  \n",
       "590535            1        27        57         23         7.0         2  \n",
       "590536            1        29        57         23         7.0         2  \n",
       "590537            1        59        57         23         7.0         2  \n",
       "590538            1         8        58         23         7.0         2  \n",
       "590539            0        51        58         23         7.0         2  \n",
       "\n",
       "[5 rows x 654 columns]"
      ]
     },
     "execution_count": 38,
     "metadata": {},
     "output_type": "execute_result"
    }
   ],
   "source": [
    "processedTrainTransaction.tail()"
   ]
  },
  {
   "cell_type": "code",
   "execution_count": null,
   "metadata": {},
   "outputs": [],
   "source": [
    "sns.countplot(processedTrainTransaction['isFraud'])\n",
    "# sns.countplot(processedTrainTransaction['transMonth'],hue=processedTrainTransaction['isFraud'])"
   ]
  },
  {
   "cell_type": "code",
   "execution_count": null,
   "metadata": {},
   "outputs": [],
   "source": [
    "# sns.countplot(processedTrainTransaction['transMonth'])\n",
    "sns.countplot(processedTrainTransaction['transMonth'],hue=processedTrainTransaction['isFraud'])"
   ]
  },
  {
   "cell_type": "code",
   "execution_count": null,
   "metadata": {},
   "outputs": [],
   "source": [
    "# sns.countplot(processedTrainTransaction['transDay'])\n",
    "sns.countplot(processedTrainTransaction['transDay'],hue=processedTrainTransaction['isFraud'])"
   ]
  },
  {
   "cell_type": "code",
   "execution_count": null,
   "metadata": {},
   "outputs": [],
   "source": [
    "# sns.countplot(processedTrainTransaction['transHour'])\n",
    "sns.countplot(processedTrainTransaction['transHour'],hue=processedTrainTransaction['isFraud'])"
   ]
  },
  {
   "cell_type": "code",
   "execution_count": null,
   "metadata": {},
   "outputs": [],
   "source": [
    "# sns.countplot(processedTrainTransaction['transMin'])"
   ]
  },
  {
   "cell_type": "code",
   "execution_count": null,
   "metadata": {},
   "outputs": [],
   "source": [
    "# sns.countplot(processedTrainTransaction['transSec'])"
   ]
  },
  {
   "cell_type": "code",
   "execution_count": 39,
   "metadata": {},
   "outputs": [],
   "source": [
    "target='isFraud'\n",
    "toUseCol=list(processedTrainTransaction.columns)\n",
    "toUseCol.remove(target)"
   ]
  },
  {
   "cell_type": "code",
   "execution_count": 40,
   "metadata": {},
   "outputs": [
    {
     "data": {
      "text/plain": [
       "(653, 653)"
      ]
     },
     "execution_count": 40,
     "metadata": {},
     "output_type": "execute_result"
    }
   ],
   "source": [
    "from collections import Counter \n",
    "Counter(toUseCol)\n",
    "\n",
    "len(toUseCol),len(set(toUseCol))"
   ]
  },
  {
   "cell_type": "code",
   "execution_count": 41,
   "metadata": {},
   "outputs": [
    {
     "data": {
      "text/plain": [
       "((414542, 654), (83571, 654), (92427, 654))"
      ]
     },
     "execution_count": 41,
     "metadata": {},
     "output_type": "execute_result"
    }
   ],
   "source": [
    "trainPart=processedTrainTransaction[processedTrainTransaction['transMonth']<=4]\n",
    "valPart=processedTrainTransaction[processedTrainTransaction['transMonth']==5]\n",
    "testPart=processedTrainTransaction[processedTrainTransaction['transMonth']>5]\n",
    "trainPart.shape,valPart.shape,testPart.shape"
   ]
  },
  {
   "cell_type": "code",
   "execution_count": 42,
   "metadata": {},
   "outputs": [],
   "source": [
    "from sklearn import ensemble,metrics"
   ]
  },
  {
   "cell_type": "code",
   "execution_count": null,
   "metadata": {},
   "outputs": [],
   "source": [
    "# model1=ensemble.RandomForestClassifier().fit(trainPart[toUseCol],trainPart[target])\n",
    "# predTrain=model1.predict_proba(trainPart[toUseCol])\n",
    "# scoreOftrain=metrics.roc_auc_score(trainPart[target],predTrain[:,1])\n",
    "# valPred=model1.predict_proba(valPart[toUseCol])\n",
    "# scoreOfVal=metrics.roc_auc_score(valPart[target],valPred[:,1])\n",
    "# print('ROC AUC for train {} and for validation {}'.format(scoreOftrain,scoreOfVal))"
   ]
  },
  {
   "cell_type": "code",
   "execution_count": null,
   "metadata": {},
   "outputs": [],
   "source": [
    "# model2=ensemble.GradientBoostingClassifier().fit(trainPart[toUseCol],trainPart[target])\n",
    "# predTrain2=model2.predict_proba(trainPart[toUseCol])\n",
    "# scoreOftrain2=metrics.roc_auc_score(trainPart[target],predTrain2[:,1])\n",
    "# valPred2=model2.predict_proba(valPart[toUseCol])\n",
    "# scoreOfVal2=metrics.roc_auc_score(valPart[target],valPred2[:,1])\n",
    "# print('ROC AUC for train {} and for validation {}'.format(scoreOftrain2,scoreOfVal2))"
   ]
  },
  {
   "cell_type": "code",
   "execution_count": 43,
   "metadata": {},
   "outputs": [],
   "source": [
    "import xgboost as xgb"
   ]
  },
  {
   "cell_type": "code",
   "execution_count": 44,
   "metadata": {},
   "outputs": [],
   "source": [
    "trainData=xgb.DMatrix(trainPart[toUseCol],trainPart[target])\n",
    "valData=xgb.DMatrix(valPart[toUseCol],valPart[target])"
   ]
  },
  {
   "cell_type": "code",
   "execution_count": null,
   "metadata": {},
   "outputs": [],
   "source": [
    "# trainData=lgb.Dataset(trainPart[toUseCol],trainPart[target])\n",
    "# valData=lgb.Dataset(valPart[toUseCol],valPart[target])"
   ]
  },
  {
   "cell_type": "code",
   "execution_count": 45,
   "metadata": {
    "scrolled": true
   },
   "outputs": [
    {
     "name": "stdout",
     "output_type": "stream",
     "text": [
      "[0]\teval-auc:0.620027\ttrain-auc:0.630735\n",
      "[10]\teval-auc:0.740932\ttrain-auc:0.754909\n",
      "[20]\teval-auc:0.788256\ttrain-auc:0.798411\n",
      "[30]\teval-auc:0.827131\ttrain-auc:0.836023\n",
      "[40]\teval-auc:0.842746\ttrain-auc:0.855422\n",
      "[50]\teval-auc:0.848848\ttrain-auc:0.862889\n",
      "[60]\teval-auc:0.849515\ttrain-auc:0.864252\n",
      "[70]\teval-auc:0.850431\ttrain-auc:0.870039\n",
      "[80]\teval-auc:0.851585\ttrain-auc:0.873112\n",
      "[90]\teval-auc:0.853467\ttrain-auc:0.875437\n",
      "[100]\teval-auc:0.855031\ttrain-auc:0.87798\n",
      "[110]\teval-auc:0.856768\ttrain-auc:0.88004\n",
      "[120]\teval-auc:0.858273\ttrain-auc:0.881843\n",
      "[130]\teval-auc:0.85913\ttrain-auc:0.883308\n",
      "[140]\teval-auc:0.860085\ttrain-auc:0.884399\n",
      "[150]\teval-auc:0.860924\ttrain-auc:0.885506\n",
      "[160]\teval-auc:0.861524\ttrain-auc:0.886524\n",
      "[170]\teval-auc:0.862661\ttrain-auc:0.887712\n",
      "[180]\teval-auc:0.863237\ttrain-auc:0.888656\n",
      "[190]\teval-auc:0.863962\ttrain-auc:0.889496\n",
      "[200]\teval-auc:0.864995\ttrain-auc:0.890359\n",
      "[210]\teval-auc:0.865642\ttrain-auc:0.891125\n",
      "[220]\teval-auc:0.865845\ttrain-auc:0.891808\n",
      "[230]\teval-auc:0.86631\ttrain-auc:0.892533\n",
      "[240]\teval-auc:0.866592\ttrain-auc:0.893108\n",
      "[250]\teval-auc:0.866866\ttrain-auc:0.893498\n",
      "[260]\teval-auc:0.867207\ttrain-auc:0.894167\n",
      "[270]\teval-auc:0.867581\ttrain-auc:0.894976\n",
      "[280]\teval-auc:0.868327\ttrain-auc:0.895816\n",
      "[290]\teval-auc:0.868807\ttrain-auc:0.896449\n",
      "[300]\teval-auc:0.869316\ttrain-auc:0.896856\n",
      "[310]\teval-auc:0.86949\ttrain-auc:0.897308\n",
      "[320]\teval-auc:0.869903\ttrain-auc:0.897944\n",
      "[330]\teval-auc:0.870428\ttrain-auc:0.898276\n",
      "[340]\teval-auc:0.870547\ttrain-auc:0.898654\n",
      "[350]\teval-auc:0.871178\ttrain-auc:0.899222\n",
      "[360]\teval-auc:0.871443\ttrain-auc:0.899609\n",
      "[370]\teval-auc:0.871934\ttrain-auc:0.900106\n",
      "[380]\teval-auc:0.872086\ttrain-auc:0.900374\n",
      "[390]\teval-auc:0.872079\ttrain-auc:0.900743\n",
      "[400]\teval-auc:0.872451\ttrain-auc:0.901305\n",
      "[410]\teval-auc:0.872602\ttrain-auc:0.901604\n",
      "[420]\teval-auc:0.872852\ttrain-auc:0.901948\n",
      "[430]\teval-auc:0.873311\ttrain-auc:0.902488\n",
      "[440]\teval-auc:0.873674\ttrain-auc:0.902898\n",
      "[450]\teval-auc:0.873968\ttrain-auc:0.903284\n",
      "[460]\teval-auc:0.874301\ttrain-auc:0.903625\n",
      "[470]\teval-auc:0.874709\ttrain-auc:0.903854\n",
      "[480]\teval-auc:0.874949\ttrain-auc:0.904152\n",
      "[490]\teval-auc:0.875099\ttrain-auc:0.904638\n",
      "[500]\teval-auc:0.875569\ttrain-auc:0.904947\n",
      "[510]\teval-auc:0.875931\ttrain-auc:0.90527\n",
      "[520]\teval-auc:0.876122\ttrain-auc:0.905557\n",
      "[530]\teval-auc:0.876125\ttrain-auc:0.905723\n",
      "[540]\teval-auc:0.876419\ttrain-auc:0.906176\n",
      "[550]\teval-auc:0.876624\ttrain-auc:0.906466\n",
      "[560]\teval-auc:0.876777\ttrain-auc:0.906631\n",
      "[570]\teval-auc:0.877147\ttrain-auc:0.906809\n",
      "[580]\teval-auc:0.877189\ttrain-auc:0.907072\n",
      "[590]\teval-auc:0.877065\ttrain-auc:0.907372\n",
      "[600]\teval-auc:0.877139\ttrain-auc:0.907687\n",
      "[610]\teval-auc:0.877411\ttrain-auc:0.907956\n",
      "[620]\teval-auc:0.877668\ttrain-auc:0.908225\n",
      "[630]\teval-auc:0.877741\ttrain-auc:0.908375\n",
      "[640]\teval-auc:0.87805\ttrain-auc:0.908626\n",
      "[650]\teval-auc:0.878422\ttrain-auc:0.908867\n",
      "[660]\teval-auc:0.878622\ttrain-auc:0.909093\n",
      "[670]\teval-auc:0.878742\ttrain-auc:0.909369\n",
      "[680]\teval-auc:0.878859\ttrain-auc:0.90955\n",
      "[690]\teval-auc:0.879152\ttrain-auc:0.909812\n",
      "[700]\teval-auc:0.879441\ttrain-auc:0.910176\n",
      "[710]\teval-auc:0.879816\ttrain-auc:0.910423\n",
      "[720]\teval-auc:0.880148\ttrain-auc:0.910688\n",
      "[730]\teval-auc:0.880087\ttrain-auc:0.910863\n",
      "[740]\teval-auc:0.880249\ttrain-auc:0.911045\n",
      "[750]\teval-auc:0.880573\ttrain-auc:0.911352\n",
      "[760]\teval-auc:0.880949\ttrain-auc:0.911587\n",
      "[770]\teval-auc:0.881066\ttrain-auc:0.911723\n",
      "[780]\teval-auc:0.881068\ttrain-auc:0.91188\n",
      "[790]\teval-auc:0.881102\ttrain-auc:0.912068\n",
      "[800]\teval-auc:0.881068\ttrain-auc:0.912301\n",
      "[810]\teval-auc:0.881064\ttrain-auc:0.912452\n",
      "[820]\teval-auc:0.881266\ttrain-auc:0.912771\n",
      "[830]\teval-auc:0.881483\ttrain-auc:0.912942\n",
      "[840]\teval-auc:0.881743\ttrain-auc:0.913172\n",
      "[850]\teval-auc:0.881841\ttrain-auc:0.9134\n",
      "[860]\teval-auc:0.88192\ttrain-auc:0.913579\n",
      "[870]\teval-auc:0.88234\ttrain-auc:0.913803\n",
      "[880]\teval-auc:0.882416\ttrain-auc:0.913912\n",
      "[890]\teval-auc:0.882511\ttrain-auc:0.914041\n",
      "[900]\teval-auc:0.882618\ttrain-auc:0.914242\n",
      "[910]\teval-auc:0.88281\ttrain-auc:0.914446\n",
      "[920]\teval-auc:0.882916\ttrain-auc:0.914639\n",
      "[930]\teval-auc:0.883009\ttrain-auc:0.914789\n",
      "[940]\teval-auc:0.883001\ttrain-auc:0.914936\n",
      "[950]\teval-auc:0.883021\ttrain-auc:0.915065\n",
      "[960]\teval-auc:0.883118\ttrain-auc:0.915252\n",
      "[970]\teval-auc:0.88318\ttrain-auc:0.91538\n",
      "[980]\teval-auc:0.883317\ttrain-auc:0.915519\n",
      "[990]\teval-auc:0.88359\ttrain-auc:0.915682\n",
      "[1000]\teval-auc:0.88385\ttrain-auc:0.91588\n",
      "[1010]\teval-auc:0.884007\ttrain-auc:0.916051\n",
      "[1020]\teval-auc:0.884139\ttrain-auc:0.916176\n",
      "[1030]\teval-auc:0.884105\ttrain-auc:0.916351\n",
      "[1040]\teval-auc:0.884174\ttrain-auc:0.916478\n",
      "[1050]\teval-auc:0.884361\ttrain-auc:0.916657\n",
      "[1060]\teval-auc:0.884495\ttrain-auc:0.916843\n",
      "[1070]\teval-auc:0.884615\ttrain-auc:0.917071\n",
      "[1080]\teval-auc:0.884801\ttrain-auc:0.917176\n",
      "[1090]\teval-auc:0.884758\ttrain-auc:0.917369\n",
      "[1100]\teval-auc:0.88479\ttrain-auc:0.917476\n",
      "[1110]\teval-auc:0.885\ttrain-auc:0.917659\n",
      "[1120]\teval-auc:0.885069\ttrain-auc:0.917814\n",
      "[1130]\teval-auc:0.885208\ttrain-auc:0.917947\n",
      "[1140]\teval-auc:0.88547\ttrain-auc:0.918129\n",
      "[1150]\teval-auc:0.885579\ttrain-auc:0.918271\n",
      "[1160]\teval-auc:0.885765\ttrain-auc:0.918408\n",
      "[1170]\teval-auc:0.885801\ttrain-auc:0.918475\n",
      "[1180]\teval-auc:0.885858\ttrain-auc:0.918569\n",
      "[1190]\teval-auc:0.885942\ttrain-auc:0.91871\n",
      "[1200]\teval-auc:0.88611\ttrain-auc:0.918882\n",
      "[1210]\teval-auc:0.88639\ttrain-auc:0.919093\n",
      "[1220]\teval-auc:0.886464\ttrain-auc:0.919227\n",
      "[1230]\teval-auc:0.886588\ttrain-auc:0.919365\n",
      "[1240]\teval-auc:0.886771\ttrain-auc:0.919467\n",
      "[1250]\teval-auc:0.886723\ttrain-auc:0.919617\n",
      "[1260]\teval-auc:0.886696\ttrain-auc:0.919843\n",
      "[1270]\teval-auc:0.886649\ttrain-auc:0.919949\n",
      "[1280]\teval-auc:0.886782\ttrain-auc:0.920123\n",
      "[1290]\teval-auc:0.886819\ttrain-auc:0.92021\n",
      "[1300]\teval-auc:0.886913\ttrain-auc:0.920343\n",
      "[1310]\teval-auc:0.886911\ttrain-auc:0.920507\n",
      "[1320]\teval-auc:0.886982\ttrain-auc:0.920655\n",
      "[1330]\teval-auc:0.887214\ttrain-auc:0.920781\n",
      "[1340]\teval-auc:0.887463\ttrain-auc:0.920925\n",
      "[1350]\teval-auc:0.887558\ttrain-auc:0.921008\n",
      "[1360]\teval-auc:0.887771\ttrain-auc:0.921143\n",
      "[1370]\teval-auc:0.887857\ttrain-auc:0.921271\n",
      "[1380]\teval-auc:0.887882\ttrain-auc:0.921422\n",
      "[1390]\teval-auc:0.887923\ttrain-auc:0.92152\n",
      "[1400]\teval-auc:0.888022\ttrain-auc:0.921633\n",
      "[1410]\teval-auc:0.888363\ttrain-auc:0.921761\n",
      "[1420]\teval-auc:0.888365\ttrain-auc:0.92187\n",
      "[1430]\teval-auc:0.888423\ttrain-auc:0.922037\n",
      "[1440]\teval-auc:0.888602\ttrain-auc:0.922194\n",
      "[1450]\teval-auc:0.888641\ttrain-auc:0.922368\n",
      "[1460]\teval-auc:0.888456\ttrain-auc:0.922539\n",
      "[1470]\teval-auc:0.888732\ttrain-auc:0.922681\n",
      "[1480]\teval-auc:0.888862\ttrain-auc:0.922811\n",
      "[1490]\teval-auc:0.889118\ttrain-auc:0.922961\n",
      "[1499]\teval-auc:0.889058\ttrain-auc:0.92306\n"
     ]
    }
   ],
   "source": [
    "params = {\"objective\":\"binary:logistic\",'colsample_bytree': 0.3,'learning_rate': 0.1,\n",
    "                'max_depth': 5, 'alpha': 10,'max_depth': 2}\n",
    "\n",
    "params['nthread'] = 4\n",
    "params['eval_metric'] = 'auc'\n",
    "params['early_stopping_rounds']=10\n",
    "\n",
    "evallist = [(valData, 'eval'), (trainData, 'train')]\n",
    "\n",
    "num_round = 1500\n",
    "bst = xgb.train(params, trainData, num_round, evallist,verbose_eval=10)"
   ]
  },
  {
   "cell_type": "code",
   "execution_count": null,
   "metadata": {},
   "outputs": [],
   "source": [
    "#eval-auc:0.889058\ttrain-auc:0.92306"
   ]
  },
  {
   "cell_type": "code",
   "execution_count": null,
   "metadata": {
    "scrolled": true
   },
   "outputs": [],
   "source": [
    "# lgb_params = {\n",
    "#         'boosting_type': 'gbdt',\n",
    "#         'objective': 'binary',\n",
    "# #         'metric':metrics,\n",
    "#         'learning_rate': 0.01,\n",
    "#         #'is_unbalance': 'true',  #because training data is unbalance (replaced with scale_pos_weight)\n",
    "#         'num_leaves': 31,  # we should let it be smaller than 2^(max_depth)\n",
    "#         'max_depth': -1,  # -1 means no limit\n",
    "#         'min_child_samples': 20,  # Minimum number of data need in a child(min_data_in_leaf)\n",
    "#         'max_bin': 255,  # Number of bucketed bin for feature values\n",
    "#         'subsample': 0.6,  # Subsample ratio of the training instance.\n",
    "#         'subsample_freq': 0,  # frequence of subsample, <=0 means no enable\n",
    "#         'colsample_bytree': 0.3,  # Subsample ratio of columns when constructing each tree.\n",
    "#         'min_child_weight': 5,  # Minimum sum of instance weight(hessian) needed in a child(leaf)\n",
    "#         'subsample_for_bin': 200000,  # Number of samples for constructing bin\n",
    "#         'min_split_gain': 0,  # lambda_l1, lambda_l2 and min_gain_to_split to regularization\n",
    "#         'reg_alpha': 0,  # L1 regularization term on weights\n",
    "#         'reg_lambda': 0,  # L2 regularization term on weights\n",
    "#         'nthread': 4,\n",
    "#         'verbose': 0,\n",
    "#         'metric':'auc'\n",
    "#     }\n",
    "\n",
    "# num_boost_round=3000\n",
    "# early_stopping_rounds=10\n",
    "\n",
    "# model3 = lgb.train(lgb_params, \n",
    "#                      trainData, \n",
    "#                      valid_sets=[trainData, valData], \n",
    "#                    valid_names=['train','valid'],\n",
    "# #                      evals_result=evals_results, \n",
    "#                      num_boost_round=num_boost_round,\n",
    "#                      early_stopping_rounds=early_stopping_rounds,\n",
    "#                      verbose_eval=10)"
   ]
  },
  {
   "cell_type": "code",
   "execution_count": null,
   "metadata": {},
   "outputs": [],
   "source": [
    "predTrain3=bst.predict(trainPart[toUseCol])\n",
    "scoreOftrain3=metrics.roc_auc_score(trainPart[target],predTrain3)\n",
    "valPred3=bst.predict(valPart[toUseCol])\n",
    "scoreOfVal3=metrics.roc_auc_score(valPart[target],valPred3)\n",
    "testPred3=bst.predict(testPart[toUseCol])\n",
    "scoreOfTest3=metrics.roc_auc_score(testPart[target],testPred3)\n",
    "print('ROC AUC for train {} and for validation {} for test {}'.format(scoreOftrain3,scoreOfVal3,scoreOfTest3))"
   ]
  },
  {
   "cell_type": "code",
   "execution_count": null,
   "metadata": {},
   "outputs": [],
   "source": [
    "# ROC AUC for train 0.9543954336563735 and for validation 0.9114576197806739 for test 0.9040375652381945"
   ]
  }
 ],
 "metadata": {
  "kernelspec": {
   "display_name": "Python 3",
   "language": "python",
   "name": "python3"
  },
  "language_info": {
   "codemirror_mode": {
    "name": "ipython",
    "version": 3
   },
   "file_extension": ".py",
   "mimetype": "text/x-python",
   "name": "python",
   "nbconvert_exporter": "python",
   "pygments_lexer": "ipython3",
   "version": "3.6.8"
  }
 },
 "nbformat": 4,
 "nbformat_minor": 2
}
