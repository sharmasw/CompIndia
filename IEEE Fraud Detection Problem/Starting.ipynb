{
 "cells": [
  {
   "cell_type": "code",
   "execution_count": 1,
   "metadata": {},
   "outputs": [],
   "source": [
    "import pandas as pd\n",
    "import numpy as np\n",
    "from sklearn import ensemble,metrics,cross_decomposition,linear_model,model_selection\n",
    "import os\n",
    "import seaborn as sns\n",
    "import matplotlib.pyplot as plt\n",
    "%matplotlib inline"
   ]
  },
  {
   "cell_type": "code",
   "execution_count": 2,
   "metadata": {},
   "outputs": [
    {
     "data": {
      "text/plain": [
       "((144233, 41), (590540, 394))"
      ]
     },
     "execution_count": 2,
     "metadata": {},
     "output_type": "execute_result"
    }
   ],
   "source": [
    "trainIdentity=pd.read_csv('train_identity.csv')\n",
    "trainTranscation=pd.read_csv('train_transaction.csv')\n",
    "trainIdentity.shape,trainTranscation.shape"
   ]
  },
  {
   "cell_type": "code",
   "execution_count": 3,
   "metadata": {},
   "outputs": [],
   "source": [
    "import warnings"
   ]
  },
  {
   "cell_type": "code",
   "execution_count": 4,
   "metadata": {},
   "outputs": [],
   "source": [
    "warnings.filterwarnings('ignore')"
   ]
  },
  {
   "cell_type": "code",
   "execution_count": 5,
   "metadata": {},
   "outputs": [
    {
     "data": {
      "text/html": [
       "<div>\n",
       "<style scoped>\n",
       "    .dataframe tbody tr th:only-of-type {\n",
       "        vertical-align: middle;\n",
       "    }\n",
       "\n",
       "    .dataframe tbody tr th {\n",
       "        vertical-align: top;\n",
       "    }\n",
       "\n",
       "    .dataframe thead th {\n",
       "        text-align: right;\n",
       "    }\n",
       "</style>\n",
       "<table border=\"1\" class=\"dataframe\">\n",
       "  <thead>\n",
       "    <tr style=\"text-align: right;\">\n",
       "      <th></th>\n",
       "      <th>TransactionID</th>\n",
       "      <th>id_01</th>\n",
       "      <th>id_02</th>\n",
       "      <th>id_03</th>\n",
       "      <th>id_04</th>\n",
       "      <th>id_05</th>\n",
       "      <th>id_06</th>\n",
       "      <th>id_07</th>\n",
       "      <th>id_08</th>\n",
       "      <th>id_09</th>\n",
       "      <th>...</th>\n",
       "      <th>id_31</th>\n",
       "      <th>id_32</th>\n",
       "      <th>id_33</th>\n",
       "      <th>id_34</th>\n",
       "      <th>id_35</th>\n",
       "      <th>id_36</th>\n",
       "      <th>id_37</th>\n",
       "      <th>id_38</th>\n",
       "      <th>DeviceType</th>\n",
       "      <th>DeviceInfo</th>\n",
       "    </tr>\n",
       "  </thead>\n",
       "  <tbody>\n",
       "    <tr>\n",
       "      <th>0</th>\n",
       "      <td>2987004</td>\n",
       "      <td>0.0</td>\n",
       "      <td>70787.0</td>\n",
       "      <td>NaN</td>\n",
       "      <td>NaN</td>\n",
       "      <td>NaN</td>\n",
       "      <td>NaN</td>\n",
       "      <td>NaN</td>\n",
       "      <td>NaN</td>\n",
       "      <td>NaN</td>\n",
       "      <td>...</td>\n",
       "      <td>samsung browser 6.2</td>\n",
       "      <td>32.0</td>\n",
       "      <td>2220x1080</td>\n",
       "      <td>match_status:2</td>\n",
       "      <td>T</td>\n",
       "      <td>F</td>\n",
       "      <td>T</td>\n",
       "      <td>T</td>\n",
       "      <td>mobile</td>\n",
       "      <td>SAMSUNG SM-G892A Build/NRD90M</td>\n",
       "    </tr>\n",
       "    <tr>\n",
       "      <th>1</th>\n",
       "      <td>2987008</td>\n",
       "      <td>-5.0</td>\n",
       "      <td>98945.0</td>\n",
       "      <td>NaN</td>\n",
       "      <td>NaN</td>\n",
       "      <td>0.0</td>\n",
       "      <td>-5.0</td>\n",
       "      <td>NaN</td>\n",
       "      <td>NaN</td>\n",
       "      <td>NaN</td>\n",
       "      <td>...</td>\n",
       "      <td>mobile safari 11.0</td>\n",
       "      <td>32.0</td>\n",
       "      <td>1334x750</td>\n",
       "      <td>match_status:1</td>\n",
       "      <td>T</td>\n",
       "      <td>F</td>\n",
       "      <td>F</td>\n",
       "      <td>T</td>\n",
       "      <td>mobile</td>\n",
       "      <td>iOS Device</td>\n",
       "    </tr>\n",
       "    <tr>\n",
       "      <th>2</th>\n",
       "      <td>2987010</td>\n",
       "      <td>-5.0</td>\n",
       "      <td>191631.0</td>\n",
       "      <td>0.0</td>\n",
       "      <td>0.0</td>\n",
       "      <td>0.0</td>\n",
       "      <td>0.0</td>\n",
       "      <td>NaN</td>\n",
       "      <td>NaN</td>\n",
       "      <td>0.0</td>\n",
       "      <td>...</td>\n",
       "      <td>chrome 62.0</td>\n",
       "      <td>NaN</td>\n",
       "      <td>NaN</td>\n",
       "      <td>NaN</td>\n",
       "      <td>F</td>\n",
       "      <td>F</td>\n",
       "      <td>T</td>\n",
       "      <td>T</td>\n",
       "      <td>desktop</td>\n",
       "      <td>Windows</td>\n",
       "    </tr>\n",
       "    <tr>\n",
       "      <th>3</th>\n",
       "      <td>2987011</td>\n",
       "      <td>-5.0</td>\n",
       "      <td>221832.0</td>\n",
       "      <td>NaN</td>\n",
       "      <td>NaN</td>\n",
       "      <td>0.0</td>\n",
       "      <td>-6.0</td>\n",
       "      <td>NaN</td>\n",
       "      <td>NaN</td>\n",
       "      <td>NaN</td>\n",
       "      <td>...</td>\n",
       "      <td>chrome 62.0</td>\n",
       "      <td>NaN</td>\n",
       "      <td>NaN</td>\n",
       "      <td>NaN</td>\n",
       "      <td>F</td>\n",
       "      <td>F</td>\n",
       "      <td>T</td>\n",
       "      <td>T</td>\n",
       "      <td>desktop</td>\n",
       "      <td>NaN</td>\n",
       "    </tr>\n",
       "    <tr>\n",
       "      <th>4</th>\n",
       "      <td>2987016</td>\n",
       "      <td>0.0</td>\n",
       "      <td>7460.0</td>\n",
       "      <td>0.0</td>\n",
       "      <td>0.0</td>\n",
       "      <td>1.0</td>\n",
       "      <td>0.0</td>\n",
       "      <td>NaN</td>\n",
       "      <td>NaN</td>\n",
       "      <td>0.0</td>\n",
       "      <td>...</td>\n",
       "      <td>chrome 62.0</td>\n",
       "      <td>24.0</td>\n",
       "      <td>1280x800</td>\n",
       "      <td>match_status:2</td>\n",
       "      <td>T</td>\n",
       "      <td>F</td>\n",
       "      <td>T</td>\n",
       "      <td>T</td>\n",
       "      <td>desktop</td>\n",
       "      <td>MacOS</td>\n",
       "    </tr>\n",
       "  </tbody>\n",
       "</table>\n",
       "<p>5 rows × 41 columns</p>\n",
       "</div>"
      ],
      "text/plain": [
       "   TransactionID  id_01     id_02  id_03  id_04  id_05  id_06  id_07  id_08  \\\n",
       "0        2987004    0.0   70787.0    NaN    NaN    NaN    NaN    NaN    NaN   \n",
       "1        2987008   -5.0   98945.0    NaN    NaN    0.0   -5.0    NaN    NaN   \n",
       "2        2987010   -5.0  191631.0    0.0    0.0    0.0    0.0    NaN    NaN   \n",
       "3        2987011   -5.0  221832.0    NaN    NaN    0.0   -6.0    NaN    NaN   \n",
       "4        2987016    0.0    7460.0    0.0    0.0    1.0    0.0    NaN    NaN   \n",
       "\n",
       "   id_09  ...                id_31  id_32      id_33           id_34  id_35  \\\n",
       "0    NaN  ...  samsung browser 6.2   32.0  2220x1080  match_status:2      T   \n",
       "1    NaN  ...   mobile safari 11.0   32.0   1334x750  match_status:1      T   \n",
       "2    0.0  ...          chrome 62.0    NaN        NaN             NaN      F   \n",
       "3    NaN  ...          chrome 62.0    NaN        NaN             NaN      F   \n",
       "4    0.0  ...          chrome 62.0   24.0   1280x800  match_status:2      T   \n",
       "\n",
       "  id_36 id_37  id_38  DeviceType                     DeviceInfo  \n",
       "0     F     T      T      mobile  SAMSUNG SM-G892A Build/NRD90M  \n",
       "1     F     F      T      mobile                     iOS Device  \n",
       "2     F     T      T     desktop                        Windows  \n",
       "3     F     T      T     desktop                            NaN  \n",
       "4     F     T      T     desktop                          MacOS  \n",
       "\n",
       "[5 rows x 41 columns]"
      ]
     },
     "execution_count": 5,
     "metadata": {},
     "output_type": "execute_result"
    }
   ],
   "source": [
    "trainIdentity.head()"
   ]
  },
  {
   "cell_type": "code",
   "execution_count": 6,
   "metadata": {},
   "outputs": [],
   "source": [
    "combinedData=pd.merge(left=trainTranscation,right=trainIdentity,on='TransactionID',how='left')"
   ]
  },
  {
   "cell_type": "code",
   "execution_count": 7,
   "metadata": {},
   "outputs": [
    {
     "data": {
      "text/plain": [
       "<matplotlib.axes._subplots.AxesSubplot at 0x151d8c5d128>"
      ]
     },
     "execution_count": 7,
     "metadata": {},
     "output_type": "execute_result"
    },
    {
     "data": {
      "image/png": "[encoded data removed]",
      "text/plain": [
       "<Figure size 432x288 with 1 Axes>"
      ]
     },
     "metadata": {
      "needs_background": "light"
     },
     "output_type": "display_data"
    }
   ],
   "source": [
    "from sklearn import preprocessing\n",
    "preQua=preprocessing.quantile_transform(combinedData[['TransactionAmt']])\n",
    "sns.distplot(preQua)"
   ]
  },
  {
   "cell_type": "code",
   "execution_count": 8,
   "metadata": {},
   "outputs": [
    {
     "data": {
      "text/plain": [
       "<matplotlib.axes._subplots.AxesSubplot at 0x151d9df4160>"
      ]
     },
     "execution_count": 8,
     "metadata": {},
     "output_type": "execute_result"
    },
    {
     "data": {
      "image/png": "[encoded data removed]",
      "text/plain": [
       "<Figure size 432x288 with 1 Axes>"
      ]
     },
     "metadata": {
      "needs_background": "light"
     },
     "output_type": "display_data"
    }
   ],
   "source": [
    "combinedData['TransactionAmt']=pd.cut(preQua.reshape(preQua.shape[0],),bins=[0, .1,.2,.3,.4,.5,.6,.7,.8,.9,1],\n",
    "                     labels=['A','B','C','D','E','F','G','H','I','J'])\n",
    "\n",
    "# sns.countplot(processedTrainTransaction['TransactionAmt'])\n",
    "sns.countplot(combinedData['TransactionAmt'],hue=combinedData['isFraud'])"
   ]
  },
  {
   "cell_type": "code",
   "execution_count": 9,
   "metadata": {},
   "outputs": [],
   "source": [
    "categoricalCombinedData=['DeviceType','DeviceInfo']+['id_'+str(i) for i in range(12,39)]+\\\n",
    "                        ['M'+str(i) for i in range(1,10)]+\\\n",
    "                        ['ProductCD','P_emaildomain', 'R_emaildomain','CountryDomain','card4', 'card6',]+\\\n",
    "                        ['CountryDomain', 'TransactionAmt',]"
   ]
  },
  {
   "cell_type": "code",
   "execution_count": 10,
   "metadata": {},
   "outputs": [],
   "source": [
    "leaveCols=['TransactionID', 'isFraud', 'TransactionDT',\\\n",
    "           'addr1','card1', 'card2', 'card3','card5', 'addr2']+\\\n",
    "            ['C'+str(i) for i in range(1,15)]+\\\n",
    "            ['D'+str(i) for i in range(1,16)]+\\\n",
    "            ['V'+str(i) for i in range(1,340)]\n",
    "            "
   ]
  },
  {
   "cell_type": "code",
   "execution_count": 11,
   "metadata": {},
   "outputs": [],
   "source": [
    "def screenReso(xRes):\n",
    "    if str(xRes) == 'nan':\n",
    "        return ('No info')\n",
    "    else:\n",
    "        widVal=int(xRes.split('x')[0])\n",
    "        if widVal <=850:\n",
    "            return ('Small Screen')\n",
    "        elif widVal <=2050:\n",
    "            return ('Med Screen')\n",
    "        elif widVal <=2250:\n",
    "            return ('2K Screen')\n",
    "        elif widVal > 2250:\n",
    "            return ('4K Screen')"
   ]
  },
  {
   "cell_type": "code",
   "execution_count": 12,
   "metadata": {},
   "outputs": [],
   "source": [
    "def browserDef(brRec):\n",
    "    if str(brRec)=='nan':\n",
    "        return 'other'\n",
    "    else:\n",
    "        if 'samsung' in brRec:\n",
    "            return 'Samsung Browser'\n",
    "        elif 'mobile safari' in brRec:\n",
    "            return 'Mobile Safari'\n",
    "        elif 'chrome' in brRec:\n",
    "            return 'Chrome Browser'\n",
    "        elif 'edge' in brRec:\n",
    "            return 'Edge Browser'\n",
    "        elif 'ie' in brRec:\n",
    "            return 'IE Browser'\n",
    "        elif 'firefox' in brRec:\n",
    "            return 'Firefox Browser'\n",
    "        elif 'opera' in brRec:\n",
    "            return 'Opera Browser'\n",
    "        elif ('Android' in brRec) or ('android' in brRec):\n",
    "            return 'Android Browser'\n",
    "        elif 'Mozilla' in brRec:\n",
    "            return 'Mozilla Browser'\n",
    "        elif 'safari' in brRec:\n",
    "            return 'Safari  Browser'\n",
    "        elif 'google' in brRec:\n",
    "            return 'Google Browser'\n",
    "        else:\n",
    "            return brRec"
   ]
  },
  {
   "cell_type": "code",
   "execution_count": 13,
   "metadata": {},
   "outputs": [],
   "source": [
    "def deviceDef(brRec):\n",
    "    if str(brRec)=='nan':\n",
    "        return 'other'\n",
    "    else:\n",
    "        if 'Android' in brRec:\n",
    "            return 'Android Device'\n",
    "        elif 'iOS' in brRec:\n",
    "            return 'iOS Device'\n",
    "        elif 'Windows' in brRec:\n",
    "            return 'Windows Device'\n",
    "        elif 'Mac' in brRec:\n",
    "            return 'Mac OS Device'\n",
    "        else:\n",
    "            return brRec"
   ]
  },
  {
   "cell_type": "code",
   "execution_count": 14,
   "metadata": {},
   "outputs": [],
   "source": [
    "def numDef(brRec):\n",
    "    if str(brRec)=='nan':\n",
    "        return 'other'\n",
    "    else:\n",
    "        if brRec < 120:\n",
    "            return (' Less than 120')\n",
    "        elif brRec < 140:\n",
    "            return (' Less than 140')\n",
    "        elif brRec < 160:\n",
    "            return (' Less than 160')\n",
    "        elif brRec < 180:\n",
    "            return (' Less than 180')\n",
    "        elif brRec < 200:\n",
    "            return (' Less than 200')\n",
    "        elif brRec > 200:\n",
    "            return (' Greater than 140')\n",
    "        else:\n",
    "            return 'other'"
   ]
  },
  {
   "cell_type": "code",
   "execution_count": 15,
   "metadata": {},
   "outputs": [],
   "source": [
    "def numDef25(brRec):\n",
    "    if str(brRec)=='nan':\n",
    "        return 'other'\n",
    "    else:\n",
    "        if brRec < 150:\n",
    "            return (' Less than 150')\n",
    "        elif brRec < 200:\n",
    "            return (' Less than 200')\n",
    "        elif brRec < 250:\n",
    "            return (' Less than 250')\n",
    "        elif brRec < 300:\n",
    "            return (' Less than 300')\n",
    "        elif brRec < 400:\n",
    "            return (' Less than 400')\n",
    "        elif brRec > 400:\n",
    "            return (' Greater than 400')\n",
    "        else:\n",
    "            return 'other'"
   ]
  },
  {
   "cell_type": "code",
   "execution_count": 16,
   "metadata": {},
   "outputs": [],
   "source": [
    "def numDef21(brRec):\n",
    "    if str(brRec)=='nan':\n",
    "        return 'other'\n",
    "    else:\n",
    "        if brRec < 150:\n",
    "            return (' Less than 150')\n",
    "        elif brRec < 200:\n",
    "            return (' Less than 200')\n",
    "        elif brRec < 300:\n",
    "            return (' Less than 300')\n",
    "        elif brRec < 400:\n",
    "            return (' Less than 400')\n",
    "        elif brRec < 600:\n",
    "            return (' Less than 600')\n",
    "        elif brRec > 600:\n",
    "            return (' Greater than 600')\n",
    "        else:\n",
    "            return 'other'"
   ]
  },
  {
   "cell_type": "code",
   "execution_count": 17,
   "metadata": {},
   "outputs": [],
   "source": [
    "def numDef13(brRec):\n",
    "    if str(brRec)=='nan':\n",
    "        return 'other'\n",
    "    else:\n",
    "        if brRec < 20:\n",
    "            return (' Less than 20')\n",
    "        elif brRec < 40:\n",
    "            return (' Less than 40')\n",
    "        elif brRec < 60:\n",
    "            return (' Less than 60')\n",
    "        elif brRec < 80:\n",
    "            return (' Less than 80')\n",
    "        elif brRec > 80:\n",
    "            return (' Greater than 80')\n",
    "        else:\n",
    "            return 'other'"
   ]
  },
  {
   "cell_type": "code",
   "execution_count": 18,
   "metadata": {},
   "outputs": [],
   "source": [
    "def deviceInfoDef(brRec):\n",
    "    if str(brRec)=='nan':\n",
    "        return 'Other'\n",
    "    else:\n",
    "        if ('SAMSUNG' in brRec) or ('SM' in brRec) or ('GT' in brRec):\n",
    "            return 'SAMSUNG Device'\n",
    "        elif 'iOS' in brRec:\n",
    "            return 'iOS Device'\n",
    "        elif 'Windows' in brRec:\n",
    "            return 'Windows Device'\n",
    "        elif 'LG' in brRec:\n",
    "            return 'LG Device'\n",
    "        elif 'HUAWEI' in brRec:\n",
    "            return 'HUAWEI Device'\n",
    "        elif 'MacOS' in brRec:\n",
    "            return 'MacOS Device'\n",
    "#         elif 'Lenovo' in brRec:\n",
    "#             return 'Lenovo Device'\n",
    "#         elif 'Redmi' in brRec:\n",
    "#             return 'Redmi Device'\n",
    "        elif ('Moto' in brRec) or ('moto' in brRec):\n",
    "            return 'Moto Device'\n",
    "        elif ('Nexus' in brRec) or ('Pixel' in brRec):\n",
    "            return 'MacOS Device'\n",
    "#         elif 'HTC' in brRec:\n",
    "#             return 'HTC Device'\n",
    "#         elif 'Android' in brRec:\n",
    "#             return 'Android Device'\n",
    "#         elif 'Blade' in brRec:\n",
    "#             return 'Blade Device'\n",
    "#         elif ('Nokia' in brRec) or ('NOKIA' in brRec):\n",
    "#             return 'Nokia Device'\n",
    "#         elif ('ASUS' in brRec) or ('Asus' in brRec):\n",
    "#             return 'ASUS Device'\n",
    "        else:\n",
    "            return 'Other'"
   ]
  },
  {
   "cell_type": "code",
   "execution_count": 19,
   "metadata": {},
   "outputs": [],
   "source": [
    "def numDef14(brRec):\n",
    "    if str(brRec)=='nan':\n",
    "        return 'other'\n",
    "    else:\n",
    "        if brRec < -470:\n",
    "            return (' Less than -470')\n",
    "        elif brRec < -290:\n",
    "            return (' Less than -290')\n",
    "        elif brRec < 1:\n",
    "            return (' Less than 1')\n",
    "        elif brRec < 60:\n",
    "            return (' Less than 60')\n",
    "        elif brRec > 60:\n",
    "            return (' Greater than 60')\n",
    "        else:\n",
    "            return 'other'"
   ]
  },
  {
   "cell_type": "code",
   "execution_count": 20,
   "metadata": {},
   "outputs": [],
   "source": [
    "def numDef22(brRec):\n",
    "    if str(brRec)=='nan':\n",
    "        return 'other'\n",
    "    else:\n",
    "        if brRec < 10:\n",
    "            return ('Less than 10')\n",
    "        else:\n",
    "            return ('Greater than 10')"
   ]
  },
  {
   "cell_type": "code",
   "execution_count": 21,
   "metadata": {},
   "outputs": [],
   "source": [
    "def numDef24(brRec):\n",
    "    if str(brRec)=='nan':\n",
    "        return 'other'\n",
    "    else:\n",
    "        if brRec < 12:\n",
    "            return ('Less than 12')\n",
    "        else:\n",
    "            return ('Greater than 12')"
   ]
  },
  {
   "cell_type": "code",
   "execution_count": 22,
   "metadata": {},
   "outputs": [],
   "source": [
    "def numDef18(brRec):\n",
    "    if str(brRec)=='nan':\n",
    "        return 'other'\n",
    "    else:\n",
    "        if brRec < 14:\n",
    "            return ('Less than 14')\n",
    "        else:\n",
    "            return ('Greater than 14')"
   ]
  },
  {
   "cell_type": "code",
   "execution_count": 23,
   "metadata": {},
   "outputs": [],
   "source": [
    "def numDef32(brRec):\n",
    "    if str(brRec)=='nan':\n",
    "        return 'other'\n",
    "    else:\n",
    "        return (int(brRec))"
   ]
  },
  {
   "cell_type": "code",
   "execution_count": 24,
   "metadata": {},
   "outputs": [],
   "source": [
    "def defGetCountryFromDomain(brRec):\n",
    "    if str(brRec)=='nan':\n",
    "        return 'Other'\n",
    "    else:\n",
    "        if ('.mx' in brRec):\n",
    "            return 'Mexico email'\n",
    "        elif '.jp' in brRec:\n",
    "            return 'Japan email'\n",
    "        elif '.uk' in brRec:\n",
    "            return 'UK email'\n",
    "        elif '.de' in brRec:\n",
    "            return 'Germany email'\n",
    "        elif '.es' in brRec:\n",
    "            return 'Spain email'\n",
    "        elif '.fr' in brRec:\n",
    "            return 'France email'\n",
    "        elif '.com' in brRec:\n",
    "            return 'Global email'\n",
    "        elif '.net' in brRec:\n",
    "            return 'Net email'\n",
    "        else:\n",
    "            return 'Other'"
   ]
  },
  {
   "cell_type": "code",
   "execution_count": 25,
   "metadata": {},
   "outputs": [],
   "source": [
    "def defCard6(brRec):\n",
    "    if str(brRec)=='nan':\n",
    "        return 'Other'\n",
    "    else:\n",
    "        if ('debit or credit' in brRec):\n",
    "            return 'debit'\n",
    "        else:\n",
    "            return (brRec)"
   ]
  },
  {
   "cell_type": "code",
   "execution_count": 26,
   "metadata": {},
   "outputs": [],
   "source": [
    "combinedData['id_33']=combinedData['id_33'].apply(lambda x: screenReso(x))\n",
    "combinedData['id_31']=combinedData['id_31'].apply(lambda x: browserDef(x))\n",
    "combinedData['id_30']=combinedData['id_30'].apply(lambda x: deviceDef(x))\n",
    "combinedData['id_26']=combinedData['id_26'].apply(lambda x: numDef(x))\n",
    "combinedData['id_25']=combinedData['id_25'].apply(lambda x: numDef25(x))\n",
    "combinedData['id_21']=combinedData['id_21'].apply(lambda x: numDef21(x))\n",
    "combinedData['id_20']=combinedData['id_20'].apply(lambda x: numDef21(x))\n",
    "combinedData['id_19']=combinedData['id_19'].apply(lambda x: numDef21(x))\n",
    "combinedData['id_17']=combinedData['id_17'].apply(lambda x: numDef(x))\n",
    "combinedData['id_13']=combinedData['id_13'].apply(lambda x: numDef13(x))\n",
    "combinedData['DeviceInfo']=combinedData['DeviceInfo'].apply(lambda x: deviceInfoDef(x))\n",
    "combinedData['id_14']=combinedData['id_14'].apply(lambda x: numDef14(x))\n",
    "combinedData['id_22']=combinedData['id_22'].apply(lambda x: numDef22(x))\n",
    "combinedData['id_24']=combinedData['id_24'].apply(lambda x: numDef24(x))\n",
    "combinedData['id_18']=combinedData['id_18'].apply(lambda x: numDef18(x))\n",
    "combinedData['id_32']=combinedData['id_32'].apply(lambda x: numDef32(x))\n",
    "\n",
    "\n",
    "combinedData['CountryDomain']=combinedData['P_emaildomain'].apply(lambda x: defGetCountryFromDomain(x))\n",
    "combinedData['R_emaildomain']=combinedData['R_emaildomain'].fillna('Other')\n",
    "combinedData['P_emaildomain']=combinedData['P_emaildomain'].fillna('Other')\n",
    "combinedData['card4']=combinedData['card4'].fillna('Other')\n",
    "combinedData['card6']=combinedData['card6'].apply(lambda x: defCard6(x))"
   ]
  },
  {
   "cell_type": "code",
   "execution_count": 27,
   "metadata": {
    "scrolled": true
   },
   "outputs": [
    {
     "name": "stdout",
     "output_type": "stream",
     "text": [
      ">>>>>>>>>>> 00DeviceType >>>> 3\n",
      ">>>>>>>>>>> 00DeviceInfo >>>> 8\n",
      ">>>>>>>>>>> 0000000id_12 >>>> 3\n",
      ">>>>>>>>>>> 0000000id_13 >>>> 5\n",
      ">>>>>>>>>>> 0000000id_14 >>>> 5\n",
      ">>>>>>>>>>> 0000000id_15 >>>> 4\n",
      ">>>>>>>>>>> 0000000id_16 >>>> 3\n",
      ">>>>>>>>>>> 0000000id_17 >>>> 7\n",
      ">>>>>>>>>>> 0000000id_18 >>>> 3\n",
      ">>>>>>>>>>> 0000000id_19 >>>> 7\n",
      ">>>>>>>>>>> 0000000id_20 >>>> 7\n",
      ">>>>>>>>>>> 0000000id_21 >>>> 7\n",
      ">>>>>>>>>>> 0000000id_22 >>>> 2\n",
      ">>>>>>>>>>> 0000000id_23 >>>> 4\n",
      ">>>>>>>>>>> 0000000id_24 >>>> 3\n",
      ">>>>>>>>>>> 0000000id_25 >>>> 7\n",
      ">>>>>>>>>>> 0000000id_26 >>>> 7\n",
      ">>>>>>>>>>> 0000000id_27 >>>> 3\n",
      ">>>>>>>>>>> 0000000id_28 >>>> 3\n",
      ">>>>>>>>>>> 0000000id_29 >>>> 3\n",
      ">>>>>>>>>>> 0000000id_30 >>>> 7\n",
      ">>>>>>>>>>> 0000000id_31 >>>> 39\n",
      ">>>>>>>>>>> 0000000id_32 >>>> 5\n",
      ">>>>>>>>>>> 0000000id_33 >>>> 5\n",
      ">>>>>>>>>>> 0000000id_34 >>>> 5\n",
      ">>>>>>>>>>> 0000000id_35 >>>> 3\n",
      ">>>>>>>>>>> 0000000id_36 >>>> 3\n",
      ">>>>>>>>>>> 0000000id_37 >>>> 3\n",
      ">>>>>>>>>>> 0000000id_38 >>>> 3\n",
      ">>>>>>>>>>> 0000000000M1 >>>> 3\n",
      ">>>>>>>>>>> 0000000000M2 >>>> 3\n",
      ">>>>>>>>>>> 0000000000M3 >>>> 3\n",
      ">>>>>>>>>>> 0000000000M4 >>>> 4\n",
      ">>>>>>>>>>> 0000000000M5 >>>> 3\n",
      ">>>>>>>>>>> 0000000000M6 >>>> 3\n",
      ">>>>>>>>>>> 0000000000M7 >>>> 3\n",
      ">>>>>>>>>>> 0000000000M8 >>>> 3\n",
      ">>>>>>>>>>> 0000000000M9 >>>> 3\n",
      ">>>>>>>>>>> 000ProductCD >>>> 5\n",
      ">>>>>>>>>>> P_emaildomain >>>> 60\n",
      ">>>>>>>>>>> R_emaildomain >>>> 61\n",
      ">>>>>>>>>>> CountryDomain >>>> 9\n",
      ">>>>>>>>>>> 0000000card4 >>>> 5\n",
      ">>>>>>>>>>> 0000000card6 >>>> 4\n",
      ">>>>>>>>>>> CountryDomain >>>> 9\n",
      ">>>>>>>>>>> TransactionAmt >>>> 10\n"
     ]
    }
   ],
   "source": [
    "for j in categoricalCombinedData:\n",
    "    print ('>>>>>>>>>>>',j.zfill(12),'>>>>',len(pd.unique(combinedData[j])))"
   ]
  },
  {
   "cell_type": "code",
   "execution_count": 28,
   "metadata": {},
   "outputs": [],
   "source": [
    "# towork='id_18'\n",
    "# fig, ax = plt.subplots(figsize=(15,5))\n",
    "# sns.countplot(trainIdentity[towork].fillna(0))\n",
    "# # sns.countplot(trainIdentity['id_34'].fillna(0),ax=ax)\n",
    "\n",
    "# trainIdentity['id_18']=trainIdentity['id_18'].apply(lambda x: numDef18(x))\n",
    "# len(pd.unique(trainIdentity[towork]))\n",
    "# list(pd.unique(trainIdentity[towork]))"
   ]
  },
  {
   "cell_type": "code",
   "execution_count": 29,
   "metadata": {},
   "outputs": [],
   "source": [
    "cateDataTrainCombined=pd.get_dummies(combinedData[categoricalCombinedData],prefix_sep='_',drop_first='True')"
   ]
  },
  {
   "cell_type": "code",
   "execution_count": 30,
   "metadata": {},
   "outputs": [],
   "source": [
    "toleaveTrainCombined=combinedData[leaveCols].fillna(-9999)\n",
    "cateDataTrainCombined=cateDataTrainCombined.fillna('Other')"
   ]
  },
  {
   "cell_type": "code",
   "execution_count": 31,
   "metadata": {},
   "outputs": [],
   "source": [
    "# towork='addr2'\n",
    "# # fig, ax = plt.subplots(figsize=(15,5))\n",
    "# # sns.countplot(trainTranscation[towork].fillna(0))\n",
    "# # sns.countplot(trainIdentity['id_34'].fillna(0),ax=ax)\n",
    "\n",
    "# trainTranscation['card6']=trainTranscation['card6'].apply(lambda x: defCard6(x))\n",
    "# len(pd.unique(trainTranscation[towork]))\n",
    "# list(pd.unique(trainTranscation[towork]))"
   ]
  },
  {
   "cell_type": "code",
   "execution_count": 32,
   "metadata": {},
   "outputs": [
    {
     "data": {
      "text/plain": [
       "(590540, 667)"
      ]
     },
     "execution_count": 32,
     "metadata": {},
     "output_type": "execute_result"
    }
   ],
   "source": [
    "processedTrainTransaction=pd.concat([toleaveTrainCombined,cateDataTrainCombined],axis=1)\n",
    "processedTrainTransaction.shape"
   ]
  },
  {
   "cell_type": "code",
   "execution_count": 33,
   "metadata": {},
   "outputs": [],
   "source": [
    "tempTimeSer=((processedTrainTransaction['TransactionDT']-86400)).map(int)\n",
    "processedTrainTransaction['transSec']=tempTimeSer%60\n",
    "processedTrainTransaction['transMin']=(tempTimeSer/60).map(int)%60\n",
    "processedTrainTransaction['transHour']=(tempTimeSer/3600).map(int)%24\n",
    "processedTrainTransaction['transMonth']=((tempTimeSer/86400)//30)+1\n",
    "processedTrainTransaction['transDay']=((tempTimeSer/86400)%30).map(int)+1"
   ]
  },
  {
   "cell_type": "code",
   "execution_count": 34,
   "metadata": {},
   "outputs": [],
   "source": [
    "del processedTrainTransaction['TransactionDT']\n",
    "del processedTrainTransaction['TransactionID']"
   ]
  },
  {
   "cell_type": "code",
   "execution_count": 35,
   "metadata": {},
   "outputs": [
    {
     "data": {
      "text/html": [
       "<div>\n",
       "<style scoped>\n",
       "    .dataframe tbody tr th:only-of-type {\n",
       "        vertical-align: middle;\n",
       "    }\n",
       "\n",
       "    .dataframe tbody tr th {\n",
       "        vertical-align: top;\n",
       "    }\n",
       "\n",
       "    .dataframe thead th {\n",
       "        text-align: right;\n",
       "    }\n",
       "</style>\n",
       "<table border=\"1\" class=\"dataframe\">\n",
       "  <thead>\n",
       "    <tr style=\"text-align: right;\">\n",
       "      <th></th>\n",
       "      <th>isFraud</th>\n",
       "      <th>addr1</th>\n",
       "      <th>card1</th>\n",
       "      <th>card2</th>\n",
       "      <th>card3</th>\n",
       "      <th>card5</th>\n",
       "      <th>addr2</th>\n",
       "      <th>C1</th>\n",
       "      <th>C2</th>\n",
       "      <th>C3</th>\n",
       "      <th>...</th>\n",
       "      <th>TransactionAmt_F</th>\n",
       "      <th>TransactionAmt_G</th>\n",
       "      <th>TransactionAmt_H</th>\n",
       "      <th>TransactionAmt_I</th>\n",
       "      <th>TransactionAmt_J</th>\n",
       "      <th>transSec</th>\n",
       "      <th>transMin</th>\n",
       "      <th>transHour</th>\n",
       "      <th>transMonth</th>\n",
       "      <th>transDay</th>\n",
       "    </tr>\n",
       "  </thead>\n",
       "  <tbody>\n",
       "    <tr>\n",
       "      <th>590535</th>\n",
       "      <td>0</td>\n",
       "      <td>272.0</td>\n",
       "      <td>6550</td>\n",
       "      <td>-9999.0</td>\n",
       "      <td>150.0</td>\n",
       "      <td>226.0</td>\n",
       "      <td>87.0</td>\n",
       "      <td>2.0</td>\n",
       "      <td>1.0</td>\n",
       "      <td>0.0</td>\n",
       "      <td>...</td>\n",
       "      <td>0</td>\n",
       "      <td>0</td>\n",
       "      <td>0</td>\n",
       "      <td>0</td>\n",
       "      <td>0</td>\n",
       "      <td>27</td>\n",
       "      <td>57</td>\n",
       "      <td>23</td>\n",
       "      <td>7.0</td>\n",
       "      <td>2</td>\n",
       "    </tr>\n",
       "    <tr>\n",
       "      <th>590536</th>\n",
       "      <td>0</td>\n",
       "      <td>204.0</td>\n",
       "      <td>10444</td>\n",
       "      <td>225.0</td>\n",
       "      <td>150.0</td>\n",
       "      <td>224.0</td>\n",
       "      <td>87.0</td>\n",
       "      <td>1.0</td>\n",
       "      <td>1.0</td>\n",
       "      <td>0.0</td>\n",
       "      <td>...</td>\n",
       "      <td>0</td>\n",
       "      <td>0</td>\n",
       "      <td>0</td>\n",
       "      <td>0</td>\n",
       "      <td>0</td>\n",
       "      <td>29</td>\n",
       "      <td>57</td>\n",
       "      <td>23</td>\n",
       "      <td>7.0</td>\n",
       "      <td>2</td>\n",
       "    </tr>\n",
       "    <tr>\n",
       "      <th>590537</th>\n",
       "      <td>0</td>\n",
       "      <td>231.0</td>\n",
       "      <td>12037</td>\n",
       "      <td>595.0</td>\n",
       "      <td>150.0</td>\n",
       "      <td>224.0</td>\n",
       "      <td>87.0</td>\n",
       "      <td>1.0</td>\n",
       "      <td>1.0</td>\n",
       "      <td>0.0</td>\n",
       "      <td>...</td>\n",
       "      <td>0</td>\n",
       "      <td>0</td>\n",
       "      <td>0</td>\n",
       "      <td>0</td>\n",
       "      <td>0</td>\n",
       "      <td>59</td>\n",
       "      <td>57</td>\n",
       "      <td>23</td>\n",
       "      <td>7.0</td>\n",
       "      <td>2</td>\n",
       "    </tr>\n",
       "    <tr>\n",
       "      <th>590538</th>\n",
       "      <td>0</td>\n",
       "      <td>387.0</td>\n",
       "      <td>7826</td>\n",
       "      <td>481.0</td>\n",
       "      <td>150.0</td>\n",
       "      <td>224.0</td>\n",
       "      <td>87.0</td>\n",
       "      <td>1.0</td>\n",
       "      <td>1.0</td>\n",
       "      <td>0.0</td>\n",
       "      <td>...</td>\n",
       "      <td>0</td>\n",
       "      <td>0</td>\n",
       "      <td>1</td>\n",
       "      <td>0</td>\n",
       "      <td>0</td>\n",
       "      <td>8</td>\n",
       "      <td>58</td>\n",
       "      <td>23</td>\n",
       "      <td>7.0</td>\n",
       "      <td>2</td>\n",
       "    </tr>\n",
       "    <tr>\n",
       "      <th>590539</th>\n",
       "      <td>0</td>\n",
       "      <td>299.0</td>\n",
       "      <td>15066</td>\n",
       "      <td>170.0</td>\n",
       "      <td>150.0</td>\n",
       "      <td>102.0</td>\n",
       "      <td>87.0</td>\n",
       "      <td>2.0</td>\n",
       "      <td>1.0</td>\n",
       "      <td>0.0</td>\n",
       "      <td>...</td>\n",
       "      <td>0</td>\n",
       "      <td>0</td>\n",
       "      <td>0</td>\n",
       "      <td>0</td>\n",
       "      <td>1</td>\n",
       "      <td>51</td>\n",
       "      <td>58</td>\n",
       "      <td>23</td>\n",
       "      <td>7.0</td>\n",
       "      <td>2</td>\n",
       "    </tr>\n",
       "  </tbody>\n",
       "</table>\n",
       "<p>5 rows × 670 columns</p>\n",
       "</div>"
      ],
      "text/plain": [
       "        isFraud  addr1  card1   card2  card3  card5  addr2   C1   C2   C3  \\\n",
       "590535        0  272.0   6550 -9999.0  150.0  226.0   87.0  2.0  1.0  0.0   \n",
       "590536        0  204.0  10444   225.0  150.0  224.0   87.0  1.0  1.0  0.0   \n",
       "590537        0  231.0  12037   595.0  150.0  224.0   87.0  1.0  1.0  0.0   \n",
       "590538        0  387.0   7826   481.0  150.0  224.0   87.0  1.0  1.0  0.0   \n",
       "590539        0  299.0  15066   170.0  150.0  102.0   87.0  2.0  1.0  0.0   \n",
       "\n",
       "        ...  TransactionAmt_F  TransactionAmt_G  TransactionAmt_H  \\\n",
       "590535  ...                 0                 0                 0   \n",
       "590536  ...                 0                 0                 0   \n",
       "590537  ...                 0                 0                 0   \n",
       "590538  ...                 0                 0                 1   \n",
       "590539  ...                 0                 0                 0   \n",
       "\n",
       "        TransactionAmt_I  TransactionAmt_J  transSec  transMin  transHour  \\\n",
       "590535                 0                 0        27        57         23   \n",
       "590536                 0                 0        29        57         23   \n",
       "590537                 0                 0        59        57         23   \n",
       "590538                 0                 0         8        58         23   \n",
       "590539                 0                 1        51        58         23   \n",
       "\n",
       "        transMonth  transDay  \n",
       "590535         7.0         2  \n",
       "590536         7.0         2  \n",
       "590537         7.0         2  \n",
       "590538         7.0         2  \n",
       "590539         7.0         2  \n",
       "\n",
       "[5 rows x 670 columns]"
      ]
     },
     "execution_count": 35,
     "metadata": {},
     "output_type": "execute_result"
    }
   ],
   "source": [
    "processedTrainTransaction.tail()"
   ]
  },
  {
   "cell_type": "code",
   "execution_count": null,
   "metadata": {},
   "outputs": [],
   "source": []
  },
  {
   "cell_type": "code",
   "execution_count": null,
   "metadata": {},
   "outputs": [],
   "source": []
  },
  {
   "cell_type": "code",
   "execution_count": null,
   "metadata": {},
   "outputs": [],
   "source": []
  },
  {
   "cell_type": "code",
   "execution_count": 36,
   "metadata": {},
   "outputs": [
    {
     "data": {
      "text/plain": [
       "<matplotlib.axes._subplots.AxesSubplot at 0x151d8d978d0>"
      ]
     },
     "execution_count": 36,
     "metadata": {},
     "output_type": "execute_result"
    },
    {
     "data": {
      "image/png": "[encoded data removed]",
      "text/plain": [
       "<Figure size 432x288 with 1 Axes>"
      ]
     },
     "metadata": {
      "needs_background": "light"
     },
     "output_type": "display_data"
    }
   ],
   "source": [
    "sns.countplot(processedTrainTransaction['isFraud'])\n",
    "# sns.countplot(processedTrainTransaction['transMonth'],hue=processedTrainTransaction['isFraud'])"
   ]
  },
  {
   "cell_type": "code",
   "execution_count": 37,
   "metadata": {},
   "outputs": [
    {
     "data": {
      "text/plain": [
       "<matplotlib.axes._subplots.AxesSubplot at 0x151d8dfc828>"
      ]
     },
     "execution_count": 37,
     "metadata": {},
     "output_type": "execute_result"
    },
    {
     "data": {
      "image/png": "[encoded data removed]",
      "text/plain": [
       "<Figure size 432x288 with 1 Axes>"
      ]
     },
     "metadata": {
      "needs_background": "light"
     },
     "output_type": "display_data"
    }
   ],
   "source": [
    "# sns.countplot(processedTrainTransaction['transMonth'])\n",
    "sns.countplot(processedTrainTransaction['transMonth'],hue=processedTrainTransaction['isFraud'])"
   ]
  },
  {
   "cell_type": "code",
   "execution_count": 38,
   "metadata": {},
   "outputs": [
    {
     "data": {
      "text/plain": [
       "<matplotlib.axes._subplots.AxesSubplot at 0x151d8ef8358>"
      ]
     },
     "execution_count": 38,
     "metadata": {},
     "output_type": "execute_result"
    },
    {
     "data": {
      "image/png": "[encoded data removed]",
      "text/plain": [
       "<Figure size 432x288 with 1 Axes>"
      ]
     },
     "metadata": {
      "needs_background": "light"
     },
     "output_type": "display_data"
    }
   ],
   "source": [
    "# sns.countplot(processedTrainTransaction['transDay'])\n",
    "sns.countplot(processedTrainTransaction['transDay'],hue=processedTrainTransaction['isFraud'])"
   ]
  },
  {
   "cell_type": "code",
   "execution_count": 39,
   "metadata": {},
   "outputs": [
    {
     "data": {
      "text/plain": [
       "<matplotlib.axes._subplots.AxesSubplot at 0x151d90de9b0>"
      ]
     },
     "execution_count": 39,
     "metadata": {},
     "output_type": "execute_result"
    },
    {
     "data": {
      "image/png": "[encoded data removed]",
      "text/plain": [
       "<Figure size 432x288 with 1 Axes>"
      ]
     },
     "metadata": {
      "needs_background": "light"
     },
     "output_type": "display_data"
    }
   ],
   "source": [
    "# sns.countplot(processedTrainTransaction['transHour'])\n",
    "sns.countplot(processedTrainTransaction['transHour'],hue=processedTrainTransaction['isFraud'])"
   ]
  },
  {
   "cell_type": "code",
   "execution_count": 40,
   "metadata": {},
   "outputs": [],
   "source": [
    "# sns.countplot(processedTrainTransaction['transMin'])"
   ]
  },
  {
   "cell_type": "code",
   "execution_count": 41,
   "metadata": {},
   "outputs": [],
   "source": [
    "# sns.countplot(processedTrainTransaction['transSec'])"
   ]
  },
  {
   "cell_type": "code",
   "execution_count": 42,
   "metadata": {},
   "outputs": [],
   "source": [
    "target='isFraud'\n",
    "toUseCol=list(processedTrainTransaction.columns)\n",
    "toUseCol.remove(target)"
   ]
  },
  {
   "cell_type": "code",
   "execution_count": 43,
   "metadata": {},
   "outputs": [
    {
     "data": {
      "text/plain": [
       "((414542, 670), (83571, 670), (92427, 670))"
      ]
     },
     "execution_count": 43,
     "metadata": {},
     "output_type": "execute_result"
    }
   ],
   "source": [
    "trainPart=processedTrainTransaction[processedTrainTransaction['transMonth']<=4]\n",
    "valPart=processedTrainTransaction[processedTrainTransaction['transMonth']==5]\n",
    "testPart=processedTrainTransaction[processedTrainTransaction['transMonth']>5]\n",
    "trainPart.shape,valPart.shape,testPart.shape"
   ]
  },
  {
   "cell_type": "code",
   "execution_count": 44,
   "metadata": {},
   "outputs": [],
   "source": [
    "from sklearn import ensemble,metrics"
   ]
  },
  {
   "cell_type": "code",
   "execution_count": null,
   "metadata": {},
   "outputs": [],
   "source": [
    "# model1=ensemble.RandomForestClassifier().fit(trainPart[toUseCol],trainPart[target])\n",
    "# predTrain=model1.predict_proba(trainPart[toUseCol])\n",
    "# scoreOftrain=metrics.roc_auc_score(trainPart[target],predTrain[:,1])\n",
    "# valPred=model1.predict_proba(valPart[toUseCol])\n",
    "# scoreOfVal=metrics.roc_auc_score(valPart[target],valPred[:,1])\n",
    "# print('ROC AUC for train {} and for validation {}'.format(scoreOftrain,scoreOfVal))"
   ]
  },
  {
   "cell_type": "code",
   "execution_count": null,
   "metadata": {},
   "outputs": [],
   "source": [
    "# model2=ensemble.GradientBoostingClassifier().fit(trainPart[toUseCol],trainPart[target])\n",
    "# predTrain2=model2.predict_proba(trainPart[toUseCol])\n",
    "# scoreOftrain2=metrics.roc_auc_score(trainPart[target],predTrain2[:,1])\n",
    "# valPred2=model2.predict_proba(valPart[toUseCol])\n",
    "# scoreOfVal2=metrics.roc_auc_score(valPart[target],valPred2[:,1])\n",
    "# print('ROC AUC for train {} and for validation {}'.format(scoreOftrain2,scoreOfVal2))"
   ]
  },
  {
   "cell_type": "code",
   "execution_count": 45,
   "metadata": {},
   "outputs": [],
   "source": [
    "import lightgbm as lgb"
   ]
  },
  {
   "cell_type": "code",
   "execution_count": 46,
   "metadata": {},
   "outputs": [],
   "source": []
  },
  {
   "cell_type": "code",
   "execution_count": 47,
   "metadata": {
    "scrolled": true
   },
   "outputs": [
    {
     "name": "stdout",
     "output_type": "stream",
     "text": [
      "Training until validation scores don't improve for 10 rounds.\n",
      "[10]\ttrain's auc: 0.852763\tvalid's auc: 0.839515\n",
      "[20]\ttrain's auc: 0.859934\tvalid's auc: 0.84519\n",
      "[30]\ttrain's auc: 0.868839\tvalid's auc: 0.851116\n",
      "[40]\ttrain's auc: 0.871549\tvalid's auc: 0.853803\n",
      "[50]\ttrain's auc: 0.873847\tvalid's auc: 0.855763\n",
      "[60]\ttrain's auc: 0.875304\tvalid's auc: 0.856545\n",
      "[70]\ttrain's auc: 0.877143\tvalid's auc: 0.857784\n",
      "[80]\ttrain's auc: 0.878822\tvalid's auc: 0.859292\n",
      "[90]\ttrain's auc: 0.880581\tvalid's auc: 0.860564\n",
      "[100]\ttrain's auc: 0.882017\tvalid's auc: 0.861383\n",
      "[110]\ttrain's auc: 0.88337\tvalid's auc: 0.862481\n",
      "[120]\ttrain's auc: 0.884484\tvalid's auc: 0.863334\n",
      "[130]\ttrain's auc: 0.885676\tvalid's auc: 0.864275\n",
      "[140]\ttrain's auc: 0.886819\tvalid's auc: 0.865009\n",
      "[150]\ttrain's auc: 0.888057\tvalid's auc: 0.865519\n",
      "[160]\ttrain's auc: 0.88919\tvalid's auc: 0.866332\n",
      "[170]\ttrain's auc: 0.89006\tvalid's auc: 0.867081\n",
      "[180]\ttrain's auc: 0.890968\tvalid's auc: 0.867605\n",
      "[190]\ttrain's auc: 0.891691\tvalid's auc: 0.868141\n",
      "[200]\ttrain's auc: 0.892567\tvalid's auc: 0.868672\n",
      "[210]\ttrain's auc: 0.893601\tvalid's auc: 0.869205\n",
      "[220]\ttrain's auc: 0.894445\tvalid's auc: 0.869963\n",
      "[230]\ttrain's auc: 0.895218\tvalid's auc: 0.870536\n",
      "[240]\ttrain's auc: 0.896069\tvalid's auc: 0.871094\n",
      "[250]\ttrain's auc: 0.896954\tvalid's auc: 0.871821\n",
      "[260]\ttrain's auc: 0.897834\tvalid's auc: 0.872526\n",
      "[270]\ttrain's auc: 0.898652\tvalid's auc: 0.873052\n",
      "[280]\ttrain's auc: 0.899546\tvalid's auc: 0.873943\n",
      "[290]\ttrain's auc: 0.900288\tvalid's auc: 0.874362\n",
      "[300]\ttrain's auc: 0.901072\tvalid's auc: 0.874677\n",
      "[310]\ttrain's auc: 0.901917\tvalid's auc: 0.875146\n",
      "[320]\ttrain's auc: 0.902755\tvalid's auc: 0.875568\n",
      "[330]\ttrain's auc: 0.903702\tvalid's auc: 0.876322\n",
      "[340]\ttrain's auc: 0.904334\tvalid's auc: 0.876635\n",
      "[350]\ttrain's auc: 0.905192\tvalid's auc: 0.877339\n",
      "[360]\ttrain's auc: 0.905975\tvalid's auc: 0.877895\n",
      "[370]\ttrain's auc: 0.906922\tvalid's auc: 0.878694\n",
      "[380]\ttrain's auc: 0.907817\tvalid's auc: 0.879271\n",
      "[390]\ttrain's auc: 0.908505\tvalid's auc: 0.879673\n",
      "[400]\ttrain's auc: 0.909178\tvalid's auc: 0.880054\n",
      "[410]\ttrain's auc: 0.909942\tvalid's auc: 0.880621\n",
      "[420]\ttrain's auc: 0.910605\tvalid's auc: 0.881286\n",
      "[430]\ttrain's auc: 0.91115\tvalid's auc: 0.881575\n",
      "[440]\ttrain's auc: 0.911838\tvalid's auc: 0.882173\n",
      "[450]\ttrain's auc: 0.912531\tvalid's auc: 0.88275\n",
      "[460]\ttrain's auc: 0.913243\tvalid's auc: 0.883253\n",
      "[470]\ttrain's auc: 0.913822\tvalid's auc: 0.883674\n",
      "[480]\ttrain's auc: 0.914442\tvalid's auc: 0.884078\n",
      "[490]\ttrain's auc: 0.914941\tvalid's auc: 0.884382\n",
      "[500]\ttrain's auc: 0.915541\tvalid's auc: 0.884851\n",
      "[510]\ttrain's auc: 0.916169\tvalid's auc: 0.885418\n",
      "[520]\ttrain's auc: 0.916812\tvalid's auc: 0.885901\n",
      "[530]\ttrain's auc: 0.917461\tvalid's auc: 0.886321\n",
      "[540]\ttrain's auc: 0.917929\tvalid's auc: 0.886641\n",
      "[550]\ttrain's auc: 0.918417\tvalid's auc: 0.88705\n",
      "[560]\ttrain's auc: 0.918939\tvalid's auc: 0.887402\n",
      "[570]\ttrain's auc: 0.919465\tvalid's auc: 0.887898\n",
      "[580]\ttrain's auc: 0.920057\tvalid's auc: 0.888433\n",
      "[590]\ttrain's auc: 0.9205\tvalid's auc: 0.888586\n",
      "[600]\ttrain's auc: 0.920898\tvalid's auc: 0.888839\n",
      "[610]\ttrain's auc: 0.921415\tvalid's auc: 0.889251\n",
      "[620]\ttrain's auc: 0.921838\tvalid's auc: 0.889477\n",
      "[630]\ttrain's auc: 0.922291\tvalid's auc: 0.889882\n",
      "[640]\ttrain's auc: 0.922747\tvalid's auc: 0.890322\n",
      "[650]\ttrain's auc: 0.923176\tvalid's auc: 0.890491\n",
      "[660]\ttrain's auc: 0.92355\tvalid's auc: 0.890731\n",
      "[670]\ttrain's auc: 0.923972\tvalid's auc: 0.891071\n",
      "[680]\ttrain's auc: 0.924424\tvalid's auc: 0.89138\n",
      "[690]\ttrain's auc: 0.92487\tvalid's auc: 0.891753\n",
      "[700]\ttrain's auc: 0.925249\tvalid's auc: 0.891912\n",
      "[710]\ttrain's auc: 0.925663\tvalid's auc: 0.892197\n",
      "[720]\ttrain's auc: 0.926133\tvalid's auc: 0.892569\n",
      "[730]\ttrain's auc: 0.926493\tvalid's auc: 0.892843\n",
      "[740]\ttrain's auc: 0.926889\tvalid's auc: 0.893223\n",
      "[750]\ttrain's auc: 0.927304\tvalid's auc: 0.893531\n",
      "[760]\ttrain's auc: 0.927597\tvalid's auc: 0.893758\n",
      "[770]\ttrain's auc: 0.927938\tvalid's auc: 0.894025\n",
      "[780]\ttrain's auc: 0.928322\tvalid's auc: 0.894438\n",
      "[790]\ttrain's auc: 0.928663\tvalid's auc: 0.894651\n",
      "[800]\ttrain's auc: 0.929055\tvalid's auc: 0.89502\n",
      "[810]\ttrain's auc: 0.929304\tvalid's auc: 0.895228\n",
      "[820]\ttrain's auc: 0.929641\tvalid's auc: 0.895548\n",
      "[830]\ttrain's auc: 0.930037\tvalid's auc: 0.895798\n",
      "[840]\ttrain's auc: 0.930364\tvalid's auc: 0.896058\n",
      "[850]\ttrain's auc: 0.930662\tvalid's auc: 0.896294\n",
      "[860]\ttrain's auc: 0.930963\tvalid's auc: 0.8964\n",
      "[870]\ttrain's auc: 0.931259\tvalid's auc: 0.896569\n",
      "[880]\ttrain's auc: 0.931533\tvalid's auc: 0.896749\n",
      "[890]\ttrain's auc: 0.931794\tvalid's auc: 0.896991\n",
      "[900]\ttrain's auc: 0.932045\tvalid's auc: 0.897108\n",
      "[910]\ttrain's auc: 0.932342\tvalid's auc: 0.897297\n",
      "[920]\ttrain's auc: 0.932643\tvalid's auc: 0.897467\n",
      "[930]\ttrain's auc: 0.932916\tvalid's auc: 0.897675\n",
      "[940]\ttrain's auc: 0.933151\tvalid's auc: 0.897804\n",
      "[950]\ttrain's auc: 0.933438\tvalid's auc: 0.897978\n",
      "[960]\ttrain's auc: 0.933766\tvalid's auc: 0.89824\n",
      "[970]\ttrain's auc: 0.934054\tvalid's auc: 0.898387\n",
      "[980]\ttrain's auc: 0.934249\tvalid's auc: 0.898525\n",
      "[990]\ttrain's auc: 0.934465\tvalid's auc: 0.898654\n",
      "[1000]\ttrain's auc: 0.934703\tvalid's auc: 0.898734\n",
      "[1010]\ttrain's auc: 0.934956\tvalid's auc: 0.89882\n",
      "[1020]\ttrain's auc: 0.935161\tvalid's auc: 0.899035\n",
      "[1030]\ttrain's auc: 0.935355\tvalid's auc: 0.899148\n",
      "[1040]\ttrain's auc: 0.935626\tvalid's auc: 0.899305\n",
      "[1050]\ttrain's auc: 0.935831\tvalid's auc: 0.899432\n",
      "[1060]\ttrain's auc: 0.93606\tvalid's auc: 0.899608\n",
      "[1070]\ttrain's auc: 0.936241\tvalid's auc: 0.899747\n",
      "[1080]\ttrain's auc: 0.936464\tvalid's auc: 0.899922\n",
      "[1090]\ttrain's auc: 0.936721\tvalid's auc: 0.899974\n",
      "[1100]\ttrain's auc: 0.936959\tvalid's auc: 0.900134\n",
      "[1110]\ttrain's auc: 0.937182\tvalid's auc: 0.900243\n",
      "[1120]\ttrain's auc: 0.937373\tvalid's auc: 0.900366\n",
      "[1130]\ttrain's auc: 0.937622\tvalid's auc: 0.900514\n",
      "[1140]\ttrain's auc: 0.937817\tvalid's auc: 0.900623\n",
      "[1150]\ttrain's auc: 0.938054\tvalid's auc: 0.900752\n",
      "[1160]\ttrain's auc: 0.938277\tvalid's auc: 0.90089\n",
      "[1170]\ttrain's auc: 0.938544\tvalid's auc: 0.901182\n",
      "[1180]\ttrain's auc: 0.93874\tvalid's auc: 0.901281\n",
      "[1190]\ttrain's auc: 0.938936\tvalid's auc: 0.901394\n",
      "[1200]\ttrain's auc: 0.939161\tvalid's auc: 0.901556\n",
      "[1210]\ttrain's auc: 0.939368\tvalid's auc: 0.901777\n",
      "[1220]\ttrain's auc: 0.939594\tvalid's auc: 0.901929\n",
      "[1230]\ttrain's auc: 0.93979\tvalid's auc: 0.902046\n",
      "[1240]\ttrain's auc: 0.939994\tvalid's auc: 0.902177\n",
      "[1250]\ttrain's auc: 0.940207\tvalid's auc: 0.902306\n",
      "[1260]\ttrain's auc: 0.94042\tvalid's auc: 0.902438\n",
      "[1270]\ttrain's auc: 0.940617\tvalid's auc: 0.902584\n",
      "[1280]\ttrain's auc: 0.940829\tvalid's auc: 0.902779\n",
      "[1290]\ttrain's auc: 0.940966\tvalid's auc: 0.902827\n",
      "[1300]\ttrain's auc: 0.941207\tvalid's auc: 0.902917\n",
      "[1310]\ttrain's auc: 0.94132\tvalid's auc: 0.902924\n",
      "[1320]\ttrain's auc: 0.94156\tvalid's auc: 0.903051\n",
      "[1330]\ttrain's auc: 0.941726\tvalid's auc: 0.903111\n",
      "[1340]\ttrain's auc: 0.941917\tvalid's auc: 0.903216\n",
      "[1350]\ttrain's auc: 0.942111\tvalid's auc: 0.903377\n",
      "[1360]\ttrain's auc: 0.942314\tvalid's auc: 0.903466\n",
      "[1370]\ttrain's auc: 0.94247\tvalid's auc: 0.903589\n",
      "[1380]\ttrain's auc: 0.942653\tvalid's auc: 0.903782\n",
      "[1390]\ttrain's auc: 0.942859\tvalid's auc: 0.903912\n",
      "[1400]\ttrain's auc: 0.943042\tvalid's auc: 0.904049\n",
      "[1410]\ttrain's auc: 0.943247\tvalid's auc: 0.904182\n",
      "[1420]\ttrain's auc: 0.943437\tvalid's auc: 0.904328\n",
      "[1430]\ttrain's auc: 0.943583\tvalid's auc: 0.904413\n",
      "[1440]\ttrain's auc: 0.943785\tvalid's auc: 0.90462\n",
      "[1450]\ttrain's auc: 0.943944\tvalid's auc: 0.904695\n",
      "[1460]\ttrain's auc: 0.944103\tvalid's auc: 0.904815\n",
      "[1470]\ttrain's auc: 0.94424\tvalid's auc: 0.904871\n",
      "[1480]\ttrain's auc: 0.944448\tvalid's auc: 0.905098\n",
      "[1490]\ttrain's auc: 0.94464\tvalid's auc: 0.905315\n",
      "[1500]\ttrain's auc: 0.94479\tvalid's auc: 0.905404\n",
      "[1510]\ttrain's auc: 0.944945\tvalid's auc: 0.905448\n",
      "[1520]\ttrain's auc: 0.945102\tvalid's auc: 0.905557\n",
      "[1530]\ttrain's auc: 0.945281\tvalid's auc: 0.905644\n",
      "[1540]\ttrain's auc: 0.945486\tvalid's auc: 0.905763\n",
      "[1550]\ttrain's auc: 0.945644\tvalid's auc: 0.905919\n",
      "[1560]\ttrain's auc: 0.945783\tvalid's auc: 0.906005\n",
      "[1570]\ttrain's auc: 0.945947\tvalid's auc: 0.906097\n",
      "[1580]\ttrain's auc: 0.946088\tvalid's auc: 0.906239\n",
      "[1590]\ttrain's auc: 0.946233\tvalid's auc: 0.906347\n",
      "[1600]\ttrain's auc: 0.94643\tvalid's auc: 0.9065\n",
      "[1610]\ttrain's auc: 0.94659\tvalid's auc: 0.906581\n",
      "[1620]\ttrain's auc: 0.946786\tvalid's auc: 0.906756\n",
      "[1630]\ttrain's auc: 0.946924\tvalid's auc: 0.90679\n"
     ]
    },
    {
     "name": "stdout",
     "output_type": "stream",
     "text": [
      "[1640]\ttrain's auc: 0.947118\tvalid's auc: 0.906936\n",
      "[1650]\ttrain's auc: 0.947285\tvalid's auc: 0.907024\n",
      "[1660]\ttrain's auc: 0.94745\tvalid's auc: 0.907148\n",
      "[1670]\ttrain's auc: 0.947596\tvalid's auc: 0.907251\n",
      "[1680]\ttrain's auc: 0.947718\tvalid's auc: 0.90729\n",
      "[1690]\ttrain's auc: 0.947867\tvalid's auc: 0.907445\n",
      "[1700]\ttrain's auc: 0.948034\tvalid's auc: 0.907509\n",
      "[1710]\ttrain's auc: 0.948135\tvalid's auc: 0.907517\n",
      "[1720]\ttrain's auc: 0.948241\tvalid's auc: 0.907597\n",
      "[1730]\ttrain's auc: 0.948386\tvalid's auc: 0.907673\n",
      "[1740]\ttrain's auc: 0.948525\tvalid's auc: 0.907691\n",
      "[1750]\ttrain's auc: 0.948689\tvalid's auc: 0.907811\n",
      "[1760]\ttrain's auc: 0.948814\tvalid's auc: 0.907902\n",
      "[1770]\ttrain's auc: 0.948977\tvalid's auc: 0.908075\n",
      "[1780]\ttrain's auc: 0.949151\tvalid's auc: 0.908214\n",
      "[1790]\ttrain's auc: 0.94932\tvalid's auc: 0.908255\n",
      "[1800]\ttrain's auc: 0.949455\tvalid's auc: 0.908433\n",
      "[1810]\ttrain's auc: 0.949586\tvalid's auc: 0.908585\n",
      "[1820]\ttrain's auc: 0.949713\tvalid's auc: 0.908677\n",
      "[1830]\ttrain's auc: 0.949818\tvalid's auc: 0.90878\n",
      "[1840]\ttrain's auc: 0.949949\tvalid's auc: 0.908847\n",
      "[1850]\ttrain's auc: 0.950067\tvalid's auc: 0.908903\n",
      "[1860]\ttrain's auc: 0.950188\tvalid's auc: 0.908941\n",
      "[1870]\ttrain's auc: 0.950295\tvalid's auc: 0.908987\n",
      "[1880]\ttrain's auc: 0.950401\tvalid's auc: 0.909049\n",
      "[1890]\ttrain's auc: 0.950541\tvalid's auc: 0.909083\n",
      "[1900]\ttrain's auc: 0.950632\tvalid's auc: 0.909099\n",
      "[1910]\ttrain's auc: 0.950794\tvalid's auc: 0.909216\n",
      "[1920]\ttrain's auc: 0.950964\tvalid's auc: 0.909359\n",
      "[1930]\ttrain's auc: 0.951125\tvalid's auc: 0.909484\n",
      "[1940]\ttrain's auc: 0.951297\tvalid's auc: 0.909584\n",
      "[1950]\ttrain's auc: 0.951439\tvalid's auc: 0.909688\n",
      "[1960]\ttrain's auc: 0.951635\tvalid's auc: 0.909845\n",
      "[1970]\ttrain's auc: 0.951776\tvalid's auc: 0.909954\n",
      "[1980]\ttrain's auc: 0.951874\tvalid's auc: 0.910024\n",
      "[1990]\ttrain's auc: 0.952043\tvalid's auc: 0.910158\n",
      "[2000]\ttrain's auc: 0.952149\tvalid's auc: 0.910229\n",
      "[2010]\ttrain's auc: 0.952298\tvalid's auc: 0.910337\n",
      "[2020]\ttrain's auc: 0.952419\tvalid's auc: 0.910361\n",
      "[2030]\ttrain's auc: 0.952503\tvalid's auc: 0.910378\n",
      "[2040]\ttrain's auc: 0.952616\tvalid's auc: 0.910473\n",
      "[2050]\ttrain's auc: 0.952744\tvalid's auc: 0.910546\n",
      "[2060]\ttrain's auc: 0.952859\tvalid's auc: 0.910622\n",
      "[2070]\ttrain's auc: 0.952954\tvalid's auc: 0.910662\n",
      "[2080]\ttrain's auc: 0.953024\tvalid's auc: 0.910697\n",
      "[2090]\ttrain's auc: 0.953148\tvalid's auc: 0.910761\n",
      "[2100]\ttrain's auc: 0.95325\tvalid's auc: 0.910793\n",
      "[2110]\ttrain's auc: 0.953359\tvalid's auc: 0.910835\n",
      "[2120]\ttrain's auc: 0.953499\tvalid's auc: 0.910933\n",
      "[2130]\ttrain's auc: 0.953614\tvalid's auc: 0.910988\n",
      "[2140]\ttrain's auc: 0.953754\tvalid's auc: 0.911112\n",
      "[2150]\ttrain's auc: 0.953876\tvalid's auc: 0.911166\n",
      "[2160]\ttrain's auc: 0.953996\tvalid's auc: 0.911236\n",
      "[2170]\ttrain's auc: 0.954096\tvalid's auc: 0.911334\n",
      "[2180]\ttrain's auc: 0.954202\tvalid's auc: 0.911373\n",
      "[2190]\ttrain's auc: 0.954324\tvalid's auc: 0.911426\n",
      "[2200]\ttrain's auc: 0.954438\tvalid's auc: 0.911447\n",
      "Early stopping, best iteration is:\n",
      "[2196]\ttrain's auc: 0.954395\tvalid's auc: 0.911458\n"
     ]
    }
   ],
   "source": [
    "trainData=lgb.Dataset(trainPart[toUseCol],trainPart[target])\n",
    "valData=lgb.Dataset(valPart[toUseCol],valPart[target])\n",
    "lgb_params = {\n",
    "        'boosting_type': 'gbdt',\n",
    "        'objective': 'binary',\n",
    "#         'metric':metrics,\n",
    "        'learning_rate': 0.01,\n",
    "        #'is_unbalance': 'true',  #because training data is unbalance (replaced with scale_pos_weight)\n",
    "        'num_leaves': 31,  # we should let it be smaller than 2^(max_depth)\n",
    "        'max_depth': -1,  # -1 means no limit\n",
    "        'min_child_samples': 20,  # Minimum number of data need in a child(min_data_in_leaf)\n",
    "        'max_bin': 255,  # Number of bucketed bin for feature values\n",
    "        'subsample': 0.6,  # Subsample ratio of the training instance.\n",
    "        'subsample_freq': 0,  # frequence of subsample, <=0 means no enable\n",
    "        'colsample_bytree': 0.3,  # Subsample ratio of columns when constructing each tree.\n",
    "        'min_child_weight': 5,  # Minimum sum of instance weight(hessian) needed in a child(leaf)\n",
    "        'subsample_for_bin': 200000,  # Number of samples for constructing bin\n",
    "        'min_split_gain': 0,  # lambda_l1, lambda_l2 and min_gain_to_split to regularization\n",
    "        'reg_alpha': 0,  # L1 regularization term on weights\n",
    "        'reg_lambda': 0,  # L2 regularization term on weights\n",
    "        'nthread': 4,\n",
    "        'verbose': 0,\n",
    "        'metric':'auc'\n",
    "    }\n",
    "\n",
    "num_boost_round=3000\n",
    "early_stopping_rounds=10\n",
    "\n",
    "model3 = lgb.train(lgb_params, \n",
    "                     trainData, \n",
    "                     valid_sets=[trainData, valData], \n",
    "                   valid_names=['train','valid'],\n",
    "#                      evals_result=evals_results, \n",
    "                     num_boost_round=num_boost_round,\n",
    "                     early_stopping_rounds=early_stopping_rounds,\n",
    "                     verbose_eval=10)"
   ]
  },
  {
   "cell_type": "code",
   "execution_count": 49,
   "metadata": {},
   "outputs": [
    {
     "name": "stdout",
     "output_type": "stream",
     "text": [
      "ROC AUC for train 0.9543954336563735 and for validation 0.9114576197806739 for test 0.9040375652381945\n"
     ]
    }
   ],
   "source": [
    "predTrain3=model3.predict(trainPart[toUseCol])\n",
    "scoreOftrain3=metrics.roc_auc_score(trainPart[target],predTrain3)\n",
    "valPred3=model3.predict(valPart[toUseCol])\n",
    "scoreOfVal3=metrics.roc_auc_score(valPart[target],valPred3)\n",
    "testPred3=model3.predict(testPart[toUseCol])\n",
    "scoreOfTest3=metrics.roc_auc_score(testPart[target],testPred3)\n",
    "print('ROC AUC for train {} and for validation {} for test {}'.format(scoreOftrain3,scoreOfVal3,scoreOfTest3))"
   ]
  },
  {
   "cell_type": "code",
   "execution_count": null,
   "metadata": {},
   "outputs": [],
   "source": [
    "# ROC AUC for train 0.9543954336563735 and for validation 0.9114576197806739 for test 0.9040375652381945"
   ]
  }
 ],
 "metadata": {
  "kernelspec": {
   "display_name": "Python 3",
   "language": "python",
   "name": "python3"
  },
  "language_info": {
   "codemirror_mode": {
    "name": "ipython",
    "version": 3
   },
   "file_extension": ".py",
   "mimetype": "text/x-python",
   "name": "python",
   "nbconvert_exporter": "python",
   "pygments_lexer": "ipython3",
   "version": "3.6.8"
  }
 },
 "nbformat": 4,
 "nbformat_minor": 2
}
