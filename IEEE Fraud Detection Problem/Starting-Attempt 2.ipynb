{
 "cells": [
  {
   "cell_type": "code",
   "execution_count": 1,
   "metadata": {},
   "outputs": [],
   "source": [
    "import pandas as pd\n",
    "import numpy as np\n",
    "from sklearn import ensemble,metrics,cross_decomposition,linear_model,model_selection\n",
    "import os\n",
    "import seaborn as sns\n",
    "import matplotlib.pyplot as plt\n",
    "%matplotlib inline"
   ]
  },
  {
   "cell_type": "code",
   "execution_count": 2,
   "metadata": {},
   "outputs": [
    {
     "data": {
      "text/plain": [
       "((144233, 41), (590540, 394))"
      ]
     },
     "execution_count": 2,
     "metadata": {},
     "output_type": "execute_result"
    }
   ],
   "source": [
    "trainIdentity=pd.read_csv('train_identity.csv')\n",
    "trainTranscation=pd.read_csv('train_transaction.csv')\n",
    "trainIdentity.shape,trainTranscation.shape"
   ]
  },
  {
   "cell_type": "code",
   "execution_count": 3,
   "metadata": {},
   "outputs": [],
   "source": [
    "import warnings"
   ]
  },
  {
   "cell_type": "code",
   "execution_count": 4,
   "metadata": {},
   "outputs": [],
   "source": [
    "warnings.filterwarnings('ignore')"
   ]
  },
  {
   "cell_type": "code",
   "execution_count": 5,
   "metadata": {},
   "outputs": [
    {
     "data": {
      "text/html": [
       "<div>\n",
       "<style scoped>\n",
       "    .dataframe tbody tr th:only-of-type {\n",
       "        vertical-align: middle;\n",
       "    }\n",
       "\n",
       "    .dataframe tbody tr th {\n",
       "        vertical-align: top;\n",
       "    }\n",
       "\n",
       "    .dataframe thead th {\n",
       "        text-align: right;\n",
       "    }\n",
       "</style>\n",
       "<table border=\"1\" class=\"dataframe\">\n",
       "  <thead>\n",
       "    <tr style=\"text-align: right;\">\n",
       "      <th></th>\n",
       "      <th>TransactionID</th>\n",
       "      <th>id_01</th>\n",
       "      <th>id_02</th>\n",
       "      <th>id_03</th>\n",
       "      <th>id_04</th>\n",
       "      <th>id_05</th>\n",
       "      <th>id_06</th>\n",
       "      <th>id_07</th>\n",
       "      <th>id_08</th>\n",
       "      <th>id_09</th>\n",
       "      <th>...</th>\n",
       "      <th>id_31</th>\n",
       "      <th>id_32</th>\n",
       "      <th>id_33</th>\n",
       "      <th>id_34</th>\n",
       "      <th>id_35</th>\n",
       "      <th>id_36</th>\n",
       "      <th>id_37</th>\n",
       "      <th>id_38</th>\n",
       "      <th>DeviceType</th>\n",
       "      <th>DeviceInfo</th>\n",
       "    </tr>\n",
       "  </thead>\n",
       "  <tbody>\n",
       "    <tr>\n",
       "      <th>0</th>\n",
       "      <td>2987004</td>\n",
       "      <td>0.0</td>\n",
       "      <td>70787.0</td>\n",
       "      <td>NaN</td>\n",
       "      <td>NaN</td>\n",
       "      <td>NaN</td>\n",
       "      <td>NaN</td>\n",
       "      <td>NaN</td>\n",
       "      <td>NaN</td>\n",
       "      <td>NaN</td>\n",
       "      <td>...</td>\n",
       "      <td>samsung browser 6.2</td>\n",
       "      <td>32.0</td>\n",
       "      <td>2220x1080</td>\n",
       "      <td>match_status:2</td>\n",
       "      <td>T</td>\n",
       "      <td>F</td>\n",
       "      <td>T</td>\n",
       "      <td>T</td>\n",
       "      <td>mobile</td>\n",
       "      <td>SAMSUNG SM-G892A Build/NRD90M</td>\n",
       "    </tr>\n",
       "    <tr>\n",
       "      <th>1</th>\n",
       "      <td>2987008</td>\n",
       "      <td>-5.0</td>\n",
       "      <td>98945.0</td>\n",
       "      <td>NaN</td>\n",
       "      <td>NaN</td>\n",
       "      <td>0.0</td>\n",
       "      <td>-5.0</td>\n",
       "      <td>NaN</td>\n",
       "      <td>NaN</td>\n",
       "      <td>NaN</td>\n",
       "      <td>...</td>\n",
       "      <td>mobile safari 11.0</td>\n",
       "      <td>32.0</td>\n",
       "      <td>1334x750</td>\n",
       "      <td>match_status:1</td>\n",
       "      <td>T</td>\n",
       "      <td>F</td>\n",
       "      <td>F</td>\n",
       "      <td>T</td>\n",
       "      <td>mobile</td>\n",
       "      <td>iOS Device</td>\n",
       "    </tr>\n",
       "    <tr>\n",
       "      <th>2</th>\n",
       "      <td>2987010</td>\n",
       "      <td>-5.0</td>\n",
       "      <td>191631.0</td>\n",
       "      <td>0.0</td>\n",
       "      <td>0.0</td>\n",
       "      <td>0.0</td>\n",
       "      <td>0.0</td>\n",
       "      <td>NaN</td>\n",
       "      <td>NaN</td>\n",
       "      <td>0.0</td>\n",
       "      <td>...</td>\n",
       "      <td>chrome 62.0</td>\n",
       "      <td>NaN</td>\n",
       "      <td>NaN</td>\n",
       "      <td>NaN</td>\n",
       "      <td>F</td>\n",
       "      <td>F</td>\n",
       "      <td>T</td>\n",
       "      <td>T</td>\n",
       "      <td>desktop</td>\n",
       "      <td>Windows</td>\n",
       "    </tr>\n",
       "    <tr>\n",
       "      <th>3</th>\n",
       "      <td>2987011</td>\n",
       "      <td>-5.0</td>\n",
       "      <td>221832.0</td>\n",
       "      <td>NaN</td>\n",
       "      <td>NaN</td>\n",
       "      <td>0.0</td>\n",
       "      <td>-6.0</td>\n",
       "      <td>NaN</td>\n",
       "      <td>NaN</td>\n",
       "      <td>NaN</td>\n",
       "      <td>...</td>\n",
       "      <td>chrome 62.0</td>\n",
       "      <td>NaN</td>\n",
       "      <td>NaN</td>\n",
       "      <td>NaN</td>\n",
       "      <td>F</td>\n",
       "      <td>F</td>\n",
       "      <td>T</td>\n",
       "      <td>T</td>\n",
       "      <td>desktop</td>\n",
       "      <td>NaN</td>\n",
       "    </tr>\n",
       "    <tr>\n",
       "      <th>4</th>\n",
       "      <td>2987016</td>\n",
       "      <td>0.0</td>\n",
       "      <td>7460.0</td>\n",
       "      <td>0.0</td>\n",
       "      <td>0.0</td>\n",
       "      <td>1.0</td>\n",
       "      <td>0.0</td>\n",
       "      <td>NaN</td>\n",
       "      <td>NaN</td>\n",
       "      <td>0.0</td>\n",
       "      <td>...</td>\n",
       "      <td>chrome 62.0</td>\n",
       "      <td>24.0</td>\n",
       "      <td>1280x800</td>\n",
       "      <td>match_status:2</td>\n",
       "      <td>T</td>\n",
       "      <td>F</td>\n",
       "      <td>T</td>\n",
       "      <td>T</td>\n",
       "      <td>desktop</td>\n",
       "      <td>MacOS</td>\n",
       "    </tr>\n",
       "  </tbody>\n",
       "</table>\n",
       "<p>5 rows × 41 columns</p>\n",
       "</div>"
      ],
      "text/plain": [
       "   TransactionID  id_01     id_02  id_03  id_04  id_05  id_06  id_07  id_08  \\\n",
       "0        2987004    0.0   70787.0    NaN    NaN    NaN    NaN    NaN    NaN   \n",
       "1        2987008   -5.0   98945.0    NaN    NaN    0.0   -5.0    NaN    NaN   \n",
       "2        2987010   -5.0  191631.0    0.0    0.0    0.0    0.0    NaN    NaN   \n",
       "3        2987011   -5.0  221832.0    NaN    NaN    0.0   -6.0    NaN    NaN   \n",
       "4        2987016    0.0    7460.0    0.0    0.0    1.0    0.0    NaN    NaN   \n",
       "\n",
       "   id_09  ...                id_31  id_32      id_33           id_34  id_35  \\\n",
       "0    NaN  ...  samsung browser 6.2   32.0  2220x1080  match_status:2      T   \n",
       "1    NaN  ...   mobile safari 11.0   32.0   1334x750  match_status:1      T   \n",
       "2    0.0  ...          chrome 62.0    NaN        NaN             NaN      F   \n",
       "3    NaN  ...          chrome 62.0    NaN        NaN             NaN      F   \n",
       "4    0.0  ...          chrome 62.0   24.0   1280x800  match_status:2      T   \n",
       "\n",
       "  id_36 id_37  id_38  DeviceType                     DeviceInfo  \n",
       "0     F     T      T      mobile  SAMSUNG SM-G892A Build/NRD90M  \n",
       "1     F     F      T      mobile                     iOS Device  \n",
       "2     F     T      T     desktop                        Windows  \n",
       "3     F     T      T     desktop                            NaN  \n",
       "4     F     T      T     desktop                          MacOS  \n",
       "\n",
       "[5 rows x 41 columns]"
      ]
     },
     "execution_count": 5,
     "metadata": {},
     "output_type": "execute_result"
    }
   ],
   "source": [
    "trainIdentity.head()"
   ]
  },
  {
   "cell_type": "code",
   "execution_count": 6,
   "metadata": {},
   "outputs": [],
   "source": [
    "combinedData=pd.merge(left=trainTranscation,right=trainIdentity,on='TransactionID',how='left')"
   ]
  },
  {
   "cell_type": "code",
   "execution_count": 7,
   "metadata": {},
   "outputs": [
    {
     "data": {
      "text/plain": [
       "<matplotlib.axes._subplots.AxesSubplot at 0x25c0e260550>"
      ]
     },
     "execution_count": 7,
     "metadata": {},
     "output_type": "execute_result"
    },
    {
     "data": {
      "image/png": "[encoded data removed]",
      "text/plain": [
       "<Figure size 432x288 with 1 Axes>"
      ]
     },
     "metadata": {
      "needs_background": "light"
     },
     "output_type": "display_data"
    }
   ],
   "source": [
    "from sklearn import preprocessing\n",
    "preQua=preprocessing.quantile_transform(combinedData[['TransactionAmt']])\n",
    "sns.distplot(preQua)"
   ]
  },
  {
   "cell_type": "code",
   "execution_count": 8,
   "metadata": {},
   "outputs": [
    {
     "data": {
      "text/plain": [
       "<matplotlib.axes._subplots.AxesSubplot at 0x25c0e96a6a0>"
      ]
     },
     "execution_count": 8,
     "metadata": {},
     "output_type": "execute_result"
    },
    {
     "data": {
      "image/png": "[encoded data removed]",
      "text/plain": [
       "<Figure size 432x288 with 1 Axes>"
      ]
     },
     "metadata": {
      "needs_background": "light"
     },
     "output_type": "display_data"
    }
   ],
   "source": [
    "combinedData['TransactionAmt']=pd.cut(preQua.reshape(preQua.shape[0],),bins=[0, .1,.2,.3,.4,.5,.6,.7,.8,.9,1],\n",
    "                     labels=['A','B','C','D','E','F','G','H','I','J'])\n",
    "\n",
    "# sns.countplot(processedTrainTransaction['TransactionAmt'])\n",
    "sns.countplot(combinedData['TransactionAmt'],hue=combinedData['isFraud'])"
   ]
  },
  {
   "cell_type": "code",
   "execution_count": 9,
   "metadata": {},
   "outputs": [
    {
     "data": {
      "text/plain": [
       "<matplotlib.axes._subplots.AxesSubplot at 0x25c0e331198>"
      ]
     },
     "execution_count": 9,
     "metadata": {},
     "output_type": "execute_result"
    },
    {
     "data": {
      "image/png": "[encoded data removed]",
      "text/plain": [
       "<Figure size 432x288 with 1 Axes>"
      ]
     },
     "metadata": {
      "needs_background": "light"
     },
     "output_type": "display_data"
    }
   ],
   "source": [
    "sns.countplot(combinedData['ProductCD'],hue=combinedData['isFraud'])"
   ]
  },
  {
   "cell_type": "code",
   "execution_count": 10,
   "metadata": {},
   "outputs": [],
   "source": [
    "categoricalCombinedData=['DeviceType','DeviceInfo']+['id_'+str(i) for i in range(12,39)]+\\\n",
    "                        ['M'+str(i) for i in range(1,10)]+\\\n",
    "                        ['ProductCD','P_emaildomain', 'R_emaildomain','CountryDomain','card4', 'card6',]+\\\n",
    "                        ['CountryDomain', 'TransactionAmt',]"
   ]
  },
  {
   "cell_type": "code",
   "execution_count": 11,
   "metadata": {},
   "outputs": [],
   "source": [
    "leaveCols=['TransactionID', 'isFraud', 'TransactionDT']+\\\n",
    "            ['addr1','card1', 'card2', 'card3','card5', 'addr2']+\\\n",
    "            ['C'+str(i) for i in range(1,15)]+\\\n",
    "            ['D'+str(i) for i in range(1,16)]+\\\n",
    "            ['V'+str(i) for i in range(1,340)]\n",
    "tonormalize=['addr1','card1', 'card2', 'card3','card5', 'addr2']"
   ]
  },
  {
   "cell_type": "code",
   "execution_count": 12,
   "metadata": {},
   "outputs": [],
   "source": [
    "def screenReso(xRes):\n",
    "    if str(xRes) == 'nan':\n",
    "        return ('No info')\n",
    "    else:\n",
    "        widVal=int(xRes.split('x')[0])\n",
    "        if widVal <=850:\n",
    "            return ('Small Screen')\n",
    "        elif widVal <=2050:\n",
    "            return ('Med Screen')\n",
    "        elif widVal <=2250:\n",
    "            return ('2K Screen')\n",
    "        elif widVal > 2250:\n",
    "            return ('4K Screen')"
   ]
  },
  {
   "cell_type": "code",
   "execution_count": 13,
   "metadata": {},
   "outputs": [],
   "source": [
    "def browserDef(brRec):\n",
    "    if str(brRec)=='nan':\n",
    "        return 'other'\n",
    "    else:\n",
    "        if 'samsung' in brRec:\n",
    "            return 'Samsung Browser'\n",
    "        elif 'mobile safari' in brRec:\n",
    "            return 'Mobile Safari'\n",
    "        elif 'chrome' in brRec:\n",
    "            return 'Chrome Browser'\n",
    "        elif 'edge' in brRec:\n",
    "            return 'Edge Browser'\n",
    "        elif 'ie' in brRec:\n",
    "            return 'IE Browser'\n",
    "        elif 'firefox' in brRec:\n",
    "            return 'Firefox Browser'\n",
    "        elif 'opera' in brRec:\n",
    "            return 'Opera Browser'\n",
    "        elif ('Android' in brRec) or ('android' in brRec):\n",
    "            return 'Android Browser'\n",
    "        elif 'Mozilla' in brRec:\n",
    "            return 'Mozilla Browser'\n",
    "        elif 'safari' in brRec:\n",
    "            return 'Safari  Browser'\n",
    "        elif 'google' in brRec:\n",
    "            return 'Google Browser'\n",
    "        else:\n",
    "            return brRec"
   ]
  },
  {
   "cell_type": "code",
   "execution_count": 14,
   "metadata": {},
   "outputs": [],
   "source": [
    "def deviceDef(brRec):\n",
    "    if str(brRec)=='nan':\n",
    "        return 'other'\n",
    "    else:\n",
    "        if 'Android' in brRec:\n",
    "            return 'Android Device'\n",
    "        elif 'iOS' in brRec:\n",
    "            return 'iOS Device'\n",
    "        elif 'Windows' in brRec:\n",
    "            return 'Windows Device'\n",
    "        elif 'Mac' in brRec:\n",
    "            return 'Mac OS Device'\n",
    "        else:\n",
    "            return brRec"
   ]
  },
  {
   "cell_type": "code",
   "execution_count": 15,
   "metadata": {},
   "outputs": [],
   "source": [
    "def numDef(brRec):\n",
    "    if str(brRec)=='nan':\n",
    "        return 'other'\n",
    "    else:\n",
    "        if brRec < 120:\n",
    "            return (' Less than 120')\n",
    "        elif brRec < 140:\n",
    "            return (' Less than 140')\n",
    "        elif brRec < 160:\n",
    "            return (' Less than 160')\n",
    "        elif brRec < 180:\n",
    "            return (' Less than 180')\n",
    "        elif brRec < 200:\n",
    "            return (' Less than 200')\n",
    "        elif brRec > 200:\n",
    "            return (' Greater than 140')\n",
    "        else:\n",
    "            return 'other'"
   ]
  },
  {
   "cell_type": "code",
   "execution_count": 16,
   "metadata": {},
   "outputs": [],
   "source": [
    "def numDef25(brRec):\n",
    "    if str(brRec)=='nan':\n",
    "        return 'other'\n",
    "    else:\n",
    "        if brRec < 150:\n",
    "            return (' Less than 150')\n",
    "        elif brRec < 200:\n",
    "            return (' Less than 200')\n",
    "        elif brRec < 250:\n",
    "            return (' Less than 250')\n",
    "        elif brRec < 300:\n",
    "            return (' Less than 300')\n",
    "        elif brRec < 400:\n",
    "            return (' Less than 400')\n",
    "        elif brRec > 400:\n",
    "            return (' Greater than 400')\n",
    "        else:\n",
    "            return 'other'"
   ]
  },
  {
   "cell_type": "code",
   "execution_count": 17,
   "metadata": {},
   "outputs": [],
   "source": [
    "def numDef21(brRec):\n",
    "    if str(brRec)=='nan':\n",
    "        return 'other'\n",
    "    else:\n",
    "        if brRec < 150:\n",
    "            return (' Less than 150')\n",
    "        elif brRec < 200:\n",
    "            return (' Less than 200')\n",
    "        elif brRec < 300:\n",
    "            return (' Less than 300')\n",
    "        elif brRec < 400:\n",
    "            return (' Less than 400')\n",
    "        elif brRec < 600:\n",
    "            return (' Less than 600')\n",
    "        elif brRec > 600:\n",
    "            return (' Greater than 600')\n",
    "        else:\n",
    "            return 'other'"
   ]
  },
  {
   "cell_type": "code",
   "execution_count": 18,
   "metadata": {},
   "outputs": [],
   "source": [
    "def numDef13(brRec):\n",
    "    if str(brRec)=='nan':\n",
    "        return 'other'\n",
    "    else:\n",
    "        if brRec < 20:\n",
    "            return (' Less than 20')\n",
    "        elif brRec < 40:\n",
    "            return (' Less than 40')\n",
    "        elif brRec < 60:\n",
    "            return (' Less than 60')\n",
    "        elif brRec < 80:\n",
    "            return (' Less than 80')\n",
    "        elif brRec > 80:\n",
    "            return (' Greater than 80')\n",
    "        else:\n",
    "            return 'other'"
   ]
  },
  {
   "cell_type": "code",
   "execution_count": 19,
   "metadata": {},
   "outputs": [],
   "source": [
    "def deviceInfoDef(brRec):\n",
    "    if str(brRec)=='nan':\n",
    "        return 'Other'\n",
    "    else:\n",
    "        if ('SAMSUNG' in brRec) or ('SM' in brRec) or ('GT' in brRec):\n",
    "            return 'SAMSUNG Device'\n",
    "        elif 'iOS' in brRec:\n",
    "            return 'iOS Device'\n",
    "        elif 'Windows' in brRec:\n",
    "            return 'Windows Device'\n",
    "        elif 'LG' in brRec:\n",
    "            return 'LG Device'\n",
    "        elif 'HUAWEI' in brRec:\n",
    "            return 'HUAWEI Device'\n",
    "        elif 'MacOS' in brRec:\n",
    "            return 'MacOS Device'\n",
    "#         elif 'Lenovo' in brRec:\n",
    "#             return 'Lenovo Device'\n",
    "#         elif 'Redmi' in brRec:\n",
    "#             return 'Redmi Device'\n",
    "        elif ('Moto' in brRec) or ('moto' in brRec):\n",
    "            return 'Moto Device'\n",
    "        elif ('Nexus' in brRec) or ('Pixel' in brRec):\n",
    "            return 'MacOS Device'\n",
    "#         elif 'HTC' in brRec:\n",
    "#             return 'HTC Device'\n",
    "#         elif 'Android' in brRec:\n",
    "#             return 'Android Device'\n",
    "#         elif 'Blade' in brRec:\n",
    "#             return 'Blade Device'\n",
    "#         elif ('Nokia' in brRec) or ('NOKIA' in brRec):\n",
    "#             return 'Nokia Device'\n",
    "#         elif ('ASUS' in brRec) or ('Asus' in brRec):\n",
    "#             return 'ASUS Device'\n",
    "        else:\n",
    "            return 'Other'"
   ]
  },
  {
   "cell_type": "code",
   "execution_count": 20,
   "metadata": {},
   "outputs": [],
   "source": [
    "def numDef14(brRec):\n",
    "    if str(brRec)=='nan':\n",
    "        return 'other'\n",
    "    else:\n",
    "        if brRec < -470:\n",
    "            return (' Less than -470')\n",
    "        elif brRec < -290:\n",
    "            return (' Less than -290')\n",
    "        elif brRec < 1:\n",
    "            return (' Less than 1')\n",
    "        elif brRec < 60:\n",
    "            return (' Less than 60')\n",
    "        elif brRec > 60:\n",
    "            return (' Greater than 60')\n",
    "        else:\n",
    "            return 'other'"
   ]
  },
  {
   "cell_type": "code",
   "execution_count": 21,
   "metadata": {},
   "outputs": [],
   "source": [
    "def numDef22(brRec):\n",
    "    if str(brRec)=='nan':\n",
    "        return 'other'\n",
    "    else:\n",
    "        if brRec < 10:\n",
    "            return ('Less than 10')\n",
    "        else:\n",
    "            return ('Greater than 10')"
   ]
  },
  {
   "cell_type": "code",
   "execution_count": 22,
   "metadata": {},
   "outputs": [],
   "source": [
    "def numDef24(brRec):\n",
    "    if str(brRec)=='nan':\n",
    "        return 'other'\n",
    "    else:\n",
    "        if brRec < 12:\n",
    "            return ('Less than 12')\n",
    "        else:\n",
    "            return ('Greater than 12')"
   ]
  },
  {
   "cell_type": "code",
   "execution_count": 23,
   "metadata": {},
   "outputs": [],
   "source": [
    "def numDef18(brRec):\n",
    "    if str(brRec)=='nan':\n",
    "        return 'other'\n",
    "    else:\n",
    "        if brRec < 14:\n",
    "            return ('Less than 14')\n",
    "        else:\n",
    "            return ('Greater than 14')"
   ]
  },
  {
   "cell_type": "code",
   "execution_count": 24,
   "metadata": {},
   "outputs": [],
   "source": [
    "def numDef32(brRec):\n",
    "    if str(brRec)=='nan':\n",
    "        return 'other'\n",
    "    else:\n",
    "        return (int(brRec))"
   ]
  },
  {
   "cell_type": "code",
   "execution_count": 25,
   "metadata": {},
   "outputs": [],
   "source": [
    "def defGetCountryFromDomain(brRec):\n",
    "    if str(brRec)=='nan':\n",
    "        return 'Other'\n",
    "    else:\n",
    "        if ('.mx' in brRec):\n",
    "            return 'Mexico email'\n",
    "        elif '.jp' in brRec:\n",
    "            return 'Japan email'\n",
    "        elif '.uk' in brRec:\n",
    "            return 'UK email'\n",
    "        elif '.de' in brRec:\n",
    "            return 'Germany email'\n",
    "        elif '.es' in brRec:\n",
    "            return 'Spain email'\n",
    "        elif '.fr' in brRec:\n",
    "            return 'France email'\n",
    "        elif '.com' in brRec:\n",
    "            return 'Global email'\n",
    "        elif '.net' in brRec:\n",
    "            return 'Net email'\n",
    "        else:\n",
    "            return 'Other'"
   ]
  },
  {
   "cell_type": "code",
   "execution_count": 26,
   "metadata": {},
   "outputs": [],
   "source": [
    "def defCard6(brRec):\n",
    "    if str(brRec)=='nan':\n",
    "        return 'Other'\n",
    "    else:\n",
    "        if ('debit or credit' in brRec):\n",
    "            return 'debit'\n",
    "        else:\n",
    "            return (brRec)"
   ]
  },
  {
   "cell_type": "code",
   "execution_count": 27,
   "metadata": {},
   "outputs": [],
   "source": [
    "combinedData['id_33']=combinedData['id_33'].apply(lambda x: screenReso(x))\n",
    "combinedData['id_31']=combinedData['id_31'].apply(lambda x: browserDef(x))\n",
    "combinedData['id_30']=combinedData['id_30'].apply(lambda x: deviceDef(x))\n",
    "combinedData['id_26']=combinedData['id_26'].apply(lambda x: numDef(x))\n",
    "combinedData['id_25']=combinedData['id_25'].apply(lambda x: numDef25(x))\n",
    "combinedData['id_21']=combinedData['id_21'].apply(lambda x: numDef21(x))\n",
    "combinedData['id_20']=combinedData['id_20'].apply(lambda x: numDef21(x))\n",
    "combinedData['id_19']=combinedData['id_19'].apply(lambda x: numDef21(x))\n",
    "combinedData['id_17']=combinedData['id_17'].apply(lambda x: numDef(x))\n",
    "combinedData['id_13']=combinedData['id_13'].apply(lambda x: numDef13(x))\n",
    "combinedData['DeviceInfo']=combinedData['DeviceInfo'].apply(lambda x: deviceInfoDef(x))\n",
    "combinedData['id_14']=combinedData['id_14'].apply(lambda x: numDef14(x))\n",
    "combinedData['id_22']=combinedData['id_22'].apply(lambda x: numDef22(x))\n",
    "combinedData['id_24']=combinedData['id_24'].apply(lambda x: numDef24(x))\n",
    "combinedData['id_18']=combinedData['id_18'].apply(lambda x: numDef18(x))\n",
    "combinedData['id_32']=combinedData['id_32'].apply(lambda x: numDef32(x))\n",
    "\n",
    "combinedData['CountryDomain']=combinedData['P_emaildomain'].apply(lambda x: defGetCountryFromDomain(x))\n",
    "combinedData['R_emaildomain']=combinedData['R_emaildomain'].fillna('Other')\n",
    "combinedData['P_emaildomain']=combinedData['P_emaildomain'].fillna('Other')\n",
    "combinedData['card4']=combinedData['card4'].fillna('Other')\n",
    "combinedData['card6']=combinedData['card6'].apply(lambda x: defCard6(x))"
   ]
  },
  {
   "cell_type": "code",
   "execution_count": 28,
   "metadata": {
    "scrolled": true
   },
   "outputs": [
    {
     "name": "stdout",
     "output_type": "stream",
     "text": [
      ">>>>>>>>>>> 00DeviceType >>>> 3\n",
      ">>>>>>>>>>> 00DeviceInfo >>>> 8\n",
      ">>>>>>>>>>> 0000000id_12 >>>> 3\n",
      ">>>>>>>>>>> 0000000id_13 >>>> 5\n",
      ">>>>>>>>>>> 0000000id_14 >>>> 5\n",
      ">>>>>>>>>>> 0000000id_15 >>>> 4\n",
      ">>>>>>>>>>> 0000000id_16 >>>> 3\n",
      ">>>>>>>>>>> 0000000id_17 >>>> 7\n",
      ">>>>>>>>>>> 0000000id_18 >>>> 3\n",
      ">>>>>>>>>>> 0000000id_19 >>>> 7\n",
      ">>>>>>>>>>> 0000000id_20 >>>> 7\n",
      ">>>>>>>>>>> 0000000id_21 >>>> 7\n",
      ">>>>>>>>>>> 0000000id_22 >>>> 2\n",
      ">>>>>>>>>>> 0000000id_23 >>>> 4\n",
      ">>>>>>>>>>> 0000000id_24 >>>> 3\n",
      ">>>>>>>>>>> 0000000id_25 >>>> 7\n",
      ">>>>>>>>>>> 0000000id_26 >>>> 7\n",
      ">>>>>>>>>>> 0000000id_27 >>>> 3\n",
      ">>>>>>>>>>> 0000000id_28 >>>> 3\n",
      ">>>>>>>>>>> 0000000id_29 >>>> 3\n",
      ">>>>>>>>>>> 0000000id_30 >>>> 7\n",
      ">>>>>>>>>>> 0000000id_31 >>>> 39\n",
      ">>>>>>>>>>> 0000000id_32 >>>> 5\n",
      ">>>>>>>>>>> 0000000id_33 >>>> 5\n",
      ">>>>>>>>>>> 0000000id_34 >>>> 5\n",
      ">>>>>>>>>>> 0000000id_35 >>>> 3\n",
      ">>>>>>>>>>> 0000000id_36 >>>> 3\n",
      ">>>>>>>>>>> 0000000id_37 >>>> 3\n",
      ">>>>>>>>>>> 0000000id_38 >>>> 3\n",
      ">>>>>>>>>>> 0000000000M1 >>>> 3\n",
      ">>>>>>>>>>> 0000000000M2 >>>> 3\n",
      ">>>>>>>>>>> 0000000000M3 >>>> 3\n",
      ">>>>>>>>>>> 0000000000M4 >>>> 4\n",
      ">>>>>>>>>>> 0000000000M5 >>>> 3\n",
      ">>>>>>>>>>> 0000000000M6 >>>> 3\n",
      ">>>>>>>>>>> 0000000000M7 >>>> 3\n",
      ">>>>>>>>>>> 0000000000M8 >>>> 3\n",
      ">>>>>>>>>>> 0000000000M9 >>>> 3\n",
      ">>>>>>>>>>> 000ProductCD >>>> 5\n",
      ">>>>>>>>>>> P_emaildomain >>>> 60\n",
      ">>>>>>>>>>> R_emaildomain >>>> 61\n",
      ">>>>>>>>>>> CountryDomain >>>> 9\n",
      ">>>>>>>>>>> 0000000card4 >>>> 5\n",
      ">>>>>>>>>>> 0000000card6 >>>> 4\n",
      ">>>>>>>>>>> CountryDomain >>>> 9\n",
      ">>>>>>>>>>> TransactionAmt >>>> 10\n"
     ]
    }
   ],
   "source": [
    "for j in categoricalCombinedData:\n",
    "    print ('>>>>>>>>>>>',j.zfill(12),'>>>>',len(pd.unique(combinedData[j])))"
   ]
  },
  {
   "cell_type": "code",
   "execution_count": 29,
   "metadata": {},
   "outputs": [],
   "source": [
    "# towork='id_18'\n",
    "# fig, ax = plt.subplots(figsize=(15,5))\n",
    "# sns.countplot(trainIdentity[towork].fillna(0))\n",
    "# # sns.countplot(trainIdentity['id_34'].fillna(0),ax=ax)\n",
    "\n",
    "# trainIdentity['id_18']=trainIdentity['id_18'].apply(lambda x: numDef18(x))\n",
    "# len(pd.unique(trainIdentity[towork]))\n",
    "# list(pd.unique(trainIdentity[towork]))"
   ]
  },
  {
   "cell_type": "code",
   "execution_count": 30,
   "metadata": {},
   "outputs": [],
   "source": [
    "cateDataTrainCombined=pd.get_dummies(combinedData[categoricalCombinedData],prefix_sep='_',drop_first='True')"
   ]
  },
  {
   "cell_type": "code",
   "execution_count": 31,
   "metadata": {},
   "outputs": [],
   "source": [
    "toleaveTrainCombined=combinedData[leaveCols].fillna(-9999)\n",
    "cateDataTrainCombined=cateDataTrainCombined.fillna('Other')"
   ]
  },
  {
   "cell_type": "code",
   "execution_count": 33,
   "metadata": {},
   "outputs": [],
   "source": [
    "proProcess1=preprocessing.MinMaxScaler()\n",
    "toleaveTrainCombined['addr1']=proProcess1.fit_transform(toleaveTrainCombined[['addr1']])"
   ]
  },
  {
   "cell_type": "code",
   "execution_count": 35,
   "metadata": {},
   "outputs": [],
   "source": [
    "proProcess2=preprocessing.MinMaxScaler()\n",
    "toleaveTrainCombined['card1']=proProcess2.fit_transform(toleaveTrainCombined[['card1']])"
   ]
  },
  {
   "cell_type": "code",
   "execution_count": 36,
   "metadata": {},
   "outputs": [],
   "source": [
    "proProcess3=preprocessing.MinMaxScaler()\n",
    "toleaveTrainCombined['card2']=proProcess3.fit_transform(toleaveTrainCombined[['card2']])"
   ]
  },
  {
   "cell_type": "code",
   "execution_count": 37,
   "metadata": {},
   "outputs": [],
   "source": [
    "proProcess4=preprocessing.MinMaxScaler()\n",
    "toleaveTrainCombined['card3']=proProcess4.fit_transform(toleaveTrainCombined[['card3']])"
   ]
  },
  {
   "cell_type": "code",
   "execution_count": 38,
   "metadata": {},
   "outputs": [],
   "source": [
    "proProcess5=preprocessing.MinMaxScaler()\n",
    "toleaveTrainCombined['card5']=proProcess5.fit_transform(toleaveTrainCombined[['card5']])"
   ]
  },
  {
   "cell_type": "code",
   "execution_count": 39,
   "metadata": {},
   "outputs": [],
   "source": [
    "proProcess6=preprocessing.MinMaxScaler()\n",
    "toleaveTrainCombined['addr2']=proProcess6.fit_transform(toleaveTrainCombined[['addr2']])"
   ]
  },
  {
   "cell_type": "code",
   "execution_count": 41,
   "metadata": {},
   "outputs": [],
   "source": [
    "# toleaveTrainCombined[['addr1','card1', 'card2', 'card3','card5', 'addr2']]"
   ]
  },
  {
   "cell_type": "code",
   "execution_count": null,
   "metadata": {},
   "outputs": [],
   "source": []
  },
  {
   "cell_type": "code",
   "execution_count": null,
   "metadata": {},
   "outputs": [],
   "source": []
  },
  {
   "cell_type": "code",
   "execution_count": null,
   "metadata": {},
   "outputs": [],
   "source": [
    "# towork='addr2'\n",
    "# # fig, ax = plt.subplots(figsize=(15,5))\n",
    "# # sns.countplot(trainTranscation[towork].fillna(0))\n",
    "# # sns.countplot(trainIdentity['id_34'].fillna(0),ax=ax)\n",
    "\n",
    "# trainTranscation['card6']=trainTranscation['card6'].apply(lambda x: defCard6(x))\n",
    "# len(pd.unique(trainTranscation[towork]))\n",
    "# list(pd.unique(trainTranscation[towork]))"
   ]
  },
  {
   "cell_type": "code",
   "execution_count": 42,
   "metadata": {},
   "outputs": [
    {
     "data": {
      "text/plain": [
       "(590540, 667)"
      ]
     },
     "execution_count": 42,
     "metadata": {},
     "output_type": "execute_result"
    }
   ],
   "source": [
    "processedTrainTransaction=pd.concat([toleaveTrainCombined,cateDataTrainCombined],axis=1)\n",
    "processedTrainTransaction.shape"
   ]
  },
  {
   "cell_type": "code",
   "execution_count": 43,
   "metadata": {},
   "outputs": [],
   "source": [
    "tempTimeSer=((processedTrainTransaction['TransactionDT']-86400)).map(int)\n",
    "processedTrainTransaction['transSec']=tempTimeSer%60\n",
    "processedTrainTransaction['transMin']=(tempTimeSer/60).map(int)%60\n",
    "processedTrainTransaction['transHour']=(tempTimeSer/3600).map(int)%24\n",
    "processedTrainTransaction['transMonth']=((tempTimeSer/86400)//30)+1\n",
    "processedTrainTransaction['transDay']=((tempTimeSer/86400)%30).map(int)+1"
   ]
  },
  {
   "cell_type": "code",
   "execution_count": 44,
   "metadata": {},
   "outputs": [],
   "source": [
    "del processedTrainTransaction['TransactionDT']\n",
    "del processedTrainTransaction['TransactionID']"
   ]
  },
  {
   "cell_type": "code",
   "execution_count": 45,
   "metadata": {},
   "outputs": [
    {
     "data": {
      "text/html": [
       "<div>\n",
       "<style scoped>\n",
       "    .dataframe tbody tr th:only-of-type {\n",
       "        vertical-align: middle;\n",
       "    }\n",
       "\n",
       "    .dataframe tbody tr th {\n",
       "        vertical-align: top;\n",
       "    }\n",
       "\n",
       "    .dataframe thead th {\n",
       "        text-align: right;\n",
       "    }\n",
       "</style>\n",
       "<table border=\"1\" class=\"dataframe\">\n",
       "  <thead>\n",
       "    <tr style=\"text-align: right;\">\n",
       "      <th></th>\n",
       "      <th>isFraud</th>\n",
       "      <th>addr1</th>\n",
       "      <th>card1</th>\n",
       "      <th>card2</th>\n",
       "      <th>card3</th>\n",
       "      <th>card5</th>\n",
       "      <th>addr2</th>\n",
       "      <th>C1</th>\n",
       "      <th>C2</th>\n",
       "      <th>C3</th>\n",
       "      <th>...</th>\n",
       "      <th>TransactionAmt_F</th>\n",
       "      <th>TransactionAmt_G</th>\n",
       "      <th>TransactionAmt_H</th>\n",
       "      <th>TransactionAmt_I</th>\n",
       "      <th>TransactionAmt_J</th>\n",
       "      <th>transSec</th>\n",
       "      <th>transMin</th>\n",
       "      <th>transHour</th>\n",
       "      <th>transMonth</th>\n",
       "      <th>transDay</th>\n",
       "    </tr>\n",
       "  </thead>\n",
       "  <tbody>\n",
       "    <tr>\n",
       "      <th>590535</th>\n",
       "      <td>0</td>\n",
       "      <td>0.974571</td>\n",
       "      <td>0.319039</td>\n",
       "      <td>0.000000</td>\n",
       "      <td>0.992082</td>\n",
       "      <td>0.998925</td>\n",
       "      <td>0.998515</td>\n",
       "      <td>2.0</td>\n",
       "      <td>1.0</td>\n",
       "      <td>0.0</td>\n",
       "      <td>...</td>\n",
       "      <td>0</td>\n",
       "      <td>0</td>\n",
       "      <td>0</td>\n",
       "      <td>0</td>\n",
       "      <td>0</td>\n",
       "      <td>27</td>\n",
       "      <td>57</td>\n",
       "      <td>23</td>\n",
       "      <td>7.0</td>\n",
       "      <td>2</td>\n",
       "    </tr>\n",
       "    <tr>\n",
       "      <th>590536</th>\n",
       "      <td>0</td>\n",
       "      <td>0.968118</td>\n",
       "      <td>0.542883</td>\n",
       "      <td>0.964619</td>\n",
       "      <td>0.992082</td>\n",
       "      <td>0.998730</td>\n",
       "      <td>0.998515</td>\n",
       "      <td>1.0</td>\n",
       "      <td>1.0</td>\n",
       "      <td>0.0</td>\n",
       "      <td>...</td>\n",
       "      <td>0</td>\n",
       "      <td>0</td>\n",
       "      <td>0</td>\n",
       "      <td>0</td>\n",
       "      <td>0</td>\n",
       "      <td>29</td>\n",
       "      <td>57</td>\n",
       "      <td>23</td>\n",
       "      <td>7.0</td>\n",
       "      <td>2</td>\n",
       "    </tr>\n",
       "    <tr>\n",
       "      <th>590537</th>\n",
       "      <td>0</td>\n",
       "      <td>0.970680</td>\n",
       "      <td>0.634456</td>\n",
       "      <td>0.999528</td>\n",
       "      <td>0.992082</td>\n",
       "      <td>0.998730</td>\n",
       "      <td>0.998515</td>\n",
       "      <td>1.0</td>\n",
       "      <td>1.0</td>\n",
       "      <td>0.0</td>\n",
       "      <td>...</td>\n",
       "      <td>0</td>\n",
       "      <td>0</td>\n",
       "      <td>0</td>\n",
       "      <td>0</td>\n",
       "      <td>0</td>\n",
       "      <td>59</td>\n",
       "      <td>57</td>\n",
       "      <td>23</td>\n",
       "      <td>7.0</td>\n",
       "      <td>2</td>\n",
       "    </tr>\n",
       "    <tr>\n",
       "      <th>590538</th>\n",
       "      <td>0</td>\n",
       "      <td>0.985482</td>\n",
       "      <td>0.392389</td>\n",
       "      <td>0.988773</td>\n",
       "      <td>0.992082</td>\n",
       "      <td>0.998730</td>\n",
       "      <td>0.998515</td>\n",
       "      <td>1.0</td>\n",
       "      <td>1.0</td>\n",
       "      <td>0.0</td>\n",
       "      <td>...</td>\n",
       "      <td>0</td>\n",
       "      <td>0</td>\n",
       "      <td>1</td>\n",
       "      <td>0</td>\n",
       "      <td>0</td>\n",
       "      <td>8</td>\n",
       "      <td>58</td>\n",
       "      <td>23</td>\n",
       "      <td>7.0</td>\n",
       "      <td>2</td>\n",
       "    </tr>\n",
       "    <tr>\n",
       "      <th>590539</th>\n",
       "      <td>0</td>\n",
       "      <td>0.977133</td>\n",
       "      <td>0.808577</td>\n",
       "      <td>0.959430</td>\n",
       "      <td>0.992082</td>\n",
       "      <td>0.986811</td>\n",
       "      <td>0.998515</td>\n",
       "      <td>2.0</td>\n",
       "      <td>1.0</td>\n",
       "      <td>0.0</td>\n",
       "      <td>...</td>\n",
       "      <td>0</td>\n",
       "      <td>0</td>\n",
       "      <td>0</td>\n",
       "      <td>1</td>\n",
       "      <td>0</td>\n",
       "      <td>51</td>\n",
       "      <td>58</td>\n",
       "      <td>23</td>\n",
       "      <td>7.0</td>\n",
       "      <td>2</td>\n",
       "    </tr>\n",
       "  </tbody>\n",
       "</table>\n",
       "<p>5 rows × 670 columns</p>\n",
       "</div>"
      ],
      "text/plain": [
       "        isFraud     addr1     card1     card2     card3     card5     addr2  \\\n",
       "590535        0  0.974571  0.319039  0.000000  0.992082  0.998925  0.998515   \n",
       "590536        0  0.968118  0.542883  0.964619  0.992082  0.998730  0.998515   \n",
       "590537        0  0.970680  0.634456  0.999528  0.992082  0.998730  0.998515   \n",
       "590538        0  0.985482  0.392389  0.988773  0.992082  0.998730  0.998515   \n",
       "590539        0  0.977133  0.808577  0.959430  0.992082  0.986811  0.998515   \n",
       "\n",
       "         C1   C2   C3  ...  TransactionAmt_F  TransactionAmt_G  \\\n",
       "590535  2.0  1.0  0.0  ...                 0                 0   \n",
       "590536  1.0  1.0  0.0  ...                 0                 0   \n",
       "590537  1.0  1.0  0.0  ...                 0                 0   \n",
       "590538  1.0  1.0  0.0  ...                 0                 0   \n",
       "590539  2.0  1.0  0.0  ...                 0                 0   \n",
       "\n",
       "        TransactionAmt_H  TransactionAmt_I  TransactionAmt_J  transSec  \\\n",
       "590535                 0                 0                 0        27   \n",
       "590536                 0                 0                 0        29   \n",
       "590537                 0                 0                 0        59   \n",
       "590538                 1                 0                 0         8   \n",
       "590539                 0                 1                 0        51   \n",
       "\n",
       "        transMin  transHour  transMonth  transDay  \n",
       "590535        57         23         7.0         2  \n",
       "590536        57         23         7.0         2  \n",
       "590537        57         23         7.0         2  \n",
       "590538        58         23         7.0         2  \n",
       "590539        58         23         7.0         2  \n",
       "\n",
       "[5 rows x 670 columns]"
      ]
     },
     "execution_count": 45,
     "metadata": {},
     "output_type": "execute_result"
    }
   ],
   "source": [
    "processedTrainTransaction.tail()"
   ]
  },
  {
   "cell_type": "code",
   "execution_count": 46,
   "metadata": {},
   "outputs": [
    {
     "data": {
      "text/plain": [
       "<matplotlib.axes._subplots.AxesSubplot at 0x25c0e6ef860>"
      ]
     },
     "execution_count": 46,
     "metadata": {},
     "output_type": "execute_result"
    },
    {
     "data": {
      "image/png": "[encoded data removed]",
      "text/plain": [
       "<Figure size 432x288 with 1 Axes>"
      ]
     },
     "metadata": {
      "needs_background": "light"
     },
     "output_type": "display_data"
    }
   ],
   "source": [
    "sns.countplot(processedTrainTransaction['isFraud'])\n",
    "# sns.countplot(processedTrainTransaction['transMonth'],hue=processedTrainTransaction['isFraud'])"
   ]
  },
  {
   "cell_type": "code",
   "execution_count": 47,
   "metadata": {},
   "outputs": [
    {
     "data": {
      "text/plain": [
       "<matplotlib.axes._subplots.AxesSubplot at 0x25c0fb6c438>"
      ]
     },
     "execution_count": 47,
     "metadata": {},
     "output_type": "execute_result"
    },
    {
     "data": {
      "image/png": "[encoded data removed]",
      "text/plain": [
       "<Figure size 432x288 with 1 Axes>"
      ]
     },
     "metadata": {
      "needs_background": "light"
     },
     "output_type": "display_data"
    }
   ],
   "source": [
    "# sns.countplot(processedTrainTransaction['transMonth'])\n",
    "sns.countplot(processedTrainTransaction['transMonth'],hue=processedTrainTransaction['isFraud'])"
   ]
  },
  {
   "cell_type": "code",
   "execution_count": 48,
   "metadata": {},
   "outputs": [
    {
     "data": {
      "text/plain": [
       "<matplotlib.axes._subplots.AxesSubplot at 0x25cae2b6cc0>"
      ]
     },
     "execution_count": 48,
     "metadata": {},
     "output_type": "execute_result"
    },
    {
     "data": {
      "image/png": "[encoded data removed]",
      "text/plain": [
       "<Figure size 432x288 with 1 Axes>"
      ]
     },
     "metadata": {
      "needs_background": "light"
     },
     "output_type": "display_data"
    }
   ],
   "source": [
    "# sns.countplot(processedTrainTransaction['transDay'])\n",
    "sns.countplot(processedTrainTransaction['transDay'],hue=processedTrainTransaction['isFraud'])"
   ]
  },
  {
   "cell_type": "code",
   "execution_count": 49,
   "metadata": {},
   "outputs": [
    {
     "data": {
      "text/plain": [
       "<matplotlib.axes._subplots.AxesSubplot at 0x25c0fc1e1d0>"
      ]
     },
     "execution_count": 49,
     "metadata": {},
     "output_type": "execute_result"
    },
    {
     "data": {
      "image/png": "[encoded data removed]",
      "text/plain": [
       "<Figure size 432x288 with 1 Axes>"
      ]
     },
     "metadata": {
      "needs_background": "light"
     },
     "output_type": "display_data"
    }
   ],
   "source": [
    "# sns.countplot(processedTrainTransaction['transHour'])\n",
    "sns.countplot(processedTrainTransaction['transHour'],hue=processedTrainTransaction['isFraud'])"
   ]
  },
  {
   "cell_type": "code",
   "execution_count": 50,
   "metadata": {},
   "outputs": [],
   "source": [
    "# sns.countplot(processedTrainTransaction['transMin'])"
   ]
  },
  {
   "cell_type": "code",
   "execution_count": 51,
   "metadata": {},
   "outputs": [],
   "source": [
    "# sns.countplot(processedTrainTransaction['transSec'])"
   ]
  },
  {
   "cell_type": "code",
   "execution_count": 52,
   "metadata": {},
   "outputs": [],
   "source": [
    "target='isFraud'\n",
    "toUseCol=list(processedTrainTransaction.columns)\n",
    "toUseCol.remove(target)"
   ]
  },
  {
   "cell_type": "code",
   "execution_count": 53,
   "metadata": {},
   "outputs": [
    {
     "data": {
      "text/plain": [
       "((414542, 670), (83571, 670), (92427, 670))"
      ]
     },
     "execution_count": 53,
     "metadata": {},
     "output_type": "execute_result"
    }
   ],
   "source": [
    "trainPart=processedTrainTransaction[processedTrainTransaction['transMonth']<=4]\n",
    "valPart=processedTrainTransaction[processedTrainTransaction['transMonth']==5]\n",
    "testPart=processedTrainTransaction[processedTrainTransaction['transMonth']>5]\n",
    "trainPart.shape,valPart.shape,testPart.shape"
   ]
  },
  {
   "cell_type": "code",
   "execution_count": 54,
   "metadata": {},
   "outputs": [],
   "source": [
    "from sklearn import ensemble,metrics"
   ]
  },
  {
   "cell_type": "code",
   "execution_count": 55,
   "metadata": {},
   "outputs": [],
   "source": [
    "# model1=ensemble.RandomForestClassifier().fit(trainPart[toUseCol],trainPart[target])\n",
    "# predTrain=model1.predict_proba(trainPart[toUseCol])\n",
    "# scoreOftrain=metrics.roc_auc_score(trainPart[target],predTrain[:,1])\n",
    "# valPred=model1.predict_proba(valPart[toUseCol])\n",
    "# scoreOfVal=metrics.roc_auc_score(valPart[target],valPred[:,1])\n",
    "# print('ROC AUC for train {} and for validation {}'.format(scoreOftrain,scoreOfVal))"
   ]
  },
  {
   "cell_type": "code",
   "execution_count": 56,
   "metadata": {},
   "outputs": [],
   "source": [
    "# model2=ensemble.GradientBoostingClassifier().fit(trainPart[toUseCol],trainPart[target])\n",
    "# predTrain2=model2.predict_proba(trainPart[toUseCol])\n",
    "# scoreOftrain2=metrics.roc_auc_score(trainPart[target],predTrain2[:,1])\n",
    "# valPred2=model2.predict_proba(valPart[toUseCol])\n",
    "# scoreOfVal2=metrics.roc_auc_score(valPart[target],valPred2[:,1])\n",
    "# print('ROC AUC for train {} and for validation {}'.format(scoreOftrain2,scoreOfVal2))"
   ]
  },
  {
   "cell_type": "code",
   "execution_count": 57,
   "metadata": {},
   "outputs": [],
   "source": [
    "import lightgbm as lgb"
   ]
  },
  {
   "cell_type": "code",
   "execution_count": 58,
   "metadata": {},
   "outputs": [],
   "source": [
    "trainData=lgb.Dataset(trainPart[toUseCol],trainPart[target])\n",
    "valData=lgb.Dataset(valPart[toUseCol],valPart[target])"
   ]
  },
  {
   "cell_type": "code",
   "execution_count": 59,
   "metadata": {
    "scrolled": true
   },
   "outputs": [
    {
     "name": "stdout",
     "output_type": "stream",
     "text": [
      "Training until validation scores don't improve for 10 rounds.\n",
      "[10]\ttrain's auc: 0.852763\tvalid's auc: 0.839515\n",
      "[20]\ttrain's auc: 0.859934\tvalid's auc: 0.84519\n",
      "[30]\ttrain's auc: 0.868815\tvalid's auc: 0.851122\n",
      "[40]\ttrain's auc: 0.87171\tvalid's auc: 0.854095\n",
      "[50]\ttrain's auc: 0.873759\tvalid's auc: 0.85592\n",
      "[60]\ttrain's auc: 0.875307\tvalid's auc: 0.856669\n",
      "[70]\ttrain's auc: 0.877102\tvalid's auc: 0.857813\n",
      "[80]\ttrain's auc: 0.878757\tvalid's auc: 0.859454\n",
      "[90]\ttrain's auc: 0.880553\tvalid's auc: 0.86079\n",
      "[100]\ttrain's auc: 0.881997\tvalid's auc: 0.861546\n",
      "[110]\ttrain's auc: 0.883338\tvalid's auc: 0.862543\n",
      "[120]\ttrain's auc: 0.884486\tvalid's auc: 0.863508\n",
      "[130]\ttrain's auc: 0.88568\tvalid's auc: 0.86443\n",
      "[140]\ttrain's auc: 0.886837\tvalid's auc: 0.865234\n",
      "[150]\ttrain's auc: 0.888007\tvalid's auc: 0.865652\n",
      "[160]\ttrain's auc: 0.889055\tvalid's auc: 0.866396\n",
      "[170]\ttrain's auc: 0.889931\tvalid's auc: 0.867085\n",
      "[180]\ttrain's auc: 0.890865\tvalid's auc: 0.867688\n",
      "[190]\ttrain's auc: 0.891616\tvalid's auc: 0.868203\n",
      "[200]\ttrain's auc: 0.892542\tvalid's auc: 0.868841\n",
      "[210]\ttrain's auc: 0.89363\tvalid's auc: 0.869408\n",
      "[220]\ttrain's auc: 0.894456\tvalid's auc: 0.870134\n",
      "[230]\ttrain's auc: 0.895223\tvalid's auc: 0.870713\n",
      "[240]\ttrain's auc: 0.896079\tvalid's auc: 0.871313\n",
      "[250]\ttrain's auc: 0.896968\tvalid's auc: 0.871973\n",
      "[260]\ttrain's auc: 0.897913\tvalid's auc: 0.872688\n",
      "[270]\ttrain's auc: 0.898797\tvalid's auc: 0.873301\n",
      "[280]\ttrain's auc: 0.899594\tvalid's auc: 0.874179\n",
      "[290]\ttrain's auc: 0.900324\tvalid's auc: 0.874695\n",
      "[300]\ttrain's auc: 0.90109\tvalid's auc: 0.874979\n",
      "[310]\ttrain's auc: 0.901934\tvalid's auc: 0.875443\n",
      "[320]\ttrain's auc: 0.902785\tvalid's auc: 0.875892\n",
      "[330]\ttrain's auc: 0.903811\tvalid's auc: 0.876808\n",
      "[340]\ttrain's auc: 0.904453\tvalid's auc: 0.877134\n",
      "[350]\ttrain's auc: 0.905296\tvalid's auc: 0.8778\n",
      "[360]\ttrain's auc: 0.906169\tvalid's auc: 0.878586\n",
      "[370]\ttrain's auc: 0.907065\tvalid's auc: 0.879258\n",
      "[380]\ttrain's auc: 0.907915\tvalid's auc: 0.879763\n",
      "[390]\ttrain's auc: 0.908586\tvalid's auc: 0.880156\n",
      "[400]\ttrain's auc: 0.909226\tvalid's auc: 0.880508\n",
      "[410]\ttrain's auc: 0.90995\tvalid's auc: 0.880964\n",
      "[420]\ttrain's auc: 0.910562\tvalid's auc: 0.881559\n",
      "[430]\ttrain's auc: 0.911146\tvalid's auc: 0.881911\n",
      "[440]\ttrain's auc: 0.911852\tvalid's auc: 0.882472\n",
      "[450]\ttrain's auc: 0.912534\tvalid's auc: 0.88295\n",
      "[460]\ttrain's auc: 0.913167\tvalid's auc: 0.883491\n",
      "[470]\ttrain's auc: 0.913784\tvalid's auc: 0.883923\n",
      "[480]\ttrain's auc: 0.914366\tvalid's auc: 0.884341\n",
      "[490]\ttrain's auc: 0.91489\tvalid's auc: 0.88465\n",
      "[500]\ttrain's auc: 0.915477\tvalid's auc: 0.885117\n",
      "[510]\ttrain's auc: 0.916111\tvalid's auc: 0.885674\n",
      "[520]\ttrain's auc: 0.916683\tvalid's auc: 0.886028\n",
      "[530]\ttrain's auc: 0.917353\tvalid's auc: 0.886455\n",
      "[540]\ttrain's auc: 0.917879\tvalid's auc: 0.886923\n",
      "[550]\ttrain's auc: 0.918421\tvalid's auc: 0.887269\n",
      "[560]\ttrain's auc: 0.918912\tvalid's auc: 0.887566\n",
      "[570]\ttrain's auc: 0.919512\tvalid's auc: 0.887997\n",
      "[580]\ttrain's auc: 0.920044\tvalid's auc: 0.888455\n",
      "[590]\ttrain's auc: 0.920472\tvalid's auc: 0.888729\n",
      "[600]\ttrain's auc: 0.920925\tvalid's auc: 0.889071\n",
      "[610]\ttrain's auc: 0.921411\tvalid's auc: 0.889423\n",
      "[620]\ttrain's auc: 0.921958\tvalid's auc: 0.889867\n",
      "[630]\ttrain's auc: 0.922411\tvalid's auc: 0.890312\n",
      "[640]\ttrain's auc: 0.922817\tvalid's auc: 0.890747\n",
      "[650]\ttrain's auc: 0.923227\tvalid's auc: 0.890878\n",
      "[660]\ttrain's auc: 0.923627\tvalid's auc: 0.891116\n",
      "[670]\ttrain's auc: 0.924032\tvalid's auc: 0.891367\n",
      "[680]\ttrain's auc: 0.92441\tvalid's auc: 0.891654\n",
      "[690]\ttrain's auc: 0.924843\tvalid's auc: 0.892054\n",
      "[700]\ttrain's auc: 0.925219\tvalid's auc: 0.892315\n",
      "[710]\ttrain's auc: 0.925636\tvalid's auc: 0.892597\n",
      "[720]\ttrain's auc: 0.926107\tvalid's auc: 0.89302\n",
      "[730]\ttrain's auc: 0.926466\tvalid's auc: 0.89327\n",
      "[740]\ttrain's auc: 0.92682\tvalid's auc: 0.893537\n",
      "[750]\ttrain's auc: 0.927228\tvalid's auc: 0.893886\n",
      "[760]\ttrain's auc: 0.927518\tvalid's auc: 0.894084\n",
      "[770]\ttrain's auc: 0.927881\tvalid's auc: 0.894376\n",
      "[780]\ttrain's auc: 0.928232\tvalid's auc: 0.894633\n",
      "[790]\ttrain's auc: 0.928608\tvalid's auc: 0.894936\n",
      "[800]\ttrain's auc: 0.928948\tvalid's auc: 0.89517\n",
      "[810]\ttrain's auc: 0.929208\tvalid's auc: 0.895302\n",
      "[820]\ttrain's auc: 0.929522\tvalid's auc: 0.895554\n",
      "[830]\ttrain's auc: 0.929891\tvalid's auc: 0.895781\n",
      "[840]\ttrain's auc: 0.930175\tvalid's auc: 0.895959\n",
      "[850]\ttrain's auc: 0.930542\tvalid's auc: 0.896278\n",
      "[860]\ttrain's auc: 0.930864\tvalid's auc: 0.896422\n",
      "[870]\ttrain's auc: 0.931171\tvalid's auc: 0.896727\n",
      "[880]\ttrain's auc: 0.931535\tvalid's auc: 0.896925\n",
      "[890]\ttrain's auc: 0.931818\tvalid's auc: 0.897216\n",
      "[900]\ttrain's auc: 0.932046\tvalid's auc: 0.897376\n",
      "[910]\ttrain's auc: 0.93233\tvalid's auc: 0.897645\n",
      "[920]\ttrain's auc: 0.93255\tvalid's auc: 0.897763\n",
      "[930]\ttrain's auc: 0.93279\tvalid's auc: 0.897876\n",
      "[940]\ttrain's auc: 0.93303\tvalid's auc: 0.897988\n",
      "[950]\ttrain's auc: 0.933377\tvalid's auc: 0.89827\n",
      "[960]\ttrain's auc: 0.933743\tvalid's auc: 0.898657\n",
      "[970]\ttrain's auc: 0.933991\tvalid's auc: 0.898765\n",
      "[980]\ttrain's auc: 0.934208\tvalid's auc: 0.898914\n",
      "[990]\ttrain's auc: 0.934448\tvalid's auc: 0.899054\n",
      "[1000]\ttrain's auc: 0.934663\tvalid's auc: 0.899145\n",
      "[1010]\ttrain's auc: 0.934904\tvalid's auc: 0.899349\n",
      "[1020]\ttrain's auc: 0.935184\tvalid's auc: 0.89955\n",
      "[1030]\ttrain's auc: 0.935473\tvalid's auc: 0.899778\n",
      "[1040]\ttrain's auc: 0.935687\tvalid's auc: 0.90002\n",
      "[1050]\ttrain's auc: 0.93591\tvalid's auc: 0.900186\n",
      "[1060]\ttrain's auc: 0.936174\tvalid's auc: 0.900381\n",
      "[1070]\ttrain's auc: 0.936424\tvalid's auc: 0.900521\n",
      "[1080]\ttrain's auc: 0.936663\tvalid's auc: 0.900643\n",
      "[1090]\ttrain's auc: 0.936876\tvalid's auc: 0.900718\n",
      "[1100]\ttrain's auc: 0.93708\tvalid's auc: 0.900844\n",
      "[1110]\ttrain's auc: 0.937267\tvalid's auc: 0.900926\n",
      "[1120]\ttrain's auc: 0.93746\tvalid's auc: 0.901004\n",
      "[1130]\ttrain's auc: 0.937641\tvalid's auc: 0.901065\n",
      "[1140]\ttrain's auc: 0.937827\tvalid's auc: 0.90122\n",
      "[1150]\ttrain's auc: 0.938077\tvalid's auc: 0.901392\n",
      "[1160]\ttrain's auc: 0.938304\tvalid's auc: 0.901593\n",
      "[1170]\ttrain's auc: 0.938488\tvalid's auc: 0.901617\n",
      "[1180]\ttrain's auc: 0.938732\tvalid's auc: 0.901785\n",
      "[1190]\ttrain's auc: 0.93895\tvalid's auc: 0.901941\n",
      "[1200]\ttrain's auc: 0.939165\tvalid's auc: 0.902093\n",
      "[1210]\ttrain's auc: 0.939416\tvalid's auc: 0.902308\n",
      "[1220]\ttrain's auc: 0.939648\tvalid's auc: 0.902395\n",
      "[1230]\ttrain's auc: 0.93984\tvalid's auc: 0.902488\n",
      "[1240]\ttrain's auc: 0.940005\tvalid's auc: 0.902563\n",
      "[1250]\ttrain's auc: 0.940255\tvalid's auc: 0.902727\n",
      "[1260]\ttrain's auc: 0.940476\tvalid's auc: 0.902812\n",
      "[1270]\ttrain's auc: 0.940678\tvalid's auc: 0.902905\n",
      "[1280]\ttrain's auc: 0.940908\tvalid's auc: 0.90311\n",
      "[1290]\ttrain's auc: 0.94106\tvalid's auc: 0.903172\n",
      "[1300]\ttrain's auc: 0.941195\tvalid's auc: 0.903251\n",
      "[1310]\ttrain's auc: 0.941358\tvalid's auc: 0.903335\n",
      "[1320]\ttrain's auc: 0.941585\tvalid's auc: 0.903539\n",
      "[1330]\ttrain's auc: 0.941788\tvalid's auc: 0.903662\n",
      "[1340]\ttrain's auc: 0.941951\tvalid's auc: 0.903751\n",
      "[1350]\ttrain's auc: 0.942125\tvalid's auc: 0.903865\n",
      "[1360]\ttrain's auc: 0.942321\tvalid's auc: 0.903996\n",
      "[1370]\ttrain's auc: 0.942476\tvalid's auc: 0.904095\n",
      "[1380]\ttrain's auc: 0.942633\tvalid's auc: 0.904199\n",
      "[1390]\ttrain's auc: 0.942825\tvalid's auc: 0.904311\n",
      "[1400]\ttrain's auc: 0.943005\tvalid's auc: 0.904462\n",
      "[1410]\ttrain's auc: 0.9432\tvalid's auc: 0.904575\n",
      "[1420]\ttrain's auc: 0.943344\tvalid's auc: 0.904659\n",
      "[1430]\ttrain's auc: 0.9435\tvalid's auc: 0.904758\n",
      "[1440]\ttrain's auc: 0.943732\tvalid's auc: 0.904962\n",
      "[1450]\ttrain's auc: 0.943931\tvalid's auc: 0.905192\n",
      "[1460]\ttrain's auc: 0.944083\tvalid's auc: 0.90528\n",
      "[1470]\ttrain's auc: 0.944247\tvalid's auc: 0.905336\n",
      "[1480]\ttrain's auc: 0.944408\tvalid's auc: 0.9054\n",
      "[1490]\ttrain's auc: 0.944623\tvalid's auc: 0.905604\n",
      "[1500]\ttrain's auc: 0.944769\tvalid's auc: 0.905707\n",
      "[1510]\ttrain's auc: 0.944969\tvalid's auc: 0.905817\n",
      "[1520]\ttrain's auc: 0.945151\tvalid's auc: 0.905969\n",
      "[1530]\ttrain's auc: 0.945314\tvalid's auc: 0.906099\n",
      "[1540]\ttrain's auc: 0.945517\tvalid's auc: 0.906236\n",
      "[1550]\ttrain's auc: 0.945656\tvalid's auc: 0.906302\n",
      "[1560]\ttrain's auc: 0.945813\tvalid's auc: 0.906449\n",
      "[1570]\ttrain's auc: 0.945968\tvalid's auc: 0.906529\n",
      "[1580]\ttrain's auc: 0.946154\tvalid's auc: 0.906618\n",
      "[1590]\ttrain's auc: 0.946281\tvalid's auc: 0.906651\n",
      "[1600]\ttrain's auc: 0.946417\tvalid's auc: 0.906716\n",
      "[1610]\ttrain's auc: 0.946573\tvalid's auc: 0.906793\n",
      "[1620]\ttrain's auc: 0.946753\tvalid's auc: 0.90688\n",
      "[1630]\ttrain's auc: 0.946902\tvalid's auc: 0.906918\n"
     ]
    },
    {
     "name": "stdout",
     "output_type": "stream",
     "text": [
      "[1640]\ttrain's auc: 0.947043\tvalid's auc: 0.906988\n",
      "[1650]\ttrain's auc: 0.947229\tvalid's auc: 0.90706\n",
      "[1660]\ttrain's auc: 0.947361\tvalid's auc: 0.907102\n",
      "[1670]\ttrain's auc: 0.947493\tvalid's auc: 0.907154\n",
      "[1680]\ttrain's auc: 0.947615\tvalid's auc: 0.907225\n",
      "[1690]\ttrain's auc: 0.947807\tvalid's auc: 0.907352\n",
      "[1700]\ttrain's auc: 0.947918\tvalid's auc: 0.907431\n",
      "[1710]\ttrain's auc: 0.948038\tvalid's auc: 0.907452\n",
      "[1720]\ttrain's auc: 0.948133\tvalid's auc: 0.907492\n",
      "[1730]\ttrain's auc: 0.948262\tvalid's auc: 0.907551\n",
      "[1740]\ttrain's auc: 0.948397\tvalid's auc: 0.907626\n",
      "[1750]\ttrain's auc: 0.948542\tvalid's auc: 0.907665\n",
      "[1760]\ttrain's auc: 0.948674\tvalid's auc: 0.907749\n",
      "[1770]\ttrain's auc: 0.948797\tvalid's auc: 0.90782\n",
      "[1780]\ttrain's auc: 0.948933\tvalid's auc: 0.907907\n",
      "[1790]\ttrain's auc: 0.949083\tvalid's auc: 0.907966\n",
      "[1800]\ttrain's auc: 0.949244\tvalid's auc: 0.90807\n",
      "[1810]\ttrain's auc: 0.949367\tvalid's auc: 0.908127\n",
      "[1820]\ttrain's auc: 0.949476\tvalid's auc: 0.908205\n",
      "[1830]\ttrain's auc: 0.949622\tvalid's auc: 0.90832\n",
      "[1840]\ttrain's auc: 0.949743\tvalid's auc: 0.908373\n",
      "[1850]\ttrain's auc: 0.949886\tvalid's auc: 0.908514\n",
      "[1860]\ttrain's auc: 0.950022\tvalid's auc: 0.908601\n",
      "[1870]\ttrain's auc: 0.950157\tvalid's auc: 0.908665\n",
      "[1880]\ttrain's auc: 0.950284\tvalid's auc: 0.908722\n",
      "[1890]\ttrain's auc: 0.950389\tvalid's auc: 0.908752\n",
      "[1900]\ttrain's auc: 0.950504\tvalid's auc: 0.908831\n",
      "[1910]\ttrain's auc: 0.950631\tvalid's auc: 0.908952\n",
      "[1920]\ttrain's auc: 0.950752\tvalid's auc: 0.909009\n",
      "[1930]\ttrain's auc: 0.950887\tvalid's auc: 0.90909\n",
      "[1940]\ttrain's auc: 0.951022\tvalid's auc: 0.90915\n",
      "[1950]\ttrain's auc: 0.951139\tvalid's auc: 0.909219\n",
      "[1960]\ttrain's auc: 0.951276\tvalid's auc: 0.909259\n",
      "[1970]\ttrain's auc: 0.951411\tvalid's auc: 0.909364\n",
      "[1980]\ttrain's auc: 0.951535\tvalid's auc: 0.909429\n",
      "[1990]\ttrain's auc: 0.951651\tvalid's auc: 0.909488\n",
      "[2000]\ttrain's auc: 0.951779\tvalid's auc: 0.909547\n",
      "[2010]\ttrain's auc: 0.951944\tvalid's auc: 0.909695\n",
      "[2020]\ttrain's auc: 0.952099\tvalid's auc: 0.909873\n",
      "[2030]\ttrain's auc: 0.952204\tvalid's auc: 0.909954\n",
      "[2040]\ttrain's auc: 0.952317\tvalid's auc: 0.909987\n",
      "[2050]\ttrain's auc: 0.952502\tvalid's auc: 0.910138\n",
      "[2060]\ttrain's auc: 0.95265\tvalid's auc: 0.910218\n",
      "[2070]\ttrain's auc: 0.952769\tvalid's auc: 0.910283\n",
      "[2080]\ttrain's auc: 0.952856\tvalid's auc: 0.910352\n",
      "[2090]\ttrain's auc: 0.953019\tvalid's auc: 0.910401\n",
      "[2100]\ttrain's auc: 0.953126\tvalid's auc: 0.910496\n",
      "[2110]\ttrain's auc: 0.953256\tvalid's auc: 0.910588\n",
      "[2120]\ttrain's auc: 0.953365\tvalid's auc: 0.910617\n",
      "[2130]\ttrain's auc: 0.953461\tvalid's auc: 0.910657\n",
      "[2140]\ttrain's auc: 0.953579\tvalid's auc: 0.910689\n",
      "[2150]\ttrain's auc: 0.953694\tvalid's auc: 0.910717\n",
      "[2160]\ttrain's auc: 0.953822\tvalid's auc: 0.910781\n",
      "[2170]\ttrain's auc: 0.953924\tvalid's auc: 0.910797\n",
      "[2180]\ttrain's auc: 0.954039\tvalid's auc: 0.910826\n",
      "[2190]\ttrain's auc: 0.954133\tvalid's auc: 0.910829\n",
      "[2200]\ttrain's auc: 0.954247\tvalid's auc: 0.910886\n",
      "[2210]\ttrain's auc: 0.95438\tvalid's auc: 0.910908\n",
      "[2220]\ttrain's auc: 0.954473\tvalid's auc: 0.910922\n",
      "[2230]\ttrain's auc: 0.954578\tvalid's auc: 0.910926\n",
      "Early stopping, best iteration is:\n",
      "[2224]\ttrain's auc: 0.954516\tvalid's auc: 0.910935\n"
     ]
    }
   ],
   "source": [
    "lgb_params = {\n",
    "        'boosting_type': 'gbdt',\n",
    "        'objective': 'binary',\n",
    "#         'metric':metrics,\n",
    "        'learning_rate': 0.01,\n",
    "        #'is_unbalance': 'true',  #because training data is unbalance (replaced with scale_pos_weight)\n",
    "        'num_leaves': 31,  # we should let it be smaller than 2^(max_depth)\n",
    "        'max_depth': -1,  # -1 means no limit\n",
    "        'min_child_samples': 20,  # Minimum number of data need in a child(min_data_in_leaf)\n",
    "        'max_bin': 255,  # Number of bucketed bin for feature values\n",
    "        'subsample': 0.6,  # Subsample ratio of the training instance.\n",
    "        'subsample_freq': 0,  # frequence of subsample, <=0 means no enable\n",
    "        'colsample_bytree': 0.3,  # Subsample ratio of columns when constructing each tree.\n",
    "        'min_child_weight': 5,  # Minimum sum of instance weight(hessian) needed in a child(leaf)\n",
    "        'subsample_for_bin': 200000,  # Number of samples for constructing bin\n",
    "        'min_split_gain': 0,  # lambda_l1, lambda_l2 and min_gain_to_split to regularization\n",
    "        'reg_alpha': 0,  # L1 regularization term on weights\n",
    "        'reg_lambda': 0,  # L2 regularization term on weights\n",
    "        'nthread': 4,\n",
    "        'verbose': 0,\n",
    "        'metric':'auc'\n",
    "    }\n",
    "\n",
    "num_boost_round=3000\n",
    "early_stopping_rounds=10\n",
    "\n",
    "model3 = lgb.train(lgb_params, \n",
    "                     trainData, \n",
    "                     valid_sets=[trainData, valData], \n",
    "                   valid_names=['train','valid'],\n",
    "#                      evals_result=evals_results, \n",
    "                     num_boost_round=num_boost_round,\n",
    "                     early_stopping_rounds=early_stopping_rounds,\n",
    "                     verbose_eval=10)"
   ]
  },
  {
   "cell_type": "code",
   "execution_count": 60,
   "metadata": {},
   "outputs": [
    {
     "name": "stdout",
     "output_type": "stream",
     "text": [
      "ROC AUC for train 0.9545161450807627 and for validation 0.9109348009833307 for test 0.9038062195084504\n"
     ]
    }
   ],
   "source": [
    "predTrain3=model3.predict(trainPart[toUseCol])\n",
    "scoreOftrain3=metrics.roc_auc_score(trainPart[target],predTrain3)\n",
    "valPred3=model3.predict(valPart[toUseCol])\n",
    "scoreOfVal3=metrics.roc_auc_score(valPart[target],valPred3)\n",
    "testPred3=model3.predict(testPart[toUseCol])\n",
    "scoreOfTest3=metrics.roc_auc_score(testPart[target],testPred3)\n",
    "print('ROC AUC for train {} and for validation {} for test {}'.format(scoreOftrain3,scoreOfVal3,scoreOfTest3))"
   ]
  },
  {
   "cell_type": "code",
   "execution_count": null,
   "metadata": {},
   "outputs": [],
   "source": [
    "# ROC AUC for train 0.9543954336563735 and for validation 0.9114576197806739 for test 0.9040375652381945"
   ]
  }
 ],
 "metadata": {
  "kernelspec": {
   "display_name": "Python 3",
   "language": "python",
   "name": "python3"
  },
  "language_info": {
   "codemirror_mode": {
    "name": "ipython",
    "version": 3
   },
   "file_extension": ".py",
   "mimetype": "text/x-python",
   "name": "python",
   "nbconvert_exporter": "python",
   "pygments_lexer": "ipython3",
   "version": "3.6.8"
  }
 },
 "nbformat": 4,
 "nbformat_minor": 2
}
