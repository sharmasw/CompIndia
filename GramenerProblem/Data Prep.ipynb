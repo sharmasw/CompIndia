{
 "cells": [
  {
   "cell_type": "code",
   "execution_count": 1,
   "metadata": {},
   "outputs": [],
   "source": [
    "import json\n",
    "import matplotlib.pyplot as plt\n",
    "%matplotlib inline\n",
    "import skimage\n",
    "import struct\n",
    "from struct import unpack\n",
    "from tqdm import tqdm\n",
    "import shutil\n",
    "import os\n",
    "from sklearn import model_selection\n",
    "# import ndjson"
   ]
  },
  {
   "cell_type": "markdown",
   "metadata": {},
   "source": [
    "## Getting Data"
   ]
  },
  {
   "cell_type": "code",
   "execution_count": 2,
   "metadata": {},
   "outputs": [],
   "source": [
    "# fP=open('full_simplified_dog.ndjson','r').read()\n",
    "# kk=ndjson.load('full_simplified_dog.ndjson')\n",
    "# finalData=ndjson.loads(fP)\n",
    "# ll=finalData[0]['drawing']"
   ]
  },
  {
   "cell_type": "code",
   "execution_count": 3,
   "metadata": {},
   "outputs": [],
   "source": [
    "from quickdraw import QuickDrawDataGroup\n",
    "\n",
    "\n",
    "# for drawing in qdg.drawings:\n",
    "#     print(drawing)"
   ]
  },
  {
   "cell_type": "code",
   "execution_count": 4,
   "metadata": {},
   "outputs": [],
   "source": [
    "classNameList=['dog','cat','van','truck']"
   ]
  },
  {
   "cell_type": "code",
   "execution_count": 5,
   "metadata": {},
   "outputs": [
    {
     "name": "stdout",
     "output_type": "stream",
     "text": [
      "downloading dog from https://storage.googleapis.com/quickdraw_dataset/full/binary/dog.bin\n",
      "download complete\n",
      "loading dog drawings\n",
      "load complete\n",
      ">>>>>  dog  counts of Images  1000\n"
     ]
    },
    {
     "name": "stderr",
     "output_type": "stream",
     "text": [
      "1000it [00:03, 246.14it/s]\n"
     ]
    },
    {
     "name": "stdout",
     "output_type": "stream",
     "text": [
      "downloading cat from https://storage.googleapis.com/quickdraw_dataset/full/binary/cat.bin\n",
      "download complete\n",
      "loading cat drawings\n",
      "load complete\n",
      ">>>>>  cat  counts of Images  1000\n"
     ]
    },
    {
     "name": "stderr",
     "output_type": "stream",
     "text": [
      "1000it [00:05, 195.63it/s]\n"
     ]
    },
    {
     "name": "stdout",
     "output_type": "stream",
     "text": [
      "downloading van from https://storage.googleapis.com/quickdraw_dataset/full/binary/van.bin\n",
      "download complete\n",
      "loading van drawings\n",
      "load complete\n",
      ">>>>>  van  counts of Images  1000\n"
     ]
    },
    {
     "name": "stderr",
     "output_type": "stream",
     "text": [
      "1000it [00:04, 223.23it/s]\n"
     ]
    },
    {
     "name": "stdout",
     "output_type": "stream",
     "text": [
      "downloading truck from https://storage.googleapis.com/quickdraw_dataset/full/binary/truck.bin\n",
      "download complete\n",
      "loading truck drawings\n",
      "load complete\n",
      ">>>>>  truck  counts of Images  1000\n"
     ]
    },
    {
     "name": "stderr",
     "output_type": "stream",
     "text": [
      "1000it [00:04, 236.14it/s]\n"
     ]
    }
   ],
   "source": [
    "for className in classNameList:\n",
    "    qdg = QuickDrawDataGroup(className)\n",
    "    print ('>>>>> ', className,' counts of Images ',qdg.drawing_count)\n",
    "    folderPath='./DataNew/'+className+'/'\n",
    "    try:\n",
    "        os.mkdir(folderPath)\n",
    "    except:\n",
    "        pass\n",
    "    for num,drawing in tqdm(enumerate(qdg.drawings)):\n",
    "        fNamTemp=folderPath+className+'_'+str(num).zfill(7)+'.jpg'\n",
    "        drawing.image.save(fNamTemp)"
   ]
  },
  {
   "cell_type": "markdown",
   "metadata": {},
   "source": [
    "## Spliting Data into Train, Validation and Test Data"
   ]
  },
  {
   "cell_type": "code",
   "execution_count": 6,
   "metadata": {},
   "outputs": [],
   "source": [
    "trainFolder='./newData2/train/'\n",
    "valFolder='./newData2/val/'\n",
    "testFolder='./newData2/test/'"
   ]
  },
  {
   "cell_type": "code",
   "execution_count": 7,
   "metadata": {},
   "outputs": [],
   "source": [
    "# os.listdir\n",
    "# className='dog'\n",
    "# folderPath='./data/'+className+'/'\n",
    "\n",
    "# listOFFiles=os.listdir(folderPath)\n",
    "# trainX,valX=model_selection.train_test_split(listOFFiles,test_size=.4)\n",
    "\n",
    "# testX,valX=model_selection.train_test_split(valX,test_size=.5)"
   ]
  },
  {
   "cell_type": "code",
   "execution_count": 9,
   "metadata": {},
   "outputs": [
    {
     "name": "stdout",
     "output_type": "stream",
     "text": [
      ">>>>  dog\n",
      ">>>>  dog  train\n",
      ">>>>  dog  validation\n",
      ">>>>  dog  test\n",
      ">>>>  cat\n",
      ">>>>  cat  train\n",
      ">>>>  cat  validation\n",
      ">>>>  cat  test\n",
      ">>>>  van\n",
      ">>>>  van  train\n",
      ">>>>  van  validation\n",
      ">>>>  van  test\n",
      ">>>>  truck\n",
      ">>>>  truck  train\n",
      ">>>>  truck  validation\n",
      ">>>>  truck  test\n"
     ]
    }
   ],
   "source": [
    "for className in classNameList:\n",
    "    print ('>>>> ',className)\n",
    "    folderPath='./DataNew/'+className+'/'\n",
    "\n",
    "    listOFFiles=os.listdir(folderPath)\n",
    "    trainX,valX=model_selection.train_test_split(listOFFiles,test_size=.4)\n",
    "\n",
    "    testX,valX=model_selection.train_test_split(valX,test_size=.5)\n",
    "    \n",
    "    folderPathdes=trainFolder+className+'/'\n",
    "    try:\n",
    "        os.mkdir(folderPathdes)\n",
    "    except:\n",
    "        pass\n",
    "    print ('>>>> ',className, ' train')\n",
    "    for fN in trainX:\n",
    "        shutil.move(folderPath+fN,folderPathdes+fN)\n",
    "\n",
    "    ####validation\n",
    "    print ('>>>> ',className, ' validation')\n",
    "\n",
    "    folderPathdes=valFolder+className+'/'\n",
    "    try:\n",
    "        os.mkdir(folderPathdes)\n",
    "    except:\n",
    "        pass\n",
    "    for fN in valX:\n",
    "        shutil.move(folderPath+fN,folderPathdes+fN)\n",
    "\n",
    "    ##test\n",
    "    print ('>>>> ',className, ' test')\n",
    "    folderPathdes=testFolder+className+'/'\n",
    "    try:\n",
    "        os.mkdir(folderPathdes)\n",
    "    except:\n",
    "        pass\n",
    "    for fN in testX:\n",
    "        shutil.move(folderPath+fN,folderPathdes+fN)"
   ]
  },
  {
   "cell_type": "code",
   "execution_count": null,
   "metadata": {},
   "outputs": [],
   "source": [
    "folderPathdes+fN"
   ]
  },
  {
   "cell_type": "code",
   "execution_count": null,
   "metadata": {},
   "outputs": [],
   "source": []
  }
 ],
 "metadata": {
  "kernelspec": {
   "display_name": "Python 3",
   "language": "python",
   "name": "python3"
  },
  "language_info": {
   "codemirror_mode": {
    "name": "ipython",
    "version": 3
   },
   "file_extension": ".py",
   "mimetype": "text/x-python",
   "name": "python",
   "nbconvert_exporter": "python",
   "pygments_lexer": "ipython3",
   "version": "3.6.8"
  }
 },
 "nbformat": 4,
 "nbformat_minor": 2
}
