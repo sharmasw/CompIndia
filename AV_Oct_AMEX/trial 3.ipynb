{
 "cells": [
  {
   "cell_type": "code",
   "execution_count": 1,
   "metadata": {},
   "outputs": [],
   "source": [
    "import pandas as pd\n",
    "import numpy as np\n",
    "import seaborn as sns\n",
    "import matplotlib.pyplot as plt\n",
    "import dateutil\n",
    "from sklearn import ensemble,metrics,linear_model,tree"
   ]
  },
  {
   "cell_type": "markdown",
   "metadata": {},
   "source": [
    "# Read All data"
   ]
  },
  {
   "cell_type": "code",
   "execution_count": 2,
   "metadata": {},
   "outputs": [],
   "source": [
    "campData=pd.read_csv('campaign_data.csv')\n",
    "coupon_item_mappingData=pd.read_csv('coupon_item_mapping.csv')\n",
    "customer_demographicsData=pd.read_csv('customer_demographics.csv')\n",
    "customer_transaction_dataData=pd.read_csv('customer_transaction_data.csv')\n",
    "item_dataData=pd.read_csv('item_data.csv')\n",
    "trainData=pd.read_csv('train.csv')\n",
    "test_QyjYwdjData=pd.read_csv('test_QyjYwdj.csv')"
   ]
  },
  {
   "cell_type": "code",
   "execution_count": 3,
   "metadata": {},
   "outputs": [
    {
     "data": {
      "text/plain": [
       "(1324566, 7)"
      ]
     },
     "execution_count": 3,
     "metadata": {},
     "output_type": "execute_result"
    }
   ],
   "source": [
    "customer_transaction_dataData.shape"
   ]
  },
  {
   "cell_type": "code",
   "execution_count": 4,
   "metadata": {},
   "outputs": [
    {
     "data": {
      "text/plain": [
       "(128595, 6)"
      ]
     },
     "execution_count": 4,
     "metadata": {},
     "output_type": "execute_result"
    }
   ],
   "source": [
    "trainData['dtType']='train'\n",
    "test_QyjYwdjData['dtType']='test'\n",
    "\n",
    "allData=trainData.append(test_QyjYwdjData,sort=False)\n",
    "allData.shape"
   ]
  },
  {
   "cell_type": "markdown",
   "metadata": {},
   "source": [
    "## feature in  Camp Data"
   ]
  },
  {
   "cell_type": "code",
   "execution_count": 5,
   "metadata": {},
   "outputs": [],
   "source": [
    "campData['start_date']=campData['start_date'].apply(lambda x: dateutil.parser.parse(x,dayfirst=True))\n",
    "campData['end_date']=campData['end_date'].apply(lambda x: dateutil.parser.parse(x,dayfirst=True))\n",
    "campData['duration']=campData['end_date']-campData['start_date']\n",
    "campData['duration']=campData['duration'].apply(lambda x: x.days)\n",
    "campData['start_Month']=campData['start_date'].apply(lambda x: x.month)\n",
    "campData['end_Month']=campData['end_date'].apply(lambda x: x.month)"
   ]
  },
  {
   "cell_type": "code",
   "execution_count": 6,
   "metadata": {},
   "outputs": [
    {
     "data": {
      "text/html": [
       "<div>\n",
       "<style scoped>\n",
       "    .dataframe tbody tr th:only-of-type {\n",
       "        vertical-align: middle;\n",
       "    }\n",
       "\n",
       "    .dataframe tbody tr th {\n",
       "        vertical-align: top;\n",
       "    }\n",
       "\n",
       "    .dataframe thead th {\n",
       "        text-align: right;\n",
       "    }\n",
       "</style>\n",
       "<table border=\"1\" class=\"dataframe\">\n",
       "  <thead>\n",
       "    <tr style=\"text-align: right;\">\n",
       "      <th></th>\n",
       "      <th>campaign_id</th>\n",
       "      <th>campaign_type</th>\n",
       "      <th>start_date</th>\n",
       "      <th>end_date</th>\n",
       "      <th>duration</th>\n",
       "      <th>start_Month</th>\n",
       "      <th>end_Month</th>\n",
       "    </tr>\n",
       "  </thead>\n",
       "  <tbody>\n",
       "    <tr>\n",
       "      <th>0</th>\n",
       "      <td>24</td>\n",
       "      <td>Y</td>\n",
       "      <td>2013-10-21</td>\n",
       "      <td>2013-12-20</td>\n",
       "      <td>60</td>\n",
       "      <td>10</td>\n",
       "      <td>12</td>\n",
       "    </tr>\n",
       "    <tr>\n",
       "      <th>1</th>\n",
       "      <td>25</td>\n",
       "      <td>Y</td>\n",
       "      <td>2013-10-21</td>\n",
       "      <td>2013-11-22</td>\n",
       "      <td>32</td>\n",
       "      <td>10</td>\n",
       "      <td>11</td>\n",
       "    </tr>\n",
       "    <tr>\n",
       "      <th>2</th>\n",
       "      <td>20</td>\n",
       "      <td>Y</td>\n",
       "      <td>2013-09-07</td>\n",
       "      <td>2013-11-16</td>\n",
       "      <td>70</td>\n",
       "      <td>9</td>\n",
       "      <td>11</td>\n",
       "    </tr>\n",
       "    <tr>\n",
       "      <th>3</th>\n",
       "      <td>23</td>\n",
       "      <td>Y</td>\n",
       "      <td>2013-10-08</td>\n",
       "      <td>2013-11-15</td>\n",
       "      <td>38</td>\n",
       "      <td>10</td>\n",
       "      <td>11</td>\n",
       "    </tr>\n",
       "    <tr>\n",
       "      <th>4</th>\n",
       "      <td>21</td>\n",
       "      <td>Y</td>\n",
       "      <td>2013-09-16</td>\n",
       "      <td>2013-10-18</td>\n",
       "      <td>32</td>\n",
       "      <td>9</td>\n",
       "      <td>10</td>\n",
       "    </tr>\n",
       "  </tbody>\n",
       "</table>\n",
       "</div>"
      ],
      "text/plain": [
       "   campaign_id campaign_type start_date   end_date  duration  start_Month  \\\n",
       "0           24             Y 2013-10-21 2013-12-20        60           10   \n",
       "1           25             Y 2013-10-21 2013-11-22        32           10   \n",
       "2           20             Y 2013-09-07 2013-11-16        70            9   \n",
       "3           23             Y 2013-10-08 2013-11-15        38           10   \n",
       "4           21             Y 2013-09-16 2013-10-18        32            9   \n",
       "\n",
       "   end_Month  \n",
       "0         12  \n",
       "1         11  \n",
       "2         11  \n",
       "3         11  \n",
       "4         10  "
      ]
     },
     "execution_count": 6,
     "metadata": {},
     "output_type": "execute_result"
    }
   ],
   "source": [
    "campData.head()"
   ]
  },
  {
   "cell_type": "code",
   "execution_count": 7,
   "metadata": {},
   "outputs": [],
   "source": [
    "#customer previous campaign reaction\n",
    "# item data transaction data merged4\n",
    "# train data and camp data merged"
   ]
  },
  {
   "cell_type": "markdown",
   "metadata": {},
   "source": [
    "## Merge transaction data and Item data"
   ]
  },
  {
   "cell_type": "code",
   "execution_count": 8,
   "metadata": {},
   "outputs": [
    {
     "data": {
      "text/plain": [
       "(1324566, 10)"
      ]
     },
     "execution_count": 8,
     "metadata": {},
     "output_type": "execute_result"
    }
   ],
   "source": [
    "transItemData=pd.merge(customer_transaction_dataData,item_dataData,on='item_id',how='left')\n",
    "transItemData.shape"
   ]
  },
  {
   "cell_type": "code",
   "execution_count": 9,
   "metadata": {},
   "outputs": [
    {
     "data": {
      "text/html": [
       "<div>\n",
       "<style scoped>\n",
       "    .dataframe tbody tr th:only-of-type {\n",
       "        vertical-align: middle;\n",
       "    }\n",
       "\n",
       "    .dataframe tbody tr th {\n",
       "        vertical-align: top;\n",
       "    }\n",
       "\n",
       "    .dataframe thead th {\n",
       "        text-align: right;\n",
       "    }\n",
       "</style>\n",
       "<table border=\"1\" class=\"dataframe\">\n",
       "  <thead>\n",
       "    <tr style=\"text-align: right;\">\n",
       "      <th></th>\n",
       "      <th>date</th>\n",
       "      <th>customer_id</th>\n",
       "      <th>item_id</th>\n",
       "      <th>quantity</th>\n",
       "      <th>selling_price</th>\n",
       "      <th>other_discount</th>\n",
       "      <th>coupon_discount</th>\n",
       "      <th>brand</th>\n",
       "      <th>brand_type</th>\n",
       "      <th>category</th>\n",
       "    </tr>\n",
       "  </thead>\n",
       "  <tbody>\n",
       "    <tr>\n",
       "      <th>0</th>\n",
       "      <td>2012-01-02</td>\n",
       "      <td>1501</td>\n",
       "      <td>26830</td>\n",
       "      <td>1</td>\n",
       "      <td>35.26</td>\n",
       "      <td>-10.69</td>\n",
       "      <td>0.0</td>\n",
       "      <td>56</td>\n",
       "      <td>Local</td>\n",
       "      <td>Natural Products</td>\n",
       "    </tr>\n",
       "    <tr>\n",
       "      <th>1</th>\n",
       "      <td>2012-01-02</td>\n",
       "      <td>1501</td>\n",
       "      <td>54253</td>\n",
       "      <td>1</td>\n",
       "      <td>53.43</td>\n",
       "      <td>-13.89</td>\n",
       "      <td>0.0</td>\n",
       "      <td>56</td>\n",
       "      <td>Local</td>\n",
       "      <td>Natural Products</td>\n",
       "    </tr>\n",
       "  </tbody>\n",
       "</table>\n",
       "</div>"
      ],
      "text/plain": [
       "         date  customer_id  item_id  quantity  selling_price  other_discount  \\\n",
       "0  2012-01-02         1501    26830         1          35.26          -10.69   \n",
       "1  2012-01-02         1501    54253         1          53.43          -13.89   \n",
       "\n",
       "   coupon_discount  brand brand_type          category  \n",
       "0              0.0     56      Local  Natural Products  \n",
       "1              0.0     56      Local  Natural Products  "
      ]
     },
     "execution_count": 9,
     "metadata": {},
     "output_type": "execute_result"
    }
   ],
   "source": [
    "transItemData.head(2)"
   ]
  },
  {
   "cell_type": "markdown",
   "metadata": {},
   "source": [
    "# Merge traindata with Campdata"
   ]
  },
  {
   "cell_type": "code",
   "execution_count": 10,
   "metadata": {},
   "outputs": [
    {
     "data": {
      "text/plain": [
       "((78369, 12), (78369, 6))"
      ]
     },
     "execution_count": 10,
     "metadata": {},
     "output_type": "execute_result"
    }
   ],
   "source": [
    "trainCampDatamerge=pd.merge(trainData,campData,on='campaign_id',how='left')\n",
    "trainCampDatamerge.shape,trainData.shape"
   ]
  },
  {
   "cell_type": "code",
   "execution_count": 11,
   "metadata": {},
   "outputs": [
    {
     "data": {
      "text/html": [
       "<div>\n",
       "<style scoped>\n",
       "    .dataframe tbody tr th:only-of-type {\n",
       "        vertical-align: middle;\n",
       "    }\n",
       "\n",
       "    .dataframe tbody tr th {\n",
       "        vertical-align: top;\n",
       "    }\n",
       "\n",
       "    .dataframe thead th {\n",
       "        text-align: right;\n",
       "    }\n",
       "</style>\n",
       "<table border=\"1\" class=\"dataframe\">\n",
       "  <thead>\n",
       "    <tr style=\"text-align: right;\">\n",
       "      <th></th>\n",
       "      <th>id</th>\n",
       "      <th>campaign_id</th>\n",
       "      <th>coupon_id</th>\n",
       "      <th>customer_id</th>\n",
       "      <th>redemption_status</th>\n",
       "      <th>dtType</th>\n",
       "      <th>campaign_type</th>\n",
       "      <th>start_date</th>\n",
       "      <th>end_date</th>\n",
       "      <th>duration</th>\n",
       "      <th>start_Month</th>\n",
       "      <th>end_Month</th>\n",
       "    </tr>\n",
       "  </thead>\n",
       "  <tbody>\n",
       "    <tr>\n",
       "      <th>0</th>\n",
       "      <td>1</td>\n",
       "      <td>13</td>\n",
       "      <td>27</td>\n",
       "      <td>1053</td>\n",
       "      <td>0</td>\n",
       "      <td>train</td>\n",
       "      <td>X</td>\n",
       "      <td>2013-05-19</td>\n",
       "      <td>2013-07-05</td>\n",
       "      <td>47</td>\n",
       "      <td>5</td>\n",
       "      <td>7</td>\n",
       "    </tr>\n",
       "    <tr>\n",
       "      <th>1</th>\n",
       "      <td>2</td>\n",
       "      <td>13</td>\n",
       "      <td>116</td>\n",
       "      <td>48</td>\n",
       "      <td>0</td>\n",
       "      <td>train</td>\n",
       "      <td>X</td>\n",
       "      <td>2013-05-19</td>\n",
       "      <td>2013-07-05</td>\n",
       "      <td>47</td>\n",
       "      <td>5</td>\n",
       "      <td>7</td>\n",
       "    </tr>\n",
       "  </tbody>\n",
       "</table>\n",
       "</div>"
      ],
      "text/plain": [
       "   id  campaign_id  coupon_id  customer_id  redemption_status dtType  \\\n",
       "0   1           13         27         1053                  0  train   \n",
       "1   2           13        116           48                  0  train   \n",
       "\n",
       "  campaign_type start_date   end_date  duration  start_Month  end_Month  \n",
       "0             X 2013-05-19 2013-07-05        47            5          7  \n",
       "1             X 2013-05-19 2013-07-05        47            5          7  "
      ]
     },
     "execution_count": 11,
     "metadata": {},
     "output_type": "execute_result"
    }
   ],
   "source": [
    "trainCampDatamerge.head(2)"
   ]
  },
  {
   "cell_type": "markdown",
   "metadata": {},
   "source": [
    "## Feature engg in coupon mapping data and item data and transaction data"
   ]
  },
  {
   "cell_type": "markdown",
   "metadata": {},
   "source": [
    "### merge mapping dtaa and transaction data"
   ]
  },
  {
   "cell_type": "code",
   "execution_count": 12,
   "metadata": {
    "scrolled": true
   },
   "outputs": [],
   "source": [
    "itenACoupData=pd.merge(coupon_item_mappingData,item_dataData,on='item_id',how='left').sort_values('coupon_id')"
   ]
  },
  {
   "cell_type": "code",
   "execution_count": 13,
   "metadata": {},
   "outputs": [
    {
     "data": {
      "text/html": [
       "<div>\n",
       "<style scoped>\n",
       "    .dataframe tbody tr th:only-of-type {\n",
       "        vertical-align: middle;\n",
       "    }\n",
       "\n",
       "    .dataframe tbody tr th {\n",
       "        vertical-align: top;\n",
       "    }\n",
       "\n",
       "    .dataframe thead th {\n",
       "        text-align: right;\n",
       "    }\n",
       "</style>\n",
       "<table border=\"1\" class=\"dataframe\">\n",
       "  <thead>\n",
       "    <tr style=\"text-align: right;\">\n",
       "      <th></th>\n",
       "      <th>coupon_id</th>\n",
       "      <th>item_id</th>\n",
       "      <th>brand</th>\n",
       "      <th>brand_type</th>\n",
       "      <th>category</th>\n",
       "    </tr>\n",
       "  </thead>\n",
       "  <tbody>\n",
       "    <tr>\n",
       "      <th>31428</th>\n",
       "      <td>1</td>\n",
       "      <td>47797</td>\n",
       "      <td>1475</td>\n",
       "      <td>Established</td>\n",
       "      <td>Natural Products</td>\n",
       "    </tr>\n",
       "    <tr>\n",
       "      <th>31427</th>\n",
       "      <td>1</td>\n",
       "      <td>67376</td>\n",
       "      <td>4700</td>\n",
       "      <td>Established</td>\n",
       "      <td>Natural Products</td>\n",
       "    </tr>\n",
       "  </tbody>\n",
       "</table>\n",
       "</div>"
      ],
      "text/plain": [
       "       coupon_id  item_id  brand   brand_type          category\n",
       "31428          1    47797   1475  Established  Natural Products\n",
       "31427          1    67376   4700  Established  Natural Products"
      ]
     },
     "execution_count": 13,
     "metadata": {},
     "output_type": "execute_result"
    }
   ],
   "source": [
    "itenACoupData.head(2)"
   ]
  },
  {
   "cell_type": "markdown",
   "metadata": {},
   "source": [
    "### feature from transaction data Item level"
   ]
  },
  {
   "cell_type": "code",
   "execution_count": 14,
   "metadata": {},
   "outputs": [
    {
     "name": "stderr",
     "output_type": "stream",
     "text": [
      "C:\\Users\\swsh\\AppData\\Local\\Continuum\\anaconda3\\envs\\py36\\lib\\site-packages\\pandas\\core\\groupby\\generic.py:1315: FutureWarning: using a dict with renaming is deprecated and will be removed in a future version\n",
      "  return super(DataFrameGroupBy, self).aggregate(arg, *args, **kwargs)\n"
     ]
    }
   ],
   "source": [
    "itemInfoFromTransaction=customer_transaction_dataData.groupby('item_id',as_index=False).agg({'selling_price':'mean',\n",
    "                                                                     'coupon_discount':{'discountCount':'count','totalDisc':'sum'},\n",
    "                                                                    'other_discount':{'OTdiscountCount':'count','OTtotalDisc':'sum'}})\n",
    "itemInfoFromTransaction.columns=[''.join(j) for j in itemInfoFromTransaction.columns]"
   ]
  },
  {
   "cell_type": "code",
   "execution_count": 15,
   "metadata": {},
   "outputs": [],
   "source": [
    "itemInfoFromTransaction['dicountPerGiven']=itemInfoFromTransaction['coupon_discounttotalDisc']/itemInfoFromTransaction['coupon_discountdiscountCount']\n",
    "itemInfoFromTransaction['dicountOthPerGiven']=itemInfoFromTransaction['other_discountOTtotalDisc']/itemInfoFromTransaction['other_discountOTdiscountCount']\n",
    "itemInfoFromTransaction['dicountGivenPerc']=itemInfoFromTransaction['dicountPerGiven']/itemInfoFromTransaction['selling_pricemean']\n",
    "itemInfoFromTransaction['dicountOthPerGivenPerc']=itemInfoFromTransaction['dicountOthPerGiven']/itemInfoFromTransaction['selling_pricemean']\n"
   ]
  },
  {
   "cell_type": "code",
   "execution_count": 16,
   "metadata": {},
   "outputs": [
    {
     "data": {
      "text/html": [
       "<div>\n",
       "<style scoped>\n",
       "    .dataframe tbody tr th:only-of-type {\n",
       "        vertical-align: middle;\n",
       "    }\n",
       "\n",
       "    .dataframe tbody tr th {\n",
       "        vertical-align: top;\n",
       "    }\n",
       "\n",
       "    .dataframe thead th {\n",
       "        text-align: right;\n",
       "    }\n",
       "</style>\n",
       "<table border=\"1\" class=\"dataframe\">\n",
       "  <thead>\n",
       "    <tr style=\"text-align: right;\">\n",
       "      <th></th>\n",
       "      <th>item_id</th>\n",
       "      <th>selling_pricemean</th>\n",
       "      <th>coupon_discountdiscountCount</th>\n",
       "      <th>coupon_discounttotalDisc</th>\n",
       "      <th>other_discountOTdiscountCount</th>\n",
       "      <th>other_discountOTtotalDisc</th>\n",
       "      <th>dicountPerGiven</th>\n",
       "      <th>dicountOthPerGiven</th>\n",
       "      <th>dicountGivenPerc</th>\n",
       "      <th>dicountOthPerGivenPerc</th>\n",
       "    </tr>\n",
       "  </thead>\n",
       "  <tbody>\n",
       "    <tr>\n",
       "      <th>0</th>\n",
       "      <td>1</td>\n",
       "      <td>124.31</td>\n",
       "      <td>2</td>\n",
       "      <td>0.0</td>\n",
       "      <td>2</td>\n",
       "      <td>0.0</td>\n",
       "      <td>0.0</td>\n",
       "      <td>0.0</td>\n",
       "      <td>0.0</td>\n",
       "      <td>0.0</td>\n",
       "    </tr>\n",
       "    <tr>\n",
       "      <th>1</th>\n",
       "      <td>2</td>\n",
       "      <td>35.26</td>\n",
       "      <td>1</td>\n",
       "      <td>0.0</td>\n",
       "      <td>1</td>\n",
       "      <td>0.0</td>\n",
       "      <td>0.0</td>\n",
       "      <td>0.0</td>\n",
       "      <td>0.0</td>\n",
       "      <td>0.0</td>\n",
       "    </tr>\n",
       "  </tbody>\n",
       "</table>\n",
       "</div>"
      ],
      "text/plain": [
       "   item_id  selling_pricemean  coupon_discountdiscountCount  \\\n",
       "0        1             124.31                             2   \n",
       "1        2              35.26                             1   \n",
       "\n",
       "   coupon_discounttotalDisc  other_discountOTdiscountCount  \\\n",
       "0                       0.0                              2   \n",
       "1                       0.0                              1   \n",
       "\n",
       "   other_discountOTtotalDisc  dicountPerGiven  dicountOthPerGiven  \\\n",
       "0                        0.0              0.0                 0.0   \n",
       "1                        0.0              0.0                 0.0   \n",
       "\n",
       "   dicountGivenPerc  dicountOthPerGivenPerc  \n",
       "0               0.0                     0.0  \n",
       "1               0.0                     0.0  "
      ]
     },
     "execution_count": 16,
     "metadata": {},
     "output_type": "execute_result"
    }
   ],
   "source": [
    "itemInfoFromTransaction.head(2)"
   ]
  },
  {
   "cell_type": "code",
   "execution_count": 17,
   "metadata": {},
   "outputs": [
    {
     "data": {
      "text/plain": [
       "((92663, 5), (74063, 10), (92663, 2), (74066, 4))"
      ]
     },
     "execution_count": 17,
     "metadata": {},
     "output_type": "execute_result"
    }
   ],
   "source": [
    "itenACoupData.shape,itemInfoFromTransaction.shape,coupon_item_mappingData.shape,item_dataData.shape"
   ]
  },
  {
   "cell_type": "code",
   "execution_count": 18,
   "metadata": {},
   "outputs": [
    {
     "data": {
      "text/html": [
       "<div>\n",
       "<style scoped>\n",
       "    .dataframe tbody tr th:only-of-type {\n",
       "        vertical-align: middle;\n",
       "    }\n",
       "\n",
       "    .dataframe tbody tr th {\n",
       "        vertical-align: top;\n",
       "    }\n",
       "\n",
       "    .dataframe thead th {\n",
       "        text-align: right;\n",
       "    }\n",
       "</style>\n",
       "<table border=\"1\" class=\"dataframe\">\n",
       "  <thead>\n",
       "    <tr style=\"text-align: right;\">\n",
       "      <th></th>\n",
       "      <th>coupon_id</th>\n",
       "      <th>item_id</th>\n",
       "      <th>brand</th>\n",
       "      <th>brand_type</th>\n",
       "      <th>category</th>\n",
       "    </tr>\n",
       "  </thead>\n",
       "  <tbody>\n",
       "    <tr>\n",
       "      <th>31428</th>\n",
       "      <td>1</td>\n",
       "      <td>47797</td>\n",
       "      <td>1475</td>\n",
       "      <td>Established</td>\n",
       "      <td>Natural Products</td>\n",
       "    </tr>\n",
       "    <tr>\n",
       "      <th>31427</th>\n",
       "      <td>1</td>\n",
       "      <td>67376</td>\n",
       "      <td>4700</td>\n",
       "      <td>Established</td>\n",
       "      <td>Natural Products</td>\n",
       "    </tr>\n",
       "  </tbody>\n",
       "</table>\n",
       "</div>"
      ],
      "text/plain": [
       "       coupon_id  item_id  brand   brand_type          category\n",
       "31428          1    47797   1475  Established  Natural Products\n",
       "31427          1    67376   4700  Established  Natural Products"
      ]
     },
     "execution_count": 18,
     "metadata": {},
     "output_type": "execute_result"
    }
   ],
   "source": [
    "itenACoupData.head(2)"
   ]
  },
  {
   "cell_type": "markdown",
   "metadata": {},
   "source": [
    "### merge item information from transaction to coupon item information"
   ]
  },
  {
   "cell_type": "code",
   "execution_count": 19,
   "metadata": {},
   "outputs": [],
   "source": [
    "mergedItemCoupon=pd.merge(itenACoupData,itemInfoFromTransaction,on='item_id',how='left').fillna(0)\n",
    "\n",
    "#some  null values present"
   ]
  },
  {
   "cell_type": "code",
   "execution_count": 20,
   "metadata": {},
   "outputs": [
    {
     "data": {
      "text/html": [
       "<div>\n",
       "<style scoped>\n",
       "    .dataframe tbody tr th:only-of-type {\n",
       "        vertical-align: middle;\n",
       "    }\n",
       "\n",
       "    .dataframe tbody tr th {\n",
       "        vertical-align: top;\n",
       "    }\n",
       "\n",
       "    .dataframe thead th {\n",
       "        text-align: right;\n",
       "    }\n",
       "</style>\n",
       "<table border=\"1\" class=\"dataframe\">\n",
       "  <thead>\n",
       "    <tr style=\"text-align: right;\">\n",
       "      <th></th>\n",
       "      <th>coupon_id</th>\n",
       "      <th>item_id</th>\n",
       "      <th>brand</th>\n",
       "      <th>brand_type</th>\n",
       "      <th>category</th>\n",
       "      <th>selling_pricemean</th>\n",
       "      <th>coupon_discountdiscountCount</th>\n",
       "      <th>coupon_discounttotalDisc</th>\n",
       "      <th>other_discountOTdiscountCount</th>\n",
       "      <th>other_discountOTtotalDisc</th>\n",
       "      <th>dicountPerGiven</th>\n",
       "      <th>dicountOthPerGiven</th>\n",
       "      <th>dicountGivenPerc</th>\n",
       "      <th>dicountOthPerGivenPerc</th>\n",
       "    </tr>\n",
       "  </thead>\n",
       "  <tbody>\n",
       "    <tr>\n",
       "      <th>0</th>\n",
       "      <td>1</td>\n",
       "      <td>47797</td>\n",
       "      <td>1475</td>\n",
       "      <td>Established</td>\n",
       "      <td>Natural Products</td>\n",
       "      <td>88.690000</td>\n",
       "      <td>1.0</td>\n",
       "      <td>0.00</td>\n",
       "      <td>1.0</td>\n",
       "      <td>0.00</td>\n",
       "      <td>0.000000</td>\n",
       "      <td>0.000000</td>\n",
       "      <td>0.000000</td>\n",
       "      <td>0.000000</td>\n",
       "    </tr>\n",
       "    <tr>\n",
       "      <th>1</th>\n",
       "      <td>1</td>\n",
       "      <td>67376</td>\n",
       "      <td>4700</td>\n",
       "      <td>Established</td>\n",
       "      <td>Natural Products</td>\n",
       "      <td>47.373333</td>\n",
       "      <td>3.0</td>\n",
       "      <td>0.00</td>\n",
       "      <td>3.0</td>\n",
       "      <td>0.00</td>\n",
       "      <td>0.000000</td>\n",
       "      <td>0.000000</td>\n",
       "      <td>0.000000</td>\n",
       "      <td>0.000000</td>\n",
       "    </tr>\n",
       "    <tr>\n",
       "      <th>2</th>\n",
       "      <td>1</td>\n",
       "      <td>59942</td>\n",
       "      <td>1475</td>\n",
       "      <td>Established</td>\n",
       "      <td>Natural Products</td>\n",
       "      <td>105.293000</td>\n",
       "      <td>10.0</td>\n",
       "      <td>-359.76</td>\n",
       "      <td>10.0</td>\n",
       "      <td>-282.10</td>\n",
       "      <td>-35.976000</td>\n",
       "      <td>-28.210000</td>\n",
       "      <td>-0.341675</td>\n",
       "      <td>-0.267919</td>\n",
       "    </tr>\n",
       "    <tr>\n",
       "      <th>3</th>\n",
       "      <td>1</td>\n",
       "      <td>59841</td>\n",
       "      <td>1475</td>\n",
       "      <td>Established</td>\n",
       "      <td>Natural Products</td>\n",
       "      <td>98.226579</td>\n",
       "      <td>38.0</td>\n",
       "      <td>-137.14</td>\n",
       "      <td>38.0</td>\n",
       "      <td>-1551.55</td>\n",
       "      <td>-3.608947</td>\n",
       "      <td>-40.830263</td>\n",
       "      <td>-0.036741</td>\n",
       "      <td>-0.415674</td>\n",
       "    </tr>\n",
       "    <tr>\n",
       "      <th>4</th>\n",
       "      <td>1</td>\n",
       "      <td>67131</td>\n",
       "      <td>1475</td>\n",
       "      <td>Established</td>\n",
       "      <td>Natural Products</td>\n",
       "      <td>92.254845</td>\n",
       "      <td>97.0</td>\n",
       "      <td>-19.59</td>\n",
       "      <td>97.0</td>\n",
       "      <td>-4134.89</td>\n",
       "      <td>-0.201959</td>\n",
       "      <td>-42.627732</td>\n",
       "      <td>-0.002189</td>\n",
       "      <td>-0.462065</td>\n",
       "    </tr>\n",
       "  </tbody>\n",
       "</table>\n",
       "</div>"
      ],
      "text/plain": [
       "   coupon_id  item_id  brand   brand_type          category  \\\n",
       "0          1    47797   1475  Established  Natural Products   \n",
       "1          1    67376   4700  Established  Natural Products   \n",
       "2          1    59942   1475  Established  Natural Products   \n",
       "3          1    59841   1475  Established  Natural Products   \n",
       "4          1    67131   1475  Established  Natural Products   \n",
       "\n",
       "   selling_pricemean  coupon_discountdiscountCount  coupon_discounttotalDisc  \\\n",
       "0          88.690000                           1.0                      0.00   \n",
       "1          47.373333                           3.0                      0.00   \n",
       "2         105.293000                          10.0                   -359.76   \n",
       "3          98.226579                          38.0                   -137.14   \n",
       "4          92.254845                          97.0                    -19.59   \n",
       "\n",
       "   other_discountOTdiscountCount  other_discountOTtotalDisc  dicountPerGiven  \\\n",
       "0                            1.0                       0.00         0.000000   \n",
       "1                            3.0                       0.00         0.000000   \n",
       "2                           10.0                    -282.10       -35.976000   \n",
       "3                           38.0                   -1551.55        -3.608947   \n",
       "4                           97.0                   -4134.89        -0.201959   \n",
       "\n",
       "   dicountOthPerGiven  dicountGivenPerc  dicountOthPerGivenPerc  \n",
       "0            0.000000          0.000000                0.000000  \n",
       "1            0.000000          0.000000                0.000000  \n",
       "2          -28.210000         -0.341675               -0.267919  \n",
       "3          -40.830263         -0.036741               -0.415674  \n",
       "4          -42.627732         -0.002189               -0.462065  "
      ]
     },
     "execution_count": 20,
     "metadata": {},
     "output_type": "execute_result"
    }
   ],
   "source": [
    "mergedItemCoupon.head()"
   ]
  },
  {
   "cell_type": "code",
   "execution_count": 21,
   "metadata": {},
   "outputs": [],
   "source": [
    "coupon_categFind=mergedItemCoupon.groupby(['coupon_id','category','brand','brand_type'],as_index=False).count()[['coupon_id','category','brand','brand_type','item_id']]"
   ]
  },
  {
   "cell_type": "code",
   "execution_count": 22,
   "metadata": {},
   "outputs": [
    {
     "data": {
      "text/html": [
       "<div>\n",
       "<style scoped>\n",
       "    .dataframe tbody tr th:only-of-type {\n",
       "        vertical-align: middle;\n",
       "    }\n",
       "\n",
       "    .dataframe tbody tr th {\n",
       "        vertical-align: top;\n",
       "    }\n",
       "\n",
       "    .dataframe thead th {\n",
       "        text-align: right;\n",
       "    }\n",
       "</style>\n",
       "<table border=\"1\" class=\"dataframe\">\n",
       "  <thead>\n",
       "    <tr style=\"text-align: right;\">\n",
       "      <th></th>\n",
       "      <th>coupon_id</th>\n",
       "      <th>category</th>\n",
       "      <th>brand</th>\n",
       "      <th>brand_type</th>\n",
       "      <th>item_id</th>\n",
       "    </tr>\n",
       "  </thead>\n",
       "  <tbody>\n",
       "    <tr>\n",
       "      <th>0</th>\n",
       "      <td>1</td>\n",
       "      <td>Grocery</td>\n",
       "      <td>1558</td>\n",
       "      <td>Established</td>\n",
       "      <td>9</td>\n",
       "    </tr>\n",
       "    <tr>\n",
       "      <th>1</th>\n",
       "      <td>1</td>\n",
       "      <td>Natural Products</td>\n",
       "      <td>1475</td>\n",
       "      <td>Established</td>\n",
       "      <td>25</td>\n",
       "    </tr>\n",
       "    <tr>\n",
       "      <th>2</th>\n",
       "      <td>1</td>\n",
       "      <td>Natural Products</td>\n",
       "      <td>4700</td>\n",
       "      <td>Established</td>\n",
       "      <td>5</td>\n",
       "    </tr>\n",
       "    <tr>\n",
       "      <th>3</th>\n",
       "      <td>2</td>\n",
       "      <td>Grocery</td>\n",
       "      <td>2084</td>\n",
       "      <td>Established</td>\n",
       "      <td>2</td>\n",
       "    </tr>\n",
       "    <tr>\n",
       "      <th>4</th>\n",
       "      <td>3</td>\n",
       "      <td>Grocery</td>\n",
       "      <td>278</td>\n",
       "      <td>Established</td>\n",
       "      <td>12</td>\n",
       "    </tr>\n",
       "  </tbody>\n",
       "</table>\n",
       "</div>"
      ],
      "text/plain": [
       "   coupon_id          category  brand   brand_type  item_id\n",
       "0          1           Grocery   1558  Established        9\n",
       "1          1  Natural Products   1475  Established       25\n",
       "2          1  Natural Products   4700  Established        5\n",
       "3          2           Grocery   2084  Established        2\n",
       "4          3           Grocery    278  Established       12"
      ]
     },
     "execution_count": 22,
     "metadata": {},
     "output_type": "execute_result"
    }
   ],
   "source": [
    "coupon_categFind.head()"
   ]
  },
  {
   "cell_type": "code",
   "execution_count": 23,
   "metadata": {},
   "outputs": [],
   "source": [
    "coupon_categFind=coupon_categFind.sort_values(['coupon_id','item_id'],ascending=False)\n",
    "coupon_categFind=coupon_categFind.drop_duplicates('coupon_id')"
   ]
  },
  {
   "cell_type": "code",
   "execution_count": 24,
   "metadata": {},
   "outputs": [],
   "source": [
    "del coupon_categFind['item_id']"
   ]
  },
  {
   "cell_type": "code",
   "execution_count": 25,
   "metadata": {},
   "outputs": [
    {
     "data": {
      "text/html": [
       "<div>\n",
       "<style scoped>\n",
       "    .dataframe tbody tr th:only-of-type {\n",
       "        vertical-align: middle;\n",
       "    }\n",
       "\n",
       "    .dataframe tbody tr th {\n",
       "        vertical-align: top;\n",
       "    }\n",
       "\n",
       "    .dataframe thead th {\n",
       "        text-align: right;\n",
       "    }\n",
       "</style>\n",
       "<table border=\"1\" class=\"dataframe\">\n",
       "  <thead>\n",
       "    <tr style=\"text-align: right;\">\n",
       "      <th></th>\n",
       "      <th>coupon_id</th>\n",
       "      <th>category</th>\n",
       "      <th>brand</th>\n",
       "      <th>brand_type</th>\n",
       "    </tr>\n",
       "  </thead>\n",
       "  <tbody>\n",
       "    <tr>\n",
       "      <th>8472</th>\n",
       "      <td>1116</td>\n",
       "      <td>Pharmaceutical</td>\n",
       "      <td>4728</td>\n",
       "      <td>Established</td>\n",
       "    </tr>\n",
       "    <tr>\n",
       "      <th>8471</th>\n",
       "      <td>1115</td>\n",
       "      <td>Grocery</td>\n",
       "      <td>2446</td>\n",
       "      <td>Established</td>\n",
       "    </tr>\n",
       "    <tr>\n",
       "      <th>8470</th>\n",
       "      <td>1114</td>\n",
       "      <td>Pharmaceutical</td>\n",
       "      <td>2416</td>\n",
       "      <td>Established</td>\n",
       "    </tr>\n",
       "    <tr>\n",
       "      <th>8469</th>\n",
       "      <td>1113</td>\n",
       "      <td>Pharmaceutical</td>\n",
       "      <td>5184</td>\n",
       "      <td>Established</td>\n",
       "    </tr>\n",
       "    <tr>\n",
       "      <th>8468</th>\n",
       "      <td>1112</td>\n",
       "      <td>Grocery</td>\n",
       "      <td>5177</td>\n",
       "      <td>Established</td>\n",
       "    </tr>\n",
       "  </tbody>\n",
       "</table>\n",
       "</div>"
      ],
      "text/plain": [
       "      coupon_id        category  brand   brand_type\n",
       "8472       1116  Pharmaceutical   4728  Established\n",
       "8471       1115         Grocery   2446  Established\n",
       "8470       1114  Pharmaceutical   2416  Established\n",
       "8469       1113  Pharmaceutical   5184  Established\n",
       "8468       1112         Grocery   5177  Established"
      ]
     },
     "execution_count": 25,
     "metadata": {},
     "output_type": "execute_result"
    }
   ],
   "source": [
    "coupon_categFind.head()"
   ]
  },
  {
   "cell_type": "code",
   "execution_count": 26,
   "metadata": {},
   "outputs": [
    {
     "data": {
      "text/html": [
       "<div>\n",
       "<style scoped>\n",
       "    .dataframe tbody tr th:only-of-type {\n",
       "        vertical-align: middle;\n",
       "    }\n",
       "\n",
       "    .dataframe tbody tr th {\n",
       "        vertical-align: top;\n",
       "    }\n",
       "\n",
       "    .dataframe thead th {\n",
       "        text-align: right;\n",
       "    }\n",
       "</style>\n",
       "<table border=\"1\" class=\"dataframe\">\n",
       "  <thead>\n",
       "    <tr style=\"text-align: right;\">\n",
       "      <th></th>\n",
       "      <th>coupon_id</th>\n",
       "      <th>item_id</th>\n",
       "      <th>brand</th>\n",
       "      <th>brand_type</th>\n",
       "      <th>category</th>\n",
       "      <th>selling_pricemean</th>\n",
       "      <th>coupon_discountdiscountCount</th>\n",
       "      <th>coupon_discounttotalDisc</th>\n",
       "      <th>other_discountOTdiscountCount</th>\n",
       "      <th>other_discountOTtotalDisc</th>\n",
       "      <th>dicountPerGiven</th>\n",
       "      <th>dicountOthPerGiven</th>\n",
       "      <th>dicountGivenPerc</th>\n",
       "      <th>dicountOthPerGivenPerc</th>\n",
       "    </tr>\n",
       "  </thead>\n",
       "  <tbody>\n",
       "  </tbody>\n",
       "</table>\n",
       "</div>"
      ],
      "text/plain": [
       "Empty DataFrame\n",
       "Columns: [coupon_id, item_id, brand, brand_type, category, selling_pricemean, coupon_discountdiscountCount, coupon_discounttotalDisc, other_discountOTdiscountCount, other_discountOTtotalDisc, dicountPerGiven, dicountOthPerGiven, dicountGivenPerc, dicountOthPerGivenPerc]\n",
       "Index: []"
      ]
     },
     "execution_count": 26,
     "metadata": {},
     "output_type": "execute_result"
    }
   ],
   "source": [
    "mergedItemCoupon[mergedItemCoupon['selling_pricemean'].isnull()]"
   ]
  },
  {
   "cell_type": "markdown",
   "metadata": {},
   "source": [
    "## Feature from customer data"
   ]
  },
  {
   "cell_type": "code",
   "execution_count": 27,
   "metadata": {},
   "outputs": [],
   "source": [
    "customerProfileData=customer_transaction_dataData.groupby('customer_id',as_index=False).agg({'quantity':'sum','date':'nunique','item_id':'count',\n",
    "                                                                        'selling_price':{'maxSP':'max','minSP':'min',\n",
    "                                                                                        'averageSP':'mean'},\n",
    "                                                                        'other_discount':{'maxOD':'max','minOD':'min',\n",
    "                                                                                        'averageOD':'mean'},\n",
    "                                                                        'coupon_discount':{'maxCD':'max','minCD':'min',\n",
    "                                                                                        'averageCD':'mean','totalCDAvailed':'count'}})\n",
    "\n",
    "customerProfileData.columns = ['_'.join(col) for col in customerProfileData.columns.values]"
   ]
  },
  {
   "cell_type": "code",
   "execution_count": 28,
   "metadata": {},
   "outputs": [
    {
     "data": {
      "text/html": [
       "<div>\n",
       "<style scoped>\n",
       "    .dataframe tbody tr th:only-of-type {\n",
       "        vertical-align: middle;\n",
       "    }\n",
       "\n",
       "    .dataframe tbody tr th {\n",
       "        vertical-align: top;\n",
       "    }\n",
       "\n",
       "    .dataframe thead th {\n",
       "        text-align: right;\n",
       "    }\n",
       "</style>\n",
       "<table border=\"1\" class=\"dataframe\">\n",
       "  <thead>\n",
       "    <tr style=\"text-align: right;\">\n",
       "      <th></th>\n",
       "      <th>customer_id_</th>\n",
       "      <th>quantity_sum</th>\n",
       "      <th>date_nunique</th>\n",
       "      <th>item_id_count</th>\n",
       "      <th>selling_price_maxSP</th>\n",
       "      <th>selling_price_minSP</th>\n",
       "      <th>selling_price_averageSP</th>\n",
       "      <th>other_discount_maxOD</th>\n",
       "      <th>other_discount_minOD</th>\n",
       "      <th>other_discount_averageOD</th>\n",
       "      <th>coupon_discount_maxCD</th>\n",
       "      <th>coupon_discount_minCD</th>\n",
       "      <th>coupon_discount_averageCD</th>\n",
       "      <th>coupon_discount_totalCDAvailed</th>\n",
       "    </tr>\n",
       "  </thead>\n",
       "  <tbody>\n",
       "    <tr>\n",
       "      <th>0</th>\n",
       "      <td>1</td>\n",
       "      <td>1227</td>\n",
       "      <td>56</td>\n",
       "      <td>1048</td>\n",
       "      <td>445.25</td>\n",
       "      <td>12.11</td>\n",
       "      <td>94.001842</td>\n",
       "      <td>0.0</td>\n",
       "      <td>-372.23</td>\n",
       "      <td>-16.250382</td>\n",
       "      <td>0.0</td>\n",
       "      <td>-106.86</td>\n",
       "      <td>-2.019876</td>\n",
       "      <td>1048</td>\n",
       "    </tr>\n",
       "    <tr>\n",
       "      <th>1</th>\n",
       "      <td>2</td>\n",
       "      <td>474</td>\n",
       "      <td>37</td>\n",
       "      <td>419</td>\n",
       "      <td>640.80</td>\n",
       "      <td>14.25</td>\n",
       "      <td>102.864033</td>\n",
       "      <td>0.0</td>\n",
       "      <td>-312.03</td>\n",
       "      <td>-16.830430</td>\n",
       "      <td>0.0</td>\n",
       "      <td>-89.05</td>\n",
       "      <td>-0.595084</td>\n",
       "      <td>419</td>\n",
       "    </tr>\n",
       "  </tbody>\n",
       "</table>\n",
       "</div>"
      ],
      "text/plain": [
       "   customer_id_  quantity_sum  date_nunique  item_id_count  \\\n",
       "0             1          1227            56           1048   \n",
       "1             2           474            37            419   \n",
       "\n",
       "   selling_price_maxSP  selling_price_minSP  selling_price_averageSP  \\\n",
       "0               445.25                12.11                94.001842   \n",
       "1               640.80                14.25               102.864033   \n",
       "\n",
       "   other_discount_maxOD  other_discount_minOD  other_discount_averageOD  \\\n",
       "0                   0.0               -372.23                -16.250382   \n",
       "1                   0.0               -312.03                -16.830430   \n",
       "\n",
       "   coupon_discount_maxCD  coupon_discount_minCD  coupon_discount_averageCD  \\\n",
       "0                    0.0                -106.86                  -2.019876   \n",
       "1                    0.0                 -89.05                  -0.595084   \n",
       "\n",
       "   coupon_discount_totalCDAvailed  \n",
       "0                            1048  \n",
       "1                             419  "
      ]
     },
     "execution_count": 28,
     "metadata": {},
     "output_type": "execute_result"
    }
   ],
   "source": [
    "customerProfileData.head(2)"
   ]
  },
  {
   "cell_type": "markdown",
   "metadata": {},
   "source": [
    "### Clustering on  transaction item data information to get information about coupons"
   ]
  },
  {
   "cell_type": "code",
   "execution_count": 29,
   "metadata": {},
   "outputs": [
    {
     "data": {
      "text/html": [
       "<div>\n",
       "<style scoped>\n",
       "    .dataframe tbody tr th:only-of-type {\n",
       "        vertical-align: middle;\n",
       "    }\n",
       "\n",
       "    .dataframe tbody tr th {\n",
       "        vertical-align: top;\n",
       "    }\n",
       "\n",
       "    .dataframe thead th {\n",
       "        text-align: right;\n",
       "    }\n",
       "</style>\n",
       "<table border=\"1\" class=\"dataframe\">\n",
       "  <thead>\n",
       "    <tr style=\"text-align: right;\">\n",
       "      <th></th>\n",
       "      <th>coupon_id</th>\n",
       "      <th>item_id</th>\n",
       "      <th>brand</th>\n",
       "      <th>brand_type</th>\n",
       "      <th>category</th>\n",
       "      <th>selling_pricemean</th>\n",
       "      <th>coupon_discountdiscountCount</th>\n",
       "      <th>coupon_discounttotalDisc</th>\n",
       "      <th>other_discountOTdiscountCount</th>\n",
       "      <th>other_discountOTtotalDisc</th>\n",
       "      <th>dicountPerGiven</th>\n",
       "      <th>dicountOthPerGiven</th>\n",
       "      <th>dicountGivenPerc</th>\n",
       "      <th>dicountOthPerGivenPerc</th>\n",
       "    </tr>\n",
       "  </thead>\n",
       "  <tbody>\n",
       "    <tr>\n",
       "      <th>0</th>\n",
       "      <td>1</td>\n",
       "      <td>47797</td>\n",
       "      <td>1475</td>\n",
       "      <td>Established</td>\n",
       "      <td>Natural Products</td>\n",
       "      <td>88.690000</td>\n",
       "      <td>1.0</td>\n",
       "      <td>0.0</td>\n",
       "      <td>1.0</td>\n",
       "      <td>0.0</td>\n",
       "      <td>0.0</td>\n",
       "      <td>0.0</td>\n",
       "      <td>0.0</td>\n",
       "      <td>0.0</td>\n",
       "    </tr>\n",
       "    <tr>\n",
       "      <th>1</th>\n",
       "      <td>1</td>\n",
       "      <td>67376</td>\n",
       "      <td>4700</td>\n",
       "      <td>Established</td>\n",
       "      <td>Natural Products</td>\n",
       "      <td>47.373333</td>\n",
       "      <td>3.0</td>\n",
       "      <td>0.0</td>\n",
       "      <td>3.0</td>\n",
       "      <td>0.0</td>\n",
       "      <td>0.0</td>\n",
       "      <td>0.0</td>\n",
       "      <td>0.0</td>\n",
       "      <td>0.0</td>\n",
       "    </tr>\n",
       "  </tbody>\n",
       "</table>\n",
       "</div>"
      ],
      "text/plain": [
       "   coupon_id  item_id  brand   brand_type          category  \\\n",
       "0          1    47797   1475  Established  Natural Products   \n",
       "1          1    67376   4700  Established  Natural Products   \n",
       "\n",
       "   selling_pricemean  coupon_discountdiscountCount  coupon_discounttotalDisc  \\\n",
       "0          88.690000                           1.0                       0.0   \n",
       "1          47.373333                           3.0                       0.0   \n",
       "\n",
       "   other_discountOTdiscountCount  other_discountOTtotalDisc  dicountPerGiven  \\\n",
       "0                            1.0                        0.0              0.0   \n",
       "1                            3.0                        0.0              0.0   \n",
       "\n",
       "   dicountOthPerGiven  dicountGivenPerc  dicountOthPerGivenPerc  \n",
       "0                 0.0               0.0                     0.0  \n",
       "1                 0.0               0.0                     0.0  "
      ]
     },
     "execution_count": 29,
     "metadata": {},
     "output_type": "execute_result"
    }
   ],
   "source": [
    "mergedItemCoupon.head(2)"
   ]
  },
  {
   "cell_type": "code",
   "execution_count": 30,
   "metadata": {
    "scrolled": true
   },
   "outputs": [],
   "source": [
    "datatoCluster=mergedItemCoupon.groupby('coupon_id',as_index=False).mean()[['coupon_id', \n",
    "       'selling_pricemean', 'coupon_discountdiscountCount',\n",
    "       'coupon_discounttotalDisc', 'other_discountOTdiscountCount',\n",
    "       'other_discountOTtotalDisc', 'dicountPerGiven', 'dicountOthPerGiven',\n",
    "       'dicountGivenPerc', 'dicountOthPerGivenPerc']]"
   ]
  },
  {
   "cell_type": "code",
   "execution_count": 31,
   "metadata": {},
   "outputs": [],
   "source": [
    "clusVar=['coupon_id', \n",
    "       'selling_pricemean', 'coupon_discountdiscountCount',\n",
    "       'coupon_discounttotalDisc', 'other_discountOTdiscountCount',\n",
    "       'other_discountOTtotalDisc', 'dicountPerGiven', 'dicountOthPerGiven',\n",
    "       'dicountGivenPerc', 'dicountOthPerGivenPerc']"
   ]
  },
  {
   "cell_type": "code",
   "execution_count": 32,
   "metadata": {},
   "outputs": [],
   "source": [
    "from sklearn import preprocessing,cluster,decomposition"
   ]
  },
  {
   "cell_type": "code",
   "execution_count": 33,
   "metadata": {},
   "outputs": [
    {
     "name": "stderr",
     "output_type": "stream",
     "text": [
      "C:\\Users\\swsh\\AppData\\Local\\Continuum\\anaconda3\\envs\\py36\\lib\\site-packages\\sklearn\\preprocessing\\data.py:645: DataConversionWarning: Data with input dtype int64, float64 were all converted to float64 by StandardScaler.\n",
      "  return self.partial_fit(X, y)\n",
      "C:\\Users\\swsh\\AppData\\Local\\Continuum\\anaconda3\\envs\\py36\\lib\\site-packages\\sklearn\\base.py:464: DataConversionWarning: Data with input dtype int64, float64 were all converted to float64 by StandardScaler.\n",
      "  return self.fit(X, **fit_params).transform(X)\n"
     ]
    }
   ],
   "source": [
    "preProCl=preprocessing.StandardScaler()\n",
    "clusData=preProCl.fit_transform(datatoCluster[clusVar])"
   ]
  },
  {
   "cell_type": "code",
   "execution_count": 34,
   "metadata": {},
   "outputs": [],
   "source": [
    "pcaComp=decomposition.PCA()"
   ]
  },
  {
   "cell_type": "code",
   "execution_count": 35,
   "metadata": {},
   "outputs": [],
   "source": [
    "pcaData=pcaComp.fit_transform(clusData)"
   ]
  },
  {
   "cell_type": "code",
   "execution_count": 36,
   "metadata": {},
   "outputs": [
    {
     "data": {
      "text/plain": [
       "array([2.73909700e-01, 2.23110443e-01, 1.61180496e-01, 1.04585701e-01,\n",
       "       9.25216218e-02, 6.78197557e-02, 3.71310568e-02, 2.26283535e-02,\n",
       "       1.71128729e-02, 1.30621511e-33])"
      ]
     },
     "execution_count": 36,
     "metadata": {},
     "output_type": "execute_result"
    }
   ],
   "source": [
    "pcaComp.explained_variance_ratio_"
   ]
  },
  {
   "cell_type": "code",
   "execution_count": 37,
   "metadata": {},
   "outputs": [],
   "source": [
    "pcaDataFToGraph=pd.DataFrame(pcaData[:,:2],columns=['pca1','pca2'])"
   ]
  },
  {
   "cell_type": "code",
   "execution_count": 38,
   "metadata": {},
   "outputs": [],
   "source": [
    "kM=cluster.KMeans()"
   ]
  },
  {
   "cell_type": "code",
   "execution_count": 39,
   "metadata": {},
   "outputs": [],
   "source": [
    "pcaDataFToGraph['clusCat']=kM.fit_predict(clusData[:,:5])"
   ]
  },
  {
   "cell_type": "code",
   "execution_count": 40,
   "metadata": {},
   "outputs": [
    {
     "data": {
      "text/html": [
       "<div>\n",
       "<style scoped>\n",
       "    .dataframe tbody tr th:only-of-type {\n",
       "        vertical-align: middle;\n",
       "    }\n",
       "\n",
       "    .dataframe tbody tr th {\n",
       "        vertical-align: top;\n",
       "    }\n",
       "\n",
       "    .dataframe thead th {\n",
       "        text-align: right;\n",
       "    }\n",
       "</style>\n",
       "<table border=\"1\" class=\"dataframe\">\n",
       "  <thead>\n",
       "    <tr style=\"text-align: right;\">\n",
       "      <th></th>\n",
       "      <th>pca1</th>\n",
       "      <th>pca2</th>\n",
       "      <th>clusCat</th>\n",
       "    </tr>\n",
       "  </thead>\n",
       "  <tbody>\n",
       "    <tr>\n",
       "      <th>0</th>\n",
       "      <td>0.229347</td>\n",
       "      <td>-0.194417</td>\n",
       "      <td>2</td>\n",
       "    </tr>\n",
       "    <tr>\n",
       "      <th>1</th>\n",
       "      <td>0.906231</td>\n",
       "      <td>-0.775508</td>\n",
       "      <td>6</td>\n",
       "    </tr>\n",
       "  </tbody>\n",
       "</table>\n",
       "</div>"
      ],
      "text/plain": [
       "       pca1      pca2  clusCat\n",
       "0  0.229347 -0.194417        2\n",
       "1  0.906231 -0.775508        6"
      ]
     },
     "execution_count": 40,
     "metadata": {},
     "output_type": "execute_result"
    }
   ],
   "source": [
    "pcaDataFToGraph.head(2)"
   ]
  },
  {
   "cell_type": "code",
   "execution_count": 41,
   "metadata": {},
   "outputs": [
    {
     "data": {
      "text/plain": [
       "<matplotlib.axes._subplots.AxesSubplot at 0x1f9b9960278>"
      ]
     },
     "execution_count": 41,
     "metadata": {},
     "output_type": "execute_result"
    },
    {
     "data": {
      "image/png": "[encoded data removed]",
      "text/plain": [
       "<Figure size 432x288 with 1 Axes>"
      ]
     },
     "metadata": {
      "needs_background": "light"
     },
     "output_type": "display_data"
    }
   ],
   "source": [
    "sns.scatterplot(pcaDataFToGraph['pca1'],pcaDataFToGraph['pca2'],hue=pcaDataFToGraph['clusCat'])"
   ]
  },
  {
   "cell_type": "code",
   "execution_count": 42,
   "metadata": {},
   "outputs": [],
   "source": [
    "pcaDataFToGraph['clusCat']=pcaDataFToGraph['clusCat'].map(str)"
   ]
  },
  {
   "cell_type": "code",
   "execution_count": 43,
   "metadata": {},
   "outputs": [],
   "source": [
    "pcaDataTOCoup=pd.concat([datatoCluster[['coupon_id']],pcaDataFToGraph],axis=1)"
   ]
  },
  {
   "cell_type": "code",
   "execution_count": 44,
   "metadata": {
    "scrolled": true
   },
   "outputs": [],
   "source": [
    "# crosstabData=pd.pivot_table(coupon_item_mappingData,index='coupon_id',columns='item_id',values='val',aggfunc=np.sum).fillna(0)\n",
    "# coupon_idData=trainCampDatamerge.groupby('coupon_id',as_index=False).agg({'redemption_status':'sum'})\n",
    "# coupon_idData[coupon_idData['redemption_status']>1]"
   ]
  },
  {
   "cell_type": "markdown",
   "metadata": {},
   "source": [
    "# Final data for model prep"
   ]
  },
  {
   "cell_type": "code",
   "execution_count": 45,
   "metadata": {
    "scrolled": true
   },
   "outputs": [],
   "source": [
    "X1=pd.merge(allData,coupon_categFind,on='coupon_id',how='left')\n",
    "X2=pd.merge(X1,datatoCluster,on='coupon_id',how='left')\n",
    "X3=pd.merge(X2,pcaDataTOCoup,on='coupon_id',how='left')\n",
    "X4=pd.merge(X3,campData,on='campaign_id',how='left')\n",
    "X5=pd.merge(X4,customer_demographicsData,on='customer_id',how='left')\n",
    "X6=pd.merge(X5,customerProfileData,left_on='customer_id',right_on='customer_id_',how='left')\n"
   ]
  },
  {
   "cell_type": "code",
   "execution_count": 46,
   "metadata": {
    "scrolled": true
   },
   "outputs": [
    {
     "data": {
      "text/html": [
       "<div>\n",
       "<style scoped>\n",
       "    .dataframe tbody tr th:only-of-type {\n",
       "        vertical-align: middle;\n",
       "    }\n",
       "\n",
       "    .dataframe tbody tr th {\n",
       "        vertical-align: top;\n",
       "    }\n",
       "\n",
       "    .dataframe thead th {\n",
       "        text-align: right;\n",
       "    }\n",
       "</style>\n",
       "<table border=\"1\" class=\"dataframe\">\n",
       "  <thead>\n",
       "    <tr style=\"text-align: right;\">\n",
       "      <th></th>\n",
       "      <th>customer_id_</th>\n",
       "      <th>quantity_sum</th>\n",
       "      <th>date_nunique</th>\n",
       "      <th>item_id_count</th>\n",
       "      <th>selling_price_maxSP</th>\n",
       "      <th>selling_price_minSP</th>\n",
       "      <th>selling_price_averageSP</th>\n",
       "      <th>other_discount_maxOD</th>\n",
       "      <th>other_discount_minOD</th>\n",
       "      <th>other_discount_averageOD</th>\n",
       "      <th>coupon_discount_maxCD</th>\n",
       "      <th>coupon_discount_minCD</th>\n",
       "      <th>coupon_discount_averageCD</th>\n",
       "      <th>coupon_discount_totalCDAvailed</th>\n",
       "    </tr>\n",
       "  </thead>\n",
       "  <tbody>\n",
       "    <tr>\n",
       "      <th>0</th>\n",
       "      <td>1</td>\n",
       "      <td>1227</td>\n",
       "      <td>56</td>\n",
       "      <td>1048</td>\n",
       "      <td>445.25</td>\n",
       "      <td>12.11</td>\n",
       "      <td>94.001842</td>\n",
       "      <td>0.0</td>\n",
       "      <td>-372.23</td>\n",
       "      <td>-16.250382</td>\n",
       "      <td>0.0</td>\n",
       "      <td>-106.86</td>\n",
       "      <td>-2.019876</td>\n",
       "      <td>1048</td>\n",
       "    </tr>\n",
       "    <tr>\n",
       "      <th>1</th>\n",
       "      <td>2</td>\n",
       "      <td>474</td>\n",
       "      <td>37</td>\n",
       "      <td>419</td>\n",
       "      <td>640.80</td>\n",
       "      <td>14.25</td>\n",
       "      <td>102.864033</td>\n",
       "      <td>0.0</td>\n",
       "      <td>-312.03</td>\n",
       "      <td>-16.830430</td>\n",
       "      <td>0.0</td>\n",
       "      <td>-89.05</td>\n",
       "      <td>-0.595084</td>\n",
       "      <td>419</td>\n",
       "    </tr>\n",
       "  </tbody>\n",
       "</table>\n",
       "</div>"
      ],
      "text/plain": [
       "   customer_id_  quantity_sum  date_nunique  item_id_count  \\\n",
       "0             1          1227            56           1048   \n",
       "1             2           474            37            419   \n",
       "\n",
       "   selling_price_maxSP  selling_price_minSP  selling_price_averageSP  \\\n",
       "0               445.25                12.11                94.001842   \n",
       "1               640.80                14.25               102.864033   \n",
       "\n",
       "   other_discount_maxOD  other_discount_minOD  other_discount_averageOD  \\\n",
       "0                   0.0               -372.23                -16.250382   \n",
       "1                   0.0               -312.03                -16.830430   \n",
       "\n",
       "   coupon_discount_maxCD  coupon_discount_minCD  coupon_discount_averageCD  \\\n",
       "0                    0.0                -106.86                  -2.019876   \n",
       "1                    0.0                 -89.05                  -0.595084   \n",
       "\n",
       "   coupon_discount_totalCDAvailed  \n",
       "0                            1048  \n",
       "1                             419  "
      ]
     },
     "execution_count": 46,
     "metadata": {},
     "output_type": "execute_result"
    }
   ],
   "source": [
    "customerProfileData.head(2)"
   ]
  },
  {
   "cell_type": "code",
   "execution_count": 47,
   "metadata": {},
   "outputs": [
    {
     "data": {
      "text/html": [
       "<div>\n",
       "<style scoped>\n",
       "    .dataframe tbody tr th:only-of-type {\n",
       "        vertical-align: middle;\n",
       "    }\n",
       "\n",
       "    .dataframe tbody tr th {\n",
       "        vertical-align: top;\n",
       "    }\n",
       "\n",
       "    .dataframe thead th {\n",
       "        text-align: right;\n",
       "    }\n",
       "</style>\n",
       "<table border=\"1\" class=\"dataframe\">\n",
       "  <thead>\n",
       "    <tr style=\"text-align: right;\">\n",
       "      <th></th>\n",
       "      <th>id</th>\n",
       "      <th>campaign_id</th>\n",
       "      <th>coupon_id</th>\n",
       "      <th>customer_id</th>\n",
       "      <th>redemption_status</th>\n",
       "      <th>dtType</th>\n",
       "      <th>category</th>\n",
       "      <th>brand</th>\n",
       "      <th>brand_type</th>\n",
       "      <th>selling_pricemean</th>\n",
       "      <th>...</th>\n",
       "      <th>end_date</th>\n",
       "      <th>duration</th>\n",
       "      <th>start_Month</th>\n",
       "      <th>end_Month</th>\n",
       "      <th>age_range</th>\n",
       "      <th>marital_status</th>\n",
       "      <th>rented</th>\n",
       "      <th>family_size</th>\n",
       "      <th>no_of_children</th>\n",
       "      <th>income_bracket</th>\n",
       "    </tr>\n",
       "  </thead>\n",
       "  <tbody>\n",
       "    <tr>\n",
       "      <th>0</th>\n",
       "      <td>1</td>\n",
       "      <td>13</td>\n",
       "      <td>27</td>\n",
       "      <td>1053</td>\n",
       "      <td>0.0</td>\n",
       "      <td>train</td>\n",
       "      <td>Grocery</td>\n",
       "      <td>1105</td>\n",
       "      <td>Established</td>\n",
       "      <td>84.478583</td>\n",
       "      <td>...</td>\n",
       "      <td>2013-07-05</td>\n",
       "      <td>47</td>\n",
       "      <td>5</td>\n",
       "      <td>7</td>\n",
       "      <td>46-55</td>\n",
       "      <td>NaN</td>\n",
       "      <td>0.0</td>\n",
       "      <td>1</td>\n",
       "      <td>NaN</td>\n",
       "      <td>5.0</td>\n",
       "    </tr>\n",
       "    <tr>\n",
       "      <th>1</th>\n",
       "      <td>2</td>\n",
       "      <td>13</td>\n",
       "      <td>116</td>\n",
       "      <td>48</td>\n",
       "      <td>0.0</td>\n",
       "      <td>train</td>\n",
       "      <td>Grocery</td>\n",
       "      <td>56</td>\n",
       "      <td>Local</td>\n",
       "      <td>63.833519</td>\n",
       "      <td>...</td>\n",
       "      <td>2013-07-05</td>\n",
       "      <td>47</td>\n",
       "      <td>5</td>\n",
       "      <td>7</td>\n",
       "      <td>36-45</td>\n",
       "      <td>Married</td>\n",
       "      <td>0.0</td>\n",
       "      <td>2</td>\n",
       "      <td>NaN</td>\n",
       "      <td>3.0</td>\n",
       "    </tr>\n",
       "  </tbody>\n",
       "</table>\n",
       "<p>2 rows × 33 columns</p>\n",
       "</div>"
      ],
      "text/plain": [
       "   id  campaign_id  coupon_id  customer_id  redemption_status dtType category  \\\n",
       "0   1           13         27         1053                0.0  train  Grocery   \n",
       "1   2           13        116           48                0.0  train  Grocery   \n",
       "\n",
       "   brand   brand_type  selling_pricemean  ...   end_date  duration  \\\n",
       "0   1105  Established          84.478583  ... 2013-07-05        47   \n",
       "1     56        Local          63.833519  ... 2013-07-05        47   \n",
       "\n",
       "   start_Month  end_Month  age_range  marital_status  rented  family_size  \\\n",
       "0            5          7      46-55             NaN     0.0            1   \n",
       "1            5          7      36-45         Married     0.0            2   \n",
       "\n",
       "   no_of_children  income_bracket  \n",
       "0             NaN             5.0  \n",
       "1             NaN             3.0  \n",
       "\n",
       "[2 rows x 33 columns]"
      ]
     },
     "execution_count": 47,
     "metadata": {},
     "output_type": "execute_result"
    }
   ],
   "source": [
    "X5.head(2)"
   ]
  },
  {
   "cell_type": "code",
   "execution_count": 48,
   "metadata": {},
   "outputs": [],
   "source": [
    "X5['marital_status']=X5['marital_status'].fillna('Other')\n",
    "X5['rented']=X5['rented'].fillna(0)\n",
    "X5['no_of_children']=X5['no_of_children'].fillna(0)\n",
    "X5['age_range']=X5['age_range'].fillna('Other')\n",
    "X5['family_size']=X5['family_size'].fillna('Other')\n",
    "X5['income_bracket']=X5['income_bracket'].fillna('Other')"
   ]
  },
  {
   "cell_type": "code",
   "execution_count": 49,
   "metadata": {},
   "outputs": [
    {
     "data": {
      "text/plain": [
       "Index(['id', 'campaign_id', 'coupon_id', 'customer_id', 'redemption_status',\n",
       "       'dtType', 'category', 'brand', 'brand_type', 'selling_pricemean',\n",
       "       'coupon_discountdiscountCount', 'coupon_discounttotalDisc',\n",
       "       'other_discountOTdiscountCount', 'other_discountOTtotalDisc',\n",
       "       'dicountPerGiven', 'dicountOthPerGiven', 'dicountGivenPerc',\n",
       "       'dicountOthPerGivenPerc', 'pca1', 'pca2', 'clusCat', 'campaign_type',\n",
       "       'start_date', 'end_date', 'duration', 'start_Month', 'end_Month',\n",
       "       'age_range', 'marital_status', 'rented', 'family_size',\n",
       "       'no_of_children', 'income_bracket'],\n",
       "      dtype='object')"
      ]
     },
     "execution_count": 49,
     "metadata": {},
     "output_type": "execute_result"
    }
   ],
   "source": [
    "X5.columns"
   ]
  },
  {
   "cell_type": "code",
   "execution_count": 50,
   "metadata": {},
   "outputs": [],
   "source": [
    "categoColumns=['category','clusCat','campaign_type', 'brand_type','age_range','marital_status','family_size','no_of_children','income_bracket']\n",
    "catData=pd.get_dummies(X5[categoColumns],prefix_sep='_',)"
   ]
  },
  {
   "cell_type": "code",
   "execution_count": 58,
   "metadata": {},
   "outputs": [],
   "source": [
    "newtData=pd.concat([X5,catData],sort=False,axis=1)"
   ]
  },
  {
   "cell_type": "code",
   "execution_count": 59,
   "metadata": {},
   "outputs": [],
   "source": [
    "XVar=list(newtData.columns)\n",
    "XVar.remove('id')\n",
    "XVar.remove('redemption_status')\n",
    "XVar.remove('dtType')\n",
    "XVar.remove('start_date')\n",
    "XVar.remove('end_date')\n",
    "YVar='redemption_status'"
   ]
  },
  {
   "cell_type": "code",
   "execution_count": 60,
   "metadata": {},
   "outputs": [],
   "source": [
    "for j in categoColumns+['campaign_id', 'coupon_id', 'customer_id']:\n",
    "    XVar.remove(j)"
   ]
  },
  {
   "cell_type": "code",
   "execution_count": 61,
   "metadata": {},
   "outputs": [
    {
     "data": {
      "text/plain": [
       "((78369, 89), (50226, 89))"
      ]
     },
     "execution_count": 61,
     "metadata": {},
     "output_type": "execute_result"
    }
   ],
   "source": [
    "trainPart=newtData[newtData['dtType']=='train']\n",
    "testPart=newtData[newtData['dtType']=='test']\n",
    "trainPart.shape,testPart.shape"
   ]
  },
  {
   "cell_type": "code",
   "execution_count": 62,
   "metadata": {},
   "outputs": [
    {
     "data": {
      "text/plain": [
       "['brand',\n",
       " 'selling_pricemean',\n",
       " 'coupon_discountdiscountCount',\n",
       " 'coupon_discounttotalDisc',\n",
       " 'other_discountOTdiscountCount',\n",
       " 'other_discountOTtotalDisc',\n",
       " 'dicountPerGiven',\n",
       " 'dicountOthPerGiven',\n",
       " 'dicountGivenPerc',\n",
       " 'dicountOthPerGivenPerc',\n",
       " 'pca1',\n",
       " 'pca2',\n",
       " 'duration',\n",
       " 'start_Month',\n",
       " 'end_Month',\n",
       " 'rented',\n",
       " 'category_Bakery',\n",
       " 'category_Dairy, Juices & Snacks',\n",
       " 'category_Flowers & Plants',\n",
       " 'category_Grocery',\n",
       " 'category_Meat',\n",
       " 'category_Natural Products',\n",
       " 'category_Packaged Meat',\n",
       " 'category_Pharmaceutical',\n",
       " 'category_Prepared Food',\n",
       " 'category_Seafood',\n",
       " 'category_Skin & Hair Care',\n",
       " 'clusCat_0',\n",
       " 'clusCat_1',\n",
       " 'clusCat_2',\n",
       " 'clusCat_3',\n",
       " 'clusCat_4',\n",
       " 'clusCat_5',\n",
       " 'clusCat_6',\n",
       " 'clusCat_7',\n",
       " 'campaign_type_X',\n",
       " 'campaign_type_Y',\n",
       " 'brand_type_Established',\n",
       " 'brand_type_Local',\n",
       " 'age_range_18-25',\n",
       " 'age_range_26-35',\n",
       " 'age_range_36-45',\n",
       " 'age_range_46-55',\n",
       " 'age_range_56-70',\n",
       " 'age_range_70+',\n",
       " 'age_range_Other',\n",
       " 'marital_status_Married',\n",
       " 'marital_status_Other',\n",
       " 'marital_status_Single',\n",
       " 'family_size_1',\n",
       " 'family_size_2',\n",
       " 'family_size_3',\n",
       " 'family_size_4',\n",
       " 'family_size_5+',\n",
       " 'family_size_Other',\n",
       " 'no_of_children_0',\n",
       " 'no_of_children_1',\n",
       " 'no_of_children_2',\n",
       " 'no_of_children_3+',\n",
       " 'income_bracket_1.0',\n",
       " 'income_bracket_2.0',\n",
       " 'income_bracket_3.0',\n",
       " 'income_bracket_4.0',\n",
       " 'income_bracket_5.0',\n",
       " 'income_bracket_6.0',\n",
       " 'income_bracket_7.0',\n",
       " 'income_bracket_8.0',\n",
       " 'income_bracket_9.0',\n",
       " 'income_bracket_10.0',\n",
       " 'income_bracket_11.0',\n",
       " 'income_bracket_12.0',\n",
       " 'income_bracket_Other']"
      ]
     },
     "execution_count": 62,
     "metadata": {},
     "output_type": "execute_result"
    }
   ],
   "source": [
    "XVar"
   ]
  },
  {
   "cell_type": "code",
   "execution_count": 63,
   "metadata": {},
   "outputs": [],
   "source": [
    "from sklearn import model_selection,metrics\n",
    "import xgboost as xgb"
   ]
  },
  {
   "cell_type": "markdown",
   "metadata": {},
   "source": [
    "## Train test Split Train, Val, Test set"
   ]
  },
  {
   "cell_type": "code",
   "execution_count": 64,
   "metadata": {},
   "outputs": [
    {
     "data": {
      "text/plain": [
       "((62695, 72), (15674, 72), (62695,), (15674,))"
      ]
     },
     "execution_count": 64,
     "metadata": {},
     "output_type": "execute_result"
    }
   ],
   "source": [
    "trainX,testHX,trainY,testHY=model_selection.train_test_split(trainPart[XVar],trainPart[YVar],test_size=.2,stratify =trainPart[YVar])\n",
    "trainX.shape,testHX.shape,trainY.shape,testHY.shape"
   ]
  },
  {
   "cell_type": "code",
   "execution_count": 65,
   "metadata": {},
   "outputs": [
    {
     "data": {
      "text/plain": [
       "((50156, 72), (12539, 72), (50156,), (12539,))"
      ]
     },
     "execution_count": 65,
     "metadata": {},
     "output_type": "execute_result"
    }
   ],
   "source": [
    "trainX1,valX1,trainY1,valY1=model_selection.train_test_split(trainX,trainY,test_size=.2,stratify =trainY)\n",
    "trainX1.shape,valX1.shape,trainY1.shape,valY1.shape"
   ]
  },
  {
   "cell_type": "code",
   "execution_count": 66,
   "metadata": {},
   "outputs": [],
   "source": [
    "modelR=xgb.XGBClassifier().fit(trainX1,trainY1)"
   ]
  },
  {
   "cell_type": "code",
   "execution_count": 67,
   "metadata": {},
   "outputs": [
    {
     "name": "stdout",
     "output_type": "stream",
     "text": [
      "train 583.0 vs 0.0 validation 117.0 vs 0.0 test 146.0 vs 0.0\n"
     ]
    },
    {
     "data": {
      "text/plain": [
       "(0.8920734430493733, 0.8653990645215891, 0.8569519577537352)"
      ]
     },
     "execution_count": 67,
     "metadata": {},
     "output_type": "execute_result"
    }
   ],
   "source": [
    "t1=modelR.predict(trainX)\n",
    "t2=modelR.predict(valX1)\n",
    "t3=modelR.predict(testHX)\n",
    "trainScore=modelR.predict_proba(trainX)[:,1]\n",
    "testScore=modelR.predict_proba(valX1)[:,1]\n",
    "test2Score=modelR.predict_proba(testHX)[:,1]\n",
    "\n",
    "print ('train {} vs {} validation {} vs {} test {} vs {}'.format(sum(trainY),sum(t1),sum(valY1),sum(t2), sum(testHY),sum(t3)))\n",
    "metrics.roc_auc_score(trainY,trainScore),metrics.roc_auc_score(valY1,testScore),metrics.roc_auc_score(testHY,test2Score)"
   ]
  },
  {
   "cell_type": "code",
   "execution_count": 68,
   "metadata": {},
   "outputs": [],
   "source": [
    "import lightgbm  as lgb"
   ]
  },
  {
   "cell_type": "code",
   "execution_count": 69,
   "metadata": {},
   "outputs": [],
   "source": [
    "modelL=lgb.LGBMClassifier().fit(trainX1,trainY1)"
   ]
  },
  {
   "cell_type": "code",
   "execution_count": 70,
   "metadata": {
    "scrolled": true
   },
   "outputs": [
    {
     "name": "stdout",
     "output_type": "stream",
     "text": [
      "train 583.0 vs 134.0 validation 117.0 vs 13.0 test 146.0 vs 20.0\n"
     ]
    },
    {
     "data": {
      "text/plain": [
       "(0.9585126420219812, 0.851620780335963, 0.8526329811635014)"
      ]
     },
     "execution_count": 70,
     "metadata": {},
     "output_type": "execute_result"
    }
   ],
   "source": [
    "t1=modelL.predict(trainX)\n",
    "t2=modelL.predict(valX1)\n",
    "t3=modelL.predict(testHX)\n",
    "trainScore=modelL.predict_proba(trainX)[:,1]\n",
    "testScore=modelL.predict_proba(valX1)[:,1]\n",
    "test2Score=modelL.predict_proba(testHX)[:,1]\n",
    "\n",
    "print ('train {} vs {} validation {} vs {} test {} vs {}'.format(sum(trainY),sum(t1),sum(valY1),sum(t2), sum(testHY),sum(t3)))\n",
    "metrics.roc_auc_score(trainY,trainScore),metrics.roc_auc_score(valY1,testScore),metrics.roc_auc_score(testHY,test2Score)"
   ]
  },
  {
   "cell_type": "code",
   "execution_count": 71,
   "metadata": {},
   "outputs": [
    {
     "name": "stderr",
     "output_type": "stream",
     "text": [
      "C:\\Users\\swsh\\AppData\\Local\\Continuum\\anaconda3\\envs\\py36\\lib\\site-packages\\sklearn\\ensemble\\forest.py:246: FutureWarning: The default value of n_estimators will change from 10 in version 0.20 to 100 in 0.22.\n",
      "  \"10 in version 0.20 to 100 in 0.22.\", FutureWarning)\n"
     ]
    }
   ],
   "source": [
    "modelRF=ensemble.RandomForestClassifier().fit(trainX1,trainY1)"
   ]
  },
  {
   "cell_type": "code",
   "execution_count": 72,
   "metadata": {},
   "outputs": [
    {
     "name": "stdout",
     "output_type": "stream",
     "text": [
      "train 583.0 vs 284.0 validation 117.0 vs 20.0 test 146.0 vs 27.0\n"
     ]
    },
    {
     "data": {
      "text/plain": [
       "(0.9218274733939378, 0.6393092899694091, 0.6572740008327864)"
      ]
     },
     "execution_count": 72,
     "metadata": {},
     "output_type": "execute_result"
    }
   ],
   "source": [
    "t1=modelRF.predict(trainX)\n",
    "t2=modelRF.predict(valX1)\n",
    "t3=modelRF.predict(testHX)\n",
    "trainScore=modelRF.predict_proba(trainX)[:,1]\n",
    "testScore=modelRF.predict_proba(valX1)[:,1]\n",
    "test2Score=modelRF.predict_proba(testHX)[:,1]\n",
    "\n",
    "print ('train {} vs {} validation {} vs {} test {} vs {}'.format(sum(trainY),sum(t1),sum(valY1),sum(t2), sum(testHY),sum(t3)))\n",
    "metrics.roc_auc_score(trainY,trainScore),metrics.roc_auc_score(valY1,testScore),metrics.roc_auc_score(testHY,test2Score)"
   ]
  },
  {
   "cell_type": "code",
   "execution_count": 73,
   "metadata": {},
   "outputs": [],
   "source": [
    "params={'base_score':0.9,\n",
    "        'booster':'gbtree', \n",
    "        'colsample_bylevel':1,\n",
    "       'colsample_bytree':1, \n",
    "        'gamma':0, \n",
    "        'learning_rate':0.1, \n",
    "        'max_delta_step':0,\n",
    "       'max_depth':3, \n",
    "        'min_child_weight':1, \n",
    "        'n_estimators':100,\n",
    "        'eval_metric': ['logloss','auc'],\n",
    "       'n_jobs':1,  'objective':'binary:logistic', 'random_state':0,\n",
    "       'reg_alpha':0, 'reg_lambda':1, 'scale_pos_weight':1, 'subsample':1,\n",
    "       'early_stopping_rounds' : 50,\n",
    "       'stratified':True }"
   ]
  },
  {
   "cell_type": "code",
   "execution_count": 74,
   "metadata": {
    "scrolled": true
   },
   "outputs": [
    {
     "name": "stderr",
     "output_type": "stream",
     "text": [
      "C:\\Users\\swsh\\AppData\\Local\\Continuum\\anaconda3\\envs\\py36\\lib\\site-packages\\xgboost\\core.py:587: FutureWarning: Series.base is deprecated and will be removed in a future version\n",
      "  if getattr(data, 'base', None) is not None and \\\n"
     ]
    },
    {
     "name": "stdout",
     "output_type": "stream",
     "text": [
      "[0]\ttrain-logloss:1.45769\ttrain-auc:0.5\tvalid-logloss:1.45814\tvalid-auc:0.5\n",
      "Multiple eval metrics have been passed: 'valid-auc' will be used for early stopping.\n",
      "\n",
      "Will train until valid-auc hasn't improved in 50 rounds.\n",
      "[10]\ttrain-logloss:0.326257\ttrain-auc:0.799989\tvalid-logloss:0.326237\tvalid-auc:0.819635\n",
      "[20]\ttrain-logloss:0.12951\ttrain-auc:0.825288\tvalid-logloss:0.129571\tvalid-auc:0.835977\n",
      "[30]\ttrain-logloss:0.071259\ttrain-auc:0.832648\tvalid-logloss:0.071406\tvalid-auc:0.839281\n",
      "[40]\ttrain-logloss:0.052966\ttrain-auc:0.846586\tvalid-logloss:0.053179\tvalid-auc:0.850713\n",
      "[50]\ttrain-logloss:0.046898\ttrain-auc:0.857163\tvalid-logloss:0.047248\tvalid-auc:0.858768\n",
      "[60]\ttrain-logloss:0.04453\ttrain-auc:0.865892\tvalid-logloss:0.045342\tvalid-auc:0.857899\n",
      "[70]\ttrain-logloss:0.0432\ttrain-auc:0.874338\tvalid-logloss:0.044395\tvalid-auc:0.860692\n",
      "[80]\ttrain-logloss:0.042394\ttrain-auc:0.882599\tvalid-logloss:0.043993\tvalid-auc:0.862559\n",
      "[90]\ttrain-logloss:0.04161\ttrain-auc:0.891322\tvalid-logloss:0.04371\tvalid-auc:0.864475\n",
      "[100]\ttrain-logloss:0.040954\ttrain-auc:0.897495\tvalid-logloss:0.043513\tvalid-auc:0.865992\n",
      "[110]\ttrain-logloss:0.040459\ttrain-auc:0.902914\tvalid-logloss:0.043398\tvalid-auc:0.86651\n",
      "[120]\ttrain-logloss:0.040015\ttrain-auc:0.906808\tvalid-logloss:0.043305\tvalid-auc:0.867196\n",
      "[130]\ttrain-logloss:0.039557\ttrain-auc:0.910865\tvalid-logloss:0.043212\tvalid-auc:0.866577\n",
      "[140]\ttrain-logloss:0.039214\ttrain-auc:0.913585\tvalid-logloss:0.043215\tvalid-auc:0.866499\n",
      "[150]\ttrain-logloss:0.038867\ttrain-auc:0.915585\tvalid-logloss:0.043255\tvalid-auc:0.865647\n",
      "[160]\ttrain-logloss:0.038484\ttrain-auc:0.918397\tvalid-logloss:0.043254\tvalid-auc:0.865634\n",
      "[170]\ttrain-logloss:0.038142\ttrain-auc:0.920771\tvalid-logloss:0.043221\tvalid-auc:0.866182\n",
      "Stopping. Best iteration:\n",
      "[123]\ttrain-logloss:0.039832\ttrain-auc:0.908377\tvalid-logloss:0.043181\tvalid-auc:0.867774\n",
      "\n"
     ]
    }
   ],
   "source": [
    "num_round = 1000\n",
    "\n",
    "dtrain = xgb.DMatrix(trainX1,trainY1)\n",
    "# dtrain.set_group(Xg)\n",
    "\n",
    "dvalid = xgb.DMatrix(valX1, valY1)\n",
    "# dvalid.set_group(Xgt)\n",
    "watchlist = [(dtrain, 'train'), (dvalid, 'valid')]\n",
    "bst = xgb.train(params, dtrain, num_round, evals = watchlist,\n",
    "    early_stopping_rounds=50,verbose_eval=10,maximize=True)\n"
   ]
  },
  {
   "cell_type": "code",
   "execution_count": 75,
   "metadata": {},
   "outputs": [],
   "source": [
    "dtest = xgb.DMatrix(testHX)"
   ]
  },
  {
   "cell_type": "code",
   "execution_count": 76,
   "metadata": {},
   "outputs": [],
   "source": [
    "testScoreP=bst.predict(dtest)"
   ]
  },
  {
   "cell_type": "code",
   "execution_count": 77,
   "metadata": {},
   "outputs": [
    {
     "data": {
      "text/plain": [
       "0.8637640003387604"
      ]
     },
     "execution_count": 77,
     "metadata": {},
     "output_type": "execute_result"
    }
   ],
   "source": [
    "metrics.roc_auc_score(testHY,testScoreP)"
   ]
  },
  {
   "cell_type": "code",
   "execution_count": null,
   "metadata": {},
   "outputs": [],
   "source": [
    "# # testFScore=modelR.predict_proba(testPart[XVar])[:,1]\n",
    "# firstSub2=pd.DataFrame(data={'id':test_QyjYwdjData['id'],YVar:testScoreP})\n",
    "# firstSub2.to_csv('firstSub6.csv',index=False)"
   ]
  },
  {
   "cell_type": "code",
   "execution_count": null,
   "metadata": {},
   "outputs": [],
   "source": []
  }
 ],
 "metadata": {
  "kernelspec": {
   "display_name": "Python 3",
   "language": "python",
   "name": "python3"
  },
  "language_info": {
   "codemirror_mode": {
    "name": "ipython",
    "version": 3
   },
   "file_extension": ".py",
   "mimetype": "text/x-python",
   "name": "python",
   "nbconvert_exporter": "python",
   "pygments_lexer": "ipython3",
   "version": "3.6.8"
  }
 },
 "nbformat": 4,
 "nbformat_minor": 2
}
