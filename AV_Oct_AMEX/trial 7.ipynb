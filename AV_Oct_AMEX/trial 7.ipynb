{
 "cells": [
  {
   "cell_type": "code",
   "execution_count": 1,
   "metadata": {},
   "outputs": [],
   "source": [
    "import pandas as pd\n",
    "import numpy as np\n",
    "import seaborn as sns\n",
    "import matplotlib.pyplot as plt\n",
    "import dateutil\n",
    "from sklearn import ensemble,metrics,linear_model,tree\n",
    "from tqdm import tqdm"
   ]
  },
  {
   "cell_type": "markdown",
   "metadata": {},
   "source": [
    "# Read All data"
   ]
  },
  {
   "cell_type": "code",
   "execution_count": 2,
   "metadata": {},
   "outputs": [],
   "source": [
    "campData=pd.read_csv('campaign_data.csv')\n",
    "coupon_item_mappingData=pd.read_csv('coupon_item_mapping.csv')\n",
    "customer_demographicsData=pd.read_csv('customer_demographics.csv')\n",
    "c_trans_Data=pd.read_csv('customer_transaction_data.csv')\n",
    "item_dataData=pd.read_csv('item_data.csv')\n",
    "trainData=pd.read_csv('train.csv')\n",
    "test_QyjYwdjData=pd.read_csv('test_QyjYwdj.csv')"
   ]
  },
  {
   "cell_type": "code",
   "execution_count": 3,
   "metadata": {},
   "outputs": [
    {
     "data": {
      "text/plain": [
       "(128595, 6)"
      ]
     },
     "execution_count": 3,
     "metadata": {},
     "output_type": "execute_result"
    }
   ],
   "source": [
    "trainData['dtType']='train'\n",
    "test_QyjYwdjData['dtType']='test'\n",
    "\n",
    "allData=trainData.append(test_QyjYwdjData,sort=False)\n",
    "allData.shape"
   ]
  },
  {
   "cell_type": "code",
   "execution_count": 4,
   "metadata": {},
   "outputs": [
    {
     "data": {
      "text/plain": [
       "729"
      ]
     },
     "execution_count": 4,
     "metadata": {},
     "output_type": "execute_result"
    }
   ],
   "source": [
    "trainData['redemption_status'].sum()"
   ]
  },
  {
   "cell_type": "code",
   "execution_count": 5,
   "metadata": {},
   "outputs": [],
   "source": [
    "campData['start_date']=campData['start_date'].apply(lambda x: dateutil.parser.parse(x,dayfirst=True))\n",
    "campData['end_date']=campData['end_date'].apply(lambda x: dateutil.parser.parse(x,dayfirst=True))\n",
    "campData['duration']=campData['end_date']-campData['start_date']\n",
    "campData['duration']=campData['duration'].apply(lambda x: x.days)\n",
    "campData['start_Month']=campData['start_date'].apply(lambda x: x.month)\n",
    "campData['end_Month']=campData['end_date'].apply(lambda x: x.month)"
   ]
  },
  {
   "cell_type": "code",
   "execution_count": 6,
   "metadata": {},
   "outputs": [],
   "source": [
    "c_trans_Data['date']=c_trans_Data['date'].apply(lambda x: dateutil.parser.parse(x,dayfirst=True))"
   ]
  },
  {
   "cell_type": "code",
   "execution_count": 7,
   "metadata": {},
   "outputs": [
    {
     "name": "stdout",
     "output_type": "stream",
     "text": [
      "2013-12-06 00:00:00 2012-01-02 00:00:00\n",
      "2013-10-21 00:00:00 2012-08-12 00:00:00\n",
      "2013-12-20 00:00:00 2012-09-21 00:00:00\n"
     ]
    }
   ],
   "source": [
    "print (max(c_trans_Data['date']),min(c_trans_Data['date']))\n",
    "print (max(campData['start_date']),min(campData['start_date']))\n",
    "print (max(campData['end_date']),min(campData['end_date']))"
   ]
  },
  {
   "cell_type": "code",
   "execution_count": 8,
   "metadata": {
    "scrolled": true
   },
   "outputs": [
    {
     "data": {
      "text/html": [
       "<div>\n",
       "<style scoped>\n",
       "    .dataframe tbody tr th:only-of-type {\n",
       "        vertical-align: middle;\n",
       "    }\n",
       "\n",
       "    .dataframe tbody tr th {\n",
       "        vertical-align: top;\n",
       "    }\n",
       "\n",
       "    .dataframe thead th {\n",
       "        text-align: right;\n",
       "    }\n",
       "</style>\n",
       "<table border=\"1\" class=\"dataframe\">\n",
       "  <thead>\n",
       "    <tr style=\"text-align: right;\">\n",
       "      <th></th>\n",
       "      <th>campaign_id</th>\n",
       "      <th>campaign_type</th>\n",
       "      <th>start_date</th>\n",
       "      <th>end_date</th>\n",
       "      <th>duration</th>\n",
       "      <th>start_Month</th>\n",
       "      <th>end_Month</th>\n",
       "    </tr>\n",
       "  </thead>\n",
       "  <tbody>\n",
       "    <tr>\n",
       "      <th>27</th>\n",
       "      <td>26</td>\n",
       "      <td>X</td>\n",
       "      <td>2012-08-12</td>\n",
       "      <td>2012-09-21</td>\n",
       "      <td>40</td>\n",
       "      <td>8</td>\n",
       "      <td>9</td>\n",
       "    </tr>\n",
       "    <tr>\n",
       "      <th>26</th>\n",
       "      <td>27</td>\n",
       "      <td>Y</td>\n",
       "      <td>2012-08-25</td>\n",
       "      <td>2012-10-27</td>\n",
       "      <td>63</td>\n",
       "      <td>8</td>\n",
       "      <td>10</td>\n",
       "    </tr>\n",
       "    <tr>\n",
       "      <th>25</th>\n",
       "      <td>28</td>\n",
       "      <td>Y</td>\n",
       "      <td>2012-09-16</td>\n",
       "      <td>2012-11-16</td>\n",
       "      <td>61</td>\n",
       "      <td>9</td>\n",
       "      <td>11</td>\n",
       "    </tr>\n",
       "    <tr>\n",
       "      <th>24</th>\n",
       "      <td>29</td>\n",
       "      <td>Y</td>\n",
       "      <td>2012-10-08</td>\n",
       "      <td>2012-11-30</td>\n",
       "      <td>53</td>\n",
       "      <td>10</td>\n",
       "      <td>11</td>\n",
       "    </tr>\n",
       "    <tr>\n",
       "      <th>23</th>\n",
       "      <td>30</td>\n",
       "      <td>X</td>\n",
       "      <td>2012-11-19</td>\n",
       "      <td>2013-01-04</td>\n",
       "      <td>46</td>\n",
       "      <td>11</td>\n",
       "      <td>1</td>\n",
       "    </tr>\n",
       "    <tr>\n",
       "      <th>21</th>\n",
       "      <td>1</td>\n",
       "      <td>Y</td>\n",
       "      <td>2012-12-12</td>\n",
       "      <td>2013-01-18</td>\n",
       "      <td>37</td>\n",
       "      <td>12</td>\n",
       "      <td>1</td>\n",
       "    </tr>\n",
       "    <tr>\n",
       "      <th>22</th>\n",
       "      <td>2</td>\n",
       "      <td>Y</td>\n",
       "      <td>2012-12-17</td>\n",
       "      <td>2013-01-18</td>\n",
       "      <td>32</td>\n",
       "      <td>12</td>\n",
       "      <td>1</td>\n",
       "    </tr>\n",
       "    <tr>\n",
       "      <th>18</th>\n",
       "      <td>3</td>\n",
       "      <td>Y</td>\n",
       "      <td>2012-12-22</td>\n",
       "      <td>2013-02-16</td>\n",
       "      <td>56</td>\n",
       "      <td>12</td>\n",
       "      <td>2</td>\n",
       "    </tr>\n",
       "    <tr>\n",
       "      <th>20</th>\n",
       "      <td>4</td>\n",
       "      <td>Y</td>\n",
       "      <td>2013-01-07</td>\n",
       "      <td>2013-02-08</td>\n",
       "      <td>32</td>\n",
       "      <td>1</td>\n",
       "      <td>2</td>\n",
       "    </tr>\n",
       "    <tr>\n",
       "      <th>19</th>\n",
       "      <td>5</td>\n",
       "      <td>Y</td>\n",
       "      <td>2013-01-12</td>\n",
       "      <td>2013-02-15</td>\n",
       "      <td>34</td>\n",
       "      <td>1</td>\n",
       "      <td>2</td>\n",
       "    </tr>\n",
       "    <tr>\n",
       "      <th>17</th>\n",
       "      <td>6</td>\n",
       "      <td>Y</td>\n",
       "      <td>2013-01-28</td>\n",
       "      <td>2013-03-01</td>\n",
       "      <td>32</td>\n",
       "      <td>1</td>\n",
       "      <td>3</td>\n",
       "    </tr>\n",
       "    <tr>\n",
       "      <th>16</th>\n",
       "      <td>7</td>\n",
       "      <td>Y</td>\n",
       "      <td>2013-02-02</td>\n",
       "      <td>2013-03-08</td>\n",
       "      <td>34</td>\n",
       "      <td>2</td>\n",
       "      <td>3</td>\n",
       "    </tr>\n",
       "    <tr>\n",
       "      <th>15</th>\n",
       "      <td>8</td>\n",
       "      <td>X</td>\n",
       "      <td>2013-02-16</td>\n",
       "      <td>2013-04-05</td>\n",
       "      <td>48</td>\n",
       "      <td>2</td>\n",
       "      <td>4</td>\n",
       "    </tr>\n",
       "    <tr>\n",
       "      <th>14</th>\n",
       "      <td>9</td>\n",
       "      <td>Y</td>\n",
       "      <td>2013-03-11</td>\n",
       "      <td>2013-04-12</td>\n",
       "      <td>32</td>\n",
       "      <td>3</td>\n",
       "      <td>4</td>\n",
       "    </tr>\n",
       "    <tr>\n",
       "      <th>13</th>\n",
       "      <td>10</td>\n",
       "      <td>Y</td>\n",
       "      <td>2013-04-08</td>\n",
       "      <td>2013-05-10</td>\n",
       "      <td>32</td>\n",
       "      <td>4</td>\n",
       "      <td>5</td>\n",
       "    </tr>\n",
       "    <tr>\n",
       "      <th>11</th>\n",
       "      <td>11</td>\n",
       "      <td>Y</td>\n",
       "      <td>2013-04-22</td>\n",
       "      <td>2013-06-07</td>\n",
       "      <td>46</td>\n",
       "      <td>4</td>\n",
       "      <td>6</td>\n",
       "    </tr>\n",
       "    <tr>\n",
       "      <th>12</th>\n",
       "      <td>12</td>\n",
       "      <td>Y</td>\n",
       "      <td>2013-04-22</td>\n",
       "      <td>2013-05-24</td>\n",
       "      <td>32</td>\n",
       "      <td>4</td>\n",
       "      <td>5</td>\n",
       "    </tr>\n",
       "    <tr>\n",
       "      <th>10</th>\n",
       "      <td>13</td>\n",
       "      <td>X</td>\n",
       "      <td>2013-05-19</td>\n",
       "      <td>2013-07-05</td>\n",
       "      <td>47</td>\n",
       "      <td>5</td>\n",
       "      <td>7</td>\n",
       "    </tr>\n",
       "    <tr>\n",
       "      <th>9</th>\n",
       "      <td>16</td>\n",
       "      <td>Y</td>\n",
       "      <td>2013-07-15</td>\n",
       "      <td>2013-08-16</td>\n",
       "      <td>32</td>\n",
       "      <td>7</td>\n",
       "      <td>8</td>\n",
       "    </tr>\n",
       "    <tr>\n",
       "      <th>8</th>\n",
       "      <td>17</td>\n",
       "      <td>Y</td>\n",
       "      <td>2013-07-29</td>\n",
       "      <td>2013-08-30</td>\n",
       "      <td>32</td>\n",
       "      <td>7</td>\n",
       "      <td>8</td>\n",
       "    </tr>\n",
       "    <tr>\n",
       "      <th>6</th>\n",
       "      <td>18</td>\n",
       "      <td>X</td>\n",
       "      <td>2013-08-10</td>\n",
       "      <td>2013-10-04</td>\n",
       "      <td>55</td>\n",
       "      <td>8</td>\n",
       "      <td>10</td>\n",
       "    </tr>\n",
       "    <tr>\n",
       "      <th>7</th>\n",
       "      <td>19</td>\n",
       "      <td>Y</td>\n",
       "      <td>2013-08-26</td>\n",
       "      <td>2013-09-27</td>\n",
       "      <td>32</td>\n",
       "      <td>8</td>\n",
       "      <td>9</td>\n",
       "    </tr>\n",
       "    <tr>\n",
       "      <th>2</th>\n",
       "      <td>20</td>\n",
       "      <td>Y</td>\n",
       "      <td>2013-09-07</td>\n",
       "      <td>2013-11-16</td>\n",
       "      <td>70</td>\n",
       "      <td>9</td>\n",
       "      <td>11</td>\n",
       "    </tr>\n",
       "    <tr>\n",
       "      <th>5</th>\n",
       "      <td>22</td>\n",
       "      <td>X</td>\n",
       "      <td>2013-09-16</td>\n",
       "      <td>2013-10-18</td>\n",
       "      <td>32</td>\n",
       "      <td>9</td>\n",
       "      <td>10</td>\n",
       "    </tr>\n",
       "    <tr>\n",
       "      <th>4</th>\n",
       "      <td>21</td>\n",
       "      <td>Y</td>\n",
       "      <td>2013-09-16</td>\n",
       "      <td>2013-10-18</td>\n",
       "      <td>32</td>\n",
       "      <td>9</td>\n",
       "      <td>10</td>\n",
       "    </tr>\n",
       "    <tr>\n",
       "      <th>3</th>\n",
       "      <td>23</td>\n",
       "      <td>Y</td>\n",
       "      <td>2013-10-08</td>\n",
       "      <td>2013-11-15</td>\n",
       "      <td>38</td>\n",
       "      <td>10</td>\n",
       "      <td>11</td>\n",
       "    </tr>\n",
       "    <tr>\n",
       "      <th>1</th>\n",
       "      <td>25</td>\n",
       "      <td>Y</td>\n",
       "      <td>2013-10-21</td>\n",
       "      <td>2013-11-22</td>\n",
       "      <td>32</td>\n",
       "      <td>10</td>\n",
       "      <td>11</td>\n",
       "    </tr>\n",
       "    <tr>\n",
       "      <th>0</th>\n",
       "      <td>24</td>\n",
       "      <td>Y</td>\n",
       "      <td>2013-10-21</td>\n",
       "      <td>2013-12-20</td>\n",
       "      <td>60</td>\n",
       "      <td>10</td>\n",
       "      <td>12</td>\n",
       "    </tr>\n",
       "  </tbody>\n",
       "</table>\n",
       "</div>"
      ],
      "text/plain": [
       "    campaign_id campaign_type start_date   end_date  duration  start_Month  \\\n",
       "27           26             X 2012-08-12 2012-09-21        40            8   \n",
       "26           27             Y 2012-08-25 2012-10-27        63            8   \n",
       "25           28             Y 2012-09-16 2012-11-16        61            9   \n",
       "24           29             Y 2012-10-08 2012-11-30        53           10   \n",
       "23           30             X 2012-11-19 2013-01-04        46           11   \n",
       "21            1             Y 2012-12-12 2013-01-18        37           12   \n",
       "22            2             Y 2012-12-17 2013-01-18        32           12   \n",
       "18            3             Y 2012-12-22 2013-02-16        56           12   \n",
       "20            4             Y 2013-01-07 2013-02-08        32            1   \n",
       "19            5             Y 2013-01-12 2013-02-15        34            1   \n",
       "17            6             Y 2013-01-28 2013-03-01        32            1   \n",
       "16            7             Y 2013-02-02 2013-03-08        34            2   \n",
       "15            8             X 2013-02-16 2013-04-05        48            2   \n",
       "14            9             Y 2013-03-11 2013-04-12        32            3   \n",
       "13           10             Y 2013-04-08 2013-05-10        32            4   \n",
       "11           11             Y 2013-04-22 2013-06-07        46            4   \n",
       "12           12             Y 2013-04-22 2013-05-24        32            4   \n",
       "10           13             X 2013-05-19 2013-07-05        47            5   \n",
       "9            16             Y 2013-07-15 2013-08-16        32            7   \n",
       "8            17             Y 2013-07-29 2013-08-30        32            7   \n",
       "6            18             X 2013-08-10 2013-10-04        55            8   \n",
       "7            19             Y 2013-08-26 2013-09-27        32            8   \n",
       "2            20             Y 2013-09-07 2013-11-16        70            9   \n",
       "5            22             X 2013-09-16 2013-10-18        32            9   \n",
       "4            21             Y 2013-09-16 2013-10-18        32            9   \n",
       "3            23             Y 2013-10-08 2013-11-15        38           10   \n",
       "1            25             Y 2013-10-21 2013-11-22        32           10   \n",
       "0            24             Y 2013-10-21 2013-12-20        60           10   \n",
       "\n",
       "    end_Month  \n",
       "27          9  \n",
       "26         10  \n",
       "25         11  \n",
       "24         11  \n",
       "23          1  \n",
       "21          1  \n",
       "22          1  \n",
       "18          2  \n",
       "20          2  \n",
       "19          2  \n",
       "17          3  \n",
       "16          3  \n",
       "15          4  \n",
       "14          4  \n",
       "13          5  \n",
       "11          6  \n",
       "12          5  \n",
       "10          7  \n",
       "9           8  \n",
       "8           8  \n",
       "6          10  \n",
       "7           9  \n",
       "2          11  \n",
       "5          10  \n",
       "4          10  \n",
       "3          11  \n",
       "1          11  \n",
       "0          12  "
      ]
     },
     "execution_count": 8,
     "metadata": {},
     "output_type": "execute_result"
    }
   ],
   "source": [
    "campData.sort_values('start_date')"
   ]
  },
  {
   "cell_type": "code",
   "execution_count": 9,
   "metadata": {},
   "outputs": [
    {
     "name": "stderr",
     "output_type": "stream",
     "text": [
      "28it [01:30,  3.24s/it]\n"
     ]
    }
   ],
   "source": [
    "for j,k,l in tqdm(zip(campData['start_date'],campData['end_date'],campData['campaign_id'])):\n",
    "    c_trans_Data['campaign_'+str(l).zfill(2)]=c_trans_Data['date'].apply(lambda x:1 if ((x >= j) & (x <= k)) else 0)\n",
    "#     if (c_trans_Data['date'][1324561] >= j) & (c_trans_Data['date'][1324561] <= k):\n",
    "#         print (j,k)"
   ]
  },
  {
   "cell_type": "code",
   "execution_count": 10,
   "metadata": {},
   "outputs": [],
   "source": [
    "campCol=['campaign_24', 'campaign_25',\n",
    "       'campaign_20', 'campaign_23', 'campaign_21', 'campaign_22',\n",
    "       'campaign_18', 'campaign_19', 'campaign_17', 'campaign_16',\n",
    "       'campaign_13', 'campaign_11', 'campaign_12', 'campaign_10',\n",
    "       'campaign_09', 'campaign_08', 'campaign_07', 'campaign_06',\n",
    "       'campaign_03', 'campaign_05', 'campaign_04', 'campaign_01',\n",
    "       'campaign_02', 'campaign_30', 'campaign_29', 'campaign_28',\n",
    "       'campaign_27', 'campaign_26']"
   ]
  },
  {
   "cell_type": "code",
   "execution_count": 11,
   "metadata": {},
   "outputs": [
    {
     "name": "stderr",
     "output_type": "stream",
     "text": [
      "C:\\Users\\swsh\\AppData\\Local\\Continuum\\anaconda3\\envs\\py36\\lib\\site-packages\\ipykernel_launcher.py:5: SettingWithCopyWarning: \n",
      "A value is trying to be set on a copy of a slice from a DataFrame.\n",
      "Try using .loc[row_indexer,col_indexer] = value instead\n",
      "\n",
      "See the caveats in the documentation: http://pandas.pydata.org/pandas-docs/stable/indexing.html#indexing-view-versus-copy\n",
      "  \"\"\"\n"
     ]
    }
   ],
   "source": [
    "campTran=c_trans_Data[campCol]\n",
    "\n",
    "campTran.iloc[1324544][campTran.iloc[1324544]==1].index\n",
    "\n",
    "campTran['campParticipated']=campTran.apply(lambda x: x[x==1].index.values, axis = 1)"
   ]
  },
  {
   "cell_type": "code",
   "execution_count": 12,
   "metadata": {},
   "outputs": [],
   "source": [
    "c_trans_Data['campParticipated']=campTran['campParticipated']\n",
    "c_trans_Data['filt']=c_trans_Data['campParticipated'].apply(lambda x: len(x))\n",
    "for j in campCol:\n",
    "    del c_trans_Data[j]"
   ]
  },
  {
   "cell_type": "code",
   "execution_count": 13,
   "metadata": {},
   "outputs": [
    {
     "data": {
      "text/plain": [
       "(1324566, 9)"
      ]
     },
     "execution_count": 13,
     "metadata": {},
     "output_type": "execute_result"
    }
   ],
   "source": [
    "c_trans_Data.shape"
   ]
  },
  {
   "cell_type": "code",
   "execution_count": 14,
   "metadata": {},
   "outputs": [],
   "source": [
    "c_trans_Data=c_trans_Data[c_trans_Data['filt']!=0]\n",
    "c_trans_Data['campaign_id']=c_trans_Data['campParticipated'].apply(lambda x: int(x[0].split('_')[1]))\n",
    "del c_trans_Data['filt']\n",
    "del c_trans_Data['campParticipated']"
   ]
  },
  {
   "cell_type": "code",
   "execution_count": 15,
   "metadata": {},
   "outputs": [],
   "source": [
    "mergedData=pd.merge(c_trans_Data,campData,on='campaign_id',how='left')"
   ]
  },
  {
   "cell_type": "code",
   "execution_count": 16,
   "metadata": {},
   "outputs": [],
   "source": [
    "mergedData['occurenceofPurch']=mergedData['date']-mergedData['start_date']\n",
    "mergedData['occurenceofPurch']=mergedData['occurenceofPurch'].apply(lambda x: x.days)"
   ]
  },
  {
   "cell_type": "code",
   "execution_count": 17,
   "metadata": {},
   "outputs": [
    {
     "data": {
      "text/html": [
       "<div>\n",
       "<style scoped>\n",
       "    .dataframe tbody tr th:only-of-type {\n",
       "        vertical-align: middle;\n",
       "    }\n",
       "\n",
       "    .dataframe tbody tr th {\n",
       "        vertical-align: top;\n",
       "    }\n",
       "\n",
       "    .dataframe thead th {\n",
       "        text-align: right;\n",
       "    }\n",
       "</style>\n",
       "<table border=\"1\" class=\"dataframe\">\n",
       "  <thead>\n",
       "    <tr style=\"text-align: right;\">\n",
       "      <th></th>\n",
       "      <th>date</th>\n",
       "      <th>customer_id</th>\n",
       "      <th>item_id</th>\n",
       "      <th>quantity</th>\n",
       "      <th>selling_price</th>\n",
       "      <th>other_discount</th>\n",
       "      <th>coupon_discount</th>\n",
       "      <th>campaign_id</th>\n",
       "      <th>campaign_type</th>\n",
       "      <th>start_date</th>\n",
       "      <th>end_date</th>\n",
       "      <th>duration</th>\n",
       "      <th>start_Month</th>\n",
       "      <th>end_Month</th>\n",
       "      <th>occurenceofPurch</th>\n",
       "    </tr>\n",
       "  </thead>\n",
       "  <tbody>\n",
       "    <tr>\n",
       "      <th>0</th>\n",
       "      <td>2012-09-01</td>\n",
       "      <td>1497</td>\n",
       "      <td>9281</td>\n",
       "      <td>4</td>\n",
       "      <td>71.24</td>\n",
       "      <td>0.00</td>\n",
       "      <td>0.0</td>\n",
       "      <td>27</td>\n",
       "      <td>Y</td>\n",
       "      <td>2012-08-25</td>\n",
       "      <td>2012-10-27</td>\n",
       "      <td>63</td>\n",
       "      <td>8</td>\n",
       "      <td>10</td>\n",
       "      <td>7</td>\n",
       "    </tr>\n",
       "    <tr>\n",
       "      <th>1</th>\n",
       "      <td>2012-09-01</td>\n",
       "      <td>1497</td>\n",
       "      <td>18919</td>\n",
       "      <td>2</td>\n",
       "      <td>284.25</td>\n",
       "      <td>-103.30</td>\n",
       "      <td>0.0</td>\n",
       "      <td>27</td>\n",
       "      <td>Y</td>\n",
       "      <td>2012-08-25</td>\n",
       "      <td>2012-10-27</td>\n",
       "      <td>63</td>\n",
       "      <td>8</td>\n",
       "      <td>10</td>\n",
       "      <td>7</td>\n",
       "    </tr>\n",
       "    <tr>\n",
       "      <th>2</th>\n",
       "      <td>2012-09-01</td>\n",
       "      <td>1497</td>\n",
       "      <td>19849</td>\n",
       "      <td>1</td>\n",
       "      <td>44.17</td>\n",
       "      <td>0.00</td>\n",
       "      <td>0.0</td>\n",
       "      <td>27</td>\n",
       "      <td>Y</td>\n",
       "      <td>2012-08-25</td>\n",
       "      <td>2012-10-27</td>\n",
       "      <td>63</td>\n",
       "      <td>8</td>\n",
       "      <td>10</td>\n",
       "      <td>7</td>\n",
       "    </tr>\n",
       "    <tr>\n",
       "      <th>3</th>\n",
       "      <td>2012-09-01</td>\n",
       "      <td>1497</td>\n",
       "      <td>23126</td>\n",
       "      <td>2</td>\n",
       "      <td>106.86</td>\n",
       "      <td>-34.91</td>\n",
       "      <td>0.0</td>\n",
       "      <td>27</td>\n",
       "      <td>Y</td>\n",
       "      <td>2012-08-25</td>\n",
       "      <td>2012-10-27</td>\n",
       "      <td>63</td>\n",
       "      <td>8</td>\n",
       "      <td>10</td>\n",
       "      <td>7</td>\n",
       "    </tr>\n",
       "    <tr>\n",
       "      <th>4</th>\n",
       "      <td>2012-09-01</td>\n",
       "      <td>1497</td>\n",
       "      <td>30874</td>\n",
       "      <td>1</td>\n",
       "      <td>88.69</td>\n",
       "      <td>0.00</td>\n",
       "      <td>0.0</td>\n",
       "      <td>27</td>\n",
       "      <td>Y</td>\n",
       "      <td>2012-08-25</td>\n",
       "      <td>2012-10-27</td>\n",
       "      <td>63</td>\n",
       "      <td>8</td>\n",
       "      <td>10</td>\n",
       "      <td>7</td>\n",
       "    </tr>\n",
       "  </tbody>\n",
       "</table>\n",
       "</div>"
      ],
      "text/plain": [
       "        date  customer_id  item_id  quantity  selling_price  other_discount  \\\n",
       "0 2012-09-01         1497     9281         4          71.24            0.00   \n",
       "1 2012-09-01         1497    18919         2         284.25         -103.30   \n",
       "2 2012-09-01         1497    19849         1          44.17            0.00   \n",
       "3 2012-09-01         1497    23126         2         106.86          -34.91   \n",
       "4 2012-09-01         1497    30874         1          88.69            0.00   \n",
       "\n",
       "   coupon_discount  campaign_id campaign_type start_date   end_date  duration  \\\n",
       "0              0.0           27             Y 2012-08-25 2012-10-27        63   \n",
       "1              0.0           27             Y 2012-08-25 2012-10-27        63   \n",
       "2              0.0           27             Y 2012-08-25 2012-10-27        63   \n",
       "3              0.0           27             Y 2012-08-25 2012-10-27        63   \n",
       "4              0.0           27             Y 2012-08-25 2012-10-27        63   \n",
       "\n",
       "   start_Month  end_Month  occurenceofPurch  \n",
       "0            8         10                 7  \n",
       "1            8         10                 7  \n",
       "2            8         10                 7  \n",
       "3            8         10                 7  \n",
       "4            8         10                 7  "
      ]
     },
     "execution_count": 17,
     "metadata": {},
     "output_type": "execute_result"
    }
   ],
   "source": [
    "mergedData.head()"
   ]
  },
  {
   "cell_type": "code",
   "execution_count": 18,
   "metadata": {},
   "outputs": [
    {
     "data": {
      "text/plain": [
       "(1761105, 16)"
      ]
     },
     "execution_count": 18,
     "metadata": {},
     "output_type": "execute_result"
    }
   ],
   "source": [
    "bohotData=pd.merge(mergedData,coupon_item_mappingData,on='item_id',how='left')\n",
    "# bohotData=pd.merge(bohotData,campData,on='item_id',how='left')\n",
    "bohotData.shape"
   ]
  },
  {
   "cell_type": "code",
   "execution_count": 35,
   "metadata": {},
   "outputs": [],
   "source": [
    "def getFeatureGener(df,indCol,fCol):\n",
    "    groupedMerge=df.groupby(indCol)\n",
    "    c_data={}\n",
    "    for c_id,tempT in  groupedMerge:\n",
    "        c_data[c_id]={}\n",
    "        c_data[c_id][indCol+fCol+'_max']=max(tempT[fCol])\n",
    "        c_data[c_id][indCol+fCol+'_min']=min(tempT[fCol])\n",
    "        c_data[c_id][indCol+fCol+'_mean']=np.mean(tempT[fCol])\n",
    "        c_data[c_id][indCol+fCol+'_75perc']=np.percentile(tempT[fCol],75)\n",
    "        c_data[c_id][indCol+fCol+'_25perc']=np.percentile(tempT[fCol],25)\n",
    "    tempDF=pd.DataFrame(c_data).transpose()\n",
    "    tempDF.columns=[indCol+fCol+'_max',indCol+fCol+'_min',indCol+fCol+'_mean',indCol+fCol+'_75perc',indCol+fCol+'_25perc']\n",
    "    return tempDF,tempDF.index"
   ]
  },
  {
   "cell_type": "code",
   "execution_count": 36,
   "metadata": {},
   "outputs": [],
   "source": [
    "quantityCData,indexC=getFeatureGener(mergedData,'customer_id','quantity')\n",
    "selling_priceCData,indexC=getFeatureGener(mergedData,'customer_id','selling_price')\n",
    "other_discountCData,indexC=getFeatureGener(mergedData,'customer_id','other_discount')\n",
    "coupon_discountCData,indexC=getFeatureGener(mergedData,'customer_id','coupon_discount')\n",
    "occurenceofPurchCData,indexC=getFeatureGener(mergedData,'customer_id','occurenceofPurch')"
   ]
  },
  {
   "cell_type": "code",
   "execution_count": 37,
   "metadata": {},
   "outputs": [],
   "source": [
    "featureCustomerData=pd.concat([quantityCData,selling_priceCData,other_discountCData,coupon_discountCData,occurenceofPurchCData],axis=1)"
   ]
  },
  {
   "cell_type": "code",
   "execution_count": 38,
   "metadata": {},
   "outputs": [],
   "source": [
    "featureCustomerData=featureCustomerData.reset_index()\n",
    "featureCustomerData.columns=['customer_id']+list(featureCustomerData.columns[1:])"
   ]
  },
  {
   "cell_type": "code",
   "execution_count": 39,
   "metadata": {},
   "outputs": [
    {
     "data": {
      "text/html": [
       "<div>\n",
       "<style scoped>\n",
       "    .dataframe tbody tr th:only-of-type {\n",
       "        vertical-align: middle;\n",
       "    }\n",
       "\n",
       "    .dataframe tbody tr th {\n",
       "        vertical-align: top;\n",
       "    }\n",
       "\n",
       "    .dataframe thead th {\n",
       "        text-align: right;\n",
       "    }\n",
       "</style>\n",
       "<table border=\"1\" class=\"dataframe\">\n",
       "  <thead>\n",
       "    <tr style=\"text-align: right;\">\n",
       "      <th></th>\n",
       "      <th>customer_id</th>\n",
       "      <th>customer_idquantity_max</th>\n",
       "      <th>customer_idquantity_min</th>\n",
       "      <th>customer_idquantity_mean</th>\n",
       "      <th>customer_idquantity_75perc</th>\n",
       "      <th>customer_idquantity_25perc</th>\n",
       "      <th>customer_idselling_price_max</th>\n",
       "      <th>customer_idselling_price_min</th>\n",
       "      <th>customer_idselling_price_mean</th>\n",
       "      <th>customer_idselling_price_75perc</th>\n",
       "      <th>...</th>\n",
       "      <th>customer_idcoupon_discount_max</th>\n",
       "      <th>customer_idcoupon_discount_min</th>\n",
       "      <th>customer_idcoupon_discount_mean</th>\n",
       "      <th>customer_idcoupon_discount_75perc</th>\n",
       "      <th>customer_idcoupon_discount_25perc</th>\n",
       "      <th>customer_idoccurenceofPurch_max</th>\n",
       "      <th>customer_idoccurenceofPurch_min</th>\n",
       "      <th>customer_idoccurenceofPurch_mean</th>\n",
       "      <th>customer_idoccurenceofPurch_75perc</th>\n",
       "      <th>customer_idoccurenceofPurch_25perc</th>\n",
       "    </tr>\n",
       "  </thead>\n",
       "  <tbody>\n",
       "    <tr>\n",
       "      <th>0</th>\n",
       "      <td>1</td>\n",
       "      <td>1.0</td>\n",
       "      <td>1.0</td>\n",
       "      <td>5.0</td>\n",
       "      <td>1.153968</td>\n",
       "      <td>1.0</td>\n",
       "      <td>64.5625</td>\n",
       "      <td>106.500</td>\n",
       "      <td>445.25</td>\n",
       "      <td>93.758000</td>\n",
       "      <td>...</td>\n",
       "      <td>0.0</td>\n",
       "      <td>0.0</td>\n",
       "      <td>0.0</td>\n",
       "      <td>-2.630746</td>\n",
       "      <td>-106.86</td>\n",
       "      <td>9.0</td>\n",
       "      <td>26.0</td>\n",
       "      <td>43.0</td>\n",
       "      <td>17.819048</td>\n",
       "      <td>0.0</td>\n",
       "    </tr>\n",
       "    <tr>\n",
       "      <th>1</th>\n",
       "      <td>2</td>\n",
       "      <td>1.0</td>\n",
       "      <td>1.0</td>\n",
       "      <td>4.0</td>\n",
       "      <td>1.123404</td>\n",
       "      <td>1.0</td>\n",
       "      <td>56.6400</td>\n",
       "      <td>117.190</td>\n",
       "      <td>640.80</td>\n",
       "      <td>102.176043</td>\n",
       "      <td>...</td>\n",
       "      <td>0.0</td>\n",
       "      <td>0.0</td>\n",
       "      <td>0.0</td>\n",
       "      <td>-0.151574</td>\n",
       "      <td>-35.62</td>\n",
       "      <td>4.0</td>\n",
       "      <td>25.0</td>\n",
       "      <td>38.0</td>\n",
       "      <td>15.255319</td>\n",
       "      <td>0.0</td>\n",
       "    </tr>\n",
       "    <tr>\n",
       "      <th>2</th>\n",
       "      <td>3</td>\n",
       "      <td>1.0</td>\n",
       "      <td>2.0</td>\n",
       "      <td>6949.0</td>\n",
       "      <td>18.264286</td>\n",
       "      <td>1.0</td>\n",
       "      <td>53.4300</td>\n",
       "      <td>120.750</td>\n",
       "      <td>862.00</td>\n",
       "      <td>103.992905</td>\n",
       "      <td>...</td>\n",
       "      <td>0.0</td>\n",
       "      <td>0.0</td>\n",
       "      <td>0.0</td>\n",
       "      <td>-3.509357</td>\n",
       "      <td>-142.48</td>\n",
       "      <td>3.0</td>\n",
       "      <td>25.0</td>\n",
       "      <td>39.0</td>\n",
       "      <td>13.107143</td>\n",
       "      <td>0.0</td>\n",
       "    </tr>\n",
       "    <tr>\n",
       "      <th>3</th>\n",
       "      <td>4</td>\n",
       "      <td>1.0</td>\n",
       "      <td>1.0</td>\n",
       "      <td>4.0</td>\n",
       "      <td>1.187500</td>\n",
       "      <td>1.0</td>\n",
       "      <td>70.8800</td>\n",
       "      <td>142.120</td>\n",
       "      <td>1330.05</td>\n",
       "      <td>153.771000</td>\n",
       "      <td>...</td>\n",
       "      <td>0.0</td>\n",
       "      <td>0.0</td>\n",
       "      <td>0.0</td>\n",
       "      <td>0.000000</td>\n",
       "      <td>0.00</td>\n",
       "      <td>5.0</td>\n",
       "      <td>15.0</td>\n",
       "      <td>44.0</td>\n",
       "      <td>12.312500</td>\n",
       "      <td>0.0</td>\n",
       "    </tr>\n",
       "    <tr>\n",
       "      <th>4</th>\n",
       "      <td>5</td>\n",
       "      <td>1.0</td>\n",
       "      <td>1.0</td>\n",
       "      <td>14638.0</td>\n",
       "      <td>178.203065</td>\n",
       "      <td>1.0</td>\n",
       "      <td>60.2000</td>\n",
       "      <td>166.615</td>\n",
       "      <td>1485.35</td>\n",
       "      <td>141.278927</td>\n",
       "      <td>...</td>\n",
       "      <td>0.0</td>\n",
       "      <td>0.0</td>\n",
       "      <td>0.0</td>\n",
       "      <td>-0.174004</td>\n",
       "      <td>-71.24</td>\n",
       "      <td>6.0</td>\n",
       "      <td>24.0</td>\n",
       "      <td>46.0</td>\n",
       "      <td>15.383142</td>\n",
       "      <td>0.0</td>\n",
       "    </tr>\n",
       "  </tbody>\n",
       "</table>\n",
       "<p>5 rows × 26 columns</p>\n",
       "</div>"
      ],
      "text/plain": [
       "   customer_id  customer_idquantity_max  customer_idquantity_min  \\\n",
       "0            1                      1.0                      1.0   \n",
       "1            2                      1.0                      1.0   \n",
       "2            3                      1.0                      2.0   \n",
       "3            4                      1.0                      1.0   \n",
       "4            5                      1.0                      1.0   \n",
       "\n",
       "   customer_idquantity_mean  customer_idquantity_75perc  \\\n",
       "0                       5.0                    1.153968   \n",
       "1                       4.0                    1.123404   \n",
       "2                    6949.0                   18.264286   \n",
       "3                       4.0                    1.187500   \n",
       "4                   14638.0                  178.203065   \n",
       "\n",
       "   customer_idquantity_25perc  customer_idselling_price_max  \\\n",
       "0                         1.0                       64.5625   \n",
       "1                         1.0                       56.6400   \n",
       "2                         1.0                       53.4300   \n",
       "3                         1.0                       70.8800   \n",
       "4                         1.0                       60.2000   \n",
       "\n",
       "   customer_idselling_price_min  customer_idselling_price_mean  \\\n",
       "0                       106.500                         445.25   \n",
       "1                       117.190                         640.80   \n",
       "2                       120.750                         862.00   \n",
       "3                       142.120                        1330.05   \n",
       "4                       166.615                        1485.35   \n",
       "\n",
       "   customer_idselling_price_75perc  ...  customer_idcoupon_discount_max  \\\n",
       "0                        93.758000  ...                             0.0   \n",
       "1                       102.176043  ...                             0.0   \n",
       "2                       103.992905  ...                             0.0   \n",
       "3                       153.771000  ...                             0.0   \n",
       "4                       141.278927  ...                             0.0   \n",
       "\n",
       "   customer_idcoupon_discount_min  customer_idcoupon_discount_mean  \\\n",
       "0                             0.0                              0.0   \n",
       "1                             0.0                              0.0   \n",
       "2                             0.0                              0.0   \n",
       "3                             0.0                              0.0   \n",
       "4                             0.0                              0.0   \n",
       "\n",
       "   customer_idcoupon_discount_75perc  customer_idcoupon_discount_25perc  \\\n",
       "0                          -2.630746                            -106.86   \n",
       "1                          -0.151574                             -35.62   \n",
       "2                          -3.509357                            -142.48   \n",
       "3                           0.000000                               0.00   \n",
       "4                          -0.174004                             -71.24   \n",
       "\n",
       "   customer_idoccurenceofPurch_max  customer_idoccurenceofPurch_min  \\\n",
       "0                              9.0                             26.0   \n",
       "1                              4.0                             25.0   \n",
       "2                              3.0                             25.0   \n",
       "3                              5.0                             15.0   \n",
       "4                              6.0                             24.0   \n",
       "\n",
       "   customer_idoccurenceofPurch_mean  customer_idoccurenceofPurch_75perc  \\\n",
       "0                              43.0                           17.819048   \n",
       "1                              38.0                           15.255319   \n",
       "2                              39.0                           13.107143   \n",
       "3                              44.0                           12.312500   \n",
       "4                              46.0                           15.383142   \n",
       "\n",
       "   customer_idoccurenceofPurch_25perc  \n",
       "0                                 0.0  \n",
       "1                                 0.0  \n",
       "2                                 0.0  \n",
       "3                                 0.0  \n",
       "4                                 0.0  \n",
       "\n",
       "[5 rows x 26 columns]"
      ]
     },
     "execution_count": 39,
     "metadata": {},
     "output_type": "execute_result"
    }
   ],
   "source": [
    "featureCustomerData.head()"
   ]
  },
  {
   "cell_type": "code",
   "execution_count": 40,
   "metadata": {},
   "outputs": [],
   "source": [
    "quantityIData,indexI=getFeatureGener(mergedData,'item_id','quantity')\n",
    "selling_priceIData,indexI=getFeatureGener(mergedData,'item_id','selling_price')\n",
    "other_discountIData,indexI=getFeatureGener(mergedData,'item_id','other_discount')\n",
    "coupon_discountIData,indexI=getFeatureGener(mergedData,'item_id','coupon_discount')\n",
    "occurenceofPurchIData,indexI=getFeatureGener(mergedData,'item_id','occurenceofPurch')"
   ]
  },
  {
   "cell_type": "code",
   "execution_count": 41,
   "metadata": {},
   "outputs": [],
   "source": [
    "itemFeatureData=pd.concat([quantityIData,selling_priceIData,other_discountIData,coupon_discountIData,occurenceofPurchIData],axis=1)"
   ]
  },
  {
   "cell_type": "code",
   "execution_count": 42,
   "metadata": {},
   "outputs": [],
   "source": [
    "itemFeatureData=itemFeatureData.reset_index()\n",
    "itemFeatureData.columns=['item_id']+list(itemFeatureData.columns[1:])"
   ]
  },
  {
   "cell_type": "code",
   "execution_count": 43,
   "metadata": {},
   "outputs": [
    {
     "data": {
      "text/html": [
       "<div>\n",
       "<style scoped>\n",
       "    .dataframe tbody tr th:only-of-type {\n",
       "        vertical-align: middle;\n",
       "    }\n",
       "\n",
       "    .dataframe tbody tr th {\n",
       "        vertical-align: top;\n",
       "    }\n",
       "\n",
       "    .dataframe thead th {\n",
       "        text-align: right;\n",
       "    }\n",
       "</style>\n",
       "<table border=\"1\" class=\"dataframe\">\n",
       "  <thead>\n",
       "    <tr style=\"text-align: right;\">\n",
       "      <th></th>\n",
       "      <th>date</th>\n",
       "      <th>customer_id</th>\n",
       "      <th>item_id</th>\n",
       "      <th>quantity</th>\n",
       "      <th>selling_price</th>\n",
       "      <th>other_discount</th>\n",
       "      <th>coupon_discount</th>\n",
       "      <th>campaign_id</th>\n",
       "      <th>campaign_type</th>\n",
       "      <th>start_date</th>\n",
       "      <th>end_date</th>\n",
       "      <th>duration</th>\n",
       "      <th>start_Month</th>\n",
       "      <th>end_Month</th>\n",
       "      <th>occurenceofPurch</th>\n",
       "      <th>coupon_id</th>\n",
       "    </tr>\n",
       "  </thead>\n",
       "  <tbody>\n",
       "    <tr>\n",
       "      <th>0</th>\n",
       "      <td>2012-09-01</td>\n",
       "      <td>1497</td>\n",
       "      <td>9281</td>\n",
       "      <td>4</td>\n",
       "      <td>71.24</td>\n",
       "      <td>0.0</td>\n",
       "      <td>0.0</td>\n",
       "      <td>27</td>\n",
       "      <td>Y</td>\n",
       "      <td>2012-08-25</td>\n",
       "      <td>2012-10-27</td>\n",
       "      <td>63</td>\n",
       "      <td>8</td>\n",
       "      <td>10</td>\n",
       "      <td>7</td>\n",
       "      <td>NaN</td>\n",
       "    </tr>\n",
       "    <tr>\n",
       "      <th>1</th>\n",
       "      <td>2012-09-01</td>\n",
       "      <td>1497</td>\n",
       "      <td>18919</td>\n",
       "      <td>2</td>\n",
       "      <td>284.25</td>\n",
       "      <td>-103.3</td>\n",
       "      <td>0.0</td>\n",
       "      <td>27</td>\n",
       "      <td>Y</td>\n",
       "      <td>2012-08-25</td>\n",
       "      <td>2012-10-27</td>\n",
       "      <td>63</td>\n",
       "      <td>8</td>\n",
       "      <td>10</td>\n",
       "      <td>7</td>\n",
       "      <td>1043.0</td>\n",
       "    </tr>\n",
       "    <tr>\n",
       "      <th>2</th>\n",
       "      <td>2012-09-01</td>\n",
       "      <td>1497</td>\n",
       "      <td>19849</td>\n",
       "      <td>1</td>\n",
       "      <td>44.17</td>\n",
       "      <td>0.0</td>\n",
       "      <td>0.0</td>\n",
       "      <td>27</td>\n",
       "      <td>Y</td>\n",
       "      <td>2012-08-25</td>\n",
       "      <td>2012-10-27</td>\n",
       "      <td>63</td>\n",
       "      <td>8</td>\n",
       "      <td>10</td>\n",
       "      <td>7</td>\n",
       "      <td>24.0</td>\n",
       "    </tr>\n",
       "    <tr>\n",
       "      <th>3</th>\n",
       "      <td>2012-09-01</td>\n",
       "      <td>1497</td>\n",
       "      <td>19849</td>\n",
       "      <td>1</td>\n",
       "      <td>44.17</td>\n",
       "      <td>0.0</td>\n",
       "      <td>0.0</td>\n",
       "      <td>27</td>\n",
       "      <td>Y</td>\n",
       "      <td>2012-08-25</td>\n",
       "      <td>2012-10-27</td>\n",
       "      <td>63</td>\n",
       "      <td>8</td>\n",
       "      <td>10</td>\n",
       "      <td>7</td>\n",
       "      <td>8.0</td>\n",
       "    </tr>\n",
       "    <tr>\n",
       "      <th>4</th>\n",
       "      <td>2012-09-01</td>\n",
       "      <td>1497</td>\n",
       "      <td>19849</td>\n",
       "      <td>1</td>\n",
       "      <td>44.17</td>\n",
       "      <td>0.0</td>\n",
       "      <td>0.0</td>\n",
       "      <td>27</td>\n",
       "      <td>Y</td>\n",
       "      <td>2012-08-25</td>\n",
       "      <td>2012-10-27</td>\n",
       "      <td>63</td>\n",
       "      <td>8</td>\n",
       "      <td>10</td>\n",
       "      <td>7</td>\n",
       "      <td>33.0</td>\n",
       "    </tr>\n",
       "  </tbody>\n",
       "</table>\n",
       "</div>"
      ],
      "text/plain": [
       "        date  customer_id  item_id  quantity  selling_price  other_discount  \\\n",
       "0 2012-09-01         1497     9281         4          71.24             0.0   \n",
       "1 2012-09-01         1497    18919         2         284.25          -103.3   \n",
       "2 2012-09-01         1497    19849         1          44.17             0.0   \n",
       "3 2012-09-01         1497    19849         1          44.17             0.0   \n",
       "4 2012-09-01         1497    19849         1          44.17             0.0   \n",
       "\n",
       "   coupon_discount  campaign_id campaign_type start_date   end_date  duration  \\\n",
       "0              0.0           27             Y 2012-08-25 2012-10-27        63   \n",
       "1              0.0           27             Y 2012-08-25 2012-10-27        63   \n",
       "2              0.0           27             Y 2012-08-25 2012-10-27        63   \n",
       "3              0.0           27             Y 2012-08-25 2012-10-27        63   \n",
       "4              0.0           27             Y 2012-08-25 2012-10-27        63   \n",
       "\n",
       "   start_Month  end_Month  occurenceofPurch  coupon_id  \n",
       "0            8         10                 7        NaN  \n",
       "1            8         10                 7     1043.0  \n",
       "2            8         10                 7       24.0  \n",
       "3            8         10                 7        8.0  \n",
       "4            8         10                 7       33.0  "
      ]
     },
     "execution_count": 43,
     "metadata": {},
     "output_type": "execute_result"
    }
   ],
   "source": [
    "bohotData.head()"
   ]
  },
  {
   "cell_type": "code",
   "execution_count": 44,
   "metadata": {},
   "outputs": [],
   "source": [
    "quantityCPData,indexCP=getFeatureGener(bohotData,'coupon_id','quantity')\n",
    "selling_priceCPData,indexCP=getFeatureGener(bohotData,'coupon_id','selling_price')\n",
    "other_discountCPData,indexCP=getFeatureGener(bohotData,'coupon_id','other_discount')\n",
    "coupon_discountCPData,indexCP=getFeatureGener(bohotData,'coupon_id','coupon_discount')\n",
    "occurenceofPurchCPData,indexCP=getFeatureGener(bohotData,'coupon_id','occurenceofPurch')"
   ]
  },
  {
   "cell_type": "code",
   "execution_count": 45,
   "metadata": {},
   "outputs": [],
   "source": [
    "couponFeatureData=pd.concat([quantityCPData,selling_priceCPData,other_discountCPData,coupon_discountCPData,occurenceofPurchCPData],axis=1)"
   ]
  },
  {
   "cell_type": "code",
   "execution_count": 46,
   "metadata": {},
   "outputs": [],
   "source": [
    "couponFeatureData=couponFeatureData.reset_index()\n",
    "couponFeatureData.columns=['coupon_id']+list(couponFeatureData.columns[1:])"
   ]
  },
  {
   "cell_type": "code",
   "execution_count": 47,
   "metadata": {},
   "outputs": [
    {
     "data": {
      "text/html": [
       "<div>\n",
       "<style scoped>\n",
       "    .dataframe tbody tr th:only-of-type {\n",
       "        vertical-align: middle;\n",
       "    }\n",
       "\n",
       "    .dataframe tbody tr th {\n",
       "        vertical-align: top;\n",
       "    }\n",
       "\n",
       "    .dataframe thead th {\n",
       "        text-align: right;\n",
       "    }\n",
       "</style>\n",
       "<table border=\"1\" class=\"dataframe\">\n",
       "  <thead>\n",
       "    <tr style=\"text-align: right;\">\n",
       "      <th></th>\n",
       "      <th>coupon_id</th>\n",
       "      <th>coupon_idquantity_max</th>\n",
       "      <th>coupon_idquantity_min</th>\n",
       "      <th>coupon_idquantity_mean</th>\n",
       "      <th>coupon_idquantity_75perc</th>\n",
       "      <th>coupon_idquantity_25perc</th>\n",
       "      <th>coupon_idselling_price_max</th>\n",
       "      <th>coupon_idselling_price_min</th>\n",
       "      <th>coupon_idselling_price_mean</th>\n",
       "      <th>coupon_idselling_price_75perc</th>\n",
       "      <th>...</th>\n",
       "      <th>coupon_idcoupon_discount_max</th>\n",
       "      <th>coupon_idcoupon_discount_min</th>\n",
       "      <th>coupon_idcoupon_discount_mean</th>\n",
       "      <th>coupon_idcoupon_discount_75perc</th>\n",
       "      <th>coupon_idcoupon_discount_25perc</th>\n",
       "      <th>coupon_idoccurenceofPurch_max</th>\n",
       "      <th>coupon_idoccurenceofPurch_min</th>\n",
       "      <th>coupon_idoccurenceofPurch_mean</th>\n",
       "      <th>coupon_idoccurenceofPurch_75perc</th>\n",
       "      <th>coupon_idoccurenceofPurch_25perc</th>\n",
       "    </tr>\n",
       "  </thead>\n",
       "  <tbody>\n",
       "    <tr>\n",
       "      <th>0</th>\n",
       "      <td>1.0</td>\n",
       "      <td>1.0</td>\n",
       "      <td>1.0</td>\n",
       "      <td>4.0</td>\n",
       "      <td>1.239478</td>\n",
       "      <td>1.0</td>\n",
       "      <td>71.24</td>\n",
       "      <td>113.63</td>\n",
       "      <td>362.26</td>\n",
       "      <td>103.692830</td>\n",
       "      <td>...</td>\n",
       "      <td>0.0</td>\n",
       "      <td>0.0</td>\n",
       "      <td>0.0</td>\n",
       "      <td>-2.109274</td>\n",
       "      <td>-142.48</td>\n",
       "      <td>6.0</td>\n",
       "      <td>24.0</td>\n",
       "      <td>47.0</td>\n",
       "      <td>15.699565</td>\n",
       "      <td>0.0</td>\n",
       "    </tr>\n",
       "    <tr>\n",
       "      <th>1</th>\n",
       "      <td>2.0</td>\n",
       "      <td>1.0</td>\n",
       "      <td>1.0</td>\n",
       "      <td>4.0</td>\n",
       "      <td>1.320755</td>\n",
       "      <td>1.0</td>\n",
       "      <td>89.05</td>\n",
       "      <td>110.07</td>\n",
       "      <td>356.20</td>\n",
       "      <td>126.734528</td>\n",
       "      <td>...</td>\n",
       "      <td>0.0</td>\n",
       "      <td>0.0</td>\n",
       "      <td>0.0</td>\n",
       "      <td>0.000000</td>\n",
       "      <td>0.00</td>\n",
       "      <td>6.0</td>\n",
       "      <td>28.0</td>\n",
       "      <td>44.0</td>\n",
       "      <td>17.415094</td>\n",
       "      <td>0.0</td>\n",
       "    </tr>\n",
       "  </tbody>\n",
       "</table>\n",
       "<p>2 rows × 26 columns</p>\n",
       "</div>"
      ],
      "text/plain": [
       "   coupon_id  coupon_idquantity_max  coupon_idquantity_min  \\\n",
       "0        1.0                    1.0                    1.0   \n",
       "1        2.0                    1.0                    1.0   \n",
       "\n",
       "   coupon_idquantity_mean  coupon_idquantity_75perc  coupon_idquantity_25perc  \\\n",
       "0                     4.0                  1.239478                       1.0   \n",
       "1                     4.0                  1.320755                       1.0   \n",
       "\n",
       "   coupon_idselling_price_max  coupon_idselling_price_min  \\\n",
       "0                       71.24                      113.63   \n",
       "1                       89.05                      110.07   \n",
       "\n",
       "   coupon_idselling_price_mean  coupon_idselling_price_75perc  ...  \\\n",
       "0                       362.26                     103.692830  ...   \n",
       "1                       356.20                     126.734528  ...   \n",
       "\n",
       "   coupon_idcoupon_discount_max  coupon_idcoupon_discount_min  \\\n",
       "0                           0.0                           0.0   \n",
       "1                           0.0                           0.0   \n",
       "\n",
       "   coupon_idcoupon_discount_mean  coupon_idcoupon_discount_75perc  \\\n",
       "0                            0.0                        -2.109274   \n",
       "1                            0.0                         0.000000   \n",
       "\n",
       "   coupon_idcoupon_discount_25perc  coupon_idoccurenceofPurch_max  \\\n",
       "0                          -142.48                            6.0   \n",
       "1                             0.00                            6.0   \n",
       "\n",
       "   coupon_idoccurenceofPurch_min  coupon_idoccurenceofPurch_mean  \\\n",
       "0                           24.0                            47.0   \n",
       "1                           28.0                            44.0   \n",
       "\n",
       "   coupon_idoccurenceofPurch_75perc  coupon_idoccurenceofPurch_25perc  \n",
       "0                         15.699565                               0.0  \n",
       "1                         17.415094                               0.0  \n",
       "\n",
       "[2 rows x 26 columns]"
      ]
     },
     "execution_count": 47,
     "metadata": {},
     "output_type": "execute_result"
    }
   ],
   "source": [
    "couponFeatureData.head(2)"
   ]
  },
  {
   "cell_type": "markdown",
   "metadata": {},
   "source": [
    "# Merge traindata with Campdata"
   ]
  },
  {
   "cell_type": "code",
   "execution_count": 49,
   "metadata": {},
   "outputs": [
    {
     "data": {
      "text/html": [
       "<div>\n",
       "<style scoped>\n",
       "    .dataframe tbody tr th:only-of-type {\n",
       "        vertical-align: middle;\n",
       "    }\n",
       "\n",
       "    .dataframe tbody tr th {\n",
       "        vertical-align: top;\n",
       "    }\n",
       "\n",
       "    .dataframe thead th {\n",
       "        text-align: right;\n",
       "    }\n",
       "</style>\n",
       "<table border=\"1\" class=\"dataframe\">\n",
       "  <thead>\n",
       "    <tr style=\"text-align: right;\">\n",
       "      <th></th>\n",
       "      <th>id</th>\n",
       "      <th>campaign_id</th>\n",
       "      <th>coupon_id</th>\n",
       "      <th>customer_id</th>\n",
       "      <th>redemption_status</th>\n",
       "      <th>dtType</th>\n",
       "    </tr>\n",
       "  </thead>\n",
       "  <tbody>\n",
       "    <tr>\n",
       "      <th>0</th>\n",
       "      <td>1</td>\n",
       "      <td>13</td>\n",
       "      <td>27</td>\n",
       "      <td>1053</td>\n",
       "      <td>0.0</td>\n",
       "      <td>train</td>\n",
       "    </tr>\n",
       "    <tr>\n",
       "      <th>1</th>\n",
       "      <td>2</td>\n",
       "      <td>13</td>\n",
       "      <td>116</td>\n",
       "      <td>48</td>\n",
       "      <td>0.0</td>\n",
       "      <td>train</td>\n",
       "    </tr>\n",
       "  </tbody>\n",
       "</table>\n",
       "</div>"
      ],
      "text/plain": [
       "   id  campaign_id  coupon_id  customer_id  redemption_status dtType\n",
       "0   1           13         27         1053                0.0  train\n",
       "1   2           13        116           48                0.0  train"
      ]
     },
     "execution_count": 49,
     "metadata": {},
     "output_type": "execute_result"
    }
   ],
   "source": [
    "allData.head(2)"
   ]
  },
  {
   "cell_type": "code",
   "execution_count": 156,
   "metadata": {
    "scrolled": true
   },
   "outputs": [],
   "source": [
    "X1=pd.merge(allData,featureCustomerData,on='customer_id',how='left')\n",
    "X1=pd.merge(X1,couponFeatureData,on='coupon_id',how='left')\n",
    "X1=pd.merge(X1,campData,on='campaign_id',how='left')\n",
    "X1=pd.merge(X1,customer_demographicsData,on='customer_id',how='left')"
   ]
  },
  {
   "cell_type": "code",
   "execution_count": 157,
   "metadata": {},
   "outputs": [
    {
     "data": {
      "text/html": [
       "<div>\n",
       "<style scoped>\n",
       "    .dataframe tbody tr th:only-of-type {\n",
       "        vertical-align: middle;\n",
       "    }\n",
       "\n",
       "    .dataframe tbody tr th {\n",
       "        vertical-align: top;\n",
       "    }\n",
       "\n",
       "    .dataframe thead th {\n",
       "        text-align: right;\n",
       "    }\n",
       "</style>\n",
       "<table border=\"1\" class=\"dataframe\">\n",
       "  <thead>\n",
       "    <tr style=\"text-align: right;\">\n",
       "      <th></th>\n",
       "      <th>id</th>\n",
       "      <th>campaign_id</th>\n",
       "      <th>coupon_id</th>\n",
       "      <th>customer_id</th>\n",
       "      <th>redemption_status</th>\n",
       "      <th>dtType</th>\n",
       "      <th>customer_idquantity_max</th>\n",
       "      <th>customer_idquantity_min</th>\n",
       "      <th>customer_idquantity_mean</th>\n",
       "      <th>customer_idquantity_75perc</th>\n",
       "      <th>...</th>\n",
       "      <th>end_date</th>\n",
       "      <th>duration</th>\n",
       "      <th>start_Month</th>\n",
       "      <th>end_Month</th>\n",
       "      <th>age_range</th>\n",
       "      <th>marital_status</th>\n",
       "      <th>rented</th>\n",
       "      <th>family_size</th>\n",
       "      <th>no_of_children</th>\n",
       "      <th>income_bracket</th>\n",
       "    </tr>\n",
       "  </thead>\n",
       "  <tbody>\n",
       "    <tr>\n",
       "      <th>0</th>\n",
       "      <td>1</td>\n",
       "      <td>13</td>\n",
       "      <td>27</td>\n",
       "      <td>1053</td>\n",
       "      <td>0.0</td>\n",
       "      <td>train</td>\n",
       "      <td>1.0</td>\n",
       "      <td>2.0</td>\n",
       "      <td>12444.0</td>\n",
       "      <td>288.855932</td>\n",
       "      <td>...</td>\n",
       "      <td>2013-07-05</td>\n",
       "      <td>47</td>\n",
       "      <td>5</td>\n",
       "      <td>7</td>\n",
       "      <td>46-55</td>\n",
       "      <td>NaN</td>\n",
       "      <td>0.0</td>\n",
       "      <td>1</td>\n",
       "      <td>NaN</td>\n",
       "      <td>5.0</td>\n",
       "    </tr>\n",
       "    <tr>\n",
       "      <th>1</th>\n",
       "      <td>2</td>\n",
       "      <td>13</td>\n",
       "      <td>116</td>\n",
       "      <td>48</td>\n",
       "      <td>0.0</td>\n",
       "      <td>train</td>\n",
       "      <td>1.0</td>\n",
       "      <td>1.0</td>\n",
       "      <td>6.0</td>\n",
       "      <td>1.376068</td>\n",
       "      <td>...</td>\n",
       "      <td>2013-07-05</td>\n",
       "      <td>47</td>\n",
       "      <td>5</td>\n",
       "      <td>7</td>\n",
       "      <td>36-45</td>\n",
       "      <td>Married</td>\n",
       "      <td>0.0</td>\n",
       "      <td>2</td>\n",
       "      <td>NaN</td>\n",
       "      <td>3.0</td>\n",
       "    </tr>\n",
       "    <tr>\n",
       "      <th>2</th>\n",
       "      <td>6</td>\n",
       "      <td>9</td>\n",
       "      <td>635</td>\n",
       "      <td>205</td>\n",
       "      <td>0.0</td>\n",
       "      <td>train</td>\n",
       "      <td>1.0</td>\n",
       "      <td>1.0</td>\n",
       "      <td>10.0</td>\n",
       "      <td>1.347759</td>\n",
       "      <td>...</td>\n",
       "      <td>2013-04-12</td>\n",
       "      <td>32</td>\n",
       "      <td>3</td>\n",
       "      <td>4</td>\n",
       "      <td>46-55</td>\n",
       "      <td>Married</td>\n",
       "      <td>0.0</td>\n",
       "      <td>2</td>\n",
       "      <td>NaN</td>\n",
       "      <td>7.0</td>\n",
       "    </tr>\n",
       "    <tr>\n",
       "      <th>3</th>\n",
       "      <td>7</td>\n",
       "      <td>13</td>\n",
       "      <td>644</td>\n",
       "      <td>1050</td>\n",
       "      <td>0.0</td>\n",
       "      <td>train</td>\n",
       "      <td>1.0</td>\n",
       "      <td>1.0</td>\n",
       "      <td>5.0</td>\n",
       "      <td>1.299270</td>\n",
       "      <td>...</td>\n",
       "      <td>2013-07-05</td>\n",
       "      <td>47</td>\n",
       "      <td>5</td>\n",
       "      <td>7</td>\n",
       "      <td>NaN</td>\n",
       "      <td>NaN</td>\n",
       "      <td>NaN</td>\n",
       "      <td>NaN</td>\n",
       "      <td>NaN</td>\n",
       "      <td>NaN</td>\n",
       "    </tr>\n",
       "    <tr>\n",
       "      <th>4</th>\n",
       "      <td>9</td>\n",
       "      <td>8</td>\n",
       "      <td>1017</td>\n",
       "      <td>1489</td>\n",
       "      <td>0.0</td>\n",
       "      <td>train</td>\n",
       "      <td>1.0</td>\n",
       "      <td>2.0</td>\n",
       "      <td>15420.0</td>\n",
       "      <td>260.419355</td>\n",
       "      <td>...</td>\n",
       "      <td>2013-04-05</td>\n",
       "      <td>48</td>\n",
       "      <td>2</td>\n",
       "      <td>4</td>\n",
       "      <td>46-55</td>\n",
       "      <td>Married</td>\n",
       "      <td>0.0</td>\n",
       "      <td>2</td>\n",
       "      <td>NaN</td>\n",
       "      <td>3.0</td>\n",
       "    </tr>\n",
       "  </tbody>\n",
       "</table>\n",
       "<p>5 rows × 68 columns</p>\n",
       "</div>"
      ],
      "text/plain": [
       "   id  campaign_id  coupon_id  customer_id  redemption_status dtType  \\\n",
       "0   1           13         27         1053                0.0  train   \n",
       "1   2           13        116           48                0.0  train   \n",
       "2   6            9        635          205                0.0  train   \n",
       "3   7           13        644         1050                0.0  train   \n",
       "4   9            8       1017         1489                0.0  train   \n",
       "\n",
       "   customer_idquantity_max  customer_idquantity_min  customer_idquantity_mean  \\\n",
       "0                      1.0                      2.0                   12444.0   \n",
       "1                      1.0                      1.0                       6.0   \n",
       "2                      1.0                      1.0                      10.0   \n",
       "3                      1.0                      1.0                       5.0   \n",
       "4                      1.0                      2.0                   15420.0   \n",
       "\n",
       "   customer_idquantity_75perc  ...   end_date  duration  start_Month  \\\n",
       "0                  288.855932  ... 2013-07-05        47            5   \n",
       "1                    1.376068  ... 2013-07-05        47            5   \n",
       "2                    1.347759  ... 2013-04-12        32            3   \n",
       "3                    1.299270  ... 2013-07-05        47            5   \n",
       "4                  260.419355  ... 2013-04-05        48            2   \n",
       "\n",
       "   end_Month  age_range  marital_status  rented  family_size  no_of_children  \\\n",
       "0          7      46-55             NaN     0.0            1             NaN   \n",
       "1          7      36-45         Married     0.0            2             NaN   \n",
       "2          4      46-55         Married     0.0            2             NaN   \n",
       "3          7        NaN             NaN     NaN          NaN             NaN   \n",
       "4          4      46-55         Married     0.0            2             NaN   \n",
       "\n",
       "   income_bracket  \n",
       "0             5.0  \n",
       "1             3.0  \n",
       "2             7.0  \n",
       "3             NaN  \n",
       "4             3.0  \n",
       "\n",
       "[5 rows x 68 columns]"
      ]
     },
     "execution_count": 157,
     "metadata": {},
     "output_type": "execute_result"
    }
   ],
   "source": [
    "X1.head()"
   ]
  },
  {
   "cell_type": "code",
   "execution_count": 158,
   "metadata": {},
   "outputs": [
    {
     "data": {
      "text/plain": [
       "Index(['id', 'campaign_id', 'coupon_id', 'customer_id', 'redemption_status',\n",
       "       'dtType', 'customer_idquantity_max', 'customer_idquantity_min',\n",
       "       'customer_idquantity_mean', 'customer_idquantity_75perc',\n",
       "       'customer_idquantity_25perc', 'customer_idselling_price_max',\n",
       "       'customer_idselling_price_min', 'customer_idselling_price_mean',\n",
       "       'customer_idselling_price_75perc', 'customer_idselling_price_25perc',\n",
       "       'customer_idother_discount_max', 'customer_idother_discount_min',\n",
       "       'customer_idother_discount_mean', 'customer_idother_discount_75perc',\n",
       "       'customer_idother_discount_25perc', 'customer_idcoupon_discount_max',\n",
       "       'customer_idcoupon_discount_min', 'customer_idcoupon_discount_mean',\n",
       "       'customer_idcoupon_discount_75perc',\n",
       "       'customer_idcoupon_discount_25perc', 'customer_idoccurenceofPurch_max',\n",
       "       'customer_idoccurenceofPurch_min', 'customer_idoccurenceofPurch_mean',\n",
       "       'customer_idoccurenceofPurch_75perc',\n",
       "       'customer_idoccurenceofPurch_25perc', 'coupon_idquantity_max',\n",
       "       'coupon_idquantity_min', 'coupon_idquantity_mean',\n",
       "       'coupon_idquantity_75perc', 'coupon_idquantity_25perc',\n",
       "       'coupon_idselling_price_max', 'coupon_idselling_price_min',\n",
       "       'coupon_idselling_price_mean', 'coupon_idselling_price_75perc',\n",
       "       'coupon_idselling_price_25perc', 'coupon_idother_discount_max',\n",
       "       'coupon_idother_discount_min', 'coupon_idother_discount_mean',\n",
       "       'coupon_idother_discount_75perc', 'coupon_idother_discount_25perc',\n",
       "       'coupon_idcoupon_discount_max', 'coupon_idcoupon_discount_min',\n",
       "       'coupon_idcoupon_discount_mean', 'coupon_idcoupon_discount_75perc',\n",
       "       'coupon_idcoupon_discount_25perc', 'coupon_idoccurenceofPurch_max',\n",
       "       'coupon_idoccurenceofPurch_min', 'coupon_idoccurenceofPurch_mean',\n",
       "       'coupon_idoccurenceofPurch_75perc', 'coupon_idoccurenceofPurch_25perc',\n",
       "       'campaign_type', 'start_date', 'end_date', 'duration', 'start_Month',\n",
       "       'end_Month', 'age_range', 'marital_status', 'rented', 'family_size',\n",
       "       'no_of_children', 'income_bracket'],\n",
       "      dtype='object')"
      ]
     },
     "execution_count": 158,
     "metadata": {},
     "output_type": "execute_result"
    }
   ],
   "source": [
    "X1.columns"
   ]
  },
  {
   "cell_type": "code",
   "execution_count": 159,
   "metadata": {},
   "outputs": [],
   "source": [
    "X5=X1"
   ]
  },
  {
   "cell_type": "code",
   "execution_count": 160,
   "metadata": {},
   "outputs": [],
   "source": [
    "X5['marital_status']=X5['marital_status'].fillna('Other')\n",
    "X5['rented']=X5['rented'].fillna(0)\n",
    "X5['no_of_children']=X5['no_of_children'].fillna('0')\n",
    "X5['age_range']=X5['age_range'].fillna('Other')\n",
    "X5['family_size']=X5['family_size'].fillna('9999')\n",
    "X5['income_bracket']=X5['income_bracket'].fillna(9999)"
   ]
  },
  {
   "cell_type": "code",
   "execution_count": 161,
   "metadata": {},
   "outputs": [
    {
     "data": {
      "text/plain": [
       "Index(['id', 'campaign_id', 'coupon_id', 'customer_id', 'redemption_status',\n",
       "       'dtType', 'customer_idquantity_max', 'customer_idquantity_min',\n",
       "       'customer_idquantity_mean', 'customer_idquantity_75perc',\n",
       "       'customer_idquantity_25perc', 'customer_idselling_price_max',\n",
       "       'customer_idselling_price_min', 'customer_idselling_price_mean',\n",
       "       'customer_idselling_price_75perc', 'customer_idselling_price_25perc',\n",
       "       'customer_idother_discount_max', 'customer_idother_discount_min',\n",
       "       'customer_idother_discount_mean', 'customer_idother_discount_75perc',\n",
       "       'customer_idother_discount_25perc', 'customer_idcoupon_discount_max',\n",
       "       'customer_idcoupon_discount_min', 'customer_idcoupon_discount_mean',\n",
       "       'customer_idcoupon_discount_75perc',\n",
       "       'customer_idcoupon_discount_25perc', 'customer_idoccurenceofPurch_max',\n",
       "       'customer_idoccurenceofPurch_min', 'customer_idoccurenceofPurch_mean',\n",
       "       'customer_idoccurenceofPurch_75perc',\n",
       "       'customer_idoccurenceofPurch_25perc', 'coupon_idquantity_max',\n",
       "       'coupon_idquantity_min', 'coupon_idquantity_mean',\n",
       "       'coupon_idquantity_75perc', 'coupon_idquantity_25perc',\n",
       "       'coupon_idselling_price_max', 'coupon_idselling_price_min',\n",
       "       'coupon_idselling_price_mean', 'coupon_idselling_price_75perc',\n",
       "       'coupon_idselling_price_25perc', 'coupon_idother_discount_max',\n",
       "       'coupon_idother_discount_min', 'coupon_idother_discount_mean',\n",
       "       'coupon_idother_discount_75perc', 'coupon_idother_discount_25perc',\n",
       "       'coupon_idcoupon_discount_max', 'coupon_idcoupon_discount_min',\n",
       "       'coupon_idcoupon_discount_mean', 'coupon_idcoupon_discount_75perc',\n",
       "       'coupon_idcoupon_discount_25perc', 'coupon_idoccurenceofPurch_max',\n",
       "       'coupon_idoccurenceofPurch_min', 'coupon_idoccurenceofPurch_mean',\n",
       "       'coupon_idoccurenceofPurch_75perc', 'coupon_idoccurenceofPurch_25perc',\n",
       "       'campaign_type', 'start_date', 'end_date', 'duration', 'start_Month',\n",
       "       'end_Month', 'age_range', 'marital_status', 'rented', 'family_size',\n",
       "       'no_of_children', 'income_bracket'],\n",
       "      dtype='object')"
      ]
     },
     "execution_count": 161,
     "metadata": {},
     "output_type": "execute_result"
    }
   ],
   "source": [
    "X5.columns"
   ]
  },
  {
   "cell_type": "code",
   "execution_count": 162,
   "metadata": {},
   "outputs": [],
   "source": [
    "from sklearn import preprocessing,model_selection"
   ]
  },
  {
   "cell_type": "code",
   "execution_count": 163,
   "metadata": {},
   "outputs": [],
   "source": [
    "llP=preprocessing.LabelEncoder()\n",
    "# X5[jj]=llP.fit_transform(X5['campaign_type'])"
   ]
  },
  {
   "cell_type": "code",
   "execution_count": 164,
   "metadata": {},
   "outputs": [
    {
     "data": {
      "text/html": [
       "<div>\n",
       "<style scoped>\n",
       "    .dataframe tbody tr th:only-of-type {\n",
       "        vertical-align: middle;\n",
       "    }\n",
       "\n",
       "    .dataframe tbody tr th {\n",
       "        vertical-align: top;\n",
       "    }\n",
       "\n",
       "    .dataframe thead th {\n",
       "        text-align: right;\n",
       "    }\n",
       "</style>\n",
       "<table border=\"1\" class=\"dataframe\">\n",
       "  <thead>\n",
       "    <tr style=\"text-align: right;\">\n",
       "      <th></th>\n",
       "      <th>age_range</th>\n",
       "      <th>marital_status</th>\n",
       "      <th>rented</th>\n",
       "      <th>family_size</th>\n",
       "      <th>no_of_children</th>\n",
       "      <th>income_bracket</th>\n",
       "      <th>campaign_type</th>\n",
       "    </tr>\n",
       "  </thead>\n",
       "  <tbody>\n",
       "    <tr>\n",
       "      <th>0</th>\n",
       "      <td>46-55</td>\n",
       "      <td>Other</td>\n",
       "      <td>0.0</td>\n",
       "      <td>1</td>\n",
       "      <td>0</td>\n",
       "      <td>5.0</td>\n",
       "      <td>X</td>\n",
       "    </tr>\n",
       "    <tr>\n",
       "      <th>1</th>\n",
       "      <td>36-45</td>\n",
       "      <td>Married</td>\n",
       "      <td>0.0</td>\n",
       "      <td>2</td>\n",
       "      <td>0</td>\n",
       "      <td>3.0</td>\n",
       "      <td>X</td>\n",
       "    </tr>\n",
       "  </tbody>\n",
       "</table>\n",
       "</div>"
      ],
      "text/plain": [
       "  age_range marital_status  rented family_size no_of_children  income_bracket  \\\n",
       "0     46-55          Other     0.0           1              0             5.0   \n",
       "1     36-45        Married     0.0           2              0             3.0   \n",
       "\n",
       "  campaign_type  \n",
       "0             X  \n",
       "1             X  "
      ]
     },
     "execution_count": 164,
     "metadata": {},
     "output_type": "execute_result"
    }
   ],
   "source": [
    "categoColumns=['age_range', 'marital_status', 'rented', 'family_size',#'category',# 'brand', 'brand_type',\n",
    "       'no_of_children', 'income_bracket','campaign_type']\n",
    "X5[categoColumns].head(2)"
   ]
  },
  {
   "cell_type": "code",
   "execution_count": 165,
   "metadata": {},
   "outputs": [],
   "source": [
    "X5['income_bracket']=X5['income_bracket'].map(str)\n",
    "X5['rented']=X5['rented'].map(str)"
   ]
  },
  {
   "cell_type": "code",
   "execution_count": 166,
   "metadata": {},
   "outputs": [
    {
     "data": {
      "text/plain": [
       "array(['1', '2', '9999', '3', '4', '5+'], dtype=object)"
      ]
     },
     "execution_count": 166,
     "metadata": {},
     "output_type": "execute_result"
    }
   ],
   "source": [
    "pd.unique(X5['family_size'])"
   ]
  },
  {
   "cell_type": "code",
   "execution_count": 167,
   "metadata": {
    "scrolled": true
   },
   "outputs": [],
   "source": [
    "\n",
    "catData=pd.get_dummies(X5[categoColumns],prefix_sep='_',)\n",
    "# for jj in categoColumns:\n",
    "#     print (jj)\n",
    "#     llP=preprocessing.LabelEncoder()\n",
    "#     X5[jj]=llP.fit_transform(X5[jj])"
   ]
  },
  {
   "cell_type": "code",
   "execution_count": 168,
   "metadata": {},
   "outputs": [],
   "source": [
    "newtData=pd.concat([X5,catData],sort=False,axis=1)\n",
    "# newtData=X5"
   ]
  },
  {
   "cell_type": "code",
   "execution_count": 169,
   "metadata": {},
   "outputs": [
    {
     "data": {
      "text/plain": [
       "Index(['id', 'campaign_id', 'coupon_id', 'customer_id', 'redemption_status',\n",
       "       'dtType', 'customer_idquantity_max', 'customer_idquantity_min',\n",
       "       'customer_idquantity_mean', 'customer_idquantity_75perc',\n",
       "       ...\n",
       "       'income_bracket_3.0', 'income_bracket_4.0', 'income_bracket_5.0',\n",
       "       'income_bracket_6.0', 'income_bracket_7.0', 'income_bracket_8.0',\n",
       "       'income_bracket_9.0', 'income_bracket_9999.0', 'campaign_type_X',\n",
       "       'campaign_type_Y'],\n",
       "      dtype='object', length=105)"
      ]
     },
     "execution_count": 169,
     "metadata": {},
     "output_type": "execute_result"
    }
   ],
   "source": [
    "newtData.columns"
   ]
  },
  {
   "cell_type": "code",
   "execution_count": 170,
   "metadata": {},
   "outputs": [],
   "source": [
    "XVar=list(newtData.columns)\n",
    "XVar.remove('id')\n",
    "XVar.remove('redemption_status')\n",
    "XVar.remove('dtType')\n",
    "XVar.remove('start_date')\n",
    "XVar.remove('end_date')\n",
    "YVar='redemption_status'"
   ]
  },
  {
   "cell_type": "code",
   "execution_count": 171,
   "metadata": {},
   "outputs": [],
   "source": [
    "for j in categoColumns:#['campaign_id', 'coupon_id', 'customer_id']:\n",
    "    XVar.remove(j)"
   ]
  },
  {
   "cell_type": "code",
   "execution_count": 172,
   "metadata": {},
   "outputs": [
    {
     "data": {
      "text/plain": [
       "((78369, 105), (50226, 105))"
      ]
     },
     "execution_count": 172,
     "metadata": {},
     "output_type": "execute_result"
    }
   ],
   "source": [
    "trainPart=newtData[newtData['dtType']=='train']\n",
    "testPart=newtData[newtData['dtType']=='test']\n",
    "trainPart.shape,testPart.shape"
   ]
  },
  {
   "cell_type": "code",
   "execution_count": 173,
   "metadata": {},
   "outputs": [],
   "source": [
    "from sklearn import model_selection,metrics\n",
    "import xgboost as xgb"
   ]
  },
  {
   "cell_type": "code",
   "execution_count": 174,
   "metadata": {},
   "outputs": [],
   "source": [
    "# \tif feature_names is not None:\n",
    "# \t\tcreate_feature_map(feature_names)\n",
    "# \t\tmodel.dump_model('xgbmodel.txt', 'xgb.fmap', with_stats=True)\n",
    "# \t\timportance = model.get_fscore(fmap='xgb.fmap')\n",
    "# \t\timportance = sorted(importance.items(), key=operator.itemgetter(1), reverse=True)\n",
    "# \t\timp_df = pd.DataFrame(importance, columns=['feature','fscore'])\n",
    "# \t\timp_df['fscore'] = imp_df['fscore'] / imp_df['fscore'].sum()\n",
    "# \t\timp_df.to_csv(\"imp_feat.txt\", index=False)\n",
    "\n",
    "# \tpred_test_y = model.predict(xgtest, ntree_limit=model.best_ntree_limit)\n",
    "# \tpred_test_y2 = model.predict(xgb.DMatrix(test_X2), ntree_limit=model.best_ntree_limit)\n",
    "\n",
    "# \tloss = 0\n",
    "# \tif test_y is not None:\n",
    "# \t\tloss = metrics.roc_auc_score(test_y, pred_test_y)\n",
    "# \t\treturn pred_test_y, loss, pred_test_y2\n",
    "# \telse:\n",
    "# \t\treturn pred_test_y, loss, pred_test_y2"
   ]
  },
  {
   "cell_type": "markdown",
   "metadata": {},
   "source": [
    "## Train test Split Train, Val, Test set"
   ]
  },
  {
   "cell_type": "code",
   "execution_count": 175,
   "metadata": {},
   "outputs": [
    {
     "data": {
      "text/plain": [
       "((62695, 93), (15674, 93), (62695,), (15674,))"
      ]
     },
     "execution_count": 175,
     "metadata": {},
     "output_type": "execute_result"
    }
   ],
   "source": [
    "trainX,testHX,trainY,testHY=model_selection.train_test_split(trainPart[XVar],trainPart[YVar],test_size=.2,stratify =trainPart[YVar])\n",
    "trainX.shape,testHX.shape,trainY.shape,testHY.shape"
   ]
  },
  {
   "cell_type": "code",
   "execution_count": 176,
   "metadata": {},
   "outputs": [
    {
     "data": {
      "text/plain": [
       "((50156, 93), (12539, 93), (50156,), (12539,))"
      ]
     },
     "execution_count": 176,
     "metadata": {},
     "output_type": "execute_result"
    }
   ],
   "source": [
    "trainX1,valX1,trainY1,valY1=model_selection.train_test_split(trainX,trainY,test_size=.2,stratify =trainY)\n",
    "trainX1.shape,valX1.shape,trainY1.shape,valY1.shape"
   ]
  },
  {
   "cell_type": "code",
   "execution_count": 177,
   "metadata": {},
   "outputs": [
    {
     "data": {
      "text/plain": [
       "['campaign_id',\n",
       " 'coupon_id',\n",
       " 'customer_id',\n",
       " 'customer_idquantity_max',\n",
       " 'customer_idquantity_min',\n",
       " 'customer_idquantity_mean',\n",
       " 'customer_idquantity_75perc',\n",
       " 'customer_idquantity_25perc',\n",
       " 'customer_idselling_price_max',\n",
       " 'customer_idselling_price_min',\n",
       " 'customer_idselling_price_mean',\n",
       " 'customer_idselling_price_75perc',\n",
       " 'customer_idselling_price_25perc',\n",
       " 'customer_idother_discount_max',\n",
       " 'customer_idother_discount_min',\n",
       " 'customer_idother_discount_mean',\n",
       " 'customer_idother_discount_75perc',\n",
       " 'customer_idother_discount_25perc',\n",
       " 'customer_idcoupon_discount_max',\n",
       " 'customer_idcoupon_discount_min',\n",
       " 'customer_idcoupon_discount_mean',\n",
       " 'customer_idcoupon_discount_75perc',\n",
       " 'customer_idcoupon_discount_25perc',\n",
       " 'customer_idoccurenceofPurch_max',\n",
       " 'customer_idoccurenceofPurch_min',\n",
       " 'customer_idoccurenceofPurch_mean',\n",
       " 'customer_idoccurenceofPurch_75perc',\n",
       " 'customer_idoccurenceofPurch_25perc',\n",
       " 'coupon_idquantity_max',\n",
       " 'coupon_idquantity_min',\n",
       " 'coupon_idquantity_mean',\n",
       " 'coupon_idquantity_75perc',\n",
       " 'coupon_idquantity_25perc',\n",
       " 'coupon_idselling_price_max',\n",
       " 'coupon_idselling_price_min',\n",
       " 'coupon_idselling_price_mean',\n",
       " 'coupon_idselling_price_75perc',\n",
       " 'coupon_idselling_price_25perc',\n",
       " 'coupon_idother_discount_max',\n",
       " 'coupon_idother_discount_min',\n",
       " 'coupon_idother_discount_mean',\n",
       " 'coupon_idother_discount_75perc',\n",
       " 'coupon_idother_discount_25perc',\n",
       " 'coupon_idcoupon_discount_max',\n",
       " 'coupon_idcoupon_discount_min',\n",
       " 'coupon_idcoupon_discount_mean',\n",
       " 'coupon_idcoupon_discount_75perc',\n",
       " 'coupon_idcoupon_discount_25perc',\n",
       " 'coupon_idoccurenceofPurch_max',\n",
       " 'coupon_idoccurenceofPurch_min',\n",
       " 'coupon_idoccurenceofPurch_mean',\n",
       " 'coupon_idoccurenceofPurch_75perc',\n",
       " 'coupon_idoccurenceofPurch_25perc',\n",
       " 'duration',\n",
       " 'start_Month',\n",
       " 'end_Month',\n",
       " 'age_range_18-25',\n",
       " 'age_range_26-35',\n",
       " 'age_range_36-45',\n",
       " 'age_range_46-55',\n",
       " 'age_range_56-70',\n",
       " 'age_range_70+',\n",
       " 'age_range_Other',\n",
       " 'marital_status_Married',\n",
       " 'marital_status_Other',\n",
       " 'marital_status_Single',\n",
       " 'rented_0.0',\n",
       " 'rented_1.0',\n",
       " 'family_size_1',\n",
       " 'family_size_2',\n",
       " 'family_size_3',\n",
       " 'family_size_4',\n",
       " 'family_size_5+',\n",
       " 'family_size_9999',\n",
       " 'no_of_children_0',\n",
       " 'no_of_children_1',\n",
       " 'no_of_children_2',\n",
       " 'no_of_children_3+',\n",
       " 'income_bracket_1.0',\n",
       " 'income_bracket_10.0',\n",
       " 'income_bracket_11.0',\n",
       " 'income_bracket_12.0',\n",
       " 'income_bracket_2.0',\n",
       " 'income_bracket_3.0',\n",
       " 'income_bracket_4.0',\n",
       " 'income_bracket_5.0',\n",
       " 'income_bracket_6.0',\n",
       " 'income_bracket_7.0',\n",
       " 'income_bracket_8.0',\n",
       " 'income_bracket_9.0',\n",
       " 'income_bracket_9999.0',\n",
       " 'campaign_type_X',\n",
       " 'campaign_type_Y']"
      ]
     },
     "execution_count": 177,
     "metadata": {},
     "output_type": "execute_result"
    }
   ],
   "source": [
    "XVar"
   ]
  },
  {
   "cell_type": "code",
   "execution_count": 178,
   "metadata": {},
   "outputs": [
    {
     "data": {
      "text/plain": [
       "Index(['campaign_id', 'coupon_id', 'customer_id', 'customer_idquantity_max',\n",
       "       'customer_idquantity_min', 'customer_idquantity_mean',\n",
       "       'customer_idquantity_75perc', 'customer_idquantity_25perc',\n",
       "       'customer_idselling_price_max', 'customer_idselling_price_min',\n",
       "       'customer_idselling_price_mean', 'customer_idselling_price_75perc',\n",
       "       'customer_idselling_price_25perc', 'customer_idother_discount_max',\n",
       "       'customer_idother_discount_min', 'customer_idother_discount_mean',\n",
       "       'customer_idother_discount_75perc', 'customer_idother_discount_25perc',\n",
       "       'customer_idcoupon_discount_max', 'customer_idcoupon_discount_min',\n",
       "       'customer_idcoupon_discount_mean', 'customer_idcoupon_discount_75perc',\n",
       "       'customer_idcoupon_discount_25perc', 'customer_idoccurenceofPurch_max',\n",
       "       'customer_idoccurenceofPurch_min', 'customer_idoccurenceofPurch_mean',\n",
       "       'customer_idoccurenceofPurch_75perc',\n",
       "       'customer_idoccurenceofPurch_25perc', 'coupon_idquantity_max',\n",
       "       'coupon_idquantity_min', 'coupon_idquantity_mean',\n",
       "       'coupon_idquantity_75perc', 'coupon_idquantity_25perc',\n",
       "       'coupon_idselling_price_max', 'coupon_idselling_price_min',\n",
       "       'coupon_idselling_price_mean', 'coupon_idselling_price_75perc',\n",
       "       'coupon_idselling_price_25perc', 'coupon_idother_discount_max',\n",
       "       'coupon_idother_discount_min', 'coupon_idother_discount_mean',\n",
       "       'coupon_idother_discount_75perc', 'coupon_idother_discount_25perc',\n",
       "       'coupon_idcoupon_discount_max', 'coupon_idcoupon_discount_min',\n",
       "       'coupon_idcoupon_discount_mean', 'coupon_idcoupon_discount_75perc',\n",
       "       'coupon_idcoupon_discount_25perc', 'coupon_idoccurenceofPurch_max',\n",
       "       'coupon_idoccurenceofPurch_min', 'coupon_idoccurenceofPurch_mean',\n",
       "       'coupon_idoccurenceofPurch_75perc', 'coupon_idoccurenceofPurch_25perc',\n",
       "       'duration', 'start_Month', 'end_Month', 'age_range_18-25',\n",
       "       'age_range_26-35', 'age_range_36-45', 'age_range_46-55',\n",
       "       'age_range_56-70', 'age_range_70+', 'age_range_Other',\n",
       "       'marital_status_Married', 'marital_status_Other',\n",
       "       'marital_status_Single', 'rented_0.0', 'rented_1.0', 'family_size_1',\n",
       "       'family_size_2', 'family_size_3', 'family_size_4', 'family_size_5+',\n",
       "       'family_size_9999', 'no_of_children_0', 'no_of_children_1',\n",
       "       'no_of_children_2', 'no_of_children_3+', 'income_bracket_1.0',\n",
       "       'income_bracket_10.0', 'income_bracket_11.0', 'income_bracket_12.0',\n",
       "       'income_bracket_2.0', 'income_bracket_3.0', 'income_bracket_4.0',\n",
       "       'income_bracket_5.0', 'income_bracket_6.0', 'income_bracket_7.0',\n",
       "       'income_bracket_8.0', 'income_bracket_9.0', 'income_bracket_9999.0',\n",
       "       'campaign_type_X', 'campaign_type_Y'],\n",
       "      dtype='object')"
      ]
     },
     "execution_count": 178,
     "metadata": {},
     "output_type": "execute_result"
    }
   ],
   "source": [
    "trainX.columns"
   ]
  },
  {
   "cell_type": "code",
   "execution_count": 179,
   "metadata": {
    "scrolled": true
   },
   "outputs": [
    {
     "name": "stderr",
     "output_type": "stream",
     "text": [
      "C:\\Users\\swsh\\AppData\\Local\\Continuum\\anaconda3\\envs\\py36\\lib\\site-packages\\xgboost\\core.py:587: FutureWarning: Series.base is deprecated and will be removed in a future version\n",
      "  if getattr(data, 'base', None) is not None and \\\n"
     ]
    },
    {
     "name": "stdout",
     "output_type": "stream",
     "text": [
      "[0]\ttrain-auc:0.69471\ttest-auc:0.679629\n",
      "Multiple eval metrics have been passed: 'test-auc' will be used for early stopping.\n",
      "\n",
      "Will train until test-auc hasn't improved in 100 rounds.\n",
      "[20]\ttrain-auc:0.932749\ttest-auc:0.923776\n",
      "[40]\ttrain-auc:0.966188\ttest-auc:0.942657\n",
      "[60]\ttrain-auc:0.982915\ttest-auc:0.948315\n",
      "[80]\ttrain-auc:0.988662\ttest-auc:0.952516\n",
      "[100]\ttrain-auc:0.992551\ttest-auc:0.95581\n",
      "[120]\ttrain-auc:0.995222\ttest-auc:0.956141\n",
      "[140]\ttrain-auc:0.996556\ttest-auc:0.956884\n",
      "[160]\ttrain-auc:0.997769\ttest-auc:0.956749\n",
      "[180]\ttrain-auc:0.998661\ttest-auc:0.955987\n",
      "[200]\ttrain-auc:0.999265\ttest-auc:0.954751\n",
      "[220]\ttrain-auc:0.999647\ttest-auc:0.95486\n",
      "[240]\ttrain-auc:0.999844\ttest-auc:0.953911\n",
      "[260]\ttrain-auc:0.999928\ttest-auc:0.95366\n",
      "Stopping. Best iteration:\n",
      "[164]\ttrain-auc:0.997946\ttest-auc:0.957157\n",
      "\n"
     ]
    }
   ],
   "source": [
    "# def runXGB(train_X, train_y, test_X, test_y=None, test_X2=None, feature_names=None, seed_val=0, rounds=500, dep=8, eta=0.05):\n",
    "params = {}\n",
    "params[\"objective\"] = \"binary:logistic\"\n",
    "params['eval_metric'] = 'auc'\n",
    "params[\"eta\"] = .05\n",
    "params[\"subsample\"] = 0.7\n",
    "params[\"min_child_weight\"] = 1\n",
    "params[\"colsample_bytree\"] = 0.7\n",
    "params[\"max_depth\"] = 8\n",
    "\n",
    "params[\"silent\"] = 1\n",
    "params[\"seed\"] = 200\n",
    "#params[\"max_delta_step\"] = 2\n",
    "#params[\"gamma\"] = 0.5\n",
    "num_rounds = 500\n",
    "\n",
    "plst = list(params.items())\n",
    "xgtrain = xgb.DMatrix(trainX1, label=trainY1)\n",
    "\n",
    "# if test_y is not None:\n",
    "xgtest = xgb.DMatrix(valX1, label=valY1)\n",
    "watchlist = [ (xgtrain,'train'), (xgtest, 'test') ]\n",
    "model = xgb.train(plst, xgtrain, num_rounds, watchlist, early_stopping_rounds=100, verbose_eval=20)\n",
    "# else:\n",
    "#     xgtest = xgb.DMatrix(test_X)\n",
    "#     model = xgb.train(plst, xgtrain, num_rounds)"
   ]
  },
  {
   "cell_type": "code",
   "execution_count": 180,
   "metadata": {},
   "outputs": [
    {
     "name": "stdout",
     "output_type": "stream",
     "text": [
      "train 583.0 vs 452.29650962078495 validation 117.0 vs 79.05900800281006 test 146.0 vs 95.493761224021\n"
     ]
    },
    {
     "data": {
      "text/plain": [
       "(0.9999423032241961, 0.9530884686254192, 0.9464264289696739)"
      ]
     },
     "execution_count": 180,
     "metadata": {},
     "output_type": "execute_result"
    }
   ],
   "source": [
    "t1=model.predict(xgtrain)\n",
    "t2=model.predict(xgtest)\n",
    "xgTest2 = xgb.DMatrix(testHX)\n",
    "t3=model.predict(xgTest2)\n",
    "\n",
    "# trainScore=modelR.predict_proba(trainX)\n",
    "# testScore=modelR.predict_proba(valX1)\n",
    "# test2Score=modelR.predict_proba(testHX)\n",
    "\n",
    "print ('train {} vs {} validation {} vs {} test {} vs {}'.format(sum(trainY),sum(t1),sum(valY1),sum(t2), sum(testHY),sum(t3)))\n",
    "metrics.roc_auc_score(trainY1,t1),metrics.roc_auc_score(valY1,t2),metrics.roc_auc_score(testHY,t3)"
   ]
  },
  {
   "cell_type": "code",
   "execution_count": 98,
   "metadata": {},
   "outputs": [],
   "source": [
    "plst = list(params.items())\n",
    "xgtrain = xgb.DMatrix(trainPart[XVar],label=trainPart[YVar])"
   ]
  },
  {
   "cell_type": "code",
   "execution_count": 101,
   "metadata": {},
   "outputs": [],
   "source": [
    "model2 = xgb.train(plst, xgtrain, num_rounds)"
   ]
  },
  {
   "cell_type": "code",
   "execution_count": 102,
   "metadata": {},
   "outputs": [],
   "source": [
    "xgTestData = xgb.DMatrix(testPart[XVar])"
   ]
  },
  {
   "cell_type": "code",
   "execution_count": 103,
   "metadata": {},
   "outputs": [],
   "source": [
    "t3Score=model.predict(xgTestData)"
   ]
  },
  {
   "cell_type": "code",
   "execution_count": 181,
   "metadata": {},
   "outputs": [],
   "source": [
    "# testFScore=modelR.predict_proba(testPart[XVar])[:,1]\n",
    "firstSub2=pd.DataFrame(data={'id':test_QyjYwdjData['id'],YVar:t3Score})\n",
    "firstSub2.to_csv('xgbSub5.csv',index=False)"
   ]
  },
  {
   "cell_type": "code",
   "execution_count": null,
   "metadata": {},
   "outputs": [],
   "source": []
  },
  {
   "cell_type": "code",
   "execution_count": null,
   "metadata": {},
   "outputs": [],
   "source": []
  },
  {
   "cell_type": "code",
   "execution_count": null,
   "metadata": {},
   "outputs": [],
   "source": [
    "import lightgbm  as lgb"
   ]
  },
  {
   "cell_type": "code",
   "execution_count": null,
   "metadata": {},
   "outputs": [],
   "source": [
    "modelL=lgb.LGBMClassifier().fit(trainX1,trainY1)"
   ]
  },
  {
   "cell_type": "code",
   "execution_count": null,
   "metadata": {
    "scrolled": true
   },
   "outputs": [],
   "source": [
    "t1=modelL.predict(trainX)\n",
    "t2=modelL.predict(valX1)\n",
    "t3=modelL.predict(testHX)\n",
    "trainScore=modelL.predict_proba(trainX)[:,1]\n",
    "testScore=modelL.predict_proba(valX1)[:,1]\n",
    "test2Score=modelL.predict_proba(testHX)[:,1]\n",
    "\n",
    "print ('train {} vs {} validation {} vs {} test {} vs {}'.format(sum(trainY),sum(t1),sum(valY1),sum(t2), sum(testHY),sum(t3)))\n",
    "metrics.roc_auc_score(trainY,trainScore),metrics.roc_auc_score(valY1,testScore),metrics.roc_auc_score(testHY,test2Score)"
   ]
  },
  {
   "cell_type": "code",
   "execution_count": null,
   "metadata": {},
   "outputs": [],
   "source": [
    "params={'base_score':0.9,\n",
    "        'booster':'gbtree', \n",
    "        'colsample_bylevel':1,\n",
    "       'colsample_bytree':1, \n",
    "        'gamma':0, \n",
    "        'learning_rate':0.1, \n",
    "        'max_delta_step':0,\n",
    "       'max_depth':3, \n",
    "        'min_child_weight':1, \n",
    "        'n_estimators':100,\n",
    "        'eval_metric': ['logloss','auc'],\n",
    "       'n_jobs':1,  'objective':'binary:logistic', 'random_state':0,\n",
    "       'reg_alpha':0, 'reg_lambda':1, 'scale_pos_weight':1, 'subsample':1,\n",
    "       'early_stopping_rounds' : 50,\n",
    "       'stratified':True }"
   ]
  },
  {
   "cell_type": "code",
   "execution_count": null,
   "metadata": {
    "scrolled": true
   },
   "outputs": [],
   "source": [
    "num_round = 1000\n",
    "\n",
    "dtrain = xgb.DMatrix(trainX1,trainY1)\n",
    "# dtrain.set_group(Xg)\n",
    "\n",
    "dvalid = xgb.DMatrix(valX1, valY1)\n",
    "# dvalid.set_group(Xgt)\n",
    "watchlist = [(dtrain, 'train'), (dvalid, 'valid')]\n",
    "bst = xgb.train(params, dtrain, num_round, evals = watchlist,\n",
    "    early_stopping_rounds=50,verbose_eval=50,maximize=True)\n"
   ]
  },
  {
   "cell_type": "code",
   "execution_count": null,
   "metadata": {},
   "outputs": [],
   "source": [
    "dtest = xgb.DMatrix(testHX)"
   ]
  },
  {
   "cell_type": "code",
   "execution_count": null,
   "metadata": {},
   "outputs": [],
   "source": [
    "testScoreP=bst.predict(dtest)"
   ]
  },
  {
   "cell_type": "code",
   "execution_count": null,
   "metadata": {},
   "outputs": [],
   "source": [
    "metrics.roc_auc_score(testHY,testScoreP)"
   ]
  },
  {
   "cell_type": "code",
   "execution_count": null,
   "metadata": {},
   "outputs": [],
   "source": [
    "dtestOrg = xgb.DMatrix(testPart[XVar])\n",
    "testScoreP2=bst.predict(dtestOrg)"
   ]
  },
  {
   "cell_type": "code",
   "execution_count": null,
   "metadata": {},
   "outputs": [],
   "source": [
    "testScoreP2"
   ]
  },
  {
   "cell_type": "code",
   "execution_count": null,
   "metadata": {},
   "outputs": [],
   "source": [
    "# testFScore=modelR.predict_proba(testPart[XVar])[:,1]\n",
    "firstSub2=pd.DataFrame(data={'id':test_QyjYwdjData['id'],YVar:testScoreP2})\n",
    "firstSub2.to_csv('firstSub9.csv',index=False)"
   ]
  },
  {
   "cell_type": "markdown",
   "metadata": {},
   "source": [
    "## LGB model"
   ]
  },
  {
   "cell_type": "code",
   "execution_count": null,
   "metadata": {},
   "outputs": [],
   "source": [
    "modelL.fit(trainPart[XVar],trainPart[YVar])"
   ]
  },
  {
   "cell_type": "code",
   "execution_count": null,
   "metadata": {},
   "outputs": [],
   "source": [
    "lgbScore=modelL.predict_proba(testPart[XVar])[:,1]\n",
    "lgbScore2=modelL.predict(testPart[XVar])"
   ]
  },
  {
   "cell_type": "code",
   "execution_count": null,
   "metadata": {},
   "outputs": [],
   "source": [
    "# testFScore=modelR.predict_proba(testPart[XVar])[:,1]\n",
    "firstSub2=pd.DataFrame(data={'id':test_QyjYwdjData['id'],YVar:lgbScore})\n",
    "firstSub2.to_csv('lgbSub3.csv',index=False)"
   ]
  },
  {
   "cell_type": "markdown",
   "metadata": {},
   "source": [
    "## XGB model"
   ]
  },
  {
   "cell_type": "code",
   "execution_count": null,
   "metadata": {},
   "outputs": [],
   "source": [
    "modelR=xgb.XGBClassifier().fit(trainPart[XVar],trainPart[YVar])\n",
    "xgbScore=modelL.predict_proba(testPart[XVar])[:,1]\n",
    "xgbScore2=modelL.predict(testPart[XVar])"
   ]
  },
  {
   "cell_type": "code",
   "execution_count": null,
   "metadata": {},
   "outputs": [],
   "source": [
    "# testFScore=modelR.predict_proba(testPart[XVar])[:,1]\n",
    "firstSub2=pd.DataFrame(data={'id':test_QyjYwdjData['id'],YVar:xgbScore})\n",
    "firstSub2.to_csv('xgbSub3.csv',index=False)"
   ]
  },
  {
   "cell_type": "code",
   "execution_count": null,
   "metadata": {},
   "outputs": [],
   "source": []
  }
 ],
 "metadata": {
  "kernelspec": {
   "display_name": "Python 3",
   "language": "python",
   "name": "python3"
  },
  "language_info": {
   "codemirror_mode": {
    "name": "ipython",
    "version": 3
   },
   "file_extension": ".py",
   "mimetype": "text/x-python",
   "name": "python",
   "nbconvert_exporter": "python",
   "pygments_lexer": "ipython3",
   "version": "3.6.8"
  }
 },
 "nbformat": 4,
 "nbformat_minor": 2
}
