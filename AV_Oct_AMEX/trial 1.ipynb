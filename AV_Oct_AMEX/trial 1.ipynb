{
 "cells": [
  {
   "cell_type": "code",
   "execution_count": 1,
   "metadata": {},
   "outputs": [],
   "source": [
    "import pandas as pd\n",
    "import numpy as np\n",
    "import seaborn as sns\n",
    "import matplotlib.pyplot as plt"
   ]
  },
  {
   "cell_type": "code",
   "execution_count": 2,
   "metadata": {},
   "outputs": [],
   "source": [
    "campData=pd.read_csv('campaign_data.csv')\n",
    "coupon_item_mappingData=pd.read_csv('coupon_item_mapping.csv')\n",
    "customer_demographicsData=pd.read_csv('customer_demographics.csv')\n",
    "customer_transaction_dataData=pd.read_csv('customer_transaction_data.csv')\n",
    "item_dataData=pd.read_csv('item_data.csv')\n",
    "trainData=pd.read_csv('train.csv')\n",
    "test_QyjYwdjData=pd.read_csv('test_QyjYwdj.csv')"
   ]
  },
  {
   "cell_type": "code",
   "execution_count": 3,
   "metadata": {},
   "outputs": [
    {
     "data": {
      "text/plain": [
       "(128595, 6)"
      ]
     },
     "execution_count": 3,
     "metadata": {},
     "output_type": "execute_result"
    }
   ],
   "source": [
    "trainData['dtType']='train'\n",
    "test_QyjYwdjData['dtType']='test'\n",
    "\n",
    "allData=trainData.append(test_QyjYwdjData,sort=False)\n",
    "allData.shape"
   ]
  },
  {
   "cell_type": "code",
   "execution_count": 4,
   "metadata": {},
   "outputs": [
    {
     "data": {
      "text/html": [
       "<div>\n",
       "<style scoped>\n",
       "    .dataframe tbody tr th:only-of-type {\n",
       "        vertical-align: middle;\n",
       "    }\n",
       "\n",
       "    .dataframe tbody tr th {\n",
       "        vertical-align: top;\n",
       "    }\n",
       "\n",
       "    .dataframe thead th {\n",
       "        text-align: right;\n",
       "    }\n",
       "</style>\n",
       "<table border=\"1\" class=\"dataframe\">\n",
       "  <thead>\n",
       "    <tr style=\"text-align: right;\">\n",
       "      <th></th>\n",
       "      <th>date</th>\n",
       "      <th>customer_id</th>\n",
       "      <th>item_id</th>\n",
       "      <th>quantity</th>\n",
       "      <th>selling_price</th>\n",
       "      <th>other_discount</th>\n",
       "      <th>coupon_discount</th>\n",
       "    </tr>\n",
       "  </thead>\n",
       "  <tbody>\n",
       "    <tr>\n",
       "      <th>0</th>\n",
       "      <td>2012-01-02</td>\n",
       "      <td>1501</td>\n",
       "      <td>26830</td>\n",
       "      <td>1</td>\n",
       "      <td>35.26</td>\n",
       "      <td>-10.69</td>\n",
       "      <td>0.0</td>\n",
       "    </tr>\n",
       "    <tr>\n",
       "      <th>1</th>\n",
       "      <td>2012-01-02</td>\n",
       "      <td>1501</td>\n",
       "      <td>54253</td>\n",
       "      <td>1</td>\n",
       "      <td>53.43</td>\n",
       "      <td>-13.89</td>\n",
       "      <td>0.0</td>\n",
       "    </tr>\n",
       "    <tr>\n",
       "      <th>2</th>\n",
       "      <td>2012-01-02</td>\n",
       "      <td>1501</td>\n",
       "      <td>31962</td>\n",
       "      <td>1</td>\n",
       "      <td>106.50</td>\n",
       "      <td>-14.25</td>\n",
       "      <td>0.0</td>\n",
       "    </tr>\n",
       "    <tr>\n",
       "      <th>3</th>\n",
       "      <td>2012-01-02</td>\n",
       "      <td>1501</td>\n",
       "      <td>33647</td>\n",
       "      <td>1</td>\n",
       "      <td>67.32</td>\n",
       "      <td>0.00</td>\n",
       "      <td>0.0</td>\n",
       "    </tr>\n",
       "    <tr>\n",
       "      <th>4</th>\n",
       "      <td>2012-01-02</td>\n",
       "      <td>1501</td>\n",
       "      <td>48199</td>\n",
       "      <td>1</td>\n",
       "      <td>71.24</td>\n",
       "      <td>-28.14</td>\n",
       "      <td>0.0</td>\n",
       "    </tr>\n",
       "  </tbody>\n",
       "</table>\n",
       "</div>"
      ],
      "text/plain": [
       "         date  customer_id  item_id  quantity  selling_price  other_discount  \\\n",
       "0  2012-01-02         1501    26830         1          35.26          -10.69   \n",
       "1  2012-01-02         1501    54253         1          53.43          -13.89   \n",
       "2  2012-01-02         1501    31962         1         106.50          -14.25   \n",
       "3  2012-01-02         1501    33647         1          67.32            0.00   \n",
       "4  2012-01-02         1501    48199         1          71.24          -28.14   \n",
       "\n",
       "   coupon_discount  \n",
       "0              0.0  \n",
       "1              0.0  \n",
       "2              0.0  \n",
       "3              0.0  \n",
       "4              0.0  "
      ]
     },
     "execution_count": 4,
     "metadata": {},
     "output_type": "execute_result"
    }
   ],
   "source": [
    "customer_transaction_dataData.head()"
   ]
  },
  {
   "cell_type": "code",
   "execution_count": 5,
   "metadata": {},
   "outputs": [],
   "source": [
    "tX1=pd.merge(customer_transaction_dataData,item_dataData,left_on='item_id',right_on='item_id',how='left')"
   ]
  },
  {
   "cell_type": "code",
   "execution_count": 24,
   "metadata": {},
   "outputs": [],
   "source": [
    "campaignRespOld=pd.pivot_table(trainData,index='customer_id',columns='campaign_id',values='redemption_status',aggfunc=np.sum).fillna(0).reset_index()\n",
    "# del campaignRespOld['campaign_id']"
   ]
  },
  {
   "cell_type": "code",
   "execution_count": 7,
   "metadata": {},
   "outputs": [
    {
     "data": {
      "text/html": [
       "<div>\n",
       "<style scoped>\n",
       "    .dataframe tbody tr th:only-of-type {\n",
       "        vertical-align: middle;\n",
       "    }\n",
       "\n",
       "    .dataframe tbody tr th {\n",
       "        vertical-align: top;\n",
       "    }\n",
       "\n",
       "    .dataframe thead th {\n",
       "        text-align: right;\n",
       "    }\n",
       "</style>\n",
       "<table border=\"1\" class=\"dataframe\">\n",
       "  <thead>\n",
       "    <tr style=\"text-align: right;\">\n",
       "      <th></th>\n",
       "      <th>id</th>\n",
       "      <th>campaign_id</th>\n",
       "      <th>coupon_id</th>\n",
       "      <th>customer_id</th>\n",
       "      <th>redemption_status</th>\n",
       "      <th>dtType</th>\n",
       "    </tr>\n",
       "  </thead>\n",
       "  <tbody>\n",
       "    <tr>\n",
       "      <th>0</th>\n",
       "      <td>1</td>\n",
       "      <td>13</td>\n",
       "      <td>27</td>\n",
       "      <td>1053</td>\n",
       "      <td>0</td>\n",
       "      <td>train</td>\n",
       "    </tr>\n",
       "    <tr>\n",
       "      <th>1</th>\n",
       "      <td>2</td>\n",
       "      <td>13</td>\n",
       "      <td>116</td>\n",
       "      <td>48</td>\n",
       "      <td>0</td>\n",
       "      <td>train</td>\n",
       "    </tr>\n",
       "    <tr>\n",
       "      <th>2</th>\n",
       "      <td>6</td>\n",
       "      <td>9</td>\n",
       "      <td>635</td>\n",
       "      <td>205</td>\n",
       "      <td>0</td>\n",
       "      <td>train</td>\n",
       "    </tr>\n",
       "    <tr>\n",
       "      <th>3</th>\n",
       "      <td>7</td>\n",
       "      <td>13</td>\n",
       "      <td>644</td>\n",
       "      <td>1050</td>\n",
       "      <td>0</td>\n",
       "      <td>train</td>\n",
       "    </tr>\n",
       "    <tr>\n",
       "      <th>4</th>\n",
       "      <td>9</td>\n",
       "      <td>8</td>\n",
       "      <td>1017</td>\n",
       "      <td>1489</td>\n",
       "      <td>0</td>\n",
       "      <td>train</td>\n",
       "    </tr>\n",
       "  </tbody>\n",
       "</table>\n",
       "</div>"
      ],
      "text/plain": [
       "   id  campaign_id  coupon_id  customer_id  redemption_status dtType\n",
       "0   1           13         27         1053                  0  train\n",
       "1   2           13        116           48                  0  train\n",
       "2   6            9        635          205                  0  train\n",
       "3   7           13        644         1050                  0  train\n",
       "4   9            8       1017         1489                  0  train"
      ]
     },
     "execution_count": 7,
     "metadata": {},
     "output_type": "execute_result"
    }
   ],
   "source": [
    "trainData.head()"
   ]
  },
  {
   "cell_type": "code",
   "execution_count": 25,
   "metadata": {},
   "outputs": [
    {
     "name": "stderr",
     "output_type": "stream",
     "text": [
      "C:\\Users\\swsh\\AppData\\Local\\Continuum\\anaconda3\\envs\\py36\\lib\\site-packages\\pandas\\core\\groupby\\generic.py:1315: FutureWarning: using a dict with renaming is deprecated and will be removed in a future version\n",
      "  return super(DataFrameGroupBy, self).aggregate(arg, *args, **kwargs)\n"
     ]
    }
   ],
   "source": [
    "customerItemRel=customer_transaction_dataData.groupby('customer_id',as_index=False).agg({'date':{'lastDate':'max','minDate':'min'},\n",
    "                                                                        'item_id':{'totalCountPurch':'count',\n",
    "                                                               'uniqueItemPurch':'nunique'}\n",
    "                                                                    ,'selling_price':{'tPCustomer':'sum','tPCustomerMean':'mean',\n",
    "                                                                                        'tPCustomerMin':'min'},\n",
    "                                              'quantity':'sum','other_discount':{'oDCust':'sum','oDCustMean':'mean'},\n",
    "                                              'coupon_discount':'sum'})\n",
    "\n",
    "customerItemRel.columns=[''.join(j) for j in customerItemRel.columns ]"
   ]
  },
  {
   "cell_type": "code",
   "execution_count": 26,
   "metadata": {},
   "outputs": [],
   "source": [
    "import dateutil"
   ]
  },
  {
   "cell_type": "code",
   "execution_count": 27,
   "metadata": {},
   "outputs": [],
   "source": [
    "customerItemRel['datelastDate']=customerItemRel['datelastDate'].apply(lambda x: dateutil.parser.parse(x))\n",
    "customerItemRel['dateminDate']=customerItemRel['dateminDate'].apply(lambda x: dateutil.parser.parse(x))\n",
    "customerItemRel['patron']=customerItemRel['datelastDate']-customerItemRel['dateminDate']\n",
    "customerItemRel['patron']=customerItemRel['patron'].apply(lambda x: x.days)"
   ]
  },
  {
   "cell_type": "code",
   "execution_count": 28,
   "metadata": {},
   "outputs": [
    {
     "data": {
      "text/html": [
       "<div>\n",
       "<style scoped>\n",
       "    .dataframe tbody tr th:only-of-type {\n",
       "        vertical-align: middle;\n",
       "    }\n",
       "\n",
       "    .dataframe tbody tr th {\n",
       "        vertical-align: top;\n",
       "    }\n",
       "\n",
       "    .dataframe thead th {\n",
       "        text-align: right;\n",
       "    }\n",
       "</style>\n",
       "<table border=\"1\" class=\"dataframe\">\n",
       "  <thead>\n",
       "    <tr style=\"text-align: right;\">\n",
       "      <th></th>\n",
       "      <th>customer_id</th>\n",
       "      <th>item_idtotalCountPurch</th>\n",
       "      <th>item_iduniqueItemPurch</th>\n",
       "      <th>selling_pricetPCustomer</th>\n",
       "      <th>selling_pricetPCustomerMean</th>\n",
       "      <th>selling_pricetPCustomerMin</th>\n",
       "      <th>quantitysum</th>\n",
       "      <th>other_discountoDCust</th>\n",
       "      <th>other_discountoDCustMean</th>\n",
       "      <th>coupon_discountsum</th>\n",
       "      <th>patron</th>\n",
       "    </tr>\n",
       "  </thead>\n",
       "  <tbody>\n",
       "    <tr>\n",
       "      <th>0</th>\n",
       "      <td>1</td>\n",
       "      <td>1048</td>\n",
       "      <td>463</td>\n",
       "      <td>98513.93</td>\n",
       "      <td>94.001842</td>\n",
       "      <td>12.11</td>\n",
       "      <td>1227</td>\n",
       "      <td>-17030.40</td>\n",
       "      <td>-16.250382</td>\n",
       "      <td>-2116.83</td>\n",
       "      <td>495</td>\n",
       "    </tr>\n",
       "    <tr>\n",
       "      <th>1</th>\n",
       "      <td>2</td>\n",
       "      <td>419</td>\n",
       "      <td>352</td>\n",
       "      <td>43100.03</td>\n",
       "      <td>102.864033</td>\n",
       "      <td>14.25</td>\n",
       "      <td>474</td>\n",
       "      <td>-7051.95</td>\n",
       "      <td>-16.830430</td>\n",
       "      <td>-249.34</td>\n",
       "      <td>439</td>\n",
       "    </tr>\n",
       "    <tr>\n",
       "      <th>2</th>\n",
       "      <td>3</td>\n",
       "      <td>705</td>\n",
       "      <td>406</td>\n",
       "      <td>73050.27</td>\n",
       "      <td>103.617404</td>\n",
       "      <td>8.90</td>\n",
       "      <td>8163</td>\n",
       "      <td>-16013.53</td>\n",
       "      <td>-22.714227</td>\n",
       "      <td>-2179.54</td>\n",
       "      <td>419</td>\n",
       "    </tr>\n",
       "    <tr>\n",
       "      <th>3</th>\n",
       "      <td>4</td>\n",
       "      <td>220</td>\n",
       "      <td>125</td>\n",
       "      <td>33973.22</td>\n",
       "      <td>154.423727</td>\n",
       "      <td>14.25</td>\n",
       "      <td>280</td>\n",
       "      <td>-2927.19</td>\n",
       "      <td>-13.305409</td>\n",
       "      <td>-89.05</td>\n",
       "      <td>392</td>\n",
       "    </tr>\n",
       "    <tr>\n",
       "      <th>4</th>\n",
       "      <td>5</td>\n",
       "      <td>792</td>\n",
       "      <td>490</td>\n",
       "      <td>103615.10</td>\n",
       "      <td>130.827146</td>\n",
       "      <td>12.11</td>\n",
       "      <td>93353</td>\n",
       "      <td>-10817.07</td>\n",
       "      <td>-13.657917</td>\n",
       "      <td>-90.83</td>\n",
       "      <td>427</td>\n",
       "    </tr>\n",
       "  </tbody>\n",
       "</table>\n",
       "</div>"
      ],
      "text/plain": [
       "   customer_id  item_idtotalCountPurch  item_iduniqueItemPurch  \\\n",
       "0            1                    1048                     463   \n",
       "1            2                     419                     352   \n",
       "2            3                     705                     406   \n",
       "3            4                     220                     125   \n",
       "4            5                     792                     490   \n",
       "\n",
       "   selling_pricetPCustomer  selling_pricetPCustomerMean  \\\n",
       "0                 98513.93                    94.001842   \n",
       "1                 43100.03                   102.864033   \n",
       "2                 73050.27                   103.617404   \n",
       "3                 33973.22                   154.423727   \n",
       "4                103615.10                   130.827146   \n",
       "\n",
       "   selling_pricetPCustomerMin  quantitysum  other_discountoDCust  \\\n",
       "0                       12.11         1227             -17030.40   \n",
       "1                       14.25          474              -7051.95   \n",
       "2                        8.90         8163             -16013.53   \n",
       "3                       14.25          280              -2927.19   \n",
       "4                       12.11        93353             -10817.07   \n",
       "\n",
       "   other_discountoDCustMean  coupon_discountsum  patron  \n",
       "0                -16.250382            -2116.83     495  \n",
       "1                -16.830430             -249.34     439  \n",
       "2                -22.714227            -2179.54     419  \n",
       "3                -13.305409              -89.05     392  \n",
       "4                -13.657917              -90.83     427  "
      ]
     },
     "execution_count": 28,
     "metadata": {},
     "output_type": "execute_result"
    }
   ],
   "source": [
    "del customerItemRel['datelastDate']\n",
    "del customerItemRel['dateminDate']\n",
    "customerItemRel.head()"
   ]
  },
  {
   "cell_type": "markdown",
   "metadata": {},
   "source": [
    "# Things cannot be creaeted from campaign"
   ]
  },
  {
   "cell_type": "code",
   "execution_count": null,
   "metadata": {},
   "outputs": [],
   "source": [
    "# pd.pivot_table(trainData,index='campaign_id',values='redemption_status',aggfunc=np.sum).reset_index()\n",
    "# trainData.groupby('campaign_id',as_index=False).agg({'redemption_status':{'availed':'sum','totalOccu':'count'}})\n",
    "# test_QyjYwdjData.groupby('campaign_id',as_index=False).count()[['campaign_id','id']]"
   ]
  },
  {
   "cell_type": "code",
   "execution_count": null,
   "metadata": {},
   "outputs": [],
   "source": [
    "# customerBuyingBehavior=trainData.groupby('customer_id',as_index=False).agg({'redemption_status':{'redeemed':'sum','totalOccur':'count'}})\n",
    "# customerBuyingBehavior.columns=[''.join(j) for j in customerBuyingBehavior]"
   ]
  },
  {
   "cell_type": "code",
   "execution_count": null,
   "metadata": {},
   "outputs": [],
   "source": [
    "# customer_transaction_dataData.shape,tX1.shape"
   ]
  },
  {
   "cell_type": "code",
   "execution_count": null,
   "metadata": {},
   "outputs": [],
   "source": [
    "# tX1.head()"
   ]
  },
  {
   "cell_type": "code",
   "execution_count": 29,
   "metadata": {},
   "outputs": [
    {
     "data": {
      "text/plain": [
       "(128595, 15)"
      ]
     },
     "execution_count": 29,
     "metadata": {},
     "output_type": "execute_result"
    }
   ],
   "source": [
    "x1=pd.merge(allData,campData,left_on='campaign_id',right_on='campaign_id',how='left')\n",
    "x2=pd.merge(x1,customer_demographicsData,left_on='customer_id',right_on='customer_id',how='left')\n",
    "x2.shape"
   ]
  },
  {
   "cell_type": "code",
   "execution_count": 30,
   "metadata": {},
   "outputs": [],
   "source": [
    "x2['marital_status']=x2['marital_status'].fillna('Other')\n",
    "x2['rented']=x2['rented'].fillna(0)\n",
    "x2['no_of_children']=x2['no_of_children'].fillna(0)\n",
    "x2['age_range']=x2['age_range'].fillna('Other')\n",
    "x2['family_size']=x2['family_size'].fillna('Other')\n",
    "x2['income_bracket']=x2['income_bracket'].fillna('Other')"
   ]
  },
  {
   "cell_type": "code",
   "execution_count": 31,
   "metadata": {},
   "outputs": [
    {
     "data": {
      "text/html": [
       "<div>\n",
       "<style scoped>\n",
       "    .dataframe tbody tr th:only-of-type {\n",
       "        vertical-align: middle;\n",
       "    }\n",
       "\n",
       "    .dataframe tbody tr th {\n",
       "        vertical-align: top;\n",
       "    }\n",
       "\n",
       "    .dataframe thead th {\n",
       "        text-align: right;\n",
       "    }\n",
       "</style>\n",
       "<table border=\"1\" class=\"dataframe\">\n",
       "  <thead>\n",
       "    <tr style=\"text-align: right;\">\n",
       "      <th></th>\n",
       "      <th>id</th>\n",
       "      <th>campaign_id</th>\n",
       "      <th>coupon_id</th>\n",
       "      <th>customer_id</th>\n",
       "      <th>redemption_status</th>\n",
       "      <th>dtType</th>\n",
       "      <th>campaign_type</th>\n",
       "      <th>start_date</th>\n",
       "      <th>end_date</th>\n",
       "      <th>age_range</th>\n",
       "      <th>marital_status</th>\n",
       "      <th>rented</th>\n",
       "      <th>family_size</th>\n",
       "      <th>no_of_children</th>\n",
       "      <th>income_bracket</th>\n",
       "    </tr>\n",
       "  </thead>\n",
       "  <tbody>\n",
       "    <tr>\n",
       "      <th>0</th>\n",
       "      <td>1</td>\n",
       "      <td>13</td>\n",
       "      <td>27</td>\n",
       "      <td>1053</td>\n",
       "      <td>0.0</td>\n",
       "      <td>train</td>\n",
       "      <td>X</td>\n",
       "      <td>19/05/13</td>\n",
       "      <td>05/07/13</td>\n",
       "      <td>46-55</td>\n",
       "      <td>Other</td>\n",
       "      <td>0.0</td>\n",
       "      <td>1</td>\n",
       "      <td>0</td>\n",
       "      <td>5</td>\n",
       "    </tr>\n",
       "    <tr>\n",
       "      <th>1</th>\n",
       "      <td>2</td>\n",
       "      <td>13</td>\n",
       "      <td>116</td>\n",
       "      <td>48</td>\n",
       "      <td>0.0</td>\n",
       "      <td>train</td>\n",
       "      <td>X</td>\n",
       "      <td>19/05/13</td>\n",
       "      <td>05/07/13</td>\n",
       "      <td>36-45</td>\n",
       "      <td>Married</td>\n",
       "      <td>0.0</td>\n",
       "      <td>2</td>\n",
       "      <td>0</td>\n",
       "      <td>3</td>\n",
       "    </tr>\n",
       "    <tr>\n",
       "      <th>2</th>\n",
       "      <td>6</td>\n",
       "      <td>9</td>\n",
       "      <td>635</td>\n",
       "      <td>205</td>\n",
       "      <td>0.0</td>\n",
       "      <td>train</td>\n",
       "      <td>Y</td>\n",
       "      <td>11/03/13</td>\n",
       "      <td>12/04/13</td>\n",
       "      <td>46-55</td>\n",
       "      <td>Married</td>\n",
       "      <td>0.0</td>\n",
       "      <td>2</td>\n",
       "      <td>0</td>\n",
       "      <td>7</td>\n",
       "    </tr>\n",
       "    <tr>\n",
       "      <th>3</th>\n",
       "      <td>7</td>\n",
       "      <td>13</td>\n",
       "      <td>644</td>\n",
       "      <td>1050</td>\n",
       "      <td>0.0</td>\n",
       "      <td>train</td>\n",
       "      <td>X</td>\n",
       "      <td>19/05/13</td>\n",
       "      <td>05/07/13</td>\n",
       "      <td>Other</td>\n",
       "      <td>Other</td>\n",
       "      <td>0.0</td>\n",
       "      <td>Other</td>\n",
       "      <td>0</td>\n",
       "      <td>Other</td>\n",
       "    </tr>\n",
       "    <tr>\n",
       "      <th>4</th>\n",
       "      <td>9</td>\n",
       "      <td>8</td>\n",
       "      <td>1017</td>\n",
       "      <td>1489</td>\n",
       "      <td>0.0</td>\n",
       "      <td>train</td>\n",
       "      <td>X</td>\n",
       "      <td>16/02/13</td>\n",
       "      <td>05/04/13</td>\n",
       "      <td>46-55</td>\n",
       "      <td>Married</td>\n",
       "      <td>0.0</td>\n",
       "      <td>2</td>\n",
       "      <td>0</td>\n",
       "      <td>3</td>\n",
       "    </tr>\n",
       "  </tbody>\n",
       "</table>\n",
       "</div>"
      ],
      "text/plain": [
       "   id  campaign_id  coupon_id  customer_id  redemption_status dtType  \\\n",
       "0   1           13         27         1053                0.0  train   \n",
       "1   2           13        116           48                0.0  train   \n",
       "2   6            9        635          205                0.0  train   \n",
       "3   7           13        644         1050                0.0  train   \n",
       "4   9            8       1017         1489                0.0  train   \n",
       "\n",
       "  campaign_type start_date  end_date age_range marital_status  rented  \\\n",
       "0             X   19/05/13  05/07/13     46-55          Other     0.0   \n",
       "1             X   19/05/13  05/07/13     36-45        Married     0.0   \n",
       "2             Y   11/03/13  12/04/13     46-55        Married     0.0   \n",
       "3             X   19/05/13  05/07/13     Other          Other     0.0   \n",
       "4             X   16/02/13  05/04/13     46-55        Married     0.0   \n",
       "\n",
       "  family_size no_of_children income_bracket  \n",
       "0           1              0              5  \n",
       "1           2              0              3  \n",
       "2           2              0              7  \n",
       "3       Other              0          Other  \n",
       "4           2              0              3  "
      ]
     },
     "execution_count": 31,
     "metadata": {},
     "output_type": "execute_result"
    }
   ],
   "source": [
    "x2.head()"
   ]
  },
  {
   "cell_type": "code",
   "execution_count": 32,
   "metadata": {},
   "outputs": [
    {
     "data": {
      "text/plain": [
       "(128595, 25)"
      ]
     },
     "execution_count": 32,
     "metadata": {},
     "output_type": "execute_result"
    }
   ],
   "source": [
    "xXX2=pd.merge(x2,customerItemRel,on='customer_id',how='left')\n",
    "xXX2.shape"
   ]
  },
  {
   "cell_type": "code",
   "execution_count": 33,
   "metadata": {},
   "outputs": [],
   "source": [
    "xXX3=pd.merge(xXX2,campaignRespOld,on='customer_id',how='left')"
   ]
  },
  {
   "cell_type": "code",
   "execution_count": 34,
   "metadata": {},
   "outputs": [
    {
     "data": {
      "text/html": [
       "<div>\n",
       "<style scoped>\n",
       "    .dataframe tbody tr th:only-of-type {\n",
       "        vertical-align: middle;\n",
       "    }\n",
       "\n",
       "    .dataframe tbody tr th {\n",
       "        vertical-align: top;\n",
       "    }\n",
       "\n",
       "    .dataframe thead th {\n",
       "        text-align: right;\n",
       "    }\n",
       "</style>\n",
       "<table border=\"1\" class=\"dataframe\">\n",
       "  <thead>\n",
       "    <tr style=\"text-align: right;\">\n",
       "      <th></th>\n",
       "      <th>id</th>\n",
       "      <th>campaign_id</th>\n",
       "      <th>coupon_id</th>\n",
       "      <th>customer_id</th>\n",
       "      <th>redemption_status</th>\n",
       "      <th>dtType</th>\n",
       "      <th>campaign_type</th>\n",
       "      <th>start_date</th>\n",
       "      <th>end_date</th>\n",
       "      <th>age_range</th>\n",
       "      <th>...</th>\n",
       "      <th>9</th>\n",
       "      <th>10</th>\n",
       "      <th>11</th>\n",
       "      <th>12</th>\n",
       "      <th>13</th>\n",
       "      <th>26</th>\n",
       "      <th>27</th>\n",
       "      <th>28</th>\n",
       "      <th>29</th>\n",
       "      <th>30</th>\n",
       "    </tr>\n",
       "  </thead>\n",
       "  <tbody>\n",
       "    <tr>\n",
       "      <th>0</th>\n",
       "      <td>1</td>\n",
       "      <td>13</td>\n",
       "      <td>27</td>\n",
       "      <td>1053</td>\n",
       "      <td>0.0</td>\n",
       "      <td>train</td>\n",
       "      <td>X</td>\n",
       "      <td>19/05/13</td>\n",
       "      <td>05/07/13</td>\n",
       "      <td>46-55</td>\n",
       "      <td>...</td>\n",
       "      <td>0.0</td>\n",
       "      <td>0.0</td>\n",
       "      <td>0.0</td>\n",
       "      <td>0.0</td>\n",
       "      <td>0.0</td>\n",
       "      <td>0.0</td>\n",
       "      <td>0.0</td>\n",
       "      <td>0.0</td>\n",
       "      <td>0.0</td>\n",
       "      <td>0.0</td>\n",
       "    </tr>\n",
       "    <tr>\n",
       "      <th>1</th>\n",
       "      <td>2</td>\n",
       "      <td>13</td>\n",
       "      <td>116</td>\n",
       "      <td>48</td>\n",
       "      <td>0.0</td>\n",
       "      <td>train</td>\n",
       "      <td>X</td>\n",
       "      <td>19/05/13</td>\n",
       "      <td>05/07/13</td>\n",
       "      <td>36-45</td>\n",
       "      <td>...</td>\n",
       "      <td>0.0</td>\n",
       "      <td>0.0</td>\n",
       "      <td>0.0</td>\n",
       "      <td>0.0</td>\n",
       "      <td>0.0</td>\n",
       "      <td>0.0</td>\n",
       "      <td>0.0</td>\n",
       "      <td>0.0</td>\n",
       "      <td>0.0</td>\n",
       "      <td>0.0</td>\n",
       "    </tr>\n",
       "    <tr>\n",
       "      <th>2</th>\n",
       "      <td>6</td>\n",
       "      <td>9</td>\n",
       "      <td>635</td>\n",
       "      <td>205</td>\n",
       "      <td>0.0</td>\n",
       "      <td>train</td>\n",
       "      <td>Y</td>\n",
       "      <td>11/03/13</td>\n",
       "      <td>12/04/13</td>\n",
       "      <td>46-55</td>\n",
       "      <td>...</td>\n",
       "      <td>1.0</td>\n",
       "      <td>0.0</td>\n",
       "      <td>0.0</td>\n",
       "      <td>0.0</td>\n",
       "      <td>0.0</td>\n",
       "      <td>0.0</td>\n",
       "      <td>0.0</td>\n",
       "      <td>0.0</td>\n",
       "      <td>0.0</td>\n",
       "      <td>0.0</td>\n",
       "    </tr>\n",
       "    <tr>\n",
       "      <th>3</th>\n",
       "      <td>7</td>\n",
       "      <td>13</td>\n",
       "      <td>644</td>\n",
       "      <td>1050</td>\n",
       "      <td>0.0</td>\n",
       "      <td>train</td>\n",
       "      <td>X</td>\n",
       "      <td>19/05/13</td>\n",
       "      <td>05/07/13</td>\n",
       "      <td>Other</td>\n",
       "      <td>...</td>\n",
       "      <td>0.0</td>\n",
       "      <td>0.0</td>\n",
       "      <td>0.0</td>\n",
       "      <td>0.0</td>\n",
       "      <td>0.0</td>\n",
       "      <td>0.0</td>\n",
       "      <td>0.0</td>\n",
       "      <td>0.0</td>\n",
       "      <td>0.0</td>\n",
       "      <td>0.0</td>\n",
       "    </tr>\n",
       "    <tr>\n",
       "      <th>4</th>\n",
       "      <td>9</td>\n",
       "      <td>8</td>\n",
       "      <td>1017</td>\n",
       "      <td>1489</td>\n",
       "      <td>0.0</td>\n",
       "      <td>train</td>\n",
       "      <td>X</td>\n",
       "      <td>16/02/13</td>\n",
       "      <td>05/04/13</td>\n",
       "      <td>46-55</td>\n",
       "      <td>...</td>\n",
       "      <td>0.0</td>\n",
       "      <td>0.0</td>\n",
       "      <td>0.0</td>\n",
       "      <td>0.0</td>\n",
       "      <td>0.0</td>\n",
       "      <td>0.0</td>\n",
       "      <td>0.0</td>\n",
       "      <td>0.0</td>\n",
       "      <td>0.0</td>\n",
       "      <td>0.0</td>\n",
       "    </tr>\n",
       "  </tbody>\n",
       "</table>\n",
       "<p>5 rows × 43 columns</p>\n",
       "</div>"
      ],
      "text/plain": [
       "   id  campaign_id  coupon_id  customer_id  redemption_status dtType  \\\n",
       "0   1           13         27         1053                0.0  train   \n",
       "1   2           13        116           48                0.0  train   \n",
       "2   6            9        635          205                0.0  train   \n",
       "3   7           13        644         1050                0.0  train   \n",
       "4   9            8       1017         1489                0.0  train   \n",
       "\n",
       "  campaign_type start_date  end_date age_range  ...    9   10   11   12   13  \\\n",
       "0             X   19/05/13  05/07/13     46-55  ...  0.0  0.0  0.0  0.0  0.0   \n",
       "1             X   19/05/13  05/07/13     36-45  ...  0.0  0.0  0.0  0.0  0.0   \n",
       "2             Y   11/03/13  12/04/13     46-55  ...  1.0  0.0  0.0  0.0  0.0   \n",
       "3             X   19/05/13  05/07/13     Other  ...  0.0  0.0  0.0  0.0  0.0   \n",
       "4             X   16/02/13  05/04/13     46-55  ...  0.0  0.0  0.0  0.0  0.0   \n",
       "\n",
       "    26   27   28   29   30  \n",
       "0  0.0  0.0  0.0  0.0  0.0  \n",
       "1  0.0  0.0  0.0  0.0  0.0  \n",
       "2  0.0  0.0  0.0  0.0  0.0  \n",
       "3  0.0  0.0  0.0  0.0  0.0  \n",
       "4  0.0  0.0  0.0  0.0  0.0  \n",
       "\n",
       "[5 rows x 43 columns]"
      ]
     },
     "execution_count": 34,
     "metadata": {},
     "output_type": "execute_result"
    }
   ],
   "source": [
    "xXX3.head()"
   ]
  },
  {
   "cell_type": "code",
   "execution_count": null,
   "metadata": {
    "scrolled": true
   },
   "outputs": [],
   "source": [
    "# customerProfileData=customer_transaction_dataData.groupby('customer_id',as_index=False).agg({'quantity':'sum','date':'nunique','item_id':'count',\n",
    "#                                                                         'selling_price':{'maxSP':'max','minSP':'min',\n",
    "#                                                                                         'averageSP':'mean'},\n",
    "#                                                                         'other_discount':{'maxOD':'max','minOD':'min',\n",
    "#                                                                                         'averageOD':'mean'},\n",
    "#                                                                         'coupon_discount':{'maxCD':'max','minCD':'min',\n",
    "#                                                                                         'averageCD':'mean','totalCDAvailed':'count'}})"
   ]
  },
  {
   "cell_type": "code",
   "execution_count": null,
   "metadata": {},
   "outputs": [],
   "source": [
    "# customerProfileData.columns = ['_'.join(col) for col in customerProfileData.columns.values]"
   ]
  },
  {
   "cell_type": "code",
   "execution_count": 36,
   "metadata": {},
   "outputs": [],
   "source": [
    "categoColumns=['campaign_type','age_range','marital_status','family_size','no_of_children','income_bracket']\n",
    "catData=pd.get_dummies(xXX3[categoColumns],prefix_sep='_',)"
   ]
  },
  {
   "cell_type": "code",
   "execution_count": 37,
   "metadata": {},
   "outputs": [],
   "source": [
    "newtData=pd.concat([xXX3,catData],sort=False,axis=1)"
   ]
  },
  {
   "cell_type": "code",
   "execution_count": 38,
   "metadata": {},
   "outputs": [
    {
     "data": {
      "text/html": [
       "<div>\n",
       "<style scoped>\n",
       "    .dataframe tbody tr th:only-of-type {\n",
       "        vertical-align: middle;\n",
       "    }\n",
       "\n",
       "    .dataframe tbody tr th {\n",
       "        vertical-align: top;\n",
       "    }\n",
       "\n",
       "    .dataframe thead th {\n",
       "        text-align: right;\n",
       "    }\n",
       "</style>\n",
       "<table border=\"1\" class=\"dataframe\">\n",
       "  <thead>\n",
       "    <tr style=\"text-align: right;\">\n",
       "      <th></th>\n",
       "      <th>id</th>\n",
       "      <th>campaign_id</th>\n",
       "      <th>coupon_id</th>\n",
       "      <th>customer_id</th>\n",
       "      <th>redemption_status</th>\n",
       "      <th>dtType</th>\n",
       "      <th>campaign_type</th>\n",
       "      <th>start_date</th>\n",
       "      <th>end_date</th>\n",
       "      <th>age_range</th>\n",
       "      <th>...</th>\n",
       "      <th>income_bracket_4.0</th>\n",
       "      <th>income_bracket_5.0</th>\n",
       "      <th>income_bracket_6.0</th>\n",
       "      <th>income_bracket_7.0</th>\n",
       "      <th>income_bracket_8.0</th>\n",
       "      <th>income_bracket_9.0</th>\n",
       "      <th>income_bracket_10.0</th>\n",
       "      <th>income_bracket_11.0</th>\n",
       "      <th>income_bracket_12.0</th>\n",
       "      <th>income_bracket_Other</th>\n",
       "    </tr>\n",
       "  </thead>\n",
       "  <tbody>\n",
       "    <tr>\n",
       "      <th>0</th>\n",
       "      <td>1</td>\n",
       "      <td>13</td>\n",
       "      <td>27</td>\n",
       "      <td>1053</td>\n",
       "      <td>0.0</td>\n",
       "      <td>train</td>\n",
       "      <td>X</td>\n",
       "      <td>19/05/13</td>\n",
       "      <td>05/07/13</td>\n",
       "      <td>46-55</td>\n",
       "      <td>...</td>\n",
       "      <td>0</td>\n",
       "      <td>1</td>\n",
       "      <td>0</td>\n",
       "      <td>0</td>\n",
       "      <td>0</td>\n",
       "      <td>0</td>\n",
       "      <td>0</td>\n",
       "      <td>0</td>\n",
       "      <td>0</td>\n",
       "      <td>0</td>\n",
       "    </tr>\n",
       "    <tr>\n",
       "      <th>1</th>\n",
       "      <td>2</td>\n",
       "      <td>13</td>\n",
       "      <td>116</td>\n",
       "      <td>48</td>\n",
       "      <td>0.0</td>\n",
       "      <td>train</td>\n",
       "      <td>X</td>\n",
       "      <td>19/05/13</td>\n",
       "      <td>05/07/13</td>\n",
       "      <td>36-45</td>\n",
       "      <td>...</td>\n",
       "      <td>0</td>\n",
       "      <td>0</td>\n",
       "      <td>0</td>\n",
       "      <td>0</td>\n",
       "      <td>0</td>\n",
       "      <td>0</td>\n",
       "      <td>0</td>\n",
       "      <td>0</td>\n",
       "      <td>0</td>\n",
       "      <td>0</td>\n",
       "    </tr>\n",
       "    <tr>\n",
       "      <th>2</th>\n",
       "      <td>6</td>\n",
       "      <td>9</td>\n",
       "      <td>635</td>\n",
       "      <td>205</td>\n",
       "      <td>0.0</td>\n",
       "      <td>train</td>\n",
       "      <td>Y</td>\n",
       "      <td>11/03/13</td>\n",
       "      <td>12/04/13</td>\n",
       "      <td>46-55</td>\n",
       "      <td>...</td>\n",
       "      <td>0</td>\n",
       "      <td>0</td>\n",
       "      <td>0</td>\n",
       "      <td>1</td>\n",
       "      <td>0</td>\n",
       "      <td>0</td>\n",
       "      <td>0</td>\n",
       "      <td>0</td>\n",
       "      <td>0</td>\n",
       "      <td>0</td>\n",
       "    </tr>\n",
       "    <tr>\n",
       "      <th>3</th>\n",
       "      <td>7</td>\n",
       "      <td>13</td>\n",
       "      <td>644</td>\n",
       "      <td>1050</td>\n",
       "      <td>0.0</td>\n",
       "      <td>train</td>\n",
       "      <td>X</td>\n",
       "      <td>19/05/13</td>\n",
       "      <td>05/07/13</td>\n",
       "      <td>Other</td>\n",
       "      <td>...</td>\n",
       "      <td>0</td>\n",
       "      <td>0</td>\n",
       "      <td>0</td>\n",
       "      <td>0</td>\n",
       "      <td>0</td>\n",
       "      <td>0</td>\n",
       "      <td>0</td>\n",
       "      <td>0</td>\n",
       "      <td>0</td>\n",
       "      <td>1</td>\n",
       "    </tr>\n",
       "    <tr>\n",
       "      <th>4</th>\n",
       "      <td>9</td>\n",
       "      <td>8</td>\n",
       "      <td>1017</td>\n",
       "      <td>1489</td>\n",
       "      <td>0.0</td>\n",
       "      <td>train</td>\n",
       "      <td>X</td>\n",
       "      <td>16/02/13</td>\n",
       "      <td>05/04/13</td>\n",
       "      <td>46-55</td>\n",
       "      <td>...</td>\n",
       "      <td>0</td>\n",
       "      <td>0</td>\n",
       "      <td>0</td>\n",
       "      <td>0</td>\n",
       "      <td>0</td>\n",
       "      <td>0</td>\n",
       "      <td>0</td>\n",
       "      <td>0</td>\n",
       "      <td>0</td>\n",
       "      <td>0</td>\n",
       "    </tr>\n",
       "  </tbody>\n",
       "</table>\n",
       "<p>5 rows × 78 columns</p>\n",
       "</div>"
      ],
      "text/plain": [
       "   id  campaign_id  coupon_id  customer_id  redemption_status dtType  \\\n",
       "0   1           13         27         1053                0.0  train   \n",
       "1   2           13        116           48                0.0  train   \n",
       "2   6            9        635          205                0.0  train   \n",
       "3   7           13        644         1050                0.0  train   \n",
       "4   9            8       1017         1489                0.0  train   \n",
       "\n",
       "  campaign_type start_date  end_date age_range  ... income_bracket_4.0  \\\n",
       "0             X   19/05/13  05/07/13     46-55  ...                  0   \n",
       "1             X   19/05/13  05/07/13     36-45  ...                  0   \n",
       "2             Y   11/03/13  12/04/13     46-55  ...                  0   \n",
       "3             X   19/05/13  05/07/13     Other  ...                  0   \n",
       "4             X   16/02/13  05/04/13     46-55  ...                  0   \n",
       "\n",
       "   income_bracket_5.0 income_bracket_6.0 income_bracket_7.0  \\\n",
       "0                   1                  0                  0   \n",
       "1                   0                  0                  0   \n",
       "2                   0                  0                  1   \n",
       "3                   0                  0                  0   \n",
       "4                   0                  0                  0   \n",
       "\n",
       "  income_bracket_8.0  income_bracket_9.0  income_bracket_10.0  \\\n",
       "0                  0                   0                    0   \n",
       "1                  0                   0                    0   \n",
       "2                  0                   0                    0   \n",
       "3                  0                   0                    0   \n",
       "4                  0                   0                    0   \n",
       "\n",
       "   income_bracket_11.0  income_bracket_12.0  income_bracket_Other  \n",
       "0                    0                    0                     0  \n",
       "1                    0                    0                     0  \n",
       "2                    0                    0                     0  \n",
       "3                    0                    0                     1  \n",
       "4                    0                    0                     0  \n",
       "\n",
       "[5 rows x 78 columns]"
      ]
     },
     "execution_count": 38,
     "metadata": {},
     "output_type": "execute_result"
    }
   ],
   "source": [
    "newtData.head()"
   ]
  },
  {
   "cell_type": "code",
   "execution_count": 39,
   "metadata": {},
   "outputs": [
    {
     "data": {
      "text/plain": [
       "Index([                         'id',                 'campaign_id',\n",
       "                         'coupon_id',                 'customer_id',\n",
       "                 'redemption_status',                      'dtType',\n",
       "                     'campaign_type',                  'start_date',\n",
       "                          'end_date',                   'age_range',\n",
       "                    'marital_status',                      'rented',\n",
       "                       'family_size',              'no_of_children',\n",
       "                    'income_bracket',      'item_idtotalCountPurch',\n",
       "            'item_iduniqueItemPurch',     'selling_pricetPCustomer',\n",
       "       'selling_pricetPCustomerMean',  'selling_pricetPCustomerMin',\n",
       "                       'quantitysum',        'other_discountoDCust',\n",
       "          'other_discountoDCustMean',          'coupon_discountsum',\n",
       "                            'patron',                             1,\n",
       "                                   2,                             3,\n",
       "                                   4,                             5,\n",
       "                                   6,                             7,\n",
       "                                   8,                             9,\n",
       "                                  10,                            11,\n",
       "                                  12,                            13,\n",
       "                                  26,                            27,\n",
       "                                  28,                            29,\n",
       "                                  30,             'campaign_type_X',\n",
       "                   'campaign_type_Y',             'age_range_18-25',\n",
       "                   'age_range_26-35',             'age_range_36-45',\n",
       "                   'age_range_46-55',             'age_range_56-70',\n",
       "                     'age_range_70+',             'age_range_Other',\n",
       "            'marital_status_Married',        'marital_status_Other',\n",
       "             'marital_status_Single',               'family_size_1',\n",
       "                     'family_size_2',               'family_size_3',\n",
       "                     'family_size_4',              'family_size_5+',\n",
       "                 'family_size_Other',            'no_of_children_0',\n",
       "                  'no_of_children_1',            'no_of_children_2',\n",
       "                 'no_of_children_3+',          'income_bracket_1.0',\n",
       "                'income_bracket_2.0',          'income_bracket_3.0',\n",
       "                'income_bracket_4.0',          'income_bracket_5.0',\n",
       "                'income_bracket_6.0',          'income_bracket_7.0',\n",
       "                'income_bracket_8.0',          'income_bracket_9.0',\n",
       "               'income_bracket_10.0',         'income_bracket_11.0',\n",
       "               'income_bracket_12.0',        'income_bracket_Other'],\n",
       "      dtype='object')"
      ]
     },
     "execution_count": 39,
     "metadata": {},
     "output_type": "execute_result"
    }
   ],
   "source": [
    "newtData.columns"
   ]
  },
  {
   "cell_type": "code",
   "execution_count": null,
   "metadata": {},
   "outputs": [],
   "source": [
    "# customerProfileData.head(2)"
   ]
  },
  {
   "cell_type": "code",
   "execution_count": null,
   "metadata": {},
   "outputs": [],
   "source": [
    "# customerProfileData.shape"
   ]
  },
  {
   "cell_type": "code",
   "execution_count": 40,
   "metadata": {},
   "outputs": [
    {
     "data": {
      "text/html": [
       "<div>\n",
       "<style scoped>\n",
       "    .dataframe tbody tr th:only-of-type {\n",
       "        vertical-align: middle;\n",
       "    }\n",
       "\n",
       "    .dataframe tbody tr th {\n",
       "        vertical-align: top;\n",
       "    }\n",
       "\n",
       "    .dataframe thead th {\n",
       "        text-align: right;\n",
       "    }\n",
       "</style>\n",
       "<table border=\"1\" class=\"dataframe\">\n",
       "  <thead>\n",
       "    <tr style=\"text-align: right;\">\n",
       "      <th></th>\n",
       "      <th>id</th>\n",
       "      <th>campaign_id</th>\n",
       "      <th>coupon_id</th>\n",
       "      <th>customer_id</th>\n",
       "      <th>redemption_status</th>\n",
       "      <th>dtType</th>\n",
       "      <th>campaign_type</th>\n",
       "      <th>start_date</th>\n",
       "      <th>end_date</th>\n",
       "      <th>age_range</th>\n",
       "      <th>...</th>\n",
       "      <th>income_bracket_4.0</th>\n",
       "      <th>income_bracket_5.0</th>\n",
       "      <th>income_bracket_6.0</th>\n",
       "      <th>income_bracket_7.0</th>\n",
       "      <th>income_bracket_8.0</th>\n",
       "      <th>income_bracket_9.0</th>\n",
       "      <th>income_bracket_10.0</th>\n",
       "      <th>income_bracket_11.0</th>\n",
       "      <th>income_bracket_12.0</th>\n",
       "      <th>income_bracket_Other</th>\n",
       "    </tr>\n",
       "  </thead>\n",
       "  <tbody>\n",
       "    <tr>\n",
       "      <th>0</th>\n",
       "      <td>1</td>\n",
       "      <td>13</td>\n",
       "      <td>27</td>\n",
       "      <td>1053</td>\n",
       "      <td>0.0</td>\n",
       "      <td>train</td>\n",
       "      <td>X</td>\n",
       "      <td>19/05/13</td>\n",
       "      <td>05/07/13</td>\n",
       "      <td>46-55</td>\n",
       "      <td>...</td>\n",
       "      <td>0</td>\n",
       "      <td>1</td>\n",
       "      <td>0</td>\n",
       "      <td>0</td>\n",
       "      <td>0</td>\n",
       "      <td>0</td>\n",
       "      <td>0</td>\n",
       "      <td>0</td>\n",
       "      <td>0</td>\n",
       "      <td>0</td>\n",
       "    </tr>\n",
       "    <tr>\n",
       "      <th>1</th>\n",
       "      <td>2</td>\n",
       "      <td>13</td>\n",
       "      <td>116</td>\n",
       "      <td>48</td>\n",
       "      <td>0.0</td>\n",
       "      <td>train</td>\n",
       "      <td>X</td>\n",
       "      <td>19/05/13</td>\n",
       "      <td>05/07/13</td>\n",
       "      <td>36-45</td>\n",
       "      <td>...</td>\n",
       "      <td>0</td>\n",
       "      <td>0</td>\n",
       "      <td>0</td>\n",
       "      <td>0</td>\n",
       "      <td>0</td>\n",
       "      <td>0</td>\n",
       "      <td>0</td>\n",
       "      <td>0</td>\n",
       "      <td>0</td>\n",
       "      <td>0</td>\n",
       "    </tr>\n",
       "  </tbody>\n",
       "</table>\n",
       "<p>2 rows × 78 columns</p>\n",
       "</div>"
      ],
      "text/plain": [
       "   id  campaign_id  coupon_id  customer_id  redemption_status dtType  \\\n",
       "0   1           13         27         1053                0.0  train   \n",
       "1   2           13        116           48                0.0  train   \n",
       "\n",
       "  campaign_type start_date  end_date age_range  ... income_bracket_4.0  \\\n",
       "0             X   19/05/13  05/07/13     46-55  ...                  0   \n",
       "1             X   19/05/13  05/07/13     36-45  ...                  0   \n",
       "\n",
       "   income_bracket_5.0 income_bracket_6.0 income_bracket_7.0  \\\n",
       "0                   1                  0                  0   \n",
       "1                   0                  0                  0   \n",
       "\n",
       "  income_bracket_8.0  income_bracket_9.0  income_bracket_10.0  \\\n",
       "0                  0                   0                    0   \n",
       "1                  0                   0                    0   \n",
       "\n",
       "   income_bracket_11.0  income_bracket_12.0  income_bracket_Other  \n",
       "0                    0                    0                     0  \n",
       "1                    0                    0                     0  \n",
       "\n",
       "[2 rows x 78 columns]"
      ]
     },
     "execution_count": 40,
     "metadata": {},
     "output_type": "execute_result"
    }
   ],
   "source": [
    "newtData.head(2)"
   ]
  },
  {
   "cell_type": "code",
   "execution_count": null,
   "metadata": {},
   "outputs": [],
   "source": [
    "# newDataJoined=pd.merge(newtData,customerProfileData,left_on='customer_id',right_on='customer_id_',how='left')"
   ]
  },
  {
   "cell_type": "code",
   "execution_count": null,
   "metadata": {},
   "outputs": [],
   "source": [
    "# newDataJoined.shape"
   ]
  },
  {
   "cell_type": "code",
   "execution_count": null,
   "metadata": {},
   "outputs": [],
   "source": [
    "# newDataJoined.head(2)"
   ]
  },
  {
   "cell_type": "code",
   "execution_count": null,
   "metadata": {},
   "outputs": [],
   "source": [
    "# newInfoData.head(2)"
   ]
  },
  {
   "cell_type": "code",
   "execution_count": null,
   "metadata": {},
   "outputs": [],
   "source": [
    "# newCustUpdatedMainData=pd.merge(newDataJoined,newInfoData,on='customer_id',how='left')"
   ]
  },
  {
   "cell_type": "code",
   "execution_count": 41,
   "metadata": {},
   "outputs": [
    {
     "data": {
      "text/plain": [
       "(128595, 78)"
      ]
     },
     "execution_count": 41,
     "metadata": {},
     "output_type": "execute_result"
    }
   ],
   "source": [
    "newtData.shape"
   ]
  },
  {
   "cell_type": "code",
   "execution_count": 42,
   "metadata": {},
   "outputs": [],
   "source": [
    "XVar=list(newtData.columns)\n",
    "XVar.remove('id')\n",
    "XVar.remove('redemption_status')\n",
    "XVar.remove('start_date')\n",
    "XVar.remove('end_date')\n",
    "XVar.remove('dtType')\n",
    "# XVar.remove('customer_id_')\n",
    "YVar='redemption_status'"
   ]
  },
  {
   "cell_type": "code",
   "execution_count": 43,
   "metadata": {},
   "outputs": [],
   "source": [
    "for j in categoColumns:\n",
    "    XVar.remove(j)"
   ]
  },
  {
   "cell_type": "code",
   "execution_count": 44,
   "metadata": {},
   "outputs": [],
   "source": [
    "trainPart=newtData[newtData['dtType']=='train']\n",
    "testPart=newtData[newtData['dtType']=='test']"
   ]
  },
  {
   "cell_type": "code",
   "execution_count": 45,
   "metadata": {},
   "outputs": [],
   "source": [
    "from sklearn import model_selection,metrics\n",
    "import xgboost as xgb"
   ]
  },
  {
   "cell_type": "code",
   "execution_count": 46,
   "metadata": {
    "scrolled": true
   },
   "outputs": [
    {
     "data": {
      "text/plain": [
       "['campaign_id',\n",
       " 'coupon_id',\n",
       " 'customer_id',\n",
       " 'rented',\n",
       " 'item_idtotalCountPurch',\n",
       " 'item_iduniqueItemPurch',\n",
       " 'selling_pricetPCustomer',\n",
       " 'selling_pricetPCustomerMean',\n",
       " 'selling_pricetPCustomerMin',\n",
       " 'quantitysum',\n",
       " 'other_discountoDCust',\n",
       " 'other_discountoDCustMean',\n",
       " 'coupon_discountsum',\n",
       " 'patron',\n",
       " 1,\n",
       " 2,\n",
       " 3,\n",
       " 4,\n",
       " 5,\n",
       " 6,\n",
       " 7,\n",
       " 8,\n",
       " 9,\n",
       " 10,\n",
       " 11,\n",
       " 12,\n",
       " 13,\n",
       " 26,\n",
       " 27,\n",
       " 28,\n",
       " 29,\n",
       " 30,\n",
       " 'campaign_type_X',\n",
       " 'campaign_type_Y',\n",
       " 'age_range_18-25',\n",
       " 'age_range_26-35',\n",
       " 'age_range_36-45',\n",
       " 'age_range_46-55',\n",
       " 'age_range_56-70',\n",
       " 'age_range_70+',\n",
       " 'age_range_Other',\n",
       " 'marital_status_Married',\n",
       " 'marital_status_Other',\n",
       " 'marital_status_Single',\n",
       " 'family_size_1',\n",
       " 'family_size_2',\n",
       " 'family_size_3',\n",
       " 'family_size_4',\n",
       " 'family_size_5+',\n",
       " 'family_size_Other',\n",
       " 'no_of_children_0',\n",
       " 'no_of_children_1',\n",
       " 'no_of_children_2',\n",
       " 'no_of_children_3+',\n",
       " 'income_bracket_1.0',\n",
       " 'income_bracket_2.0',\n",
       " 'income_bracket_3.0',\n",
       " 'income_bracket_4.0',\n",
       " 'income_bracket_5.0',\n",
       " 'income_bracket_6.0',\n",
       " 'income_bracket_7.0',\n",
       " 'income_bracket_8.0',\n",
       " 'income_bracket_9.0',\n",
       " 'income_bracket_10.0',\n",
       " 'income_bracket_11.0',\n",
       " 'income_bracket_12.0',\n",
       " 'income_bracket_Other']"
      ]
     },
     "execution_count": 46,
     "metadata": {},
     "output_type": "execute_result"
    }
   ],
   "source": [
    "XVar"
   ]
  },
  {
   "cell_type": "code",
   "execution_count": 47,
   "metadata": {},
   "outputs": [],
   "source": [
    "trainX,valX,trainY,valY=model_selection.train_test_split(trainPart[XVar],trainPart[YVar],test_size=.3)\n",
    "trainX.shape,valX.shape,trainY.shape,valY.shape"
   ]
  },
  {
   "cell_type": "code",
   "execution_count": 48,
   "metadata": {},
   "outputs": [
    {
     "data": {
      "text/plain": [
       "((54858, 67), (23511, 67), (54858,), (23511,))"
      ]
     },
     "execution_count": 48,
     "metadata": {},
     "output_type": "execute_result"
    }
   ],
   "source": []
  },
  {
   "cell_type": "code",
   "execution_count": 49,
   "metadata": {},
   "outputs": [
    {
     "data": {
      "text/html": [
       "<div>\n",
       "<style scoped>\n",
       "    .dataframe tbody tr th:only-of-type {\n",
       "        vertical-align: middle;\n",
       "    }\n",
       "\n",
       "    .dataframe tbody tr th {\n",
       "        vertical-align: top;\n",
       "    }\n",
       "\n",
       "    .dataframe thead th {\n",
       "        text-align: right;\n",
       "    }\n",
       "</style>\n",
       "<table border=\"1\" class=\"dataframe\">\n",
       "  <thead>\n",
       "    <tr style=\"text-align: right;\">\n",
       "      <th></th>\n",
       "      <th>campaign_id</th>\n",
       "      <th>coupon_id</th>\n",
       "      <th>customer_id</th>\n",
       "      <th>rented</th>\n",
       "      <th>item_idtotalCountPurch</th>\n",
       "      <th>item_iduniqueItemPurch</th>\n",
       "      <th>selling_pricetPCustomer</th>\n",
       "      <th>selling_pricetPCustomerMean</th>\n",
       "      <th>selling_pricetPCustomerMin</th>\n",
       "      <th>quantitysum</th>\n",
       "      <th>...</th>\n",
       "      <th>income_bracket_4.0</th>\n",
       "      <th>income_bracket_5.0</th>\n",
       "      <th>income_bracket_6.0</th>\n",
       "      <th>income_bracket_7.0</th>\n",
       "      <th>income_bracket_8.0</th>\n",
       "      <th>income_bracket_9.0</th>\n",
       "      <th>income_bracket_10.0</th>\n",
       "      <th>income_bracket_11.0</th>\n",
       "      <th>income_bracket_12.0</th>\n",
       "      <th>income_bracket_Other</th>\n",
       "    </tr>\n",
       "  </thead>\n",
       "  <tbody>\n",
       "    <tr>\n",
       "      <th>27894</th>\n",
       "      <td>8</td>\n",
       "      <td>256</td>\n",
       "      <td>1245</td>\n",
       "      <td>0.0</td>\n",
       "      <td>839</td>\n",
       "      <td>328</td>\n",
       "      <td>83179.17</td>\n",
       "      <td>99.140846</td>\n",
       "      <td>0.71</td>\n",
       "      <td>233014</td>\n",
       "      <td>...</td>\n",
       "      <td>0</td>\n",
       "      <td>0</td>\n",
       "      <td>0</td>\n",
       "      <td>1</td>\n",
       "      <td>0</td>\n",
       "      <td>0</td>\n",
       "      <td>0</td>\n",
       "      <td>0</td>\n",
       "      <td>0</td>\n",
       "      <td>0</td>\n",
       "    </tr>\n",
       "    <tr>\n",
       "      <th>6582</th>\n",
       "      <td>5</td>\n",
       "      <td>689</td>\n",
       "      <td>1064</td>\n",
       "      <td>0.0</td>\n",
       "      <td>2118</td>\n",
       "      <td>950</td>\n",
       "      <td>295940.73</td>\n",
       "      <td>139.726501</td>\n",
       "      <td>6.77</td>\n",
       "      <td>291246</td>\n",
       "      <td>...</td>\n",
       "      <td>0</td>\n",
       "      <td>0</td>\n",
       "      <td>0</td>\n",
       "      <td>0</td>\n",
       "      <td>0</td>\n",
       "      <td>1</td>\n",
       "      <td>0</td>\n",
       "      <td>0</td>\n",
       "      <td>0</td>\n",
       "      <td>0</td>\n",
       "    </tr>\n",
       "    <tr>\n",
       "      <th>77103</th>\n",
       "      <td>13</td>\n",
       "      <td>420</td>\n",
       "      <td>858</td>\n",
       "      <td>0.0</td>\n",
       "      <td>989</td>\n",
       "      <td>542</td>\n",
       "      <td>81975.34</td>\n",
       "      <td>82.887098</td>\n",
       "      <td>7.48</td>\n",
       "      <td>13716</td>\n",
       "      <td>...</td>\n",
       "      <td>0</td>\n",
       "      <td>0</td>\n",
       "      <td>0</td>\n",
       "      <td>0</td>\n",
       "      <td>0</td>\n",
       "      <td>0</td>\n",
       "      <td>0</td>\n",
       "      <td>0</td>\n",
       "      <td>0</td>\n",
       "      <td>1</td>\n",
       "    </tr>\n",
       "    <tr>\n",
       "      <th>46764</th>\n",
       "      <td>13</td>\n",
       "      <td>909</td>\n",
       "      <td>9</td>\n",
       "      <td>0.0</td>\n",
       "      <td>557</td>\n",
       "      <td>405</td>\n",
       "      <td>57275.87</td>\n",
       "      <td>102.829210</td>\n",
       "      <td>7.12</td>\n",
       "      <td>117820</td>\n",
       "      <td>...</td>\n",
       "      <td>0</td>\n",
       "      <td>0</td>\n",
       "      <td>0</td>\n",
       "      <td>0</td>\n",
       "      <td>0</td>\n",
       "      <td>0</td>\n",
       "      <td>0</td>\n",
       "      <td>0</td>\n",
       "      <td>0</td>\n",
       "      <td>1</td>\n",
       "    </tr>\n",
       "    <tr>\n",
       "      <th>64035</th>\n",
       "      <td>7</td>\n",
       "      <td>641</td>\n",
       "      <td>865</td>\n",
       "      <td>0.0</td>\n",
       "      <td>1662</td>\n",
       "      <td>597</td>\n",
       "      <td>155596.98</td>\n",
       "      <td>93.620325</td>\n",
       "      <td>11.75</td>\n",
       "      <td>45174</td>\n",
       "      <td>...</td>\n",
       "      <td>0</td>\n",
       "      <td>0</td>\n",
       "      <td>0</td>\n",
       "      <td>1</td>\n",
       "      <td>0</td>\n",
       "      <td>0</td>\n",
       "      <td>0</td>\n",
       "      <td>0</td>\n",
       "      <td>0</td>\n",
       "      <td>0</td>\n",
       "    </tr>\n",
       "  </tbody>\n",
       "</table>\n",
       "<p>5 rows × 67 columns</p>\n",
       "</div>"
      ],
      "text/plain": [
       "       campaign_id  coupon_id  customer_id  rented  item_idtotalCountPurch  \\\n",
       "27894            8        256         1245     0.0                     839   \n",
       "6582             5        689         1064     0.0                    2118   \n",
       "77103           13        420          858     0.0                     989   \n",
       "46764           13        909            9     0.0                     557   \n",
       "64035            7        641          865     0.0                    1662   \n",
       "\n",
       "       item_iduniqueItemPurch  selling_pricetPCustomer  \\\n",
       "27894                     328                 83179.17   \n",
       "6582                      950                295940.73   \n",
       "77103                     542                 81975.34   \n",
       "46764                     405                 57275.87   \n",
       "64035                     597                155596.98   \n",
       "\n",
       "       selling_pricetPCustomerMean  selling_pricetPCustomerMin  quantitysum  \\\n",
       "27894                    99.140846                        0.71       233014   \n",
       "6582                    139.726501                        6.77       291246   \n",
       "77103                    82.887098                        7.48        13716   \n",
       "46764                   102.829210                        7.12       117820   \n",
       "64035                    93.620325                       11.75        45174   \n",
       "\n",
       "       ...  income_bracket_4.0  income_bracket_5.0  income_bracket_6.0  \\\n",
       "27894  ...                   0                   0                   0   \n",
       "6582   ...                   0                   0                   0   \n",
       "77103  ...                   0                   0                   0   \n",
       "46764  ...                   0                   0                   0   \n",
       "64035  ...                   0                   0                   0   \n",
       "\n",
       "       income_bracket_7.0  income_bracket_8.0  income_bracket_9.0  \\\n",
       "27894                   1                   0                   0   \n",
       "6582                    0                   0                   1   \n",
       "77103                   0                   0                   0   \n",
       "46764                   0                   0                   0   \n",
       "64035                   1                   0                   0   \n",
       "\n",
       "       income_bracket_10.0  income_bracket_11.0  income_bracket_12.0  \\\n",
       "27894                    0                    0                    0   \n",
       "6582                     0                    0                    0   \n",
       "77103                    0                    0                    0   \n",
       "46764                    0                    0                    0   \n",
       "64035                    0                    0                    0   \n",
       "\n",
       "       income_bracket_Other  \n",
       "27894                     0  \n",
       "6582                      0  \n",
       "77103                     1  \n",
       "46764                     1  \n",
       "64035                     0  \n",
       "\n",
       "[5 rows x 67 columns]"
      ]
     },
     "execution_count": 49,
     "metadata": {},
     "output_type": "execute_result"
    }
   ],
   "source": [
    "trainX.head()"
   ]
  },
  {
   "cell_type": "code",
   "execution_count": 50,
   "metadata": {},
   "outputs": [],
   "source": [
    "modelR=xgb.XGBClassifier().fit(trainX,trainY)"
   ]
  },
  {
   "cell_type": "code",
   "execution_count": 51,
   "metadata": {},
   "outputs": [],
   "source": [
    "trainScore2=modelR.predict(trainX)\n",
    "trainScore=modelR.predict_proba(trainX)[:,1]\n",
    "testScore=modelR.predict_proba(valX)[:,1]"
   ]
  },
  {
   "cell_type": "code",
   "execution_count": 52,
   "metadata": {},
   "outputs": [
    {
     "data": {
      "text/plain": [
       "3.0"
      ]
     },
     "execution_count": 52,
     "metadata": {},
     "output_type": "execute_result"
    }
   ],
   "source": [
    "sum(trainScore2)"
   ]
  },
  {
   "cell_type": "code",
   "execution_count": 53,
   "metadata": {},
   "outputs": [
    {
     "data": {
      "text/plain": [
       "507.0"
      ]
     },
     "execution_count": 53,
     "metadata": {},
     "output_type": "execute_result"
    }
   ],
   "source": [
    "sum(trainY)"
   ]
  },
  {
   "cell_type": "code",
   "execution_count": 54,
   "metadata": {},
   "outputs": [
    {
     "data": {
      "text/plain": [
       "0.9712593904831539"
      ]
     },
     "execution_count": 54,
     "metadata": {},
     "output_type": "execute_result"
    }
   ],
   "source": [
    "metrics.roc_auc_score(trainY,trainScore)"
   ]
  },
  {
   "cell_type": "code",
   "execution_count": 55,
   "metadata": {},
   "outputs": [
    {
     "data": {
      "text/plain": [
       "0.964634736501283"
      ]
     },
     "execution_count": 55,
     "metadata": {},
     "output_type": "execute_result"
    }
   ],
   "source": [
    "metrics.roc_auc_score(valY,testScore)"
   ]
  },
  {
   "cell_type": "code",
   "execution_count": 56,
   "metadata": {},
   "outputs": [],
   "source": [
    "testFScore=modelR.predict_proba(testPart[XVar])[:,1]"
   ]
  },
  {
   "cell_type": "code",
   "execution_count": 57,
   "metadata": {},
   "outputs": [
    {
     "data": {
      "text/plain": [
       "50226"
      ]
     },
     "execution_count": 57,
     "metadata": {},
     "output_type": "execute_result"
    }
   ],
   "source": [
    "len(testFScore)"
   ]
  },
  {
   "cell_type": "code",
   "execution_count": 58,
   "metadata": {},
   "outputs": [
    {
     "data": {
      "text/plain": [
       "(50226, 78)"
      ]
     },
     "execution_count": 58,
     "metadata": {},
     "output_type": "execute_result"
    }
   ],
   "source": [
    "testPart.shape"
   ]
  },
  {
   "cell_type": "code",
   "execution_count": 59,
   "metadata": {},
   "outputs": [
    {
     "data": {
      "text/plain": [
       "(50226, 5)"
      ]
     },
     "execution_count": 59,
     "metadata": {},
     "output_type": "execute_result"
    }
   ],
   "source": [
    "test_QyjYwdjData.shape"
   ]
  },
  {
   "cell_type": "code",
   "execution_count": 60,
   "metadata": {},
   "outputs": [],
   "source": [
    "firstSub=pd.DataFrame(data={'id':test_QyjYwdjData['id'],YVar:testFScore})"
   ]
  },
  {
   "cell_type": "code",
   "execution_count": 61,
   "metadata": {},
   "outputs": [
    {
     "data": {
      "text/html": [
       "<div>\n",
       "<style scoped>\n",
       "    .dataframe tbody tr th:only-of-type {\n",
       "        vertical-align: middle;\n",
       "    }\n",
       "\n",
       "    .dataframe tbody tr th {\n",
       "        vertical-align: top;\n",
       "    }\n",
       "\n",
       "    .dataframe thead th {\n",
       "        text-align: right;\n",
       "    }\n",
       "</style>\n",
       "<table border=\"1\" class=\"dataframe\">\n",
       "  <thead>\n",
       "    <tr style=\"text-align: right;\">\n",
       "      <th></th>\n",
       "      <th>id</th>\n",
       "      <th>redemption_status</th>\n",
       "    </tr>\n",
       "  </thead>\n",
       "  <tbody>\n",
       "    <tr>\n",
       "      <th>0</th>\n",
       "      <td>3</td>\n",
       "      <td>0.015411</td>\n",
       "    </tr>\n",
       "    <tr>\n",
       "      <th>1</th>\n",
       "      <td>4</td>\n",
       "      <td>0.002645</td>\n",
       "    </tr>\n",
       "    <tr>\n",
       "      <th>2</th>\n",
       "      <td>5</td>\n",
       "      <td>0.075106</td>\n",
       "    </tr>\n",
       "    <tr>\n",
       "      <th>3</th>\n",
       "      <td>8</td>\n",
       "      <td>0.000243</td>\n",
       "    </tr>\n",
       "    <tr>\n",
       "      <th>4</th>\n",
       "      <td>10</td>\n",
       "      <td>0.000215</td>\n",
       "    </tr>\n",
       "  </tbody>\n",
       "</table>\n",
       "</div>"
      ],
      "text/plain": [
       "   id  redemption_status\n",
       "0   3           0.015411\n",
       "1   4           0.002645\n",
       "2   5           0.075106\n",
       "3   8           0.000243\n",
       "4  10           0.000215"
      ]
     },
     "execution_count": 61,
     "metadata": {},
     "output_type": "execute_result"
    }
   ],
   "source": [
    "firstSub.head()"
   ]
  },
  {
   "cell_type": "code",
   "execution_count": 62,
   "metadata": {},
   "outputs": [],
   "source": [
    "firstSub.to_csv('firstSub4.csv',index=False)"
   ]
  },
  {
   "cell_type": "code",
   "execution_count": null,
   "metadata": {},
   "outputs": [],
   "source": []
  },
  {
   "cell_type": "code",
   "execution_count": null,
   "metadata": {},
   "outputs": [],
   "source": [
    "print('train AUC score {} validation AUC score {}'.format())"
   ]
  }
 ],
 "metadata": {
  "kernelspec": {
   "display_name": "Python 3",
   "language": "python",
   "name": "python3"
  },
  "language_info": {
   "codemirror_mode": {
    "name": "ipython",
    "version": 3
   },
   "file_extension": ".py",
   "mimetype": "text/x-python",
   "name": "python",
   "nbconvert_exporter": "python",
   "pygments_lexer": "ipython3",
   "version": "3.6.8"
  }
 },
 "nbformat": 4,
 "nbformat_minor": 2
}
