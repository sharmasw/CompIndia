{
 "cells": [
  {
   "cell_type": "code",
   "execution_count": 1,
   "metadata": {},
   "outputs": [],
   "source": [
    "import pandas as pd\n",
    "import numpy as np\n",
    "import seaborn as sns\n",
    "import matplotlib.pyplot as plt\n",
    "import dateutil\n",
    "from sklearn import ensemble,metrics,linear_model,tree\n",
    "from tqdm import tqdm"
   ]
  },
  {
   "cell_type": "markdown",
   "metadata": {},
   "source": [
    "# Read All data"
   ]
  },
  {
   "cell_type": "code",
   "execution_count": 2,
   "metadata": {},
   "outputs": [],
   "source": [
    "campData=pd.read_csv('campaign_data.csv')\n",
    "coupon_item_mappingData=pd.read_csv('coupon_item_mapping.csv')\n",
    "customer_demographicsData=pd.read_csv('customer_demographics.csv')\n",
    "c_trans_Data=pd.read_csv('customer_transaction_data.csv')\n",
    "item_dataData=pd.read_csv('item_data.csv')\n",
    "trainData=pd.read_csv('train.csv')\n",
    "test_QyjYwdjData=pd.read_csv('test_QyjYwdj.csv')"
   ]
  },
  {
   "cell_type": "code",
   "execution_count": 4,
   "metadata": {
    "scrolled": true
   },
   "outputs": [
    {
     "data": {
      "text/html": [
       "<div>\n",
       "<style scoped>\n",
       "    .dataframe tbody tr th:only-of-type {\n",
       "        vertical-align: middle;\n",
       "    }\n",
       "\n",
       "    .dataframe tbody tr th {\n",
       "        vertical-align: top;\n",
       "    }\n",
       "\n",
       "    .dataframe thead th {\n",
       "        text-align: right;\n",
       "    }\n",
       "</style>\n",
       "<table border=\"1\" class=\"dataframe\">\n",
       "  <thead>\n",
       "    <tr style=\"text-align: right;\">\n",
       "      <th></th>\n",
       "      <th></th>\n",
       "      <th>id</th>\n",
       "      <th>redemption_status</th>\n",
       "    </tr>\n",
       "    <tr>\n",
       "      <th>coupon_id</th>\n",
       "      <th>customer_id</th>\n",
       "      <th></th>\n",
       "      <th></th>\n",
       "    </tr>\n",
       "  </thead>\n",
       "  <tbody>\n",
       "    <tr>\n",
       "      <th rowspan=\"30\" valign=\"top\">1</th>\n",
       "      <th>63</th>\n",
       "      <td>1</td>\n",
       "      <td>0</td>\n",
       "    </tr>\n",
       "    <tr>\n",
       "      <th>88</th>\n",
       "      <td>1</td>\n",
       "      <td>0</td>\n",
       "    </tr>\n",
       "    <tr>\n",
       "      <th>141</th>\n",
       "      <td>1</td>\n",
       "      <td>0</td>\n",
       "    </tr>\n",
       "    <tr>\n",
       "      <th>178</th>\n",
       "      <td>1</td>\n",
       "      <td>0</td>\n",
       "    </tr>\n",
       "    <tr>\n",
       "      <th>262</th>\n",
       "      <td>1</td>\n",
       "      <td>0</td>\n",
       "    </tr>\n",
       "    <tr>\n",
       "      <th>269</th>\n",
       "      <td>1</td>\n",
       "      <td>0</td>\n",
       "    </tr>\n",
       "    <tr>\n",
       "      <th>283</th>\n",
       "      <td>1</td>\n",
       "      <td>0</td>\n",
       "    </tr>\n",
       "    <tr>\n",
       "      <th>293</th>\n",
       "      <td>1</td>\n",
       "      <td>0</td>\n",
       "    </tr>\n",
       "    <tr>\n",
       "      <th>375</th>\n",
       "      <td>1</td>\n",
       "      <td>0</td>\n",
       "    </tr>\n",
       "    <tr>\n",
       "      <th>427</th>\n",
       "      <td>1</td>\n",
       "      <td>0</td>\n",
       "    </tr>\n",
       "    <tr>\n",
       "      <th>459</th>\n",
       "      <td>1</td>\n",
       "      <td>0</td>\n",
       "    </tr>\n",
       "    <tr>\n",
       "      <th>607</th>\n",
       "      <td>1</td>\n",
       "      <td>0</td>\n",
       "    </tr>\n",
       "    <tr>\n",
       "      <th>619</th>\n",
       "      <td>1</td>\n",
       "      <td>0</td>\n",
       "    </tr>\n",
       "    <tr>\n",
       "      <th>632</th>\n",
       "      <td>1</td>\n",
       "      <td>0</td>\n",
       "    </tr>\n",
       "    <tr>\n",
       "      <th>766</th>\n",
       "      <td>1</td>\n",
       "      <td>0</td>\n",
       "    </tr>\n",
       "    <tr>\n",
       "      <th>787</th>\n",
       "      <td>1</td>\n",
       "      <td>0</td>\n",
       "    </tr>\n",
       "    <tr>\n",
       "      <th>797</th>\n",
       "      <td>1</td>\n",
       "      <td>0</td>\n",
       "    </tr>\n",
       "    <tr>\n",
       "      <th>814</th>\n",
       "      <td>1</td>\n",
       "      <td>0</td>\n",
       "    </tr>\n",
       "    <tr>\n",
       "      <th>916</th>\n",
       "      <td>1</td>\n",
       "      <td>0</td>\n",
       "    </tr>\n",
       "    <tr>\n",
       "      <th>968</th>\n",
       "      <td>1</td>\n",
       "      <td>0</td>\n",
       "    </tr>\n",
       "    <tr>\n",
       "      <th>1061</th>\n",
       "      <td>1</td>\n",
       "      <td>0</td>\n",
       "    </tr>\n",
       "    <tr>\n",
       "      <th>1132</th>\n",
       "      <td>1</td>\n",
       "      <td>0</td>\n",
       "    </tr>\n",
       "    <tr>\n",
       "      <th>1209</th>\n",
       "      <td>1</td>\n",
       "      <td>0</td>\n",
       "    </tr>\n",
       "    <tr>\n",
       "      <th>1239</th>\n",
       "      <td>1</td>\n",
       "      <td>0</td>\n",
       "    </tr>\n",
       "    <tr>\n",
       "      <th>1261</th>\n",
       "      <td>1</td>\n",
       "      <td>0</td>\n",
       "    </tr>\n",
       "    <tr>\n",
       "      <th>1299</th>\n",
       "      <td>1</td>\n",
       "      <td>0</td>\n",
       "    </tr>\n",
       "    <tr>\n",
       "      <th>1430</th>\n",
       "      <td>1</td>\n",
       "      <td>0</td>\n",
       "    </tr>\n",
       "    <tr>\n",
       "      <th>1450</th>\n",
       "      <td>1</td>\n",
       "      <td>0</td>\n",
       "    </tr>\n",
       "    <tr>\n",
       "      <th>1528</th>\n",
       "      <td>1</td>\n",
       "      <td>0</td>\n",
       "    </tr>\n",
       "    <tr>\n",
       "      <th>1534</th>\n",
       "      <td>1</td>\n",
       "      <td>0</td>\n",
       "    </tr>\n",
       "    <tr>\n",
       "      <th>...</th>\n",
       "      <th>...</th>\n",
       "      <td>...</td>\n",
       "      <td>...</td>\n",
       "    </tr>\n",
       "    <tr>\n",
       "      <th rowspan=\"4\" valign=\"top\">1114</th>\n",
       "      <th>1506</th>\n",
       "      <td>1</td>\n",
       "      <td>0</td>\n",
       "    </tr>\n",
       "    <tr>\n",
       "      <th>1507</th>\n",
       "      <td>1</td>\n",
       "      <td>0</td>\n",
       "    </tr>\n",
       "    <tr>\n",
       "      <th>1563</th>\n",
       "      <td>1</td>\n",
       "      <td>0</td>\n",
       "    </tr>\n",
       "    <tr>\n",
       "      <th>1573</th>\n",
       "      <td>1</td>\n",
       "      <td>0</td>\n",
       "    </tr>\n",
       "    <tr>\n",
       "      <th rowspan=\"26\" valign=\"top\">1115</th>\n",
       "      <th>46</th>\n",
       "      <td>1</td>\n",
       "      <td>0</td>\n",
       "    </tr>\n",
       "    <tr>\n",
       "      <th>86</th>\n",
       "      <td>1</td>\n",
       "      <td>0</td>\n",
       "    </tr>\n",
       "    <tr>\n",
       "      <th>111</th>\n",
       "      <td>1</td>\n",
       "      <td>0</td>\n",
       "    </tr>\n",
       "    <tr>\n",
       "      <th>113</th>\n",
       "      <td>1</td>\n",
       "      <td>0</td>\n",
       "    </tr>\n",
       "    <tr>\n",
       "      <th>158</th>\n",
       "      <td>1</td>\n",
       "      <td>0</td>\n",
       "    </tr>\n",
       "    <tr>\n",
       "      <th>245</th>\n",
       "      <td>1</td>\n",
       "      <td>0</td>\n",
       "    </tr>\n",
       "    <tr>\n",
       "      <th>321</th>\n",
       "      <td>1</td>\n",
       "      <td>0</td>\n",
       "    </tr>\n",
       "    <tr>\n",
       "      <th>365</th>\n",
       "      <td>1</td>\n",
       "      <td>0</td>\n",
       "    </tr>\n",
       "    <tr>\n",
       "      <th>402</th>\n",
       "      <td>1</td>\n",
       "      <td>0</td>\n",
       "    </tr>\n",
       "    <tr>\n",
       "      <th>417</th>\n",
       "      <td>1</td>\n",
       "      <td>0</td>\n",
       "    </tr>\n",
       "    <tr>\n",
       "      <th>569</th>\n",
       "      <td>1</td>\n",
       "      <td>0</td>\n",
       "    </tr>\n",
       "    <tr>\n",
       "      <th>596</th>\n",
       "      <td>1</td>\n",
       "      <td>0</td>\n",
       "    </tr>\n",
       "    <tr>\n",
       "      <th>599</th>\n",
       "      <td>1</td>\n",
       "      <td>0</td>\n",
       "    </tr>\n",
       "    <tr>\n",
       "      <th>631</th>\n",
       "      <td>1</td>\n",
       "      <td>0</td>\n",
       "    </tr>\n",
       "    <tr>\n",
       "      <th>823</th>\n",
       "      <td>1</td>\n",
       "      <td>0</td>\n",
       "    </tr>\n",
       "    <tr>\n",
       "      <th>935</th>\n",
       "      <td>1</td>\n",
       "      <td>0</td>\n",
       "    </tr>\n",
       "    <tr>\n",
       "      <th>989</th>\n",
       "      <td>1</td>\n",
       "      <td>0</td>\n",
       "    </tr>\n",
       "    <tr>\n",
       "      <th>1157</th>\n",
       "      <td>1</td>\n",
       "      <td>0</td>\n",
       "    </tr>\n",
       "    <tr>\n",
       "      <th>1174</th>\n",
       "      <td>1</td>\n",
       "      <td>0</td>\n",
       "    </tr>\n",
       "    <tr>\n",
       "      <th>1198</th>\n",
       "      <td>1</td>\n",
       "      <td>0</td>\n",
       "    </tr>\n",
       "    <tr>\n",
       "      <th>1236</th>\n",
       "      <td>1</td>\n",
       "      <td>0</td>\n",
       "    </tr>\n",
       "    <tr>\n",
       "      <th>1332</th>\n",
       "      <td>1</td>\n",
       "      <td>0</td>\n",
       "    </tr>\n",
       "    <tr>\n",
       "      <th>1337</th>\n",
       "      <td>1</td>\n",
       "      <td>0</td>\n",
       "    </tr>\n",
       "    <tr>\n",
       "      <th>1383</th>\n",
       "      <td>1</td>\n",
       "      <td>0</td>\n",
       "    </tr>\n",
       "    <tr>\n",
       "      <th>1401</th>\n",
       "      <td>1</td>\n",
       "      <td>0</td>\n",
       "    </tr>\n",
       "    <tr>\n",
       "      <th>1528</th>\n",
       "      <td>1</td>\n",
       "      <td>0</td>\n",
       "    </tr>\n",
       "  </tbody>\n",
       "</table>\n",
       "<p>77101 rows × 2 columns</p>\n",
       "</div>"
      ],
      "text/plain": [
       "                       id  redemption_status\n",
       "coupon_id customer_id                       \n",
       "1         63            1                  0\n",
       "          88            1                  0\n",
       "          141           1                  0\n",
       "          178           1                  0\n",
       "          262           1                  0\n",
       "          269           1                  0\n",
       "          283           1                  0\n",
       "          293           1                  0\n",
       "          375           1                  0\n",
       "          427           1                  0\n",
       "          459           1                  0\n",
       "          607           1                  0\n",
       "          619           1                  0\n",
       "          632           1                  0\n",
       "          766           1                  0\n",
       "          787           1                  0\n",
       "          797           1                  0\n",
       "          814           1                  0\n",
       "          916           1                  0\n",
       "          968           1                  0\n",
       "          1061          1                  0\n",
       "          1132          1                  0\n",
       "          1209          1                  0\n",
       "          1239          1                  0\n",
       "          1261          1                  0\n",
       "          1299          1                  0\n",
       "          1430          1                  0\n",
       "          1450          1                  0\n",
       "          1528          1                  0\n",
       "          1534          1                  0\n",
       "...                    ..                ...\n",
       "1114      1506          1                  0\n",
       "          1507          1                  0\n",
       "          1563          1                  0\n",
       "          1573          1                  0\n",
       "1115      46            1                  0\n",
       "          86            1                  0\n",
       "          111           1                  0\n",
       "          113           1                  0\n",
       "          158           1                  0\n",
       "          245           1                  0\n",
       "          321           1                  0\n",
       "          365           1                  0\n",
       "          402           1                  0\n",
       "          417           1                  0\n",
       "          569           1                  0\n",
       "          596           1                  0\n",
       "          599           1                  0\n",
       "          631           1                  0\n",
       "          823           1                  0\n",
       "          935           1                  0\n",
       "          989           1                  0\n",
       "          1157          1                  0\n",
       "          1174          1                  0\n",
       "          1198          1                  0\n",
       "          1236          1                  0\n",
       "          1332          1                  0\n",
       "          1337          1                  0\n",
       "          1383          1                  0\n",
       "          1401          1                  0\n",
       "          1528          1                  0\n",
       "\n",
       "[77101 rows x 2 columns]"
      ]
     },
     "execution_count": 4,
     "metadata": {},
     "output_type": "execute_result"
    }
   ],
   "source": [
    "trainData.groupby(['coupon_id','customer_id']).agg({'id':'count','redemption_status':'sum'})"
   ]
  },
  {
   "cell_type": "code",
   "execution_count": 5,
   "metadata": {
    "scrolled": true
   },
   "outputs": [
    {
     "data": {
      "text/plain": [
       "array([   1,    2,    3,    4,    5,    6,    7,    8,    9,   10,   11,\n",
       "         12,   13,   14,   15,   16,   17,   18,   19,   20,   21,   22,\n",
       "         23,   24,   25,   26,   27,   45,   46,   47,   48,   49,   50,\n",
       "         51,   52,   53,   54,   55,   56,   57,   58,   59,   60,   61,\n",
       "         62,   63,   64,   65,   66,   67,   68,   69,   70,   71,   72,\n",
       "         73,   74,   75,   76,   77,   78,   79,   80,   81,   82,   83,\n",
       "         84,   85,   86,   87,   88,   89,   90,   91,   92,   93,   94,\n",
       "         95,   96,   97,   98,   99,  100,  101,  102,  103,  104,  105,\n",
       "        106,  107,  108,  109,  110,  111,  112,  113,  114,  115,  116,\n",
       "        117,  118,  119,  120,  121,  122,  123,  124,  125,  126,  127,\n",
       "        128,  129,  130,  131,  132,  133,  134,  135,  136,  137,  138,\n",
       "        139,  140,  141,  142,  143,  144,  145,  146,  147,  148,  149,\n",
       "        150,  151,  152,  153,  154,  155,  156,  157,  158,  159,  160,\n",
       "        161,  162,  163,  164,  165,  166,  167,  168,  169,  170,  171,\n",
       "        172,  243,  244,  246,  247,  248,  249,  250,  253,  256,  257,\n",
       "        260,  261,  262,  263,  264,  265,  268,  269,  271,  273,  275,\n",
       "        276,  277,  278,  279,  280,  281,  282,  283,  284,  285,  287,\n",
       "        288,  291,  292,  293,  294,  296,  297,  298,  299,  300,  301,\n",
       "        302,  303,  304,  305,  306,  307,  308,  309,  310,  311,  312,\n",
       "        313,  314,  315,  316,  317,  318,  319,  320,  321,  322,  323,\n",
       "        324,  325,  326,  327,  328,  329,  330,  331,  332,  333,  334,\n",
       "        335,  336,  337,  338,  339,  340,  341,  342,  343,  344,  345,\n",
       "        346,  347,  348,  349,  350,  351,  352,  353,  354,  355,  356,\n",
       "        357,  358,  359,  360,  361,  362,  363,  364,  365,  366,  367,\n",
       "        368,  369,  370,  371,  372,  373,  374,  375,  376,  377,  378,\n",
       "        379,  380,  381,  382,  383,  384,  385,  386,  389,  391,  392,\n",
       "        393,  394,  395,  397,  398,  399,  400,  401,  402,  403,  404,\n",
       "        405,  406,  407,  408,  409,  410,  412,  413,  414,  416,  418,\n",
       "        420,  421,  422,  423,  424,  425,  426,  427,  428,  429,  430,\n",
       "        431,  432,  433,  434,  435,  436,  437,  438,  439,  440,  441,\n",
       "        442,  443,  444,  445,  446,  447,  448,  449,  450,  451,  453,\n",
       "        454,  455,  457,  458,  459,  460,  464,  465,  466,  467,  468,\n",
       "        470,  471,  472,  473,  474,  475,  476,  478,  479,  480,  481,\n",
       "        482,  483,  484,  485,  486,  489,  490,  491,  492,  494,  496,\n",
       "        500,  501,  502,  504,  506,  508,  509,  510,  511,  512,  513,\n",
       "        514,  515,  516,  517,  519,  520,  521,  522,  523,  524,  525,\n",
       "        526,  528,  529,  530,  531,  532,  534,  535,  536,  537,  538,\n",
       "        541,  542,  544,  545,  546,  547,  550,  551,  552,  554,  556,\n",
       "        558,  559,  561,  562,  563,  564,  565,  566,  567,  568,  569,\n",
       "        571,  572,  574,  575,  576,  578,  579,  581,  582,  583,  584,\n",
       "        585,  586,  587,  588,  589,  591,  593,  594,  595,  597,  598,\n",
       "        601,  602,  603,  604,  605,  606,  607,  608,  609,  610,  611,\n",
       "        613,  614,  615,  616,  617,  619,  620,  621,  622,  623,  624,\n",
       "        625,  626,  627,  628,  629,  630,  631,  634,  635,  636,  638,\n",
       "        639,  641,  642,  643,  644,  645,  646,  647,  649,  650,  651,\n",
       "        653,  654,  656,  658,  659,  660,  661,  662,  663,  665,  666,\n",
       "        667,  668,  669,  670,  671,  672,  673,  674,  675,  676,  677,\n",
       "        678,  679,  681,  682,  683,  685,  686,  687,  689,  691,  692,\n",
       "        694,  695,  696,  700,  702,  703,  704,  705,  706,  707,  708,\n",
       "        709,  710,  711,  712,  714,  715,  716,  718,  719,  722,  723,\n",
       "        724,  725,  726,  727,  728,  729,  731,  732,  733,  734,  735,\n",
       "        737,  738,  739,  740,  741,  742,  743,  744,  745,  746,  747,\n",
       "        748,  749,  750,  751,  752,  754,  755,  756,  757,  758,  759,\n",
       "        761,  762,  763,  764,  766,  767,  769,  770,  771,  772,  773,\n",
       "        775,  776,  778,  779,  780,  782,  783,  784,  785,  786,  787,\n",
       "        788,  790,  791,  792,  793,  794,  795,  796,  797,  798,  800,\n",
       "        803,  804,  805,  806,  807,  808,  810,  812,  813,  814,  815,\n",
       "        817,  818,  819,  820,  821,  822,  823,  824,  825,  826,  827,\n",
       "        828,  829,  830,  831,  832,  835,  836,  837,  838,  839,  844,\n",
       "        846,  847,  849,  850,  851,  852,  853,  854,  855,  857,  858,\n",
       "        859,  860,  862,  863,  864,  865,  866,  867,  868,  870,  871,\n",
       "        872,  873,  875,  876,  879,  881,  882,  883,  884,  885,  886,\n",
       "        888,  889,  890,  891,  892,  893,  894,  895,  896,  897,  898,\n",
       "        900,  901,  902,  904,  905,  906,  907,  908,  909,  910,  911,\n",
       "        912,  913,  914,  915,  916,  917,  918,  919,  920,  921,  922,\n",
       "        923,  924,  925,  926,  928,  930,  931,  933,  934,  935,  936,\n",
       "        937,  939,  940,  942,  943,  944,  945,  946,  947,  948,  949,\n",
       "        951,  954,  955,  960,  961,  963,  964,  965,  967,  968,  970,\n",
       "        971,  972,  973,  974,  975,  977,  979,  980,  981,  982,  983,\n",
       "        984,  985,  986,  987,  989,  990,  991,  992,  993,  994,  995,\n",
       "        996,  997,  998, 1000, 1001, 1002, 1003, 1004, 1006, 1007, 1009,\n",
       "       1011, 1012, 1013, 1015, 1017, 1018, 1019, 1020, 1021, 1023, 1024,\n",
       "       1025, 1026, 1027, 1028, 1029, 1030, 1031, 1032, 1033, 1035, 1036,\n",
       "       1039, 1040, 1041, 1043, 1044, 1045, 1046, 1047, 1048, 1049, 1050,\n",
       "       1051, 1053, 1055, 1056, 1057, 1058, 1059, 1061, 1062, 1063, 1065,\n",
       "       1067, 1068, 1070, 1071, 1072, 1073, 1074, 1075, 1076, 1080, 1081,\n",
       "       1082, 1083, 1084, 1085, 1086, 1087, 1088, 1089, 1090, 1091, 1092,\n",
       "       1093, 1095, 1096, 1097, 1098, 1099, 1100, 1101, 1102, 1103, 1104,\n",
       "       1105, 1106, 1107, 1108, 1110, 1112, 1114, 1115], dtype=int64)"
      ]
     },
     "execution_count": 5,
     "metadata": {},
     "output_type": "execute_result"
    }
   ],
   "source": [
    "np.unique(trainData['coupon_id'])"
   ]
  },
  {
   "cell_type": "code",
   "execution_count": 6,
   "metadata": {},
   "outputs": [
    {
     "data": {
      "text/plain": [
       "array([  28,   29,   30,   31,   32,   33,   34,   35,   36,   37,   38,\n",
       "         39,   40,   41,   42,   43,   44,  173,  174,  175,  176,  177,\n",
       "        178,  179,  180,  181,  182,  183,  184,  185,  186,  187,  188,\n",
       "        189,  190,  191,  192,  193,  194,  195,  196,  197,  198,  199,\n",
       "        200,  201,  202,  203,  204,  205,  206,  207,  208,  209,  210,\n",
       "        211,  212,  213,  214,  215,  216,  217,  218,  219,  220,  221,\n",
       "        222,  223,  224,  225,  226,  227,  228,  229,  230,  231,  232,\n",
       "        233,  234,  235,  236,  237,  238,  239,  240,  241,  242,  244,\n",
       "        245,  251,  252,  254,  255,  258,  259,  263,  264,  266,  267,\n",
       "        269,  270,  272,  274,  286,  288,  289,  290,  295,  387,  388,\n",
       "        389,  390,  396,  397,  403,  404,  411,  412,  415,  417,  418,\n",
       "        419,  423,  430,  431,  432,  442,  452,  455,  456,  461,  462,\n",
       "        463,  468,  469,  470,  477,  482,  483,  487,  488,  492,  493,\n",
       "        495,  497,  498,  499,  501,  503,  504,  505,  507,  510,  514,\n",
       "        518,  522,  526,  527,  533,  539,  540,  541,  543,  548,  549,\n",
       "        553,  555,  557,  560,  567,  570,  573,  574,  577,  580,  583,\n",
       "        590,  592,  596,  599,  600,  612,  618,  624,  632,  633,  637,\n",
       "        640,  647,  648,  652,  655,  657,  664,  666,  671,  673,  680,\n",
       "        684,  688,  689,  690,  693,  694,  697,  698,  699,  701,  702,\n",
       "        703,  705,  713,  715,  717,  720,  721,  726,  730,  736,  744,\n",
       "        747,  753,  754,  760,  765,  768,  774,  777,  781,  789,  796,\n",
       "        799,  801,  802,  809,  810,  811,  816,  833,  834,  836,  837,\n",
       "        838,  840,  841,  842,  843,  845,  848,  853,  856,  861,  864,\n",
       "        865,  867,  869,  874,  877,  878,  880,  886,  887,  892,  898,\n",
       "        899,  903,  906,  907,  927,  929,  932,  934,  938,  941,  942,\n",
       "        943,  946,  949,  950,  952,  953,  956,  957,  958,  959,  962,\n",
       "        966,  969,  976,  978,  981,  985,  988,  993,  999, 1000, 1005,\n",
       "       1008, 1010, 1014, 1016, 1022, 1024, 1029, 1031, 1032, 1034, 1037,\n",
       "       1038, 1042, 1043, 1044, 1045, 1048, 1052, 1054, 1055, 1059, 1060,\n",
       "       1061, 1064, 1066, 1069, 1077, 1078, 1079, 1094, 1109, 1111, 1113,\n",
       "       1116], dtype=int64)"
      ]
     },
     "execution_count": 6,
     "metadata": {},
     "output_type": "execute_result"
    }
   ],
   "source": [
    "np.unique(test_QyjYwdjData['coupon_id'])"
   ]
  },
  {
   "cell_type": "code",
   "execution_count": null,
   "metadata": {},
   "outputs": [],
   "source": []
  },
  {
   "cell_type": "code",
   "execution_count": null,
   "metadata": {},
   "outputs": [],
   "source": []
  },
  {
   "cell_type": "code",
   "execution_count": null,
   "metadata": {},
   "outputs": [],
   "source": []
  },
  {
   "cell_type": "code",
   "execution_count": null,
   "metadata": {},
   "outputs": [],
   "source": []
  },
  {
   "cell_type": "code",
   "execution_count": null,
   "metadata": {},
   "outputs": [],
   "source": []
  },
  {
   "cell_type": "code",
   "execution_count": 3,
   "metadata": {},
   "outputs": [],
   "source": [
    "campData['start_date']=campData['start_date'].apply(lambda x: dateutil.parser.parse(x,dayfirst=True))\n",
    "campData['end_date']=campData['end_date'].apply(lambda x: dateutil.parser.parse(x,dayfirst=True))\n",
    "campData['duration']=campData['end_date']-campData['start_date']\n",
    "campData['duration']=campData['duration'].apply(lambda x: x.days)\n",
    "campData['start_Month']=campData['start_date'].apply(lambda x: x.month)\n",
    "campData['end_Month']=campData['end_date'].apply(lambda x: x.month)"
   ]
  },
  {
   "cell_type": "code",
   "execution_count": 4,
   "metadata": {},
   "outputs": [],
   "source": [
    "c_trans_Data['date']=c_trans_Data['date'].apply(lambda x: dateutil.parser.parse(x,dayfirst=True))"
   ]
  },
  {
   "cell_type": "code",
   "execution_count": 5,
   "metadata": {},
   "outputs": [
    {
     "name": "stderr",
     "output_type": "stream",
     "text": [
      "28it [01:44,  3.58s/it]\n"
     ]
    }
   ],
   "source": [
    "for j,k,l in tqdm(zip(campData['start_date'],campData['end_date'],campData['campaign_id'])):\n",
    "    c_trans_Data['campaign_'+str(l).zfill(2)]=c_trans_Data['date'].apply(lambda x:1 if ((x >= j) & (x <= k)) else 0)\n",
    "#     if (c_trans_Data['date'][1324561] >= j) & (c_trans_Data['date'][1324561] <= k):\n",
    "#         print (j,k)"
   ]
  },
  {
   "cell_type": "code",
   "execution_count": null,
   "metadata": {},
   "outputs": [],
   "source": [
    "campCol=['campaign_24', 'campaign_25',\n",
    "       'campaign_20', 'campaign_23', 'campaign_21', 'campaign_22',\n",
    "       'campaign_18', 'campaign_19', 'campaign_17', 'campaign_16',\n",
    "       'campaign_13', 'campaign_11', 'campaign_12', 'campaign_10',\n",
    "       'campaign_09', 'campaign_08', 'campaign_07', 'campaign_06',\n",
    "       'campaign_03', 'campaign_05', 'campaign_04', 'campaign_01',\n",
    "       'campaign_02', 'campaign_30', 'campaign_29', 'campaign_28',\n",
    "       'campaign_27', 'campaign_26']"
   ]
  },
  {
   "cell_type": "code",
   "execution_count": null,
   "metadata": {},
   "outputs": [],
   "source": [
    "campTran=c_trans_Data[campCol]\n",
    "\n",
    "campTran.iloc[1324544][campTran.iloc[1324544]==1].index\n",
    "\n",
    "campTran['campParticipated']=campTran.apply(lambda x: x[x==1].index.values, axis = 1)"
   ]
  },
  {
   "cell_type": "code",
   "execution_count": null,
   "metadata": {},
   "outputs": [],
   "source": [
    "campTran.head(2)"
   ]
  },
  {
   "cell_type": "code",
   "execution_count": null,
   "metadata": {},
   "outputs": [],
   "source": []
  },
  {
   "cell_type": "code",
   "execution_count": null,
   "metadata": {},
   "outputs": [],
   "source": []
  },
  {
   "cell_type": "code",
   "execution_count": null,
   "metadata": {},
   "outputs": [],
   "source": []
  },
  {
   "cell_type": "code",
   "execution_count": null,
   "metadata": {},
   "outputs": [],
   "source": []
  },
  {
   "cell_type": "code",
   "execution_count": null,
   "metadata": {},
   "outputs": [],
   "source": []
  },
  {
   "cell_type": "code",
   "execution_count": null,
   "metadata": {},
   "outputs": [],
   "source": []
  },
  {
   "cell_type": "code",
   "execution_count": null,
   "metadata": {},
   "outputs": [],
   "source": []
  },
  {
   "cell_type": "code",
   "execution_count": null,
   "metadata": {},
   "outputs": [],
   "source": [
    "customer_demographicsData[customer_demographicsData['customer_id']==1574]"
   ]
  },
  {
   "cell_type": "code",
   "execution_count": null,
   "metadata": {},
   "outputs": [],
   "source": [
    "c_trans_Data.head()"
   ]
  },
  {
   "cell_type": "code",
   "execution_count": null,
   "metadata": {},
   "outputs": [],
   "source": [
    "transCopItemD=pd.merge(c_trans_Data,coupon_item_mappingData,on='item_id',how='left')"
   ]
  },
  {
   "cell_type": "code",
   "execution_count": null,
   "metadata": {},
   "outputs": [],
   "source": [
    "transCopItemD.head()"
   ]
  },
  {
   "cell_type": "code",
   "execution_count": null,
   "metadata": {},
   "outputs": [],
   "source": [
    "transCopItemD.shape"
   ]
  },
  {
   "cell_type": "code",
   "execution_count": null,
   "metadata": {
    "scrolled": true
   },
   "outputs": [],
   "source": [
    "transCopItemD=transCopItemD[~transCopItemD['coupon_id'].isnull()]\n",
    "transCopItemD['coupon_id']=transCopItemD['coupon_id'].map(int)\n",
    "transCopItemD=transCopItemD[['date', 'customer_id', 'item_id', 'coupon_id', 'quantity', 'selling_price',\n",
    "       'other_discount', 'coupon_discount']]"
   ]
  },
  {
   "cell_type": "code",
   "execution_count": null,
   "metadata": {},
   "outputs": [],
   "source": [
    "transCopItemD.head()"
   ]
  },
  {
   "cell_type": "code",
   "execution_count": null,
   "metadata": {},
   "outputs": [],
   "source": [
    "trainData.head()"
   ]
  },
  {
   "cell_type": "code",
   "execution_count": null,
   "metadata": {},
   "outputs": [],
   "source": []
  },
  {
   "cell_type": "code",
   "execution_count": null,
   "metadata": {},
   "outputs": [],
   "source": []
  },
  {
   "cell_type": "code",
   "execution_count": null,
   "metadata": {},
   "outputs": [],
   "source": []
  },
  {
   "cell_type": "code",
   "execution_count": null,
   "metadata": {},
   "outputs": [],
   "source": []
  },
  {
   "cell_type": "code",
   "execution_count": null,
   "metadata": {},
   "outputs": [],
   "source": []
  },
  {
   "cell_type": "code",
   "execution_count": null,
   "metadata": {},
   "outputs": [],
   "source": []
  },
  {
   "cell_type": "code",
   "execution_count": null,
   "metadata": {},
   "outputs": [],
   "source": []
  },
  {
   "cell_type": "code",
   "execution_count": null,
   "metadata": {},
   "outputs": [],
   "source": []
  },
  {
   "cell_type": "code",
   "execution_count": null,
   "metadata": {},
   "outputs": [],
   "source": []
  },
  {
   "cell_type": "code",
   "execution_count": null,
   "metadata": {},
   "outputs": [],
   "source": []
  },
  {
   "cell_type": "code",
   "execution_count": null,
   "metadata": {},
   "outputs": [],
   "source": []
  },
  {
   "cell_type": "code",
   "execution_count": null,
   "metadata": {},
   "outputs": [],
   "source": []
  },
  {
   "cell_type": "code",
   "execution_count": null,
   "metadata": {},
   "outputs": [],
   "source": []
  },
  {
   "cell_type": "code",
   "execution_count": null,
   "metadata": {},
   "outputs": [],
   "source": []
  },
  {
   "cell_type": "code",
   "execution_count": null,
   "metadata": {},
   "outputs": [],
   "source": [
    "sns.countplot(trainData['campaign_id'])"
   ]
  },
  {
   "cell_type": "code",
   "execution_count": null,
   "metadata": {
    "scrolled": true
   },
   "outputs": [],
   "source": [
    "trainData.groupby('customer_id').agg({'customer_id':'count','redemption_status':'sum'}).sort_values(by='redemption_status',ascending=False)"
   ]
  },
  {
   "cell_type": "code",
   "execution_count": null,
   "metadata": {
    "scrolled": true
   },
   "outputs": [],
   "source": [
    "trainData.groupby('campaign_id').agg({'campaign_id':'count','redemption_status':'sum'})"
   ]
  },
  {
   "cell_type": "code",
   "execution_count": null,
   "metadata": {
    "scrolled": true
   },
   "outputs": [],
   "source": [
    "trainData[trainData['customer_id']==1574]"
   ]
  },
  {
   "cell_type": "code",
   "execution_count": null,
   "metadata": {},
   "outputs": [],
   "source": [
    "c_tranCons=c_trans_Data.groupby(['customer_id','date'],as_index=False).agg({'item_id':'count','quantity':'sum','selling_price':'sum',\n",
    "                                                  'other_discount':'sum','coupon_discount':'sum'})"
   ]
  },
  {
   "cell_type": "code",
   "execution_count": null,
   "metadata": {},
   "outputs": [],
   "source": [
    "\n",
    "c_tranCons['coupon_availed']=c_tranCons['coupon_discount'].apply(lambda x: 1 if x !=0 else 0)"
   ]
  },
  {
   "cell_type": "code",
   "execution_count": null,
   "metadata": {
    "scrolled": true
   },
   "outputs": [],
   "source": [
    "c_tranCons['date']=c_tranCons['date'].apply(lambda x: dateutil.parser.parse(x)) #[c_tranCons['customer_id']==1]"
   ]
  },
  {
   "cell_type": "code",
   "execution_count": null,
   "metadata": {
    "scrolled": true
   },
   "outputs": [],
   "source": [
    "pdList=[]\n",
    "for cid,tDF in tqdm(c_tranCons.groupby('customer_id')):\n",
    "    tDF['durationVisit']=tDF['date']-tDF['date'].shift()\n",
    "    tDF['durationVisit']=tDF['durationVisit'].apply(lambda x: x.days)\n",
    "    pdList.append(tDF)"
   ]
  },
  {
   "cell_type": "code",
   "execution_count": null,
   "metadata": {},
   "outputs": [],
   "source": [
    "c_tranCons2=pd.concat(pdList)"
   ]
  },
  {
   "cell_type": "code",
   "execution_count": null,
   "metadata": {},
   "outputs": [],
   "source": []
  },
  {
   "cell_type": "code",
   "execution_count": null,
   "metadata": {},
   "outputs": [],
   "source": []
  },
  {
   "cell_type": "code",
   "execution_count": null,
   "metadata": {},
   "outputs": [],
   "source": []
  },
  {
   "cell_type": "code",
   "execution_count": null,
   "metadata": {},
   "outputs": [],
   "source": []
  },
  {
   "cell_type": "code",
   "execution_count": null,
   "metadata": {},
   "outputs": [],
   "source": []
  },
  {
   "cell_type": "code",
   "execution_count": null,
   "metadata": {},
   "outputs": [],
   "source": []
  },
  {
   "cell_type": "code",
   "execution_count": null,
   "metadata": {},
   "outputs": [],
   "source": []
  },
  {
   "cell_type": "code",
   "execution_count": null,
   "metadata": {},
   "outputs": [],
   "source": [
    "trainData['dtType']='train'\n",
    "test_QyjYwdjData['dtType']='test'\n",
    "\n",
    "allData=trainData.append(test_QyjYwdjData,sort=False)\n",
    "allData.shape"
   ]
  },
  {
   "cell_type": "code",
   "execution_count": null,
   "metadata": {},
   "outputs": [],
   "source": [
    "trainData['redemption_status'].sum()"
   ]
  },
  {
   "cell_type": "code",
   "execution_count": null,
   "metadata": {},
   "outputs": [],
   "source": [
    "campData['start_date']=campData['start_date'].apply(lambda x: dateutil.parser.parse(x,dayfirst=True))\n",
    "campData['end_date']=campData['end_date'].apply(lambda x: dateutil.parser.parse(x,dayfirst=True))\n",
    "campData['duration']=campData['end_date']-campData['start_date']\n",
    "campData['duration']=campData['duration'].apply(lambda x: x.days)\n",
    "campData['start_Month']=campData['start_date'].apply(lambda x: x.month)\n",
    "campData['end_Month']=campData['end_date'].apply(lambda x: x.month)"
   ]
  },
  {
   "cell_type": "code",
   "execution_count": null,
   "metadata": {},
   "outputs": [],
   "source": [
    "c_trans_Data['date']=c_trans_Data['date'].apply(lambda x: dateutil.parser.parse(x,dayfirst=True))"
   ]
  },
  {
   "cell_type": "code",
   "execution_count": null,
   "metadata": {},
   "outputs": [],
   "source": [
    "print (max(c_trans_Data['date']),min(c_trans_Data['date']))\n",
    "print (max(campData['start_date']),min(campData['start_date']))\n",
    "print (max(campData['end_date']),min(campData['end_date']))"
   ]
  },
  {
   "cell_type": "code",
   "execution_count": null,
   "metadata": {
    "scrolled": true
   },
   "outputs": [],
   "source": [
    "campData.sort_values('start_date')"
   ]
  },
  {
   "cell_type": "code",
   "execution_count": null,
   "metadata": {},
   "outputs": [],
   "source": [
    "for j,k,l in tqdm(zip(campData['start_date'],campData['end_date'],campData['campaign_id'])):\n",
    "    c_trans_Data['campaign_'+str(l).zfill(2)]=c_trans_Data['date'].apply(lambda x:1 if ((x >= j) & (x <= k)) else 0)\n",
    "#     if (c_trans_Data['date'][1324561] >= j) & (c_trans_Data['date'][1324561] <= k):\n",
    "#         print (j,k)"
   ]
  },
  {
   "cell_type": "code",
   "execution_count": null,
   "metadata": {},
   "outputs": [],
   "source": [
    "campCol=['campaign_24', 'campaign_25',\n",
    "       'campaign_20', 'campaign_23', 'campaign_21', 'campaign_22',\n",
    "       'campaign_18', 'campaign_19', 'campaign_17', 'campaign_16',\n",
    "       'campaign_13', 'campaign_11', 'campaign_12', 'campaign_10',\n",
    "       'campaign_09', 'campaign_08', 'campaign_07', 'campaign_06',\n",
    "       'campaign_03', 'campaign_05', 'campaign_04', 'campaign_01',\n",
    "       'campaign_02', 'campaign_30', 'campaign_29', 'campaign_28',\n",
    "       'campaign_27', 'campaign_26']"
   ]
  },
  {
   "cell_type": "code",
   "execution_count": null,
   "metadata": {},
   "outputs": [],
   "source": [
    "campTran=c_trans_Data[campCol]\n",
    "\n",
    "campTran.iloc[1324544][campTran.iloc[1324544]==1].index\n",
    "\n",
    "campTran['campParticipated']=campTran.apply(lambda x: x[x==1].index.values, axis = 1)"
   ]
  },
  {
   "cell_type": "code",
   "execution_count": null,
   "metadata": {},
   "outputs": [],
   "source": [
    "c_trans_Data['campParticipated']=campTran['campParticipated']\n",
    "c_trans_Data['filt']=c_trans_Data['campParticipated'].apply(lambda x: len(x))\n",
    "for j in campCol:\n",
    "    del c_trans_Data[j]"
   ]
  },
  {
   "cell_type": "code",
   "execution_count": null,
   "metadata": {},
   "outputs": [],
   "source": [
    "c_trans_Data.shape"
   ]
  },
  {
   "cell_type": "code",
   "execution_count": null,
   "metadata": {},
   "outputs": [],
   "source": [
    "c_trans_Data=c_trans_Data[c_trans_Data['filt']!=0]\n",
    "c_trans_Data['campaign_id']=c_trans_Data['campParticipated'].apply(lambda x: int(x[0].split('_')[1]))\n",
    "del c_trans_Data['filt']\n",
    "del c_trans_Data['campParticipated']"
   ]
  },
  {
   "cell_type": "code",
   "execution_count": null,
   "metadata": {},
   "outputs": [],
   "source": [
    "mergedData=pd.merge(c_trans_Data,campData,on='campaign_id',how='left')"
   ]
  },
  {
   "cell_type": "code",
   "execution_count": null,
   "metadata": {},
   "outputs": [],
   "source": [
    "mergedData['occurenceofPurch']=mergedData['date']-mergedData['start_date']\n",
    "mergedData['occurenceofPurch']=mergedData['occurenceofPurch'].apply(lambda x: x.days)"
   ]
  },
  {
   "cell_type": "code",
   "execution_count": null,
   "metadata": {},
   "outputs": [],
   "source": [
    "mergedData.head()"
   ]
  },
  {
   "cell_type": "code",
   "execution_count": null,
   "metadata": {},
   "outputs": [],
   "source": [
    "bohotData=pd.merge(mergedData,coupon_item_mappingData,on='item_id',how='left')\n",
    "# bohotData=pd.merge(bohotData,campData,on='item_id',how='left')\n",
    "bohotData.shape"
   ]
  },
  {
   "cell_type": "markdown",
   "metadata": {},
   "source": [
    "## Clustering operation"
   ]
  },
  {
   "cell_type": "code",
   "execution_count": null,
   "metadata": {},
   "outputs": [],
   "source": [
    "itenACoupData=pd.merge(coupon_item_mappingData,item_dataData,on='item_id',how='left').sort_values('coupon_id')\n",
    "itemInfoFromTransaction=c_trans_Data.groupby('item_id',as_index=False).agg({'selling_price':'mean',\n",
    "                                                                     'coupon_discount':{'discountCount':'count','totalDisc':'sum'},\n",
    "                                                                    'other_discount':{'OTdiscountCount':'count','OTtotalDisc':'sum'}})\n",
    "itemInfoFromTransaction.columns=[''.join(j) for j in itemInfoFromTransaction.columns]"
   ]
  },
  {
   "cell_type": "code",
   "execution_count": null,
   "metadata": {},
   "outputs": [],
   "source": [
    "itenACoupData=pd.merge(coupon_item_mappingData,item_dataData,on='item_id',how='left').sort_values('coupon_id')"
   ]
  },
  {
   "cell_type": "code",
   "execution_count": null,
   "metadata": {},
   "outputs": [],
   "source": [
    "itemInfoFromTransaction['dicountPerGiven']=abs(itemInfoFromTransaction['coupon_discounttotalDisc']/itemInfoFromTransaction['coupon_discountdiscountCount'])\n",
    "itemInfoFromTransaction['dicountOthPerGiven']=abs(itemInfoFromTransaction['other_discountOTtotalDisc']/itemInfoFromTransaction['other_discountOTdiscountCount'])\n",
    "itemInfoFromTransaction['dicountGivenPerc']=abs(itemInfoFromTransaction['dicountPerGiven']/itemInfoFromTransaction['selling_pricemean'])\n",
    "itemInfoFromTransaction['dicountOthPerGivenPerc']=abs(itemInfoFromTransaction['dicountOthPerGiven']/itemInfoFromTransaction['selling_pricemean'])\n"
   ]
  },
  {
   "cell_type": "code",
   "execution_count": null,
   "metadata": {},
   "outputs": [],
   "source": [
    "transItemData=pd.merge(c_trans_Data,item_dataData,on='item_id',how='left')\n",
    "transItemData.shape\n",
    "\n",
    "transItemData['coupon_discountAvail']=transItemData['coupon_discount'].apply(lambda x: 1 if x !=0 else 0)"
   ]
  },
  {
   "cell_type": "code",
   "execution_count": null,
   "metadata": {},
   "outputs": [],
   "source": [
    "itemCouponDetail=transItemData.groupby('item_id',as_index=False).agg({'coupon_discountAvail':{'sumOFCoupon':'sum','totalCount':'count'}})\n",
    "itemCouponDetail.columns=[''.join(jj) for jj in itemCouponDetail.columns]\n",
    "itemCouponDetail['probaItem']=itemCouponDetail['coupon_discountAvailsumOFCoupon']/itemCouponDetail['coupon_discountAvailtotalCount']\n",
    "# itemCouponDetail[itemCouponDetail['probaItem']>0]"
   ]
  },
  {
   "cell_type": "code",
   "execution_count": null,
   "metadata": {},
   "outputs": [],
   "source": [
    "mergedItemCoupon=pd.merge(itenACoupData,itemInfoFromTransaction,on='item_id',how='left').fillna(0)\n",
    "mergedItemCoupon=pd.merge(mergedItemCoupon,itemCouponDetail[['item_id','probaItem']],on='item_id',how='left').fillna(0)\n",
    "#some  null values present"
   ]
  },
  {
   "cell_type": "code",
   "execution_count": null,
   "metadata": {},
   "outputs": [],
   "source": [
    "datatoCluster=mergedItemCoupon.groupby('coupon_id',as_index=False).mean()[['coupon_id', \n",
    "       'selling_pricemean', 'coupon_discountdiscountCount',\n",
    "       'coupon_discounttotalDisc', 'other_discountOTdiscountCount',\n",
    "       'other_discountOTtotalDisc', 'dicountPerGiven', 'dicountOthPerGiven',\n",
    "       'dicountGivenPerc', 'dicountOthPerGivenPerc','probaItem']]\n",
    "\n",
    "clusVar=['coupon_id', \n",
    "       'selling_pricemean', 'coupon_discountdiscountCount',\n",
    "       'coupon_discounttotalDisc', 'other_discountOTdiscountCount',\n",
    "       'other_discountOTtotalDisc', 'dicountPerGiven', 'dicountOthPerGiven',\n",
    "       'dicountGivenPerc', 'dicountOthPerGivenPerc','probaItem']\n",
    "\n",
    "from sklearn import preprocessing,cluster,decomposition\n",
    "\n",
    "preProCl=preprocessing.StandardScaler()\n",
    "clusData=preProCl.fit_transform(datatoCluster[clusVar])\n",
    "\n",
    "pcaComp=decomposition.PCA()\n",
    "pcaData=pcaComp.fit_transform(clusData)\n",
    "pcaComp.explained_variance_ratio_"
   ]
  },
  {
   "cell_type": "code",
   "execution_count": null,
   "metadata": {},
   "outputs": [],
   "source": [
    "pcaDataFToGraph=pd.DataFrame(pcaData[:,:2],columns=['pca1','pca2'])\n",
    "kM=cluster.KMeans()\n",
    "pcaDataFToGraph['clusCat']=kM.fit_predict(clusData[:,:5])\n",
    "pcaDataFToGraph.head(2)\n",
    "sns.scatterplot(pcaDataFToGraph['pca1'],pcaDataFToGraph['pca2'],hue=pcaDataFToGraph['clusCat'])"
   ]
  },
  {
   "cell_type": "code",
   "execution_count": null,
   "metadata": {},
   "outputs": [],
   "source": [
    "pcaDataTOCoup=pd.concat([datatoCluster[['coupon_id']],pcaDataFToGraph],axis=1)"
   ]
  },
  {
   "cell_type": "code",
   "execution_count": null,
   "metadata": {},
   "outputs": [],
   "source": [
    "pcaDataTOCoup.head(2)"
   ]
  },
  {
   "cell_type": "code",
   "execution_count": null,
   "metadata": {},
   "outputs": [],
   "source": [
    "pcaDataTOCoup.shape"
   ]
  },
  {
   "cell_type": "markdown",
   "metadata": {},
   "source": [
    "## Coupon Probability"
   ]
  },
  {
   "cell_type": "code",
   "execution_count": null,
   "metadata": {},
   "outputs": [],
   "source": [
    "coupon_categFind=mergedItemCoupon.groupby(['coupon_id','category','brand','brand_type'],as_index=False).count()[['coupon_id','category','brand','brand_type','item_id']]\n",
    "couponProbItemCoup=mergedItemCoupon.groupby('coupon_id',as_index=False).agg({'probaItem':'mean'})\n",
    "coupon_categFind=coupon_categFind.sort_values(['coupon_id','item_id'],ascending=False)\n",
    "coupon_categFind=coupon_categFind.drop_duplicates('coupon_id')\n",
    "coupon_categFind=pd.merge(coupon_categFind,couponProbItemCoup,on='coupon_id',how='left')\n",
    "del coupon_categFind['item_id']"
   ]
  },
  {
   "cell_type": "code",
   "execution_count": null,
   "metadata": {},
   "outputs": [],
   "source": [
    "coupon_categFind.head(2)"
   ]
  },
  {
   "cell_type": "code",
   "execution_count": null,
   "metadata": {},
   "outputs": [],
   "source": [
    "def getFeatureGener(df,indCol,fCol):\n",
    "    groupedMerge=df.groupby(indCol)\n",
    "    c_data={}\n",
    "    for c_id,tempT in  groupedMerge:\n",
    "        c_data[c_id]={}\n",
    "        c_data[c_id][indCol+fCol+'_max']=max(tempT[fCol])\n",
    "        c_data[c_id][indCol+fCol+'_min']=min(tempT[fCol])\n",
    "        c_data[c_id][indCol+fCol+'_mean']=np.mean(tempT[fCol])\n",
    "        c_data[c_id][indCol+fCol+'_75perc']=np.percentile(tempT[fCol],75)\n",
    "        c_data[c_id][indCol+fCol+'_25perc']=np.percentile(tempT[fCol],25)\n",
    "    tempDF=pd.DataFrame(c_data).transpose()\n",
    "    tempDF.columns=[indCol+fCol+'_max',indCol+fCol+'_min',indCol+fCol+'_mean',indCol+fCol+'_75perc',indCol+fCol+'_25perc']\n",
    "    return tempDF,tempDF.index"
   ]
  },
  {
   "cell_type": "code",
   "execution_count": null,
   "metadata": {},
   "outputs": [],
   "source": [
    "quantityCData,indexC=getFeatureGener(mergedData,'customer_id','quantity')\n",
    "selling_priceCData,indexC=getFeatureGener(mergedData,'customer_id','selling_price')\n",
    "other_discountCData,indexC=getFeatureGener(mergedData,'customer_id','other_discount')\n",
    "coupon_discountCData,indexC=getFeatureGener(mergedData,'customer_id','coupon_discount')\n",
    "occurenceofPurchCData,indexC=getFeatureGener(mergedData,'customer_id','occurenceofPurch')"
   ]
  },
  {
   "cell_type": "code",
   "execution_count": null,
   "metadata": {},
   "outputs": [],
   "source": [
    "featureCustomerData=pd.concat([quantityCData,selling_priceCData,other_discountCData,coupon_discountCData,occurenceofPurchCData],axis=1)"
   ]
  },
  {
   "cell_type": "code",
   "execution_count": null,
   "metadata": {},
   "outputs": [],
   "source": [
    "featureCustomerData=featureCustomerData.reset_index()\n",
    "featureCustomerData.columns=['customer_id']+list(featureCustomerData.columns[1:])"
   ]
  },
  {
   "cell_type": "code",
   "execution_count": null,
   "metadata": {},
   "outputs": [],
   "source": [
    "featureCustomerData.head()"
   ]
  },
  {
   "cell_type": "code",
   "execution_count": null,
   "metadata": {},
   "outputs": [],
   "source": [
    "# quantityIData,indexI=getFeatureGener(mergedData,'item_id','quantity')\n",
    "# selling_priceIData,indexI=getFeatureGener(mergedData,'item_id','selling_price')\n",
    "# other_discountIData,indexI=getFeatureGener(mergedData,'item_id','other_discount')\n",
    "# coupon_discountIData,indexI=getFeatureGener(mergedData,'item_id','coupon_discount')\n",
    "# occurenceofPurchIData,indexI=getFeatureGener(mergedData,'item_id','occurenceofPurch')"
   ]
  },
  {
   "cell_type": "code",
   "execution_count": null,
   "metadata": {},
   "outputs": [],
   "source": [
    "# itemFeatureData=pd.concat([quantityIData,selling_priceIData,other_discountIData,coupon_discountIData,occurenceofPurchIData],axis=1)"
   ]
  },
  {
   "cell_type": "code",
   "execution_count": null,
   "metadata": {},
   "outputs": [],
   "source": [
    "# itemFeatureData=itemFeatureData.reset_index()\n",
    "# itemFeatureData.columns=['item_id']+list(itemFeatureData.columns[1:])"
   ]
  },
  {
   "cell_type": "code",
   "execution_count": null,
   "metadata": {},
   "outputs": [],
   "source": [
    "bohotData.head()"
   ]
  },
  {
   "cell_type": "code",
   "execution_count": null,
   "metadata": {},
   "outputs": [],
   "source": [
    "quantityCPData,indexCP=getFeatureGener(bohotData,'coupon_id','quantity')\n",
    "selling_priceCPData,indexCP=getFeatureGener(bohotData,'coupon_id','selling_price')\n",
    "other_discountCPData,indexCP=getFeatureGener(bohotData,'coupon_id','other_discount')\n",
    "coupon_discountCPData,indexCP=getFeatureGener(bohotData,'coupon_id','coupon_discount')\n",
    "occurenceofPurchCPData,indexCP=getFeatureGener(bohotData,'coupon_id','occurenceofPurch')"
   ]
  },
  {
   "cell_type": "code",
   "execution_count": null,
   "metadata": {},
   "outputs": [],
   "source": [
    "couponFeatureData=pd.concat([quantityCPData,selling_priceCPData,other_discountCPData,coupon_discountCPData,occurenceofPurchCPData],axis=1)"
   ]
  },
  {
   "cell_type": "code",
   "execution_count": null,
   "metadata": {},
   "outputs": [],
   "source": [
    "couponFeatureData=couponFeatureData.reset_index()\n",
    "couponFeatureData.columns=['coupon_id']+list(couponFeatureData.columns[1:])"
   ]
  },
  {
   "cell_type": "code",
   "execution_count": null,
   "metadata": {},
   "outputs": [],
   "source": [
    "couponFeatureData.head(2)"
   ]
  },
  {
   "cell_type": "markdown",
   "metadata": {},
   "source": [
    "# Merge traindata with Campdata"
   ]
  },
  {
   "cell_type": "code",
   "execution_count": null,
   "metadata": {},
   "outputs": [],
   "source": [
    "allData.head(2)"
   ]
  },
  {
   "cell_type": "code",
   "execution_count": null,
   "metadata": {
    "scrolled": true
   },
   "outputs": [],
   "source": [
    "X1=pd.merge(allData,featureCustomerData,on='customer_id',how='left')\n",
    "X1=pd.merge(X1,couponFeatureData,on='coupon_id',how='left')\n",
    "X1=pd.merge(X1,campData,on='campaign_id',how='left')\n",
    "X1=pd.merge(X1,customer_demographicsData,on='customer_id',how='left')\n",
    "X1=pd.merge(X1,pcaDataTOCoup,on='coupon_id',how='left')\n",
    "X1=pd.merge(X1,coupon_categFind,on='coupon_id',how='left')\n"
   ]
  },
  {
   "cell_type": "code",
   "execution_count": null,
   "metadata": {},
   "outputs": [],
   "source": [
    "X1.head()"
   ]
  },
  {
   "cell_type": "code",
   "execution_count": null,
   "metadata": {},
   "outputs": [],
   "source": [
    "X5=X1"
   ]
  },
  {
   "cell_type": "code",
   "execution_count": null,
   "metadata": {},
   "outputs": [],
   "source": [
    "X5['marital_status']=X5['marital_status'].fillna('Other')\n",
    "X5['rented']=X5['rented'].fillna(0)\n",
    "X5['no_of_children']=X5['no_of_children'].fillna('0')\n",
    "X5['age_range']=X5['age_range'].fillna('Other')\n",
    "X5['family_size']=X5['family_size'].fillna('9999')\n",
    "X5['income_bracket']=X5['income_bracket'].fillna(9999)"
   ]
  },
  {
   "cell_type": "code",
   "execution_count": null,
   "metadata": {},
   "outputs": [],
   "source": [
    "from sklearn import preprocessing,model_selection"
   ]
  },
  {
   "cell_type": "code",
   "execution_count": null,
   "metadata": {},
   "outputs": [],
   "source": [
    "llP=preprocessing.LabelEncoder()\n",
    "# X5[jj]=llP.fit_transform(X5['campaign_type'])"
   ]
  },
  {
   "cell_type": "code",
   "execution_count": null,
   "metadata": {},
   "outputs": [],
   "source": [
    "categoColumns=['age_range', 'marital_status', 'rented', 'family_size','category', 'brand_type',\n",
    "       'no_of_children', 'income_bracket','campaign_type']+['clusCat']\n",
    "X5[categoColumns].head(2)#category\tbrand\tbrand_type\t"
   ]
  },
  {
   "cell_type": "code",
   "execution_count": null,
   "metadata": {},
   "outputs": [],
   "source": [
    "X5['income_bracket']=X5['income_bracket'].map(str)\n",
    "X5['no_of_children']=X5['no_of_children'].map(str)\n",
    "X5['clusCat']=X5['clusCat'].map(str)\n",
    "X5['rented']=X5['rented'].map(str)"
   ]
  },
  {
   "cell_type": "code",
   "execution_count": null,
   "metadata": {},
   "outputs": [],
   "source": [
    "X5.head()"
   ]
  },
  {
   "cell_type": "code",
   "execution_count": null,
   "metadata": {},
   "outputs": [],
   "source": [
    "pd.unique(X5['family_size'])"
   ]
  },
  {
   "cell_type": "code",
   "execution_count": null,
   "metadata": {
    "scrolled": true
   },
   "outputs": [],
   "source": [
    "\n",
    "catData=pd.get_dummies(X5[categoColumns],prefix_sep='_',)\n",
    "# for jj in categoColumns:\n",
    "#     print (jj)\n",
    "#     llP=preprocessing.LabelEncoder()\n",
    "#     X5[jj]=llP.fit_transform(X5[jj])"
   ]
  },
  {
   "cell_type": "code",
   "execution_count": null,
   "metadata": {},
   "outputs": [],
   "source": [
    "newtData=pd.concat([X5,catData],sort=False,axis=1)\n",
    "# newtData=X5"
   ]
  },
  {
   "cell_type": "code",
   "execution_count": null,
   "metadata": {},
   "outputs": [],
   "source": [
    "newtData.columns"
   ]
  },
  {
   "cell_type": "code",
   "execution_count": null,
   "metadata": {},
   "outputs": [],
   "source": [
    "XVar=list(newtData.columns)\n",
    "XVar.remove('id')\n",
    "XVar.remove('redemption_status')\n",
    "XVar.remove('dtType')\n",
    "XVar.remove('start_date')\n",
    "XVar.remove('end_date')\n",
    "YVar='redemption_status'"
   ]
  },
  {
   "cell_type": "code",
   "execution_count": null,
   "metadata": {},
   "outputs": [],
   "source": [
    "for j in categoColumns:#['campaign_id', 'coupon_id', 'customer_id']:\n",
    "    XVar.remove(j)"
   ]
  },
  {
   "cell_type": "code",
   "execution_count": null,
   "metadata": {},
   "outputs": [],
   "source": [
    "trainPart=newtData[newtData['dtType']=='train']\n",
    "testPart=newtData[newtData['dtType']=='test']\n",
    "trainPart.shape,testPart.shape"
   ]
  },
  {
   "cell_type": "code",
   "execution_count": null,
   "metadata": {},
   "outputs": [],
   "source": [
    "from sklearn import model_selection,metrics\n",
    "import xgboost as xgb"
   ]
  },
  {
   "cell_type": "code",
   "execution_count": null,
   "metadata": {},
   "outputs": [],
   "source": [
    "# \tif feature_names is not None:\n",
    "# \t\tcreate_feature_map(feature_names)\n",
    "# \t\tmodel.dump_model('xgbmodel.txt', 'xgb.fmap', with_stats=True)\n",
    "# \t\timportance = model.get_fscore(fmap='xgb.fmap')\n",
    "# \t\timportance = sorted(importance.items(), key=operator.itemgetter(1), reverse=True)\n",
    "# \t\timp_df = pd.DataFrame(importance, columns=['feature','fscore'])\n",
    "# \t\timp_df['fscore'] = imp_df['fscore'] / imp_df['fscore'].sum()\n",
    "# \t\timp_df.to_csv(\"imp_feat.txt\", index=False)\n",
    "\n",
    "# \tpred_test_y = model.predict(xgtest, ntree_limit=model.best_ntree_limit)\n",
    "# \tpred_test_y2 = model.predict(xgb.DMatrix(test_X2), ntree_limit=model.best_ntree_limit)\n",
    "\n",
    "# \tloss = 0\n",
    "# \tif test_y is not None:\n",
    "# \t\tloss = metrics.roc_auc_score(test_y, pred_test_y)\n",
    "# \t\treturn pred_test_y, loss, pred_test_y2\n",
    "# \telse:\n",
    "# \t\treturn pred_test_y, loss, pred_test_y2"
   ]
  },
  {
   "cell_type": "markdown",
   "metadata": {},
   "source": [
    "## Train test Split Train, Val, Test set"
   ]
  },
  {
   "cell_type": "code",
   "execution_count": null,
   "metadata": {},
   "outputs": [],
   "source": [
    "trainX,testHX,trainY,testHY=model_selection.train_test_split(trainPart[XVar],trainPart[YVar],test_size=.2,stratify =trainPart[YVar])\n",
    "trainX.shape,testHX.shape,trainY.shape,testHY.shape"
   ]
  },
  {
   "cell_type": "code",
   "execution_count": null,
   "metadata": {},
   "outputs": [],
   "source": [
    "trainX1,valX1,trainY1,valY1=model_selection.train_test_split(trainX,trainY,test_size=.2,stratify =trainY)\n",
    "trainX1.shape,valX1.shape,trainY1.shape,valY1.shape"
   ]
  },
  {
   "cell_type": "code",
   "execution_count": null,
   "metadata": {},
   "outputs": [],
   "source": [
    "list(trainX1.columns)"
   ]
  },
  {
   "cell_type": "code",
   "execution_count": null,
   "metadata": {
    "scrolled": true
   },
   "outputs": [],
   "source": [
    "# def runXGB(train_X, train_y, test_X, test_y=None, test_X2=None, feature_names=None, seed_val=0, rounds=500, dep=8, eta=0.05):\n",
    "params = {}\n",
    "params[\"objective\"] = \"binary:logistic\"\n",
    "params['eval_metric'] = 'auc'\n",
    "params[\"eta\"] = .05\n",
    "params[\"subsample\"] = 0.7\n",
    "params[\"min_child_weight\"] = 1\n",
    "params[\"colsample_bytree\"] = 0.7\n",
    "params[\"max_depth\"] = 8\n",
    "\n",
    "params[\"silent\"] = 1\n",
    "params[\"seed\"] = 200\n",
    "#params[\"max_delta_step\"] = 2\n",
    "#params[\"gamma\"] = 0.5\n",
    "num_rounds = 500\n",
    "\n",
    "plst = list(params.items())\n",
    "xgtrain = xgb.DMatrix(trainX1, label=trainY1)\n",
    "\n",
    "# if test_y is not None:\n",
    "xgtest = xgb.DMatrix(valX1, label=valY1)\n",
    "watchlist = [ (xgtrain,'train'), (xgtest, 'test') ]\n",
    "model = xgb.train(plst, xgtrain, num_rounds, watchlist, early_stopping_rounds=100, verbose_eval=20)\n",
    "# else:\n",
    "#     xgtest = xgb.DMatrix(test_X)\n",
    "#     model = xgb.train(plst, xgtrain, num_rounds)"
   ]
  },
  {
   "cell_type": "code",
   "execution_count": null,
   "metadata": {},
   "outputs": [],
   "source": [
    "t1=model.predict(xgtrain)\n",
    "t2=model.predict(xgtest)\n",
    "xgTest2 = xgb.DMatrix(testHX)\n",
    "t3=model.predict(xgTest2)\n",
    "\n",
    "# trainScore=modelR.predict_proba(trainX)\n",
    "# testScore=modelR.predict_proba(valX1)\n",
    "# test2Score=modelR.predict_proba(testHX)\n",
    "\n",
    "print ('train {} vs {} validation {} vs {} test {} vs {}'.format(sum(trainY),sum(t1),sum(valY1),sum(t2), sum(testHY),sum(t3)))\n",
    "metrics.roc_auc_score(trainY1,t1),metrics.roc_auc_score(valY1,t2),metrics.roc_auc_score(testHY,t3)"
   ]
  },
  {
   "cell_type": "code",
   "execution_count": null,
   "metadata": {},
   "outputs": [],
   "source": [
    "plst = list(params.items())\n",
    "xgtrain = xgb.DMatrix(trainPart[XVar],label=trainPart[YVar])"
   ]
  },
  {
   "cell_type": "code",
   "execution_count": null,
   "metadata": {},
   "outputs": [],
   "source": [
    "model2 = xgb.train(plst, xgtrain, num_rounds)"
   ]
  },
  {
   "cell_type": "code",
   "execution_count": null,
   "metadata": {},
   "outputs": [],
   "source": [
    "xgTestData = xgb.DMatrix(testPart[XVar])"
   ]
  },
  {
   "cell_type": "code",
   "execution_count": null,
   "metadata": {},
   "outputs": [],
   "source": [
    "t3Score=model.predict(xgTestData)"
   ]
  },
  {
   "cell_type": "code",
   "execution_count": null,
   "metadata": {},
   "outputs": [],
   "source": [
    "# testFScore=modelR.predict_proba(testPart[XVar])[:,1]\n",
    "firstSub2=pd.DataFrame(data={'id':test_QyjYwdjData['id'],YVar:t3Score})\n",
    "firstSub2.to_csv('xgbSub7.csv',index=False)"
   ]
  },
  {
   "cell_type": "code",
   "execution_count": null,
   "metadata": {},
   "outputs": [],
   "source": []
  },
  {
   "cell_type": "code",
   "execution_count": null,
   "metadata": {},
   "outputs": [],
   "source": []
  }
 ],
 "metadata": {
  "kernelspec": {
   "display_name": "Python 3",
   "language": "python",
   "name": "python3"
  },
  "language_info": {
   "codemirror_mode": {
    "name": "ipython",
    "version": 3
   },
   "file_extension": ".py",
   "mimetype": "text/x-python",
   "name": "python",
   "nbconvert_exporter": "python",
   "pygments_lexer": "ipython3",
   "version": "3.6.8"
  }
 },
 "nbformat": 4,
 "nbformat_minor": 2
}
